{
 "cells": [
  {
   "cell_type": "code",
   "execution_count": 1,
   "metadata": {
    "collapsed": true,
    "ExecuteTime": {
     "end_time": "2023-06-21T18:06:24.003350100Z",
     "start_time": "2023-06-21T18:06:22.053056500Z"
    }
   },
   "outputs": [],
   "source": [
    "import pandas as pd\n",
    "import numpy as np\n",
    "from sklearn import datasets, cluster\n",
    "from sklearn.cluster import KMeans\n",
    "import matplotlib.pyplot as plt\n",
    "import seaborn as sns\n",
    "import statsmodels.api as sm\n",
    "from sklearn.linear_model import LinearRegression\n",
    "import scipy.stats as stats\n",
    "import string\n",
    "import random\n",
    "from mlxtend.preprocessing import TransactionEncoder\n",
    "from mlxtend.frequent_patterns import apriori\n",
    "from mlxtend.frequent_patterns import association_rules"
   ]
  },
  {
   "cell_type": "code",
   "execution_count": 15,
   "outputs": [
    {
     "data": {
      "text/plain": "      Unnamed: 0 nivel_experiencia tipo_emprego           titulo_trabalho  \\\n0              0                SE           FT  Principal Data Scientist   \n1              3                SE           FT            Data Scientist   \n2              4                SE           FT            Data Scientist   \n3              5                SE           FT         Applied Scientist   \n4              6                SE           FT         Applied Scientist   \n...          ...               ...          ...                       ...   \n3730        3749                SE           FT           Data Specialist   \n3731        3750                SE           FT            Data Scientist   \n3732        3751                MI           FT  Principal Data Scientist   \n3733        3752                EN           FT            Data Scientist   \n3734        3754                SE           FT      Data Science Manager   \n\n      salario_em_dolar residencia_empregado  percentual_remoto local_empresa  \\\n0                85847                   ES                100            ES   \n1               175000                   CA                100            CA   \n2               120000                   CA                100            CA   \n3               222200                   US                  0            US   \n4               136000                   US                  0            US   \n...                ...                  ...                ...           ...   \n3730            165000                   US                100            US   \n3731            412000                   US                100            US   \n3732            151000                   US                100            US   \n3733            105000                   US                100            US   \n3734             94665                   IN                 50            IN   \n\n     tamanho_empresa  \n0                  L  \n1                  M  \n2                  M  \n3                  L  \n4                  L  \n...              ...  \n3730               L  \n3731               L  \n3732               L  \n3733               S  \n3734               L  \n\n[3735 rows x 9 columns]",
      "text/html": "<div>\n<style scoped>\n    .dataframe tbody tr th:only-of-type {\n        vertical-align: middle;\n    }\n\n    .dataframe tbody tr th {\n        vertical-align: top;\n    }\n\n    .dataframe thead th {\n        text-align: right;\n    }\n</style>\n<table border=\"1\" class=\"dataframe\">\n  <thead>\n    <tr style=\"text-align: right;\">\n      <th></th>\n      <th>Unnamed: 0</th>\n      <th>nivel_experiencia</th>\n      <th>tipo_emprego</th>\n      <th>titulo_trabalho</th>\n      <th>salario_em_dolar</th>\n      <th>residencia_empregado</th>\n      <th>percentual_remoto</th>\n      <th>local_empresa</th>\n      <th>tamanho_empresa</th>\n    </tr>\n  </thead>\n  <tbody>\n    <tr>\n      <th>0</th>\n      <td>0</td>\n      <td>SE</td>\n      <td>FT</td>\n      <td>Principal Data Scientist</td>\n      <td>85847</td>\n      <td>ES</td>\n      <td>100</td>\n      <td>ES</td>\n      <td>L</td>\n    </tr>\n    <tr>\n      <th>1</th>\n      <td>3</td>\n      <td>SE</td>\n      <td>FT</td>\n      <td>Data Scientist</td>\n      <td>175000</td>\n      <td>CA</td>\n      <td>100</td>\n      <td>CA</td>\n      <td>M</td>\n    </tr>\n    <tr>\n      <th>2</th>\n      <td>4</td>\n      <td>SE</td>\n      <td>FT</td>\n      <td>Data Scientist</td>\n      <td>120000</td>\n      <td>CA</td>\n      <td>100</td>\n      <td>CA</td>\n      <td>M</td>\n    </tr>\n    <tr>\n      <th>3</th>\n      <td>5</td>\n      <td>SE</td>\n      <td>FT</td>\n      <td>Applied Scientist</td>\n      <td>222200</td>\n      <td>US</td>\n      <td>0</td>\n      <td>US</td>\n      <td>L</td>\n    </tr>\n    <tr>\n      <th>4</th>\n      <td>6</td>\n      <td>SE</td>\n      <td>FT</td>\n      <td>Applied Scientist</td>\n      <td>136000</td>\n      <td>US</td>\n      <td>0</td>\n      <td>US</td>\n      <td>L</td>\n    </tr>\n    <tr>\n      <th>...</th>\n      <td>...</td>\n      <td>...</td>\n      <td>...</td>\n      <td>...</td>\n      <td>...</td>\n      <td>...</td>\n      <td>...</td>\n      <td>...</td>\n      <td>...</td>\n    </tr>\n    <tr>\n      <th>3730</th>\n      <td>3749</td>\n      <td>SE</td>\n      <td>FT</td>\n      <td>Data Specialist</td>\n      <td>165000</td>\n      <td>US</td>\n      <td>100</td>\n      <td>US</td>\n      <td>L</td>\n    </tr>\n    <tr>\n      <th>3731</th>\n      <td>3750</td>\n      <td>SE</td>\n      <td>FT</td>\n      <td>Data Scientist</td>\n      <td>412000</td>\n      <td>US</td>\n      <td>100</td>\n      <td>US</td>\n      <td>L</td>\n    </tr>\n    <tr>\n      <th>3732</th>\n      <td>3751</td>\n      <td>MI</td>\n      <td>FT</td>\n      <td>Principal Data Scientist</td>\n      <td>151000</td>\n      <td>US</td>\n      <td>100</td>\n      <td>US</td>\n      <td>L</td>\n    </tr>\n    <tr>\n      <th>3733</th>\n      <td>3752</td>\n      <td>EN</td>\n      <td>FT</td>\n      <td>Data Scientist</td>\n      <td>105000</td>\n      <td>US</td>\n      <td>100</td>\n      <td>US</td>\n      <td>S</td>\n    </tr>\n    <tr>\n      <th>3734</th>\n      <td>3754</td>\n      <td>SE</td>\n      <td>FT</td>\n      <td>Data Science Manager</td>\n      <td>94665</td>\n      <td>IN</td>\n      <td>50</td>\n      <td>IN</td>\n      <td>L</td>\n    </tr>\n  </tbody>\n</table>\n<p>3735 rows × 9 columns</p>\n</div>"
     },
     "execution_count": 15,
     "metadata": {},
     "output_type": "execute_result"
    }
   ],
   "source": [
    "df = pd.read_csv(\"salarios-ciencia-dados-v2.csv\")\n",
    "df"
   ],
   "metadata": {
    "collapsed": false,
    "ExecuteTime": {
     "end_time": "2023-06-21T18:15:53.686204800Z",
     "start_time": "2023-06-21T18:15:53.643336100Z"
    }
   }
  },
  {
   "cell_type": "code",
   "execution_count": 6,
   "outputs": [
    {
     "data": {
      "text/plain": "        Unnamed: 0  salario_em_dolar  percentual_remoto\ncount  3735.000000       3735.000000        3735.000000\nmean   1873.111914     137864.596252          46.077644\nstd    1081.738418      62713.864109          48.601319\nmin       0.000000       5132.000000           0.000000\n25%     937.500000      95000.000000           0.000000\n50%    1871.000000     135000.000000           0.000000\n75%    2809.500000     175000.000000         100.000000\nmax    3754.000000     450000.000000         100.000000",
      "text/html": "<div>\n<style scoped>\n    .dataframe tbody tr th:only-of-type {\n        vertical-align: middle;\n    }\n\n    .dataframe tbody tr th {\n        vertical-align: top;\n    }\n\n    .dataframe thead th {\n        text-align: right;\n    }\n</style>\n<table border=\"1\" class=\"dataframe\">\n  <thead>\n    <tr style=\"text-align: right;\">\n      <th></th>\n      <th>Unnamed: 0</th>\n      <th>salario_em_dolar</th>\n      <th>percentual_remoto</th>\n    </tr>\n  </thead>\n  <tbody>\n    <tr>\n      <th>count</th>\n      <td>3735.000000</td>\n      <td>3735.000000</td>\n      <td>3735.000000</td>\n    </tr>\n    <tr>\n      <th>mean</th>\n      <td>1873.111914</td>\n      <td>137864.596252</td>\n      <td>46.077644</td>\n    </tr>\n    <tr>\n      <th>std</th>\n      <td>1081.738418</td>\n      <td>62713.864109</td>\n      <td>48.601319</td>\n    </tr>\n    <tr>\n      <th>min</th>\n      <td>0.000000</td>\n      <td>5132.000000</td>\n      <td>0.000000</td>\n    </tr>\n    <tr>\n      <th>25%</th>\n      <td>937.500000</td>\n      <td>95000.000000</td>\n      <td>0.000000</td>\n    </tr>\n    <tr>\n      <th>50%</th>\n      <td>1871.000000</td>\n      <td>135000.000000</td>\n      <td>0.000000</td>\n    </tr>\n    <tr>\n      <th>75%</th>\n      <td>2809.500000</td>\n      <td>175000.000000</td>\n      <td>100.000000</td>\n    </tr>\n    <tr>\n      <th>max</th>\n      <td>3754.000000</td>\n      <td>450000.000000</td>\n      <td>100.000000</td>\n    </tr>\n  </tbody>\n</table>\n</div>"
     },
     "execution_count": 6,
     "metadata": {},
     "output_type": "execute_result"
    }
   ],
   "source": [
    "df.describe()"
   ],
   "metadata": {
    "collapsed": false,
    "ExecuteTime": {
     "end_time": "2023-06-21T18:09:42.179633Z",
     "start_time": "2023-06-21T18:09:42.128806800Z"
    }
   }
  },
  {
   "cell_type": "code",
   "execution_count": 7,
   "outputs": [
    {
     "name": "stdout",
     "output_type": "stream",
     "text": [
      "<class 'pandas.core.frame.DataFrame'>\n",
      "RangeIndex: 3735 entries, 0 to 3734\n",
      "Data columns (total 9 columns):\n",
      " #   Column                Non-Null Count  Dtype \n",
      "---  ------                --------------  ----- \n",
      " 0   Unnamed: 0            3735 non-null   int64 \n",
      " 1   nivel_experiencia     3735 non-null   object\n",
      " 2   tipo_emprego          3735 non-null   object\n",
      " 3   titulo_trabalho       3735 non-null   object\n",
      " 4   salario_em_dolar      3735 non-null   int64 \n",
      " 5   residencia_empregado  3735 non-null   object\n",
      " 6   percentual_remoto     3735 non-null   int64 \n",
      " 7   local_empresa         3735 non-null   object\n",
      " 8   tamanho_empresa       3735 non-null   object\n",
      "dtypes: int64(3), object(6)\n",
      "memory usage: 262.7+ KB\n"
     ]
    }
   ],
   "source": [
    "df.info()"
   ],
   "metadata": {
    "collapsed": false,
    "ExecuteTime": {
     "end_time": "2023-06-21T18:10:02.613541800Z",
     "start_time": "2023-06-21T18:10:02.539838800Z"
    }
   }
  },
  {
   "cell_type": "markdown",
   "source": [
    "##### 1 A"
   ],
   "metadata": {
    "collapsed": false
   }
  },
  {
   "cell_type": "code",
   "execution_count": 10,
   "outputs": [
    {
     "data": {
      "text/plain": "<Figure size 640x480 with 1 Axes>",
      "image/png": "[encoded data removed]"
     },
     "metadata": {},
     "output_type": "display_data"
    }
   ],
   "source": [
    "sns.boxplot(x=\"tamanho_empresa\", y=\"salario_em_dolar\", data=df)\n",
    "plt.show()"
   ],
   "metadata": {
    "collapsed": false,
    "ExecuteTime": {
     "end_time": "2023-06-21T18:10:57.392270100Z",
     "start_time": "2023-06-21T18:10:57.228477700Z"
    }
   }
  },
  {
   "cell_type": "markdown",
   "source": [
    "#### Empresas de tamanho L: O boxplot detalha que as empresas de tamanho L possuem uma mediana pouco acima de 100000, possuindo alguns outliers, além de ser bem homogêneo. A distribuição de salários anual da empresa de tamanho L é menor que a distribuição de salários anual da empresa de tamanho M e maior que a distribuição de salários anual da empresa de tamanho S.\n",
    "#### Empresas de tamanho M: O boxplot detalha que as empresas de tamanho M possuem uma mediana entre 100000 e 200000, possuindo alguns outliers e sendo bem homogêneo. A distribuição é maior que a de S e L.\n",
    "\n",
    "#### Empresas de tamanho S: O boxplot detalha que as empresas de tamanho S possuem uma mediana entre 0 e 100000, possuindo alguns outliers e não é muito homogêneo. A distribuição é menor que a de L e M.\n",
    "\n",
    "#### Conclusão: empresas de tamanho M são mais bem remuneradas, seguidas pelas empresas de tamanho L e por fim as empresas de tamanho S."
   ],
   "metadata": {
    "collapsed": false
   }
  },
  {
   "cell_type": "markdown",
   "source": [
    "##### 1B"
   ],
   "metadata": {
    "collapsed": false
   }
  },
  {
   "cell_type": "code",
   "execution_count": 19,
   "outputs": [
    {
     "data": {
      "text/plain": "<Figure size 640x480 with 1 Axes>",
      "image/png": "[encoded data removed]"
     },
     "metadata": {},
     "output_type": "display_data"
    }
   ],
   "source": [
    "sns.boxplot(x=\"tipo_emprego\" , y=\"salario_em_dolar\", data=df)\n",
    "plt.show()"
   ],
   "metadata": {
    "collapsed": false,
    "ExecuteTime": {
     "end_time": "2023-06-21T18:27:58.489300400Z",
     "start_time": "2023-06-21T18:27:58.337246100Z"
    }
   }
  },
  {
   "cell_type": "markdown",
   "source": [
    "#### A partir desses boxplots, fica claro que os empregos FT (Full Time) possuem um salário maior que os empregos PT (Part Time), é bem homogeneo e possui alguns outliers. Os empregos PT possui apenas um outlier e não é homogêneo\n",
    "\n",
    "#### Conclusão: trabalho Full Time são mais bem remunerados"
   ],
   "metadata": {
    "collapsed": false
   }
  },
  {
   "cell_type": "markdown",
   "source": [
    "##### 1C"
   ],
   "metadata": {
    "collapsed": false
   }
  },
  {
   "cell_type": "code",
   "execution_count": 20,
   "outputs": [
    {
     "data": {
      "text/plain": "<Figure size 640x480 with 1 Axes>",
      "image/png": "[encoded data removed]"
     },
     "metadata": {},
     "output_type": "display_data"
    }
   ],
   "source": [
    "sns.boxplot(x=\"percentual_remoto\" , y=\"salario_em_dolar\", data=df)\n",
    "plt.show()"
   ],
   "metadata": {
    "collapsed": false,
    "ExecuteTime": {
     "end_time": "2023-06-21T18:27:59.635988300Z",
     "start_time": "2023-06-21T18:27:59.482917100Z"
    }
   }
  },
  {
   "cell_type": "markdown",
   "source": [
    "#### 0 percentual: Boxplot homogêneo, mediana próxima de 150000, alguns outliers e distibuição maior que 50 e parecida com a de 100, sendo um pouquinho superior.\n",
    "\n",
    "#### 50 percentual: Boxplot não muito homogêneo, mediana próxima de 50000, alguns outliers (mais espaçados) e distibuição menor que 0 e 100.\n",
    "\n",
    "#### 100 percentual: Boxplot homogêneo, mediana próxima de 150000, alguns outliers e distibuição maior que 0 e parecida com a de 0, sendo um pouquinho inferior.\n",
    "\n",
    "#### Conclusão: pessoas que trabalham em percentual remoto de 50, tendem a receber salárioa anuais menores"
   ],
   "metadata": {
    "collapsed": false
   }
  },
  {
   "cell_type": "markdown",
   "source": [
    "##### 1D"
   ],
   "metadata": {
    "collapsed": false
   }
  },
  {
   "cell_type": "code",
   "execution_count": 21,
   "outputs": [
    {
     "data": {
      "text/plain": "<Figure size 640x480 with 1 Axes>",
      "image/png": "[encoded data removed]"
     },
     "metadata": {},
     "output_type": "display_data"
    }
   ],
   "source": [
    "sns.boxplot(x=\"nivel_experiencia\" , y=\"salario_em_dolar\", data=df)\n",
    "plt.show()"
   ],
   "metadata": {
    "collapsed": false,
    "ExecuteTime": {
     "end_time": "2023-06-21T18:28:32.799867400Z",
     "start_time": "2023-06-21T18:28:32.633482300Z"
    }
   }
  },
  {
   "cell_type": "markdown",
   "source": [
    "#### SE (Sênior): Boxplot homogêneo, mediana próxima de 150000, alguns outliers e distibuição maior que EN, MI e menor que EX\n",
    "#### EN (Iniciante): Boxplot homogêneo, mediana próxima de 50000, alguns outliers e distibuição menor que todas\n",
    "#### MI (Intermediário): Boxplot homogêneo, mediana próxima de 100000, alguns outliers e distibuição maior que EN e menor que SE e EX\n",
    "#### EX (Experiente): Boxplot homogêneo, mediana próxima de 200000, nenhum outlier e distibuição maior que todas\n",
    "#### Conclusão: Cargos mais bem remunerados são os de nível Experiente, seguidos pelos de nível Sênior, Intermediário e por fim Iniciante"
   ],
   "metadata": {
    "collapsed": false
   }
  },
  {
   "cell_type": "markdown",
   "source": [
    "#### QUESTÃO 2\n",
    "\n",
    "#### Critério: para o agrupamento, as colunas utilizadas foram nivel_experiencia, tipo_emprego, tamanho_empresa e percentual_remoto. O target foi o salário em dólar.\n",
    "\n",
    "#### A príncipo, as colunas titulo_trabalho, residencia_empregado, local_empresa não foram consideradas pela quantidade de dados únicos.\n"
   ],
   "metadata": {
    "collapsed": false
   }
  },
  {
   "cell_type": "markdown",
   "source": [
    "#### 2A"
   ],
   "metadata": {
    "collapsed": false
   }
  },
  {
   "cell_type": "code",
   "execution_count": 85,
   "outputs": [],
   "source": [
    "# Cópia do dataframe\n",
    "dfcopy = df.copy()\n",
    "\n",
    "# Convertendo os dados categóricos para numéricos\n",
    "dfcopy['nivel_experiencia'] = dfcopy['nivel_experiencia'].map({'EN': 1, 'MI': 2, 'SE': 3, 'EX': 4})\n",
    "dfcopy['tipo_emprego'] = dfcopy['tipo_emprego'].map({'PT': 1, 'FT': 2})\n",
    "dfcopy['tamanho_empresa'] = dfcopy['tamanho_empresa'].map({'S': 1, 'M': 2, 'L': 3})\n",
    "dfcopy['percentual_remoto'] = dfcopy['percentual_remoto'].map({0: 1, 50: 2, 100: 3})\n",
    "\n",
    "# Colunas que serão utilizadas para o agrupamento\n",
    "colunas = ['nivel_experiencia', 'tipo_emprego', 'tamanho_empresa', 'percentual_remoto']\n",
    "target = ['salario_em_dolar']"
   ],
   "metadata": {
    "collapsed": false,
    "ExecuteTime": {
     "end_time": "2023-06-21T19:33:55.696941700Z",
     "start_time": "2023-06-21T19:33:55.679843900Z"
    }
   }
  },
  {
   "cell_type": "code",
   "execution_count": 86,
   "outputs": [
    {
     "name": "stderr",
     "output_type": "stream",
     "text": [
      "C:\\Users\\Miguel\\anaconda3\\lib\\site-packages\\sklearn\\cluster\\_kmeans.py:870: FutureWarning: The default value of `n_init` will change from 10 to 'auto' in 1.4. Set the value of `n_init` explicitly to suppress the warning\n",
      "  warnings.warn(\n",
      "C:\\Users\\Miguel\\anaconda3\\lib\\site-packages\\sklearn\\cluster\\_kmeans.py:870: FutureWarning: The default value of `n_init` will change from 10 to 'auto' in 1.4. Set the value of `n_init` explicitly to suppress the warning\n",
      "  warnings.warn(\n",
      "C:\\Users\\Miguel\\anaconda3\\lib\\site-packages\\sklearn\\cluster\\_kmeans.py:870: FutureWarning: The default value of `n_init` will change from 10 to 'auto' in 1.4. Set the value of `n_init` explicitly to suppress the warning\n",
      "  warnings.warn(\n"
     ]
    }
   ],
   "source": [
    "# Aplicando KMeans\n",
    "\n",
    "# 2 clusters\n",
    "kmeans2 = KMeans(n_clusters=2, random_state=0).fit(dfcopy[colunas])\n",
    "\n",
    "# 3 clusters\n",
    "kmeans3 = KMeans(n_clusters=3, random_state=0).fit(dfcopy[colunas])\n",
    "\n",
    "# 4 clusters\n",
    "kmeans4 = KMeans(n_clusters=4, random_state=0).fit(dfcopy[colunas])"
   ],
   "metadata": {
    "collapsed": false,
    "ExecuteTime": {
     "end_time": "2023-06-21T19:33:56.009870500Z",
     "start_time": "2023-06-21T19:33:55.907621600Z"
    }
   }
  },
  {
   "cell_type": "code",
   "execution_count": 87,
   "outputs": [
    {
     "name": "stdout",
     "output_type": "stream",
     "text": [
      "0.6265573557420119\n",
      "0.6507585885153199\n",
      "0.7063990764938428\n"
     ]
    }
   ],
   "source": [
    "from sklearn.metrics import silhouette_score\n",
    "\n",
    "silhouette2 = silhouette_score(dfcopy[colunas], kmeans2.labels_)\n",
    "silhouette3 = silhouette_score(dfcopy[colunas], kmeans3.labels_)\n",
    "silhouette4 = silhouette_score(dfcopy[colunas], kmeans4.labels_)\n",
    "print(silhouette2)\n",
    "print(silhouette3)\n",
    "print(silhouette4)"
   ],
   "metadata": {
    "collapsed": false,
    "ExecuteTime": {
     "end_time": "2023-06-21T19:33:57.118603700Z",
     "start_time": "2023-06-21T19:33:56.239062500Z"
    }
   }
  },
  {
   "cell_type": "markdown",
   "source": [
    "#### O melhor valor de silhueta foi o de 4 clusters, com 0.706. (SIlhouette: A técnica fornece uma representação sucinta de quão bem cada objeto foi classificados"
   ],
   "metadata": {
    "collapsed": false
   }
  },
  {
   "cell_type": "markdown",
   "source": [
    "#### 2B"
   ],
   "metadata": {
    "collapsed": false
   }
  },
  {
   "cell_type": "code",
   "execution_count": 134,
   "outputs": [
    {
     "name": "stdout",
     "output_type": "stream",
     "text": [
      "GRUPO 1 112132.79356060606\n",
      "GRUPO 2 153520.89549180327\n",
      "GRUPO 3 156700.88879310346\n",
      "GRUPO 4 84374.83704974271\n"
     ]
    },
    {
     "data": {
      "text/plain": "      Unnamed: 0  nivel_experiencia  tipo_emprego  \\\n17            19                  6             2   \n18            20                  6             2   \n37            39                  6             2   \n38            40                  6             2   \n39            41                  6             2   \n...          ...                ...           ...   \n3727        3746                  6             2   \n3728        3747                  6             2   \n3729        3748                  6             2   \n3732        3751                  6             2   \n3733        3752                  6             2   \n\n                         titulo_trabalho  salario_em_dolar  \\\n17                          Data Analyst            150000   \n18                          Data Analyst            110000   \n37                  Data Quality Analyst            100000   \n38               Compliance Data Analyst             30000   \n39             Machine Learning Engineer             20984   \n...                                  ...               ...   \n3727                      Data Scientist            119059   \n3728  Applied Machine Learning Scientist            423000   \n3729                       Data Engineer             28369   \n3732            Principal Data Scientist            151000   \n3733                      Data Scientist            105000   \n\n     residencia_empregado  percentual_remoto local_empresa  tamanho_empresa  \n17                     US                  3            US                2  \n18                     US                  3            US                2  \n37                     NG                  3            NG                3  \n38                     NG                  3            NG                3  \n39                     IN                  2            IN                3  \n...                   ...                ...           ...              ...  \n3727                   SG                  3            IL                2  \n3728                   US                  2            US                3  \n3729                   MT                  2            MT                3  \n3732                   US                  3            US                3  \n3733                   US                  3            US                1  \n\n[583 rows x 9 columns]",
      "text/html": "<div>\n<style scoped>\n    .dataframe tbody tr th:only-of-type {\n        vertical-align: middle;\n    }\n\n    .dataframe tbody tr th {\n        vertical-align: top;\n    }\n\n    .dataframe thead th {\n        text-align: right;\n    }\n</style>\n<table border=\"1\" class=\"dataframe\">\n  <thead>\n    <tr style=\"text-align: right;\">\n      <th></th>\n      <th>Unnamed: 0</th>\n      <th>nivel_experiencia</th>\n      <th>tipo_emprego</th>\n      <th>titulo_trabalho</th>\n      <th>salario_em_dolar</th>\n      <th>residencia_empregado</th>\n      <th>percentual_remoto</th>\n      <th>local_empresa</th>\n      <th>tamanho_empresa</th>\n    </tr>\n  </thead>\n  <tbody>\n    <tr>\n      <th>17</th>\n      <td>19</td>\n      <td>6</td>\n      <td>2</td>\n      <td>Data Analyst</td>\n      <td>150000</td>\n      <td>US</td>\n      <td>3</td>\n      <td>US</td>\n      <td>2</td>\n    </tr>\n    <tr>\n      <th>18</th>\n      <td>20</td>\n      <td>6</td>\n      <td>2</td>\n      <td>Data Analyst</td>\n      <td>110000</td>\n      <td>US</td>\n      <td>3</td>\n      <td>US</td>\n      <td>2</td>\n    </tr>\n    <tr>\n      <th>37</th>\n      <td>39</td>\n      <td>6</td>\n      <td>2</td>\n      <td>Data Quality Analyst</td>\n      <td>100000</td>\n      <td>NG</td>\n      <td>3</td>\n      <td>NG</td>\n      <td>3</td>\n    </tr>\n    <tr>\n      <th>38</th>\n      <td>40</td>\n      <td>6</td>\n      <td>2</td>\n      <td>Compliance Data Analyst</td>\n      <td>30000</td>\n      <td>NG</td>\n      <td>3</td>\n      <td>NG</td>\n      <td>3</td>\n    </tr>\n    <tr>\n      <th>39</th>\n      <td>41</td>\n      <td>6</td>\n      <td>2</td>\n      <td>Machine Learning Engineer</td>\n      <td>20984</td>\n      <td>IN</td>\n      <td>2</td>\n      <td>IN</td>\n      <td>3</td>\n    </tr>\n    <tr>\n      <th>...</th>\n      <td>...</td>\n      <td>...</td>\n      <td>...</td>\n      <td>...</td>\n      <td>...</td>\n      <td>...</td>\n      <td>...</td>\n      <td>...</td>\n      <td>...</td>\n    </tr>\n    <tr>\n      <th>3727</th>\n      <td>3746</td>\n      <td>6</td>\n      <td>2</td>\n      <td>Data Scientist</td>\n      <td>119059</td>\n      <td>SG</td>\n      <td>3</td>\n      <td>IL</td>\n      <td>2</td>\n    </tr>\n    <tr>\n      <th>3728</th>\n      <td>3747</td>\n      <td>6</td>\n      <td>2</td>\n      <td>Applied Machine Learning Scientist</td>\n      <td>423000</td>\n      <td>US</td>\n      <td>2</td>\n      <td>US</td>\n      <td>3</td>\n    </tr>\n    <tr>\n      <th>3729</th>\n      <td>3748</td>\n      <td>6</td>\n      <td>2</td>\n      <td>Data Engineer</td>\n      <td>28369</td>\n      <td>MT</td>\n      <td>2</td>\n      <td>MT</td>\n      <td>3</td>\n    </tr>\n    <tr>\n      <th>3732</th>\n      <td>3751</td>\n      <td>6</td>\n      <td>2</td>\n      <td>Principal Data Scientist</td>\n      <td>151000</td>\n      <td>US</td>\n      <td>3</td>\n      <td>US</td>\n      <td>3</td>\n    </tr>\n    <tr>\n      <th>3733</th>\n      <td>3752</td>\n      <td>6</td>\n      <td>2</td>\n      <td>Data Scientist</td>\n      <td>105000</td>\n      <td>US</td>\n      <td>3</td>\n      <td>US</td>\n      <td>1</td>\n    </tr>\n  </tbody>\n</table>\n<p>583 rows × 9 columns</p>\n</div>"
     },
     "execution_count": 134,
     "metadata": {},
     "output_type": "execute_result"
    }
   ],
   "source": [
    "# qual a media do saslario de cada grupo do melhor agrupamento\n",
    "\n",
    "dfGRUPO1 = dfcopy[kmeans4.labels_ == 0]\n",
    "dfGRUPO2 = dfcopy[kmeans4.labels_ == 1]\n",
    "dfGRUPO3 = dfcopy[kmeans4.labels_ == 2]\n",
    "dfGRUPO4 = dfcopy[kmeans4.labels_ == 3]\n",
    "\n",
    "print('GRUPO 1', dfGRUPO1['salario_em_dolar'].mean())\n",
    "print('GRUPO 2', dfGRUPO2['salario_em_dolar'].mean())\n",
    "print('GRUPO 3', dfGRUPO3['salario_em_dolar'].mean())\n",
    "print('GRUPO 4', dfGRUPO4['salario_em_dolar'].mean())\n"
   ],
   "metadata": {
    "collapsed": false,
    "ExecuteTime": {
     "end_time": "2023-06-21T20:05:47.275448400Z",
     "start_time": "2023-06-21T20:05:47.209751500Z"
    }
   }
  },
  {
   "cell_type": "markdown",
   "source": [
    "#### Houve diferenças entre os grupos sim, principalmente o último."
   ],
   "metadata": {
    "collapsed": false
   }
  },
  {
   "cell_type": "code",
   "execution_count": 90,
   "outputs": [],
   "source": [
    "from sklearn.model_selection import train_test_split\n",
    "\n",
    "\n",
    "# 70% terinamento 30% teste\n",
    "\n",
    "\n",
    "dfcopy['nivel_experiencia'] = dfcopy['nivel_experiencia'].replace(3, 0) # Senior\n",
    "dfcopy['nivel_experiencia'] = dfcopy['nivel_experiencia'].replace(4, 0) # Senior\n",
    "dfcopy['nivel_experiencia'] = dfcopy['nivel_experiencia'].replace(1, 6) # Junior\n",
    "dfcopy['nivel_experiencia'] = dfcopy['nivel_experiencia'].replace(2, 6) # Junior\n",
    "\n",
    "# Ou seja: 0 = Senior, 6 = Junior\n",
    "\n",
    "dfX = dfcopy[['tipo_emprego', 'tamanho_empresa', 'percentual_remoto']]\n",
    "dfY = dfcopy[['nivel_experiencia']]\n",
    "\n",
    "X_train, X_test, Y_train, Y_test = train_test_split(\n",
    "    dfX,\n",
    "    dfY,\n",
    "    test_size=0.3,\n",
    "    random_state=0\n",
    ")"
   ],
   "metadata": {
    "collapsed": false,
    "ExecuteTime": {
     "end_time": "2023-06-21T19:35:14.505333700Z",
     "start_time": "2023-06-21T19:35:14.472224900Z"
    }
   }
  },
  {
   "cell_type": "code",
   "execution_count": 91,
   "outputs": [
    {
     "name": "stdout",
     "output_type": "stream",
     "text": [
      "              precision    recall  f1-score   support\n",
      "\n",
      "           0       0.72      0.99      0.84       796\n",
      "           6       0.83      0.06      0.11       325\n",
      "\n",
      "    accuracy                           0.72      1121\n",
      "   macro avg       0.78      0.53      0.48      1121\n",
      "weighted avg       0.75      0.72      0.63      1121\n",
      "\n"
     ]
    },
    {
     "name": "stderr",
     "output_type": "stream",
     "text": [
      "C:\\Users\\Miguel\\anaconda3\\lib\\site-packages\\sklearn\\neighbors\\_classification.py:215: DataConversionWarning: A column-vector y was passed when a 1d array was expected. Please change the shape of y to (n_samples,), for example using ravel().\n",
      "  return self._fit(X, y)\n"
     ]
    }
   ],
   "source": [
    "# Aplicando KNN\n",
    "from sklearn.neighbors import KNeighborsClassifier\n",
    "from sklearn.metrics import classification_report\n",
    "\n",
    "#KNN model\n",
    "knn = KNeighborsClassifier(n_neighbors=3)\n",
    "knn.fit(X_train, Y_train)\n",
    "Y_pred_KNN = knn.predict(X_test)\n",
    "print(classification_report(Y_test, Y_pred_KNN))"
   ],
   "metadata": {
    "collapsed": false,
    "ExecuteTime": {
     "end_time": "2023-06-21T19:35:16.817359300Z",
     "start_time": "2023-06-21T19:35:16.750051400Z"
    }
   }
  },
  {
   "cell_type": "code",
   "execution_count": 92,
   "outputs": [
    {
     "name": "stdout",
     "output_type": "stream",
     "text": [
      "              precision    recall  f1-score   support\n",
      "\n",
      "           0       0.75      0.97      0.84       796\n",
      "           6       0.70      0.19      0.30       325\n",
      "\n",
      "    accuracy                           0.74      1121\n",
      "   macro avg       0.72      0.58      0.57      1121\n",
      "weighted avg       0.73      0.74      0.68      1121\n",
      "\n"
     ]
    }
   ],
   "source": [
    "# Decision Tree\n",
    "\n",
    "from sklearn.tree import DecisionTreeClassifier\n",
    "\n",
    "dt = DecisionTreeClassifier()\n",
    "dt.fit(X_train, Y_train)\n",
    "Y_pred_DT = dt.predict(X_test)\n",
    "print(classification_report(Y_test, Y_pred_DT))\n"
   ],
   "metadata": {
    "collapsed": false,
    "ExecuteTime": {
     "end_time": "2023-06-21T19:35:40.239246300Z",
     "start_time": "2023-06-21T19:35:40.190035200Z"
    }
   }
  },
  {
   "cell_type": "code",
   "execution_count": 93,
   "outputs": [
    {
     "name": "stdout",
     "output_type": "stream",
     "text": [
      "              precision    recall  f1-score   support\n",
      "\n",
      "           0       0.72      1.00      0.83       796\n",
      "           6       1.00      0.02      0.05       325\n",
      "\n",
      "    accuracy                           0.72      1121\n",
      "   macro avg       0.86      0.51      0.44      1121\n",
      "weighted avg       0.80      0.72      0.61      1121\n",
      "\n"
     ]
    },
    {
     "name": "stderr",
     "output_type": "stream",
     "text": [
      "C:\\Users\\Miguel\\anaconda3\\lib\\site-packages\\sklearn\\utils\\validation.py:1143: DataConversionWarning: A column-vector y was passed when a 1d array was expected. Please change the shape of y to (n_samples, ), for example using ravel().\n",
      "  y = column_or_1d(y, warn=True)\n"
     ]
    }
   ],
   "source": [
    "# Naive Bayes\n",
    "from sklearn.naive_bayes import GaussianNB\n",
    "\n",
    "nb = GaussianNB()\n",
    "nb.fit(X_train, Y_train)\n",
    "Y_pred_NB = nb.predict(X_test)\n",
    "print(classification_report(Y_test, Y_pred_NB))"
   ],
   "metadata": {
    "collapsed": false,
    "ExecuteTime": {
     "end_time": "2023-06-21T19:36:12.579189700Z",
     "start_time": "2023-06-21T19:36:12.506503700Z"
    }
   }
  },
  {
   "cell_type": "code",
   "execution_count": 101,
   "outputs": [],
   "source": [
    "# Adicionando coluna salario_em_dolar ao treinamento\n",
    "\n",
    "dfY = dfcopy[['nivel_experiencia']]\n",
    "\n",
    "dfX = dfcopy[['tipo_emprego', 'tamanho_empresa', 'percentual_remoto', 'salario_em_dolar']]\n",
    "dfY = dfcopy[['nivel_experiencia']]\n",
    "\n",
    "X_train, X_test, Y_train, Y_test = train_test_split(\n",
    "    dfX,\n",
    "    dfY,\n",
    "    test_size=0.3,\n",
    "    random_state=0\n",
    ")"
   ],
   "metadata": {
    "collapsed": false,
    "ExecuteTime": {
     "end_time": "2023-06-21T19:40:40.915139500Z",
     "start_time": "2023-06-21T19:40:40.889745700Z"
    }
   }
  },
  {
   "cell_type": "code",
   "execution_count": 102,
   "outputs": [
    {
     "name": "stdout",
     "output_type": "stream",
     "text": [
      "              precision    recall  f1-score   support\n",
      "\n",
      "           0       0.83      0.86      0.85       796\n",
      "           6       0.63      0.58      0.60       325\n",
      "\n",
      "    accuracy                           0.78      1121\n",
      "   macro avg       0.73      0.72      0.73      1121\n",
      "weighted avg       0.78      0.78      0.78      1121\n",
      "\n"
     ]
    },
    {
     "name": "stderr",
     "output_type": "stream",
     "text": [
      "C:\\Users\\Miguel\\anaconda3\\lib\\site-packages\\sklearn\\neighbors\\_classification.py:215: DataConversionWarning: A column-vector y was passed when a 1d array was expected. Please change the shape of y to (n_samples,), for example using ravel().\n",
      "  return self._fit(X, y)\n"
     ]
    }
   ],
   "source": [
    "# Aplicando KNN\n",
    "\n",
    "#KNN model\n",
    "knn = KNeighborsClassifier(n_neighbors=3)\n",
    "knn.fit(X_train, Y_train)\n",
    "Y_pred_KNN = knn.predict(X_test)\n",
    "print(classification_report(Y_test, Y_pred_KNN))"
   ],
   "metadata": {
    "collapsed": false,
    "ExecuteTime": {
     "end_time": "2023-06-21T19:40:41.247279800Z",
     "start_time": "2023-06-21T19:40:41.174805600Z"
    }
   }
  },
  {
   "cell_type": "code",
   "execution_count": 103,
   "outputs": [
    {
     "name": "stdout",
     "output_type": "stream",
     "text": [
      "              precision    recall  f1-score   support\n",
      "\n",
      "           0       0.83      0.87      0.85       796\n",
      "           6       0.63      0.56      0.60       325\n",
      "\n",
      "    accuracy                           0.78      1121\n",
      "   macro avg       0.73      0.71      0.72      1121\n",
      "weighted avg       0.77      0.78      0.77      1121\n",
      "\n"
     ]
    }
   ],
   "source": [
    "# Decision Tree\n",
    "\n",
    "dt = DecisionTreeClassifier()\n",
    "dt.fit(X_train, Y_train)\n",
    "Y_pred_DT = dt.predict(X_test)\n",
    "print(classification_report(Y_test, Y_pred_DT))"
   ],
   "metadata": {
    "collapsed": false,
    "ExecuteTime": {
     "end_time": "2023-06-21T19:40:41.511632200Z",
     "start_time": "2023-06-21T19:40:41.442982500Z"
    }
   }
  },
  {
   "cell_type": "code",
   "execution_count": 104,
   "outputs": [
    {
     "name": "stdout",
     "output_type": "stream",
     "text": [
      "              precision    recall  f1-score   support\n",
      "\n",
      "           0       0.79      0.92      0.85       796\n",
      "           6       0.68      0.41      0.51       325\n",
      "\n",
      "    accuracy                           0.77      1121\n",
      "   macro avg       0.74      0.67      0.68      1121\n",
      "weighted avg       0.76      0.77      0.75      1121\n",
      "\n"
     ]
    },
    {
     "name": "stderr",
     "output_type": "stream",
     "text": [
      "C:\\Users\\Miguel\\anaconda3\\lib\\site-packages\\sklearn\\utils\\validation.py:1143: DataConversionWarning: A column-vector y was passed when a 1d array was expected. Please change the shape of y to (n_samples, ), for example using ravel().\n",
      "  y = column_or_1d(y, warn=True)\n"
     ]
    }
   ],
   "source": [
    "# Naive Bayes\n",
    "\n",
    "nb = GaussianNB()\n",
    "nb.fit(X_train, Y_train)\n",
    "Y_pred_NB = nb.predict(X_test)\n",
    "print(classification_report(Y_test, Y_pred_NB))"
   ],
   "metadata": {
    "collapsed": false,
    "ExecuteTime": {
     "end_time": "2023-06-21T19:40:41.859334300Z",
     "start_time": "2023-06-21T19:40:41.825315700Z"
    }
   }
  },
  {
   "cell_type": "code",
   "execution_count": 125,
   "outputs": [],
   "source": [
    "# Remoção tipo_emprego\n",
    "\n",
    "dfX = dfcopy[['tamanho_empresa', 'percentual_remoto']]\n",
    "dfY = dfcopy[['nivel_experiencia']]\n",
    "X_train, X_test, Y_train, Y_test = train_test_split(\n",
    "    dfX,\n",
    "    dfY,\n",
    "    test_size=0.3,\n",
    "    random_state=0\n",
    ")\n"
   ],
   "metadata": {
    "collapsed": false,
    "ExecuteTime": {
     "end_time": "2023-06-21T20:01:29.404678400Z",
     "start_time": "2023-06-21T20:01:29.364381500Z"
    }
   }
  },
  {
   "cell_type": "code",
   "execution_count": 126,
   "outputs": [
    {
     "name": "stdout",
     "output_type": "stream",
     "text": [
      "              precision    recall  f1-score   support\n",
      "\n",
      "           0       0.72      0.99      0.83       796\n",
      "           6       0.78      0.04      0.08       325\n",
      "\n",
      "    accuracy                           0.72      1121\n",
      "   macro avg       0.75      0.52      0.46      1121\n",
      "weighted avg       0.74      0.72      0.62      1121\n",
      "\n"
     ]
    },
    {
     "name": "stderr",
     "output_type": "stream",
     "text": [
      "C:\\Users\\Miguel\\anaconda3\\lib\\site-packages\\sklearn\\neighbors\\_classification.py:215: DataConversionWarning: A column-vector y was passed when a 1d array was expected. Please change the shape of y to (n_samples,), for example using ravel().\n",
      "  return self._fit(X, y)\n"
     ]
    }
   ],
   "source": [
    "\n",
    "# Aplicando KNN\n",
    "\n",
    "#KNN model\n",
    "knn = KNeighborsClassifier(n_neighbors=3)\n",
    "knn.fit(X_train, Y_train)\n",
    "Y_pred_KNN = knn.predict(X_test)\n",
    "print(classification_report(Y_test, Y_pred_KNN))\n"
   ],
   "metadata": {
    "collapsed": false,
    "ExecuteTime": {
     "end_time": "2023-06-21T20:01:29.833069300Z",
     "start_time": "2023-06-21T20:01:29.759905500Z"
    }
   }
  },
  {
   "cell_type": "code",
   "execution_count": 127,
   "outputs": [
    {
     "name": "stdout",
     "output_type": "stream",
     "text": [
      "              precision    recall  f1-score   support\n",
      "\n",
      "           0       0.77      0.94      0.84       796\n",
      "           6       0.67      0.31      0.42       325\n",
      "\n",
      "    accuracy                           0.76      1121\n",
      "   macro avg       0.72      0.62      0.63      1121\n",
      "weighted avg       0.74      0.76      0.72      1121\n",
      "\n"
     ]
    }
   ],
   "source": [
    "# Decision Tree\n",
    "\n",
    "dt = DecisionTreeClassifier()\n",
    "dt.fit(X_train, Y_train)\n",
    "Y_pred_DT = dt.predict(X_test)\n",
    "print(classification_report(Y_test, Y_pred_DT))"
   ],
   "metadata": {
    "collapsed": false,
    "ExecuteTime": {
     "end_time": "2023-06-21T20:01:30.266626900Z",
     "start_time": "2023-06-21T20:01:30.192812Z"
    }
   }
  },
  {
   "cell_type": "code",
   "execution_count": 128,
   "outputs": [
    {
     "name": "stdout",
     "output_type": "stream",
     "text": [
      "              precision    recall  f1-score   support\n",
      "\n",
      "           0       0.77      0.92      0.84       796\n",
      "           6       0.62      0.32      0.42       325\n",
      "\n",
      "    accuracy                           0.74      1121\n",
      "   macro avg       0.69      0.62      0.63      1121\n",
      "weighted avg       0.72      0.74      0.72      1121\n",
      "\n"
     ]
    },
    {
     "name": "stderr",
     "output_type": "stream",
     "text": [
      "C:\\Users\\Miguel\\anaconda3\\lib\\site-packages\\sklearn\\utils\\validation.py:1143: DataConversionWarning: A column-vector y was passed when a 1d array was expected. Please change the shape of y to (n_samples, ), for example using ravel().\n",
      "  y = column_or_1d(y, warn=True)\n"
     ]
    }
   ],
   "source": [
    "# Naive Bayes\n",
    "\n",
    "nb = GaussianNB()\n",
    "nb.fit(X_train, Y_train)\n",
    "Y_pred_NB = nb.predict(X_test)\n",
    "print(classification_report(Y_test, Y_pred_NB))"
   ],
   "metadata": {
    "collapsed": false,
    "ExecuteTime": {
     "end_time": "2023-06-21T20:01:31.849103100Z",
     "start_time": "2023-06-21T20:01:31.805482300Z"
    }
   }
  },
  {
   "cell_type": "markdown",
   "source": [
    "#### RESULTADOS\n",
    "\n",
    "**QUESTÃO A)** O melhor foi o **KNN (COM ADIÇÃO DA COLUNA salario_anual)** com uma **acurácia** de 0.78, que significa que 78% das previsões foram corretas.\n",
    "O **f1-score**, que indica a média harmônica entre **PRESIÇÃO** (quantidade de vezes que o seu modelo acerta em relação ao total de vezes que ele tenta acertar) e **RECALL** (O recall mede a quantidade de vezes que o seu modelo acerta em relação ao total de vezes que ele deveria ter acertado) foi de 0.85 para a classe 0 (Senior) e 0.60 para a classe 6 (Junior).\n",
    "\n",
    "**CONCLUSÃO** = MELHOR: KNN (COM ADIÇÃO DA COLUNA salario_anual)\n",
    "                PORQUE: Acurácia superio e fi-score superior.\n",
    "                MOTIVO: salário é uma boa métrica para definir o nível de experiência de um profissional."
   ],
   "metadata": {
    "collapsed": false
   }
  },
  {
   "cell_type": "code",
   "execution_count": 129,
   "outputs": [
    {
     "name": "stderr",
     "output_type": "stream",
     "text": [
      "C:\\Users\\Miguel\\AppData\\Local\\Temp\\ipykernel_11204\\190209895.py:5: FutureWarning: The default value of numeric_only in DataFrame.corr is deprecated. In a future version, it will default to False. Select only valid columns or specify the value of numeric_only to silence this warning.\n",
      "  sns.heatmap(dfcopy.corr(), annot=True)\n"
     ]
    },
    {
     "data": {
      "text/plain": "<Axes: >"
     },
     "execution_count": 129,
     "metadata": {},
     "output_type": "execute_result"
    },
    {
     "data": {
      "text/plain": "<Figure size 640x480 with 2 Axes>",
      "image/png": "[encoded data removed]"
     },
     "metadata": {},
     "output_type": "display_data"
    }
   ],
   "source": [
    "#matriz correlacao sns\n",
    "\n",
    "import seaborn as sns\n",
    "\n",
    "sns.heatmap(dfcopy.corr(), annot=True)"
   ],
   "metadata": {
    "collapsed": false,
    "ExecuteTime": {
     "end_time": "2023-06-21T20:01:40.721947300Z",
     "start_time": "2023-06-21T20:01:40.339073Z"
    }
   }
  },
  {
   "cell_type": "markdown",
   "source": [
    "**QUESTÃO B)** Com certeza o **salario_anual**, o que é possível ser conferido devido a correlação entre as variáveis, salario_anual e tipo_emprego que é uma correlação negativa, ou seja, quanto menor o salário, o valor será 6 que é da classe **'JUNIOR'** e quanto maior o salário, o valor será 0 que é da classe **'SENIOR'**.\n",
    "        O **tipo_emprego** influenciou, mas bem pouco, com 0.11."
   ],
   "metadata": {
    "collapsed": false
   }
  },
  {
   "cell_type": "markdown",
   "source": [
    "**QUESTÂO C)** Acurácia, com certeza. Porque ela indica a porcentagem de acertos do modelo, ou seja, quanto maior a acurácia, melhor o modelo."
   ],
   "metadata": {
    "collapsed": false
   }
  },
  {
   "cell_type": "code",
   "execution_count": null,
   "outputs": [],
   "source": [],
   "metadata": {
    "collapsed": false
   }
  }
 ],
 "metadata": {
  "kernelspec": {
   "display_name": "Python 3",
   "language": "python",
   "name": "python3"
  },
  "language_info": {
   "codemirror_mode": {
    "name": "ipython",
    "version": 2
   },
   "file_extension": ".py",
   "mimetype": "text/x-python",
   "name": "python",
   "nbconvert_exporter": "python",
   "pygments_lexer": "ipython2",
   "version": "2.7.6"
  }
 },
 "nbformat": 4,
 "nbformat_minor": 0
}
