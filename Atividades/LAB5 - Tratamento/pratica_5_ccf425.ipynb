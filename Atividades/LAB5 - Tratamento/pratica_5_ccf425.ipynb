{
 "cells": [
  {
   "cell_type": "markdown",
   "metadata": {
    "id": "MOKnyoZFteUp"
   },
   "source": [
    "> Introdução à Ciência dos Dados \\\n",
    "> Ciência da Computação – UFV/Florestal\n",
    "\n",
    "\n",
    "* **Nome:** Miguel Antônio Ribeiro e Silva\n",
    "* **Matrícula:**  4680\n",
    "\n",
    "# Aula Prática 05\n",
    "## Análise Exploratória de Dados\n",
    "\n",
    "**Objetivo:** Entender comandos para filtro e preparação de dados.\n",
    "**Pré-requisitos:** Linguagem de programação Python, estatística básica \\\n",
    "**Meta:** Ao final da prática, o aluno será capaz de analisar um conjunto de dados e filtrar e conhecer melhor os dados.\n",
    "\n",
    "----"
   ]
  },
  {
   "cell_type": "code",
   "execution_count": 91,
   "metadata": {
    "id": "dScrifOhteUu",
    "ExecuteTime": {
     "start_time": "2023-04-27T10:14:53.799642Z",
     "end_time": "2023-04-27T10:15:04.032413Z"
    }
   },
   "outputs": [
    {
     "name": "stdout",
     "output_type": "stream",
     "text": [
      "Requirement already satisfied: learntools_dados_ufv in c:\\users\\miguel\\anaconda3\\lib\\site-packages (1.0.10)\n"
     ]
    }
   ],
   "source": [
    "### NÃO REMOVA ESSA CÉLULA! ####\n",
    "!pip --no-cache-dir install --upgrade learntools_dados_ufv\n",
    "\n",
    "#!wget https://raw.githubusercontent.com/gfviegas/CCF425-resources/master/p5/OnlineRetail.xlsx"
   ]
  },
  {
   "cell_type": "code",
   "execution_count": 92,
   "metadata": {
    "id": "_X9J3UPRX7_6",
    "ExecuteTime": {
     "start_time": "2023-04-27T10:15:04.035963Z",
     "end_time": "2023-04-27T10:15:04.091367Z"
    }
   },
   "outputs": [
    {
     "name": "stderr",
     "output_type": "stream",
     "text": [
      "WARNING:root:Ignoring repeated attempt to bind to globals\n"
     ]
    }
   ],
   "source": [
    "#### Não altere essa célula!!! ####\n",
    "import pandas as pd\n",
    "\n",
    "\n",
    "from learntools_dados_ufv.core import binder; binder.bind(globals())\n",
    "from learntools_dados_ufv.ccf425.pratica_5 import *"
   ]
  },
  {
   "cell_type": "markdown",
   "metadata": {
    "id": "9C8PJRh1teUw"
   },
   "source": [
    "# Roteiro"
   ]
  },
  {
   "cell_type": "markdown",
   "metadata": {
    "id": "D0kzT1EoteUx"
   },
   "source": [
    "## Leitura dos dados\n",
    "Veja os dados do arquivo `OnlineRetail.xlsx`. \n",
    "\n",
    "Note que o arquivo é um Excel. A biblioteca consegue ler e o interpretar da mesma maneira que um CSV, como estamos acostumados.\n",
    "\n",
    "Note que a função usada é a `read_excel` e não a `read_csv`.\n",
    "\n",
    "É normal que demore um pouco, pois os arquivos em excel possuem muito mais recursos e dados armazenados do que um simples csv."
   ]
  },
  {
   "cell_type": "code",
   "execution_count": 93,
   "metadata": {
    "id": "Aneuk_GeteUx",
    "outputId": "060e86a6-bba0-4ebc-9a85-040e137be442",
    "ExecuteTime": {
     "start_time": "2023-04-27T10:15:04.050367Z",
     "end_time": "2023-04-27T10:15:54.645800Z"
    }
   },
   "outputs": [
    {
     "data": {
      "text/plain": "       InvoiceNo StockCode                          Description  Quantity  \\\n0         536365    85123A   WHITE HANGING HEART T-LIGHT HOLDER         6   \n1         536365     71053                  WHITE METAL LANTERN         6   \n2         536365    84406B       CREAM CUPID HEARTS COAT HANGER         8   \n3         536365    84029G  KNITTED UNION FLAG HOT WATER BOTTLE         6   \n4         536365    84029E       RED WOOLLY HOTTIE WHITE HEART.         6   \n...          ...       ...                                  ...       ...   \n541904    581587     22613          PACK OF 20 SPACEBOY NAPKINS        12   \n541905    581587     22899         CHILDREN'S APRON DOLLY GIRL          6   \n541906    581587     23254        CHILDRENS CUTLERY DOLLY GIRL          4   \n541907    581587     23255      CHILDRENS CUTLERY CIRCUS PARADE         4   \n541908    581587     22138        BAKING SET 9 PIECE RETROSPOT          3   \n\n               InvoiceDate  UnitPrice  CustomerID         Country  \n0      2010-12-01 08:26:00       2.55     17850.0  United Kingdom  \n1      2010-12-01 08:26:00       3.39     17850.0  United Kingdom  \n2      2010-12-01 08:26:00       2.75     17850.0  United Kingdom  \n3      2010-12-01 08:26:00       3.39     17850.0  United Kingdom  \n4      2010-12-01 08:26:00       3.39     17850.0  United Kingdom  \n...                    ...        ...         ...             ...  \n541904 2011-12-09 12:50:00       0.85     12680.0          France  \n541905 2011-12-09 12:50:00       2.10     12680.0          France  \n541906 2011-12-09 12:50:00       4.15     12680.0          France  \n541907 2011-12-09 12:50:00       4.15     12680.0          France  \n541908 2011-12-09 12:50:00       4.95     12680.0          France  \n\n[541909 rows x 8 columns]",
      "text/html": "<div>\n<style scoped>\n    .dataframe tbody tr th:only-of-type {\n        vertical-align: middle;\n    }\n\n    .dataframe tbody tr th {\n        vertical-align: top;\n    }\n\n    .dataframe thead th {\n        text-align: right;\n    }\n</style>\n<table border=\"1\" class=\"dataframe\">\n  <thead>\n    <tr style=\"text-align: right;\">\n      <th></th>\n      <th>InvoiceNo</th>\n      <th>StockCode</th>\n      <th>Description</th>\n      <th>Quantity</th>\n      <th>InvoiceDate</th>\n      <th>UnitPrice</th>\n      <th>CustomerID</th>\n      <th>Country</th>\n    </tr>\n  </thead>\n  <tbody>\n    <tr>\n      <th>0</th>\n      <td>536365</td>\n      <td>85123A</td>\n      <td>WHITE HANGING HEART T-LIGHT HOLDER</td>\n      <td>6</td>\n      <td>2010-12-01 08:26:00</td>\n      <td>2.55</td>\n      <td>17850.0</td>\n      <td>United Kingdom</td>\n    </tr>\n    <tr>\n      <th>1</th>\n      <td>536365</td>\n      <td>71053</td>\n      <td>WHITE METAL LANTERN</td>\n      <td>6</td>\n      <td>2010-12-01 08:26:00</td>\n      <td>3.39</td>\n      <td>17850.0</td>\n      <td>United Kingdom</td>\n    </tr>\n    <tr>\n      <th>2</th>\n      <td>536365</td>\n      <td>84406B</td>\n      <td>CREAM CUPID HEARTS COAT HANGER</td>\n      <td>8</td>\n      <td>2010-12-01 08:26:00</td>\n      <td>2.75</td>\n      <td>17850.0</td>\n      <td>United Kingdom</td>\n    </tr>\n    <tr>\n      <th>3</th>\n      <td>536365</td>\n      <td>84029G</td>\n      <td>KNITTED UNION FLAG HOT WATER BOTTLE</td>\n      <td>6</td>\n      <td>2010-12-01 08:26:00</td>\n      <td>3.39</td>\n      <td>17850.0</td>\n      <td>United Kingdom</td>\n    </tr>\n    <tr>\n      <th>4</th>\n      <td>536365</td>\n      <td>84029E</td>\n      <td>RED WOOLLY HOTTIE WHITE HEART.</td>\n      <td>6</td>\n      <td>2010-12-01 08:26:00</td>\n      <td>3.39</td>\n      <td>17850.0</td>\n      <td>United Kingdom</td>\n    </tr>\n    <tr>\n      <th>...</th>\n      <td>...</td>\n      <td>...</td>\n      <td>...</td>\n      <td>...</td>\n      <td>...</td>\n      <td>...</td>\n      <td>...</td>\n      <td>...</td>\n    </tr>\n    <tr>\n      <th>541904</th>\n      <td>581587</td>\n      <td>22613</td>\n      <td>PACK OF 20 SPACEBOY NAPKINS</td>\n      <td>12</td>\n      <td>2011-12-09 12:50:00</td>\n      <td>0.85</td>\n      <td>12680.0</td>\n      <td>France</td>\n    </tr>\n    <tr>\n      <th>541905</th>\n      <td>581587</td>\n      <td>22899</td>\n      <td>CHILDREN'S APRON DOLLY GIRL</td>\n      <td>6</td>\n      <td>2011-12-09 12:50:00</td>\n      <td>2.10</td>\n      <td>12680.0</td>\n      <td>France</td>\n    </tr>\n    <tr>\n      <th>541906</th>\n      <td>581587</td>\n      <td>23254</td>\n      <td>CHILDRENS CUTLERY DOLLY GIRL</td>\n      <td>4</td>\n      <td>2011-12-09 12:50:00</td>\n      <td>4.15</td>\n      <td>12680.0</td>\n      <td>France</td>\n    </tr>\n    <tr>\n      <th>541907</th>\n      <td>581587</td>\n      <td>23255</td>\n      <td>CHILDRENS CUTLERY CIRCUS PARADE</td>\n      <td>4</td>\n      <td>2011-12-09 12:50:00</td>\n      <td>4.15</td>\n      <td>12680.0</td>\n      <td>France</td>\n    </tr>\n    <tr>\n      <th>541908</th>\n      <td>581587</td>\n      <td>22138</td>\n      <td>BAKING SET 9 PIECE RETROSPOT</td>\n      <td>3</td>\n      <td>2011-12-09 12:50:00</td>\n      <td>4.95</td>\n      <td>12680.0</td>\n      <td>France</td>\n    </tr>\n  </tbody>\n</table>\n<p>541909 rows × 8 columns</p>\n</div>"
     },
     "execution_count": 93,
     "metadata": {},
     "output_type": "execute_result"
    }
   ],
   "source": [
    "df = pd.read_excel('./OnlineRetail.xlsx')\n",
    "df"
   ]
  },
  {
   "cell_type": "markdown",
   "metadata": {
    "id": "fWiTVetsteUy"
   },
   "source": [
    "## Explorar os dados\n",
    "\n",
    "### Verificar quais atributos (colunas) fazem parte dos dados"
   ]
  },
  {
   "cell_type": "code",
   "execution_count": 94,
   "metadata": {
    "id": "O0yaWgmWteUz",
    "outputId": "6735e6a0-8925-4c41-dead-78fd81b124df",
    "ExecuteTime": {
     "start_time": "2023-04-27T10:15:54.645800Z",
     "end_time": "2023-04-27T10:15:54.734901Z"
    }
   },
   "outputs": [
    {
     "data": {
      "text/plain": "Index(['InvoiceNo', 'StockCode', 'Description', 'Quantity', 'InvoiceDate',\n       'UnitPrice', 'CustomerID', 'Country'],\n      dtype='object')"
     },
     "execution_count": 94,
     "metadata": {},
     "output_type": "execute_result"
    }
   ],
   "source": [
    "df.columns"
   ]
  },
  {
   "cell_type": "markdown",
   "metadata": {
    "id": "1VmW21v_teUz"
   },
   "source": [
    "### Verificar o tipo de cada atributo"
   ]
  },
  {
   "cell_type": "code",
   "execution_count": 95,
   "metadata": {
    "id": "WztwC6p0teU0",
    "outputId": "7aa67681-f24a-4f91-b147-bdeceb016abd",
    "ExecuteTime": {
     "start_time": "2023-04-27T10:15:54.669312Z",
     "end_time": "2023-04-27T10:15:54.847082Z"
    }
   },
   "outputs": [
    {
     "data": {
      "text/plain": "InvoiceNo              object\nStockCode              object\nDescription            object\nQuantity                int64\nInvoiceDate    datetime64[ns]\nUnitPrice             float64\nCustomerID            float64\nCountry                object\ndtype: object"
     },
     "execution_count": 95,
     "metadata": {},
     "output_type": "execute_result"
    }
   ],
   "source": [
    "df.dtypes"
   ]
  },
  {
   "cell_type": "markdown",
   "metadata": {
    "id": "WlLgQixmteU0"
   },
   "source": [
    "### Avaliar alguns objetos"
   ]
  },
  {
   "cell_type": "code",
   "execution_count": 96,
   "metadata": {
    "id": "jruWcu14teU1",
    "outputId": "309d732c-c6e4-412f-86d3-714e88f43a86",
    "ExecuteTime": {
     "start_time": "2023-04-27T10:15:54.694218Z",
     "end_time": "2023-04-27T10:15:54.860333Z"
    }
   },
   "outputs": [
    {
     "data": {
      "text/plain": "  InvoiceNo StockCode                          Description  Quantity  \\\n0    536365    85123A   WHITE HANGING HEART T-LIGHT HOLDER         6   \n1    536365     71053                  WHITE METAL LANTERN         6   \n2    536365    84406B       CREAM CUPID HEARTS COAT HANGER         8   \n3    536365    84029G  KNITTED UNION FLAG HOT WATER BOTTLE         6   \n4    536365    84029E       RED WOOLLY HOTTIE WHITE HEART.         6   \n\n          InvoiceDate  UnitPrice  CustomerID         Country  \n0 2010-12-01 08:26:00       2.55     17850.0  United Kingdom  \n1 2010-12-01 08:26:00       3.39     17850.0  United Kingdom  \n2 2010-12-01 08:26:00       2.75     17850.0  United Kingdom  \n3 2010-12-01 08:26:00       3.39     17850.0  United Kingdom  \n4 2010-12-01 08:26:00       3.39     17850.0  United Kingdom  ",
      "text/html": "<div>\n<style scoped>\n    .dataframe tbody tr th:only-of-type {\n        vertical-align: middle;\n    }\n\n    .dataframe tbody tr th {\n        vertical-align: top;\n    }\n\n    .dataframe thead th {\n        text-align: right;\n    }\n</style>\n<table border=\"1\" class=\"dataframe\">\n  <thead>\n    <tr style=\"text-align: right;\">\n      <th></th>\n      <th>InvoiceNo</th>\n      <th>StockCode</th>\n      <th>Description</th>\n      <th>Quantity</th>\n      <th>InvoiceDate</th>\n      <th>UnitPrice</th>\n      <th>CustomerID</th>\n      <th>Country</th>\n    </tr>\n  </thead>\n  <tbody>\n    <tr>\n      <th>0</th>\n      <td>536365</td>\n      <td>85123A</td>\n      <td>WHITE HANGING HEART T-LIGHT HOLDER</td>\n      <td>6</td>\n      <td>2010-12-01 08:26:00</td>\n      <td>2.55</td>\n      <td>17850.0</td>\n      <td>United Kingdom</td>\n    </tr>\n    <tr>\n      <th>1</th>\n      <td>536365</td>\n      <td>71053</td>\n      <td>WHITE METAL LANTERN</td>\n      <td>6</td>\n      <td>2010-12-01 08:26:00</td>\n      <td>3.39</td>\n      <td>17850.0</td>\n      <td>United Kingdom</td>\n    </tr>\n    <tr>\n      <th>2</th>\n      <td>536365</td>\n      <td>84406B</td>\n      <td>CREAM CUPID HEARTS COAT HANGER</td>\n      <td>8</td>\n      <td>2010-12-01 08:26:00</td>\n      <td>2.75</td>\n      <td>17850.0</td>\n      <td>United Kingdom</td>\n    </tr>\n    <tr>\n      <th>3</th>\n      <td>536365</td>\n      <td>84029G</td>\n      <td>KNITTED UNION FLAG HOT WATER BOTTLE</td>\n      <td>6</td>\n      <td>2010-12-01 08:26:00</td>\n      <td>3.39</td>\n      <td>17850.0</td>\n      <td>United Kingdom</td>\n    </tr>\n    <tr>\n      <th>4</th>\n      <td>536365</td>\n      <td>84029E</td>\n      <td>RED WOOLLY HOTTIE WHITE HEART.</td>\n      <td>6</td>\n      <td>2010-12-01 08:26:00</td>\n      <td>3.39</td>\n      <td>17850.0</td>\n      <td>United Kingdom</td>\n    </tr>\n  </tbody>\n</table>\n</div>"
     },
     "execution_count": 96,
     "metadata": {},
     "output_type": "execute_result"
    }
   ],
   "source": [
    "# Veja os 5 primeiros registros\n",
    "df.head(5)"
   ]
  },
  {
   "cell_type": "code",
   "execution_count": 97,
   "metadata": {
    "id": "1UPVjhzhteU1",
    "outputId": "ace876d9-2f3f-47e7-8a65-cc8265943312",
    "ExecuteTime": {
     "start_time": "2023-04-27T10:15:54.727532Z",
     "end_time": "2023-04-27T10:15:55.049765Z"
    }
   },
   "outputs": [
    {
     "data": {
      "text/plain": "       InvoiceNo StockCode                      Description  Quantity  \\\n541899    581587     22726       ALARM CLOCK BAKELIKE GREEN         4   \n541900    581587     22730       ALARM CLOCK BAKELIKE IVORY         4   \n541901    581587     22367  CHILDRENS APRON SPACEBOY DESIGN         8   \n541902    581587     22629              SPACEBOY LUNCH BOX         12   \n541903    581587     23256      CHILDRENS CUTLERY SPACEBOY          4   \n541904    581587     22613      PACK OF 20 SPACEBOY NAPKINS        12   \n541905    581587     22899     CHILDREN'S APRON DOLLY GIRL          6   \n541906    581587     23254    CHILDRENS CUTLERY DOLLY GIRL          4   \n541907    581587     23255  CHILDRENS CUTLERY CIRCUS PARADE         4   \n541908    581587     22138    BAKING SET 9 PIECE RETROSPOT          3   \n\n               InvoiceDate  UnitPrice  CustomerID Country  \n541899 2011-12-09 12:50:00       3.75     12680.0  France  \n541900 2011-12-09 12:50:00       3.75     12680.0  France  \n541901 2011-12-09 12:50:00       1.95     12680.0  France  \n541902 2011-12-09 12:50:00       1.95     12680.0  France  \n541903 2011-12-09 12:50:00       4.15     12680.0  France  \n541904 2011-12-09 12:50:00       0.85     12680.0  France  \n541905 2011-12-09 12:50:00       2.10     12680.0  France  \n541906 2011-12-09 12:50:00       4.15     12680.0  France  \n541907 2011-12-09 12:50:00       4.15     12680.0  France  \n541908 2011-12-09 12:50:00       4.95     12680.0  France  ",
      "text/html": "<div>\n<style scoped>\n    .dataframe tbody tr th:only-of-type {\n        vertical-align: middle;\n    }\n\n    .dataframe tbody tr th {\n        vertical-align: top;\n    }\n\n    .dataframe thead th {\n        text-align: right;\n    }\n</style>\n<table border=\"1\" class=\"dataframe\">\n  <thead>\n    <tr style=\"text-align: right;\">\n      <th></th>\n      <th>InvoiceNo</th>\n      <th>StockCode</th>\n      <th>Description</th>\n      <th>Quantity</th>\n      <th>InvoiceDate</th>\n      <th>UnitPrice</th>\n      <th>CustomerID</th>\n      <th>Country</th>\n    </tr>\n  </thead>\n  <tbody>\n    <tr>\n      <th>541899</th>\n      <td>581587</td>\n      <td>22726</td>\n      <td>ALARM CLOCK BAKELIKE GREEN</td>\n      <td>4</td>\n      <td>2011-12-09 12:50:00</td>\n      <td>3.75</td>\n      <td>12680.0</td>\n      <td>France</td>\n    </tr>\n    <tr>\n      <th>541900</th>\n      <td>581587</td>\n      <td>22730</td>\n      <td>ALARM CLOCK BAKELIKE IVORY</td>\n      <td>4</td>\n      <td>2011-12-09 12:50:00</td>\n      <td>3.75</td>\n      <td>12680.0</td>\n      <td>France</td>\n    </tr>\n    <tr>\n      <th>541901</th>\n      <td>581587</td>\n      <td>22367</td>\n      <td>CHILDRENS APRON SPACEBOY DESIGN</td>\n      <td>8</td>\n      <td>2011-12-09 12:50:00</td>\n      <td>1.95</td>\n      <td>12680.0</td>\n      <td>France</td>\n    </tr>\n    <tr>\n      <th>541902</th>\n      <td>581587</td>\n      <td>22629</td>\n      <td>SPACEBOY LUNCH BOX</td>\n      <td>12</td>\n      <td>2011-12-09 12:50:00</td>\n      <td>1.95</td>\n      <td>12680.0</td>\n      <td>France</td>\n    </tr>\n    <tr>\n      <th>541903</th>\n      <td>581587</td>\n      <td>23256</td>\n      <td>CHILDRENS CUTLERY SPACEBOY</td>\n      <td>4</td>\n      <td>2011-12-09 12:50:00</td>\n      <td>4.15</td>\n      <td>12680.0</td>\n      <td>France</td>\n    </tr>\n    <tr>\n      <th>541904</th>\n      <td>581587</td>\n      <td>22613</td>\n      <td>PACK OF 20 SPACEBOY NAPKINS</td>\n      <td>12</td>\n      <td>2011-12-09 12:50:00</td>\n      <td>0.85</td>\n      <td>12680.0</td>\n      <td>France</td>\n    </tr>\n    <tr>\n      <th>541905</th>\n      <td>581587</td>\n      <td>22899</td>\n      <td>CHILDREN'S APRON DOLLY GIRL</td>\n      <td>6</td>\n      <td>2011-12-09 12:50:00</td>\n      <td>2.10</td>\n      <td>12680.0</td>\n      <td>France</td>\n    </tr>\n    <tr>\n      <th>541906</th>\n      <td>581587</td>\n      <td>23254</td>\n      <td>CHILDRENS CUTLERY DOLLY GIRL</td>\n      <td>4</td>\n      <td>2011-12-09 12:50:00</td>\n      <td>4.15</td>\n      <td>12680.0</td>\n      <td>France</td>\n    </tr>\n    <tr>\n      <th>541907</th>\n      <td>581587</td>\n      <td>23255</td>\n      <td>CHILDRENS CUTLERY CIRCUS PARADE</td>\n      <td>4</td>\n      <td>2011-12-09 12:50:00</td>\n      <td>4.15</td>\n      <td>12680.0</td>\n      <td>France</td>\n    </tr>\n    <tr>\n      <th>541908</th>\n      <td>581587</td>\n      <td>22138</td>\n      <td>BAKING SET 9 PIECE RETROSPOT</td>\n      <td>3</td>\n      <td>2011-12-09 12:50:00</td>\n      <td>4.95</td>\n      <td>12680.0</td>\n      <td>France</td>\n    </tr>\n  </tbody>\n</table>\n</div>"
     },
     "execution_count": 97,
     "metadata": {},
     "output_type": "execute_result"
    }
   ],
   "source": [
    "# Veja os 10 últimos registros\n",
    "df.tail(10)"
   ]
  },
  {
   "cell_type": "markdown",
   "metadata": {
    "id": "G4er4EYKteU2"
   },
   "source": [
    "### Calcular o número de objetos"
   ]
  },
  {
   "cell_type": "code",
   "execution_count": 98,
   "metadata": {
    "id": "vLPgctd3teU2",
    "outputId": "75800f14-134b-4388-d317-cea2470722b2",
    "ExecuteTime": {
     "start_time": "2023-04-27T10:15:54.757412Z",
     "end_time": "2023-04-27T10:15:55.063657Z"
    }
   },
   "outputs": [
    {
     "data": {
      "text/plain": "541909"
     },
     "execution_count": 98,
     "metadata": {},
     "output_type": "execute_result"
    }
   ],
   "source": [
    "# Número de instâncias/objetos/linhas\n",
    "len(df)"
   ]
  },
  {
   "cell_type": "markdown",
   "metadata": {
    "id": "d3f_GtKmteU2"
   },
   "source": [
    "### Verificar a forma (instâncias, atributos)"
   ]
  },
  {
   "cell_type": "code",
   "execution_count": 99,
   "metadata": {
    "id": "LNRMplwZteU3",
    "outputId": "94d9b101-58a6-4894-d8c2-93e466f0acf2",
    "ExecuteTime": {
     "start_time": "2023-04-27T10:15:54.786130Z",
     "end_time": "2023-04-27T10:15:55.065620Z"
    }
   },
   "outputs": [
    {
     "data": {
      "text/plain": "(541909, 8)"
     },
     "execution_count": 99,
     "metadata": {},
     "output_type": "execute_result"
    }
   ],
   "source": [
    "# O primeiro elemento da tupla é a quantidade de instâncias, e o segundo elemento a quantidade de atributos/colunas\n",
    "df.shape"
   ]
  },
  {
   "cell_type": "markdown",
   "metadata": {
    "id": "hb0VTR1bteU3"
   },
   "source": [
    "### Contar objetos de cada valor distinto para um atributo"
   ]
  },
  {
   "cell_type": "code",
   "execution_count": 100,
   "metadata": {
    "id": "jnjBw0aNteU3",
    "outputId": "ecb89c24-40df-45fa-df55-e0be08d25b55",
    "ExecuteTime": {
     "start_time": "2023-04-27T10:15:54.802021Z",
     "end_time": "2023-04-27T10:15:55.152769Z"
    }
   },
   "outputs": [
    {
     "data": {
      "text/plain": "WHITE HANGING HEART T-LIGHT HOLDER     2369\nREGENCY CAKESTAND 3 TIER               2200\nJUMBO BAG RED RETROSPOT                2159\nPARTY BUNTING                          1727\nLUNCH BAG RED RETROSPOT                1638\n                                       ... \nMissing                                   1\nhistoric computer difference?....se       1\nDUSTY PINK CHRISTMAS TREE 30CM            1\nWRAP BLUE RUSSIAN FOLKART                 1\nPINK BERTIE MOBILE PHONE CHARM            1\nName: Description, Length: 4223, dtype: int64"
     },
     "execution_count": 100,
     "metadata": {},
     "output_type": "execute_result"
    }
   ],
   "source": [
    "# Conta quantas vezes cada item aparece em uma coluna\n",
    "df['Description'].value_counts()"
   ]
  },
  {
   "cell_type": "markdown",
   "metadata": {
    "id": "0LOCSaaDteU4"
   },
   "source": [
    "### Mostrar a taxa de objetos de cada valor distinto para um atributo"
   ]
  },
  {
   "cell_type": "code",
   "execution_count": 101,
   "metadata": {
    "id": "9kExoYNeteU4",
    "outputId": "44fb03e6-a574-417a-a92c-57235744a50b",
    "ExecuteTime": {
     "start_time": "2023-04-27T10:15:54.995732Z",
     "end_time": "2023-04-27T10:15:55.157290Z"
    }
   },
   "outputs": [
    {
     "data": {
      "text/plain": "WHITE HANGING HEART T-LIGHT HOLDER     0.004383\nREGENCY CAKESTAND 3 TIER               0.004071\nJUMBO BAG RED RETROSPOT                0.003995\nPARTY BUNTING                          0.003195\nLUNCH BAG RED RETROSPOT                0.003031\n                                         ...   \nMissing                                0.000002\nhistoric computer difference?....se    0.000002\nDUSTY PINK CHRISTMAS TREE 30CM         0.000002\nWRAP BLUE RUSSIAN FOLKART              0.000002\nPINK BERTIE MOBILE PHONE CHARM         0.000002\nName: Description, Length: 4223, dtype: float64"
     },
     "execution_count": 101,
     "metadata": {},
     "output_type": "execute_result"
    }
   ],
   "source": [
    "# Faz a normalização com o percentual de cada valor\n",
    "df['Description'].value_counts(normalize=True)"
   ]
  },
  {
   "cell_type": "markdown",
   "metadata": {
    "id": "IVQ85aptteU4"
   },
   "source": [
    "### Verificar quantos valores ausentes existes em um atributo"
   ]
  },
  {
   "cell_type": "code",
   "execution_count": 102,
   "metadata": {
    "id": "7PCDTRvoteU5",
    "outputId": "b2e94975-0cb4-4dad-b9b3-9d5be600af80",
    "ExecuteTime": {
     "start_time": "2023-04-27T10:15:55.095347Z",
     "end_time": "2023-04-27T10:15:55.365800Z"
    }
   },
   "outputs": [
    {
     "data": {
      "text/plain": "False    540455\nTrue       1454\nName: Description, dtype: int64"
     },
     "execution_count": 102,
     "metadata": {},
     "output_type": "execute_result"
    }
   ],
   "source": [
    "# A função retorna se os valores são nulos ou não. Ou seja, False == existe um valor para a linha | True == o valor é nulo.\n",
    "pd.isnull(df['Description']).value_counts()"
   ]
  },
  {
   "cell_type": "markdown",
   "metadata": {
    "id": "FH4giaWmteU5"
   },
   "source": [
    "### Apagar os objetos com valores nulos/ausentes de alguma coluna"
   ]
  },
  {
   "cell_type": "code",
   "execution_count": 103,
   "metadata": {
    "id": "lwvB4TvpteU5",
    "outputId": "b36fa7f1-7c01-4f0c-c7d3-c862d9d93e16",
    "ExecuteTime": {
     "start_time": "2023-04-27T10:15:55.113860Z",
     "end_time": "2023-04-27T10:15:55.472424Z"
    }
   },
   "outputs": [
    {
     "data": {
      "text/plain": "False    540455\nName: Description, dtype: int64"
     },
     "execution_count": 103,
     "metadata": {},
     "output_type": "execute_result"
    }
   ],
   "source": [
    "df = df.dropna(axis=0, subset=['Description'])\n",
    "pd.isnull(df['Description']).value_counts()"
   ]
  },
  {
   "cell_type": "markdown",
   "metadata": {
    "id": "r3KDJrYhteU5"
   },
   "source": [
    "### Filtrar por índice da linha"
   ]
  },
  {
   "cell_type": "code",
   "execution_count": 104,
   "metadata": {
    "id": "206S1LgUteU6",
    "outputId": "f1bce178-004d-4ee3-dc1f-146683c5e1ef",
    "ExecuteTime": {
     "start_time": "2023-04-27T10:15:55.334665Z",
     "end_time": "2023-04-27T10:15:55.476435Z"
    }
   },
   "outputs": [
    {
     "data": {
      "text/plain": "InvoiceNo                              536365\nStockCode                              84406B\nDescription    CREAM CUPID HEARTS COAT HANGER\nQuantity                                    8\nInvoiceDate               2010-12-01 08:26:00\nUnitPrice                                2.75\nCustomerID                            17850.0\nCountry                        United Kingdom\nName: 2, dtype: object"
     },
     "execution_count": 104,
     "metadata": {},
     "output_type": "execute_result"
    }
   ],
   "source": [
    "df.loc[2]"
   ]
  },
  {
   "cell_type": "markdown",
   "metadata": {
    "id": "O8I-aW89teU6"
   },
   "source": [
    "### Filtrar por faixa de índices"
   ]
  },
  {
   "cell_type": "code",
   "execution_count": 105,
   "metadata": {
    "id": "ziqnsxCjteU6",
    "outputId": "cb154d2b-b459-4c08-9165-f2320831b07a",
    "ExecuteTime": {
     "start_time": "2023-04-27T10:15:55.370833Z",
     "end_time": "2023-04-27T10:15:55.627091Z"
    }
   },
   "outputs": [
    {
     "data": {
      "text/plain": "  InvoiceNo StockCode                          Description  Quantity  \\\n2    536365    84406B       CREAM CUPID HEARTS COAT HANGER         8   \n3    536365    84029G  KNITTED UNION FLAG HOT WATER BOTTLE         6   \n4    536365    84029E       RED WOOLLY HOTTIE WHITE HEART.         6   \n5    536365     22752         SET 7 BABUSHKA NESTING BOXES         2   \n6    536365     21730    GLASS STAR FROSTED T-LIGHT HOLDER         6   \n7    536366     22633               HAND WARMER UNION JACK         6   \n\n          InvoiceDate  UnitPrice  CustomerID         Country  \n2 2010-12-01 08:26:00       2.75     17850.0  United Kingdom  \n3 2010-12-01 08:26:00       3.39     17850.0  United Kingdom  \n4 2010-12-01 08:26:00       3.39     17850.0  United Kingdom  \n5 2010-12-01 08:26:00       7.65     17850.0  United Kingdom  \n6 2010-12-01 08:26:00       4.25     17850.0  United Kingdom  \n7 2010-12-01 08:28:00       1.85     17850.0  United Kingdom  ",
      "text/html": "<div>\n<style scoped>\n    .dataframe tbody tr th:only-of-type {\n        vertical-align: middle;\n    }\n\n    .dataframe tbody tr th {\n        vertical-align: top;\n    }\n\n    .dataframe thead th {\n        text-align: right;\n    }\n</style>\n<table border=\"1\" class=\"dataframe\">\n  <thead>\n    <tr style=\"text-align: right;\">\n      <th></th>\n      <th>InvoiceNo</th>\n      <th>StockCode</th>\n      <th>Description</th>\n      <th>Quantity</th>\n      <th>InvoiceDate</th>\n      <th>UnitPrice</th>\n      <th>CustomerID</th>\n      <th>Country</th>\n    </tr>\n  </thead>\n  <tbody>\n    <tr>\n      <th>2</th>\n      <td>536365</td>\n      <td>84406B</td>\n      <td>CREAM CUPID HEARTS COAT HANGER</td>\n      <td>8</td>\n      <td>2010-12-01 08:26:00</td>\n      <td>2.75</td>\n      <td>17850.0</td>\n      <td>United Kingdom</td>\n    </tr>\n    <tr>\n      <th>3</th>\n      <td>536365</td>\n      <td>84029G</td>\n      <td>KNITTED UNION FLAG HOT WATER BOTTLE</td>\n      <td>6</td>\n      <td>2010-12-01 08:26:00</td>\n      <td>3.39</td>\n      <td>17850.0</td>\n      <td>United Kingdom</td>\n    </tr>\n    <tr>\n      <th>4</th>\n      <td>536365</td>\n      <td>84029E</td>\n      <td>RED WOOLLY HOTTIE WHITE HEART.</td>\n      <td>6</td>\n      <td>2010-12-01 08:26:00</td>\n      <td>3.39</td>\n      <td>17850.0</td>\n      <td>United Kingdom</td>\n    </tr>\n    <tr>\n      <th>5</th>\n      <td>536365</td>\n      <td>22752</td>\n      <td>SET 7 BABUSHKA NESTING BOXES</td>\n      <td>2</td>\n      <td>2010-12-01 08:26:00</td>\n      <td>7.65</td>\n      <td>17850.0</td>\n      <td>United Kingdom</td>\n    </tr>\n    <tr>\n      <th>6</th>\n      <td>536365</td>\n      <td>21730</td>\n      <td>GLASS STAR FROSTED T-LIGHT HOLDER</td>\n      <td>6</td>\n      <td>2010-12-01 08:26:00</td>\n      <td>4.25</td>\n      <td>17850.0</td>\n      <td>United Kingdom</td>\n    </tr>\n    <tr>\n      <th>7</th>\n      <td>536366</td>\n      <td>22633</td>\n      <td>HAND WARMER UNION JACK</td>\n      <td>6</td>\n      <td>2010-12-01 08:28:00</td>\n      <td>1.85</td>\n      <td>17850.0</td>\n      <td>United Kingdom</td>\n    </tr>\n  </tbody>\n</table>\n</div>"
     },
     "execution_count": 105,
     "metadata": {},
     "output_type": "execute_result"
    }
   ],
   "source": [
    "df[2:8]"
   ]
  },
  {
   "cell_type": "markdown",
   "metadata": {
    "id": "OHG1oAEhteU6"
   },
   "source": [
    "### Filtrar pelo nome de uma coluna "
   ]
  },
  {
   "cell_type": "code",
   "execution_count": 106,
   "metadata": {
    "id": "3gyUO7i5teU7",
    "outputId": "844a841c-e16d-431c-ce02-e8e2a745e5fa",
    "ExecuteTime": {
     "start_time": "2023-04-27T10:15:55.403479Z",
     "end_time": "2023-04-27T10:15:55.627091Z"
    }
   },
   "outputs": [
    {
     "data": {
      "text/plain": "0     WHITE HANGING HEART T-LIGHT HOLDER\n1                    WHITE METAL LANTERN\n2         CREAM CUPID HEARTS COAT HANGER\n3    KNITTED UNION FLAG HOT WATER BOTTLE\n4         RED WOOLLY HOTTIE WHITE HEART.\nName: Description, dtype: object"
     },
     "execution_count": 106,
     "metadata": {},
     "output_type": "execute_result"
    }
   ],
   "source": [
    "# Recupera somente a descrição dos 5 primeiros registros\n",
    "df['Description'].head(5)"
   ]
  },
  {
   "cell_type": "markdown",
   "metadata": {
    "id": "RSvBW0cMteU7"
   },
   "source": [
    "### Filtrar por mais de uma coluna"
   ]
  },
  {
   "cell_type": "code",
   "execution_count": 107,
   "metadata": {
    "id": "CaG21jAeteU7",
    "outputId": "681910ee-af0d-47ea-f700-2df0aaa3d398",
    "ExecuteTime": {
     "start_time": "2023-04-27T10:15:55.418501Z",
     "end_time": "2023-04-27T10:15:55.627091Z"
    }
   },
   "outputs": [
    {
     "data": {
      "text/plain": "                           Description InvoiceNo\n0   WHITE HANGING HEART T-LIGHT HOLDER    536365\n1                  WHITE METAL LANTERN    536365\n2       CREAM CUPID HEARTS COAT HANGER    536365\n3  KNITTED UNION FLAG HOT WATER BOTTLE    536365\n4       RED WOOLLY HOTTIE WHITE HEART.    536365",
      "text/html": "<div>\n<style scoped>\n    .dataframe tbody tr th:only-of-type {\n        vertical-align: middle;\n    }\n\n    .dataframe tbody tr th {\n        vertical-align: top;\n    }\n\n    .dataframe thead th {\n        text-align: right;\n    }\n</style>\n<table border=\"1\" class=\"dataframe\">\n  <thead>\n    <tr style=\"text-align: right;\">\n      <th></th>\n      <th>Description</th>\n      <th>InvoiceNo</th>\n    </tr>\n  </thead>\n  <tbody>\n    <tr>\n      <th>0</th>\n      <td>WHITE HANGING HEART T-LIGHT HOLDER</td>\n      <td>536365</td>\n    </tr>\n    <tr>\n      <th>1</th>\n      <td>WHITE METAL LANTERN</td>\n      <td>536365</td>\n    </tr>\n    <tr>\n      <th>2</th>\n      <td>CREAM CUPID HEARTS COAT HANGER</td>\n      <td>536365</td>\n    </tr>\n    <tr>\n      <th>3</th>\n      <td>KNITTED UNION FLAG HOT WATER BOTTLE</td>\n      <td>536365</td>\n    </tr>\n    <tr>\n      <th>4</th>\n      <td>RED WOOLLY HOTTIE WHITE HEART.</td>\n      <td>536365</td>\n    </tr>\n  </tbody>\n</table>\n</div>"
     },
     "execution_count": 107,
     "metadata": {},
     "output_type": "execute_result"
    }
   ],
   "source": [
    "df[['Description', 'InvoiceNo']].head(5)"
   ]
  },
  {
   "cell_type": "markdown",
   "metadata": {
    "id": "_ui7rUN_teU7"
   },
   "source": [
    "### Filtrar por índice de linha em uma coluna específica"
   ]
  },
  {
   "cell_type": "code",
   "execution_count": 108,
   "metadata": {
    "id": "Gc1jZUVyteU7",
    "outputId": "a6198bb9-f382-46e9-e33b-a1bfc2ce824b",
    "ExecuteTime": {
     "start_time": "2023-04-27T10:15:55.461307Z",
     "end_time": "2023-04-27T10:15:55.627091Z"
    }
   },
   "outputs": [
    {
     "data": {
      "text/plain": "'SET 7 BABUSHKA NESTING BOXES'"
     },
     "execution_count": 108,
     "metadata": {},
     "output_type": "execute_result"
    }
   ],
   "source": [
    "# Qual o valor da coluna \"Description\" na 5ª linha?\n",
    "df.loc[5, 'Description']"
   ]
  },
  {
   "cell_type": "markdown",
   "metadata": {
    "id": "--nbwOwFteU8"
   },
   "source": [
    "### Filtrar pelos valores de uma coluna"
   ]
  },
  {
   "cell_type": "code",
   "execution_count": 109,
   "metadata": {
    "id": "tAbP2Ho2teU8",
    "outputId": "be621a81-d563-4d16-9550-cff1a8a01df1",
    "ExecuteTime": {
     "start_time": "2023-04-27T10:15:55.472424Z",
     "end_time": "2023-04-27T10:15:55.657545Z"
    }
   },
   "outputs": [
    {
     "data": {
      "text/plain": "       InvoiceNo StockCode                       Description  Quantity  \\\n157299    550201     22423          REGENCY CAKESTAND 3 TIER        16   \n157300    550201     22699  ROSES REGENCY TEACUP AND SAUCER         24   \n157301    550201     22697   GREEN REGENCY TEACUP AND SAUCER        24   \n157302    550201     22698    PINK REGENCY TEACUP AND SAUCER        24   \n157303    550201     22366                  DOORMAT AIRMAIL         10   \n\n               InvoiceDate  UnitPrice  CustomerID Country  \n157299 2011-04-15 10:25:00      10.95     12769.0  Brazil  \n157300 2011-04-15 10:25:00       2.55     12769.0  Brazil  \n157301 2011-04-15 10:25:00       2.55     12769.0  Brazil  \n157302 2011-04-15 10:25:00       2.55     12769.0  Brazil  \n157303 2011-04-15 10:25:00       6.75     12769.0  Brazil  ",
      "text/html": "<div>\n<style scoped>\n    .dataframe tbody tr th:only-of-type {\n        vertical-align: middle;\n    }\n\n    .dataframe tbody tr th {\n        vertical-align: top;\n    }\n\n    .dataframe thead th {\n        text-align: right;\n    }\n</style>\n<table border=\"1\" class=\"dataframe\">\n  <thead>\n    <tr style=\"text-align: right;\">\n      <th></th>\n      <th>InvoiceNo</th>\n      <th>StockCode</th>\n      <th>Description</th>\n      <th>Quantity</th>\n      <th>InvoiceDate</th>\n      <th>UnitPrice</th>\n      <th>CustomerID</th>\n      <th>Country</th>\n    </tr>\n  </thead>\n  <tbody>\n    <tr>\n      <th>157299</th>\n      <td>550201</td>\n      <td>22423</td>\n      <td>REGENCY CAKESTAND 3 TIER</td>\n      <td>16</td>\n      <td>2011-04-15 10:25:00</td>\n      <td>10.95</td>\n      <td>12769.0</td>\n      <td>Brazil</td>\n    </tr>\n    <tr>\n      <th>157300</th>\n      <td>550201</td>\n      <td>22699</td>\n      <td>ROSES REGENCY TEACUP AND SAUCER</td>\n      <td>24</td>\n      <td>2011-04-15 10:25:00</td>\n      <td>2.55</td>\n      <td>12769.0</td>\n      <td>Brazil</td>\n    </tr>\n    <tr>\n      <th>157301</th>\n      <td>550201</td>\n      <td>22697</td>\n      <td>GREEN REGENCY TEACUP AND SAUCER</td>\n      <td>24</td>\n      <td>2011-04-15 10:25:00</td>\n      <td>2.55</td>\n      <td>12769.0</td>\n      <td>Brazil</td>\n    </tr>\n    <tr>\n      <th>157302</th>\n      <td>550201</td>\n      <td>22698</td>\n      <td>PINK REGENCY TEACUP AND SAUCER</td>\n      <td>24</td>\n      <td>2011-04-15 10:25:00</td>\n      <td>2.55</td>\n      <td>12769.0</td>\n      <td>Brazil</td>\n    </tr>\n    <tr>\n      <th>157303</th>\n      <td>550201</td>\n      <td>22366</td>\n      <td>DOORMAT AIRMAIL</td>\n      <td>10</td>\n      <td>2011-04-15 10:25:00</td>\n      <td>6.75</td>\n      <td>12769.0</td>\n      <td>Brazil</td>\n    </tr>\n  </tbody>\n</table>\n</div>"
     },
     "execution_count": 109,
     "metadata": {},
     "output_type": "execute_result"
    }
   ],
   "source": [
    "df[df['Country'] == 'Brazil'].head()"
   ]
  },
  {
   "cell_type": "markdown",
   "metadata": {
    "id": "hRLQv-l1teU8"
   },
   "source": [
    "### Filtrar utilizando expressões lógicas"
   ]
  },
  {
   "cell_type": "code",
   "execution_count": 110,
   "metadata": {
    "id": "em3BIJoGteU8",
    "outputId": "cf09f2fa-601d-4061-df03-6555700a746d",
    "ExecuteTime": {
     "start_time": "2023-04-27T10:15:55.559299Z",
     "end_time": "2023-04-27T10:15:55.671690Z"
    }
   },
   "outputs": [
    {
     "data": {
      "text/plain": "       InvoiceNo StockCode                         Description  Quantity  \\\n157299    550201     22423            REGENCY CAKESTAND 3 TIER        16   \n157300    550201     22699    ROSES REGENCY TEACUP AND SAUCER         24   \n157301    550201     22697     GREEN REGENCY TEACUP AND SAUCER        24   \n157302    550201     22698      PINK REGENCY TEACUP AND SAUCER        24   \n157304    550201     21430  SET/3 RED GINGHAM ROSE STORAGE BOX        24   \n\n               InvoiceDate  UnitPrice  CustomerID Country  \n157299 2011-04-15 10:25:00      10.95     12769.0  Brazil  \n157300 2011-04-15 10:25:00       2.55     12769.0  Brazil  \n157301 2011-04-15 10:25:00       2.55     12769.0  Brazil  \n157302 2011-04-15 10:25:00       2.55     12769.0  Brazil  \n157304 2011-04-15 10:25:00       3.39     12769.0  Brazil  ",
      "text/html": "<div>\n<style scoped>\n    .dataframe tbody tr th:only-of-type {\n        vertical-align: middle;\n    }\n\n    .dataframe tbody tr th {\n        vertical-align: top;\n    }\n\n    .dataframe thead th {\n        text-align: right;\n    }\n</style>\n<table border=\"1\" class=\"dataframe\">\n  <thead>\n    <tr style=\"text-align: right;\">\n      <th></th>\n      <th>InvoiceNo</th>\n      <th>StockCode</th>\n      <th>Description</th>\n      <th>Quantity</th>\n      <th>InvoiceDate</th>\n      <th>UnitPrice</th>\n      <th>CustomerID</th>\n      <th>Country</th>\n    </tr>\n  </thead>\n  <tbody>\n    <tr>\n      <th>157299</th>\n      <td>550201</td>\n      <td>22423</td>\n      <td>REGENCY CAKESTAND 3 TIER</td>\n      <td>16</td>\n      <td>2011-04-15 10:25:00</td>\n      <td>10.95</td>\n      <td>12769.0</td>\n      <td>Brazil</td>\n    </tr>\n    <tr>\n      <th>157300</th>\n      <td>550201</td>\n      <td>22699</td>\n      <td>ROSES REGENCY TEACUP AND SAUCER</td>\n      <td>24</td>\n      <td>2011-04-15 10:25:00</td>\n      <td>2.55</td>\n      <td>12769.0</td>\n      <td>Brazil</td>\n    </tr>\n    <tr>\n      <th>157301</th>\n      <td>550201</td>\n      <td>22697</td>\n      <td>GREEN REGENCY TEACUP AND SAUCER</td>\n      <td>24</td>\n      <td>2011-04-15 10:25:00</td>\n      <td>2.55</td>\n      <td>12769.0</td>\n      <td>Brazil</td>\n    </tr>\n    <tr>\n      <th>157302</th>\n      <td>550201</td>\n      <td>22698</td>\n      <td>PINK REGENCY TEACUP AND SAUCER</td>\n      <td>24</td>\n      <td>2011-04-15 10:25:00</td>\n      <td>2.55</td>\n      <td>12769.0</td>\n      <td>Brazil</td>\n    </tr>\n    <tr>\n      <th>157304</th>\n      <td>550201</td>\n      <td>21430</td>\n      <td>SET/3 RED GINGHAM ROSE STORAGE BOX</td>\n      <td>24</td>\n      <td>2011-04-15 10:25:00</td>\n      <td>3.39</td>\n      <td>12769.0</td>\n      <td>Brazil</td>\n    </tr>\n  </tbody>\n</table>\n</div>"
     },
     "execution_count": 110,
     "metadata": {},
     "output_type": "execute_result"
    }
   ],
   "source": [
    "df[(df['Country'] == 'Brazil') & (df['Quantity'] > 15)].head()"
   ]
  },
  {
   "cell_type": "code",
   "execution_count": 111,
   "metadata": {
    "id": "9wVDhooXteU8",
    "outputId": "e6f109be-ec5f-480a-e7ce-2782c6c92df4",
    "ExecuteTime": {
     "start_time": "2023-04-27T10:15:55.700482Z",
     "end_time": "2023-04-27T10:15:55.989438Z"
    }
   },
   "outputs": [
    {
     "data": {
      "text/plain": "       InvoiceNo StockCode                         Description  Quantity  \\\n19871     537899     22328  ROUND SNACK BOXES SET OF 4 FRUITS       1488   \n157302    550201     22698      PINK REGENCY TEACUP AND SAUCER        24   \n511421    579498     23084                  RABBIT NIGHT LIGHT      2040   \n\n               InvoiceDate  UnitPrice  CustomerID Country  \n19871  2010-12-09 10:44:00       2.55     12755.0   Japan  \n157302 2011-04-15 10:25:00       2.55     12769.0  Brazil  \n511421 2011-11-29 15:52:00       1.79     12798.0   Japan  ",
      "text/html": "<div>\n<style scoped>\n    .dataframe tbody tr th:only-of-type {\n        vertical-align: middle;\n    }\n\n    .dataframe tbody tr th {\n        vertical-align: top;\n    }\n\n    .dataframe thead th {\n        text-align: right;\n    }\n</style>\n<table border=\"1\" class=\"dataframe\">\n  <thead>\n    <tr style=\"text-align: right;\">\n      <th></th>\n      <th>InvoiceNo</th>\n      <th>StockCode</th>\n      <th>Description</th>\n      <th>Quantity</th>\n      <th>InvoiceDate</th>\n      <th>UnitPrice</th>\n      <th>CustomerID</th>\n      <th>Country</th>\n    </tr>\n  </thead>\n  <tbody>\n    <tr>\n      <th>19871</th>\n      <td>537899</td>\n      <td>22328</td>\n      <td>ROUND SNACK BOXES SET OF 4 FRUITS</td>\n      <td>1488</td>\n      <td>2010-12-09 10:44:00</td>\n      <td>2.55</td>\n      <td>12755.0</td>\n      <td>Japan</td>\n    </tr>\n    <tr>\n      <th>157302</th>\n      <td>550201</td>\n      <td>22698</td>\n      <td>PINK REGENCY TEACUP AND SAUCER</td>\n      <td>24</td>\n      <td>2011-04-15 10:25:00</td>\n      <td>2.55</td>\n      <td>12769.0</td>\n      <td>Brazil</td>\n    </tr>\n    <tr>\n      <th>511421</th>\n      <td>579498</td>\n      <td>23084</td>\n      <td>RABBIT NIGHT LIGHT</td>\n      <td>2040</td>\n      <td>2011-11-29 15:52:00</td>\n      <td>1.79</td>\n      <td>12798.0</td>\n      <td>Japan</td>\n    </tr>\n  </tbody>\n</table>\n</div>"
     },
     "execution_count": 111,
     "metadata": {},
     "output_type": "execute_result"
    }
   ],
   "source": [
    "df[((df['Country'] == 'Brazil') & (df['Description'] == 'PINK REGENCY TEACUP AND SAUCER')) | ((df['Country'] == 'Japan') & (df['Quantity'] > 1000))].head()"
   ]
  },
  {
   "cell_type": "markdown",
   "metadata": {
    "id": "1J4yCbnEteU9"
   },
   "source": [
    "### Criar um novo atributo derivado em outros"
   ]
  },
  {
   "cell_type": "code",
   "execution_count": 112,
   "metadata": {
    "id": "0Xc34i2TteU9",
    "outputId": "30494b43-2039-4431-b5d8-34912b5b6e01",
    "ExecuteTime": {
     "start_time": "2023-04-27T10:15:55.755980Z",
     "end_time": "2023-04-27T10:15:56.075074Z"
    }
   },
   "outputs": [
    {
     "name": "stderr",
     "output_type": "stream",
     "text": [
      "C:\\Users\\Miguel\\AppData\\Local\\Temp\\ipykernel_14900\\879611912.py:1: SettingWithCopyWarning: \n",
      "A value is trying to be set on a copy of a slice from a DataFrame.\n",
      "Try using .loc[row_indexer,col_indexer] = value instead\n",
      "\n",
      "See the caveats in the documentation: https://pandas.pydata.org/pandas-docs/stable/user_guide/indexing.html#returning-a-view-versus-a-copy\n",
      "  df['TotalPrice'] = (df['Quantity'] * df['UnitPrice'])\n"
     ]
    },
    {
     "data": {
      "text/plain": "  InvoiceNo StockCode                          Description  Quantity  \\\n0    536365    85123A   WHITE HANGING HEART T-LIGHT HOLDER         6   \n1    536365     71053                  WHITE METAL LANTERN         6   \n2    536365    84406B       CREAM CUPID HEARTS COAT HANGER         8   \n3    536365    84029G  KNITTED UNION FLAG HOT WATER BOTTLE         6   \n4    536365    84029E       RED WOOLLY HOTTIE WHITE HEART.         6   \n\n          InvoiceDate  UnitPrice  CustomerID         Country  TotalPrice  \n0 2010-12-01 08:26:00       2.55     17850.0  United Kingdom       15.30  \n1 2010-12-01 08:26:00       3.39     17850.0  United Kingdom       20.34  \n2 2010-12-01 08:26:00       2.75     17850.0  United Kingdom       22.00  \n3 2010-12-01 08:26:00       3.39     17850.0  United Kingdom       20.34  \n4 2010-12-01 08:26:00       3.39     17850.0  United Kingdom       20.34  ",
      "text/html": "<div>\n<style scoped>\n    .dataframe tbody tr th:only-of-type {\n        vertical-align: middle;\n    }\n\n    .dataframe tbody tr th {\n        vertical-align: top;\n    }\n\n    .dataframe thead th {\n        text-align: right;\n    }\n</style>\n<table border=\"1\" class=\"dataframe\">\n  <thead>\n    <tr style=\"text-align: right;\">\n      <th></th>\n      <th>InvoiceNo</th>\n      <th>StockCode</th>\n      <th>Description</th>\n      <th>Quantity</th>\n      <th>InvoiceDate</th>\n      <th>UnitPrice</th>\n      <th>CustomerID</th>\n      <th>Country</th>\n      <th>TotalPrice</th>\n    </tr>\n  </thead>\n  <tbody>\n    <tr>\n      <th>0</th>\n      <td>536365</td>\n      <td>85123A</td>\n      <td>WHITE HANGING HEART T-LIGHT HOLDER</td>\n      <td>6</td>\n      <td>2010-12-01 08:26:00</td>\n      <td>2.55</td>\n      <td>17850.0</td>\n      <td>United Kingdom</td>\n      <td>15.30</td>\n    </tr>\n    <tr>\n      <th>1</th>\n      <td>536365</td>\n      <td>71053</td>\n      <td>WHITE METAL LANTERN</td>\n      <td>6</td>\n      <td>2010-12-01 08:26:00</td>\n      <td>3.39</td>\n      <td>17850.0</td>\n      <td>United Kingdom</td>\n      <td>20.34</td>\n    </tr>\n    <tr>\n      <th>2</th>\n      <td>536365</td>\n      <td>84406B</td>\n      <td>CREAM CUPID HEARTS COAT HANGER</td>\n      <td>8</td>\n      <td>2010-12-01 08:26:00</td>\n      <td>2.75</td>\n      <td>17850.0</td>\n      <td>United Kingdom</td>\n      <td>22.00</td>\n    </tr>\n    <tr>\n      <th>3</th>\n      <td>536365</td>\n      <td>84029G</td>\n      <td>KNITTED UNION FLAG HOT WATER BOTTLE</td>\n      <td>6</td>\n      <td>2010-12-01 08:26:00</td>\n      <td>3.39</td>\n      <td>17850.0</td>\n      <td>United Kingdom</td>\n      <td>20.34</td>\n    </tr>\n    <tr>\n      <th>4</th>\n      <td>536365</td>\n      <td>84029E</td>\n      <td>RED WOOLLY HOTTIE WHITE HEART.</td>\n      <td>6</td>\n      <td>2010-12-01 08:26:00</td>\n      <td>3.39</td>\n      <td>17850.0</td>\n      <td>United Kingdom</td>\n      <td>20.34</td>\n    </tr>\n  </tbody>\n</table>\n</div>"
     },
     "execution_count": 112,
     "metadata": {},
     "output_type": "execute_result"
    }
   ],
   "source": [
    "df['TotalPrice'] = (df['Quantity'] * df['UnitPrice'])\n",
    "df.head()"
   ]
  },
  {
   "cell_type": "markdown",
   "metadata": {
    "id": "1p8SPPbVteU9"
   },
   "source": [
    "### Apagar uma instância por índice da linha"
   ]
  },
  {
   "cell_type": "code",
   "execution_count": 113,
   "metadata": {
    "id": "K_cWA7tCteU9",
    "outputId": "ebdf0763-2434-42f4-8102-cb6d107eaa4d",
    "ExecuteTime": {
     "start_time": "2023-04-27T10:15:55.790037Z",
     "end_time": "2023-04-27T10:15:56.184473Z"
    }
   },
   "outputs": [
    {
     "data": {
      "text/plain": "  InvoiceNo StockCode                          Description  Quantity  \\\n0    536365    85123A   WHITE HANGING HEART T-LIGHT HOLDER         6   \n1    536365     71053                  WHITE METAL LANTERN         6   \n3    536365    84029G  KNITTED UNION FLAG HOT WATER BOTTLE         6   \n4    536365    84029E       RED WOOLLY HOTTIE WHITE HEART.         6   \n5    536365     22752         SET 7 BABUSHKA NESTING BOXES         2   \n\n          InvoiceDate  UnitPrice  CustomerID         Country  TotalPrice  \n0 2010-12-01 08:26:00       2.55     17850.0  United Kingdom       15.30  \n1 2010-12-01 08:26:00       3.39     17850.0  United Kingdom       20.34  \n3 2010-12-01 08:26:00       3.39     17850.0  United Kingdom       20.34  \n4 2010-12-01 08:26:00       3.39     17850.0  United Kingdom       20.34  \n5 2010-12-01 08:26:00       7.65     17850.0  United Kingdom       15.30  ",
      "text/html": "<div>\n<style scoped>\n    .dataframe tbody tr th:only-of-type {\n        vertical-align: middle;\n    }\n\n    .dataframe tbody tr th {\n        vertical-align: top;\n    }\n\n    .dataframe thead th {\n        text-align: right;\n    }\n</style>\n<table border=\"1\" class=\"dataframe\">\n  <thead>\n    <tr style=\"text-align: right;\">\n      <th></th>\n      <th>InvoiceNo</th>\n      <th>StockCode</th>\n      <th>Description</th>\n      <th>Quantity</th>\n      <th>InvoiceDate</th>\n      <th>UnitPrice</th>\n      <th>CustomerID</th>\n      <th>Country</th>\n      <th>TotalPrice</th>\n    </tr>\n  </thead>\n  <tbody>\n    <tr>\n      <th>0</th>\n      <td>536365</td>\n      <td>85123A</td>\n      <td>WHITE HANGING HEART T-LIGHT HOLDER</td>\n      <td>6</td>\n      <td>2010-12-01 08:26:00</td>\n      <td>2.55</td>\n      <td>17850.0</td>\n      <td>United Kingdom</td>\n      <td>15.30</td>\n    </tr>\n    <tr>\n      <th>1</th>\n      <td>536365</td>\n      <td>71053</td>\n      <td>WHITE METAL LANTERN</td>\n      <td>6</td>\n      <td>2010-12-01 08:26:00</td>\n      <td>3.39</td>\n      <td>17850.0</td>\n      <td>United Kingdom</td>\n      <td>20.34</td>\n    </tr>\n    <tr>\n      <th>3</th>\n      <td>536365</td>\n      <td>84029G</td>\n      <td>KNITTED UNION FLAG HOT WATER BOTTLE</td>\n      <td>6</td>\n      <td>2010-12-01 08:26:00</td>\n      <td>3.39</td>\n      <td>17850.0</td>\n      <td>United Kingdom</td>\n      <td>20.34</td>\n    </tr>\n    <tr>\n      <th>4</th>\n      <td>536365</td>\n      <td>84029E</td>\n      <td>RED WOOLLY HOTTIE WHITE HEART.</td>\n      <td>6</td>\n      <td>2010-12-01 08:26:00</td>\n      <td>3.39</td>\n      <td>17850.0</td>\n      <td>United Kingdom</td>\n      <td>20.34</td>\n    </tr>\n    <tr>\n      <th>5</th>\n      <td>536365</td>\n      <td>22752</td>\n      <td>SET 7 BABUSHKA NESTING BOXES</td>\n      <td>2</td>\n      <td>2010-12-01 08:26:00</td>\n      <td>7.65</td>\n      <td>17850.0</td>\n      <td>United Kingdom</td>\n      <td>15.30</td>\n    </tr>\n  </tbody>\n</table>\n</div>"
     },
     "execution_count": 113,
     "metadata": {},
     "output_type": "execute_result"
    }
   ],
   "source": [
    "# Apagando a terceira linha\n",
    "df2 = df.drop(2)\n",
    "df2.head()"
   ]
  },
  {
   "cell_type": "markdown",
   "metadata": {
    "id": "pn-O-gCNteU-"
   },
   "source": [
    "### Apagar uma coluna"
   ]
  },
  {
   "cell_type": "code",
   "execution_count": 114,
   "metadata": {
    "id": "F2JuvWNfteU-",
    "outputId": "69987877-e2c7-452b-fa90-fcb5189d5e3c",
    "ExecuteTime": {
     "start_time": "2023-04-27T10:15:55.890284Z",
     "end_time": "2023-04-27T10:15:56.370790Z"
    }
   },
   "outputs": [
    {
     "data": {
      "text/plain": "       InvoiceNo StockCode                          Description  Quantity  \\\n0         536365    85123A   WHITE HANGING HEART T-LIGHT HOLDER         6   \n1         536365     71053                  WHITE METAL LANTERN         6   \n3         536365    84029G  KNITTED UNION FLAG HOT WATER BOTTLE         6   \n4         536365    84029E       RED WOOLLY HOTTIE WHITE HEART.         6   \n5         536365     22752         SET 7 BABUSHKA NESTING BOXES         2   \n...          ...       ...                                  ...       ...   \n541904    581587     22613          PACK OF 20 SPACEBOY NAPKINS        12   \n541905    581587     22899         CHILDREN'S APRON DOLLY GIRL          6   \n541906    581587     23254        CHILDRENS CUTLERY DOLLY GIRL          4   \n541907    581587     23255      CHILDRENS CUTLERY CIRCUS PARADE         4   \n541908    581587     22138        BAKING SET 9 PIECE RETROSPOT          3   \n\n               InvoiceDate  UnitPrice  CustomerID         Country  \n0      2010-12-01 08:26:00       2.55     17850.0  United Kingdom  \n1      2010-12-01 08:26:00       3.39     17850.0  United Kingdom  \n3      2010-12-01 08:26:00       3.39     17850.0  United Kingdom  \n4      2010-12-01 08:26:00       3.39     17850.0  United Kingdom  \n5      2010-12-01 08:26:00       7.65     17850.0  United Kingdom  \n...                    ...        ...         ...             ...  \n541904 2011-12-09 12:50:00       0.85     12680.0          France  \n541905 2011-12-09 12:50:00       2.10     12680.0          France  \n541906 2011-12-09 12:50:00       4.15     12680.0          France  \n541907 2011-12-09 12:50:00       4.15     12680.0          France  \n541908 2011-12-09 12:50:00       4.95     12680.0          France  \n\n[540454 rows x 8 columns]",
      "text/html": "<div>\n<style scoped>\n    .dataframe tbody tr th:only-of-type {\n        vertical-align: middle;\n    }\n\n    .dataframe tbody tr th {\n        vertical-align: top;\n    }\n\n    .dataframe thead th {\n        text-align: right;\n    }\n</style>\n<table border=\"1\" class=\"dataframe\">\n  <thead>\n    <tr style=\"text-align: right;\">\n      <th></th>\n      <th>InvoiceNo</th>\n      <th>StockCode</th>\n      <th>Description</th>\n      <th>Quantity</th>\n      <th>InvoiceDate</th>\n      <th>UnitPrice</th>\n      <th>CustomerID</th>\n      <th>Country</th>\n    </tr>\n  </thead>\n  <tbody>\n    <tr>\n      <th>0</th>\n      <td>536365</td>\n      <td>85123A</td>\n      <td>WHITE HANGING HEART T-LIGHT HOLDER</td>\n      <td>6</td>\n      <td>2010-12-01 08:26:00</td>\n      <td>2.55</td>\n      <td>17850.0</td>\n      <td>United Kingdom</td>\n    </tr>\n    <tr>\n      <th>1</th>\n      <td>536365</td>\n      <td>71053</td>\n      <td>WHITE METAL LANTERN</td>\n      <td>6</td>\n      <td>2010-12-01 08:26:00</td>\n      <td>3.39</td>\n      <td>17850.0</td>\n      <td>United Kingdom</td>\n    </tr>\n    <tr>\n      <th>3</th>\n      <td>536365</td>\n      <td>84029G</td>\n      <td>KNITTED UNION FLAG HOT WATER BOTTLE</td>\n      <td>6</td>\n      <td>2010-12-01 08:26:00</td>\n      <td>3.39</td>\n      <td>17850.0</td>\n      <td>United Kingdom</td>\n    </tr>\n    <tr>\n      <th>4</th>\n      <td>536365</td>\n      <td>84029E</td>\n      <td>RED WOOLLY HOTTIE WHITE HEART.</td>\n      <td>6</td>\n      <td>2010-12-01 08:26:00</td>\n      <td>3.39</td>\n      <td>17850.0</td>\n      <td>United Kingdom</td>\n    </tr>\n    <tr>\n      <th>5</th>\n      <td>536365</td>\n      <td>22752</td>\n      <td>SET 7 BABUSHKA NESTING BOXES</td>\n      <td>2</td>\n      <td>2010-12-01 08:26:00</td>\n      <td>7.65</td>\n      <td>17850.0</td>\n      <td>United Kingdom</td>\n    </tr>\n    <tr>\n      <th>...</th>\n      <td>...</td>\n      <td>...</td>\n      <td>...</td>\n      <td>...</td>\n      <td>...</td>\n      <td>...</td>\n      <td>...</td>\n      <td>...</td>\n    </tr>\n    <tr>\n      <th>541904</th>\n      <td>581587</td>\n      <td>22613</td>\n      <td>PACK OF 20 SPACEBOY NAPKINS</td>\n      <td>12</td>\n      <td>2011-12-09 12:50:00</td>\n      <td>0.85</td>\n      <td>12680.0</td>\n      <td>France</td>\n    </tr>\n    <tr>\n      <th>541905</th>\n      <td>581587</td>\n      <td>22899</td>\n      <td>CHILDREN'S APRON DOLLY GIRL</td>\n      <td>6</td>\n      <td>2011-12-09 12:50:00</td>\n      <td>2.10</td>\n      <td>12680.0</td>\n      <td>France</td>\n    </tr>\n    <tr>\n      <th>541906</th>\n      <td>581587</td>\n      <td>23254</td>\n      <td>CHILDRENS CUTLERY DOLLY GIRL</td>\n      <td>4</td>\n      <td>2011-12-09 12:50:00</td>\n      <td>4.15</td>\n      <td>12680.0</td>\n      <td>France</td>\n    </tr>\n    <tr>\n      <th>541907</th>\n      <td>581587</td>\n      <td>23255</td>\n      <td>CHILDRENS CUTLERY CIRCUS PARADE</td>\n      <td>4</td>\n      <td>2011-12-09 12:50:00</td>\n      <td>4.15</td>\n      <td>12680.0</td>\n      <td>France</td>\n    </tr>\n    <tr>\n      <th>541908</th>\n      <td>581587</td>\n      <td>22138</td>\n      <td>BAKING SET 9 PIECE RETROSPOT</td>\n      <td>3</td>\n      <td>2011-12-09 12:50:00</td>\n      <td>4.95</td>\n      <td>12680.0</td>\n      <td>France</td>\n    </tr>\n  </tbody>\n</table>\n<p>540454 rows × 8 columns</p>\n</div>"
     },
     "execution_count": 114,
     "metadata": {},
     "output_type": "execute_result"
    }
   ],
   "source": [
    "df2 = df2.drop('TotalPrice', axis=1)\n",
    "df2"
   ]
  },
  {
   "cell_type": "markdown",
   "metadata": {
    "id": "DabKYdaoteU-"
   },
   "source": [
    "### Criar um índice por um atributo"
   ]
  },
  {
   "cell_type": "code",
   "execution_count": 115,
   "metadata": {
    "id": "ovAZ-i30teU-",
    "ExecuteTime": {
     "start_time": "2023-04-27T10:15:55.997020Z",
     "end_time": "2023-04-27T10:15:56.487460Z"
    }
   },
   "outputs": [],
   "source": [
    "# Índices ajudam a filtrar\n",
    "df = df.set_index('InvoiceNo')"
   ]
  },
  {
   "cell_type": "code",
   "execution_count": 116,
   "metadata": {
    "id": "If96r4I1teU-",
    "outputId": "a111b740-e832-42f9-9247-d621ea116eee",
    "ExecuteTime": {
     "start_time": "2023-04-27T10:15:56.075074Z",
     "end_time": "2023-04-27T10:15:56.517690Z"
    }
   },
   "outputs": [
    {
     "data": {
      "text/plain": "          StockCode                          Description  Quantity  \\\nInvoiceNo                                                            \n536365       85123A   WHITE HANGING HEART T-LIGHT HOLDER         6   \n536365        71053                  WHITE METAL LANTERN         6   \n536365       84406B       CREAM CUPID HEARTS COAT HANGER         8   \n536365       84029G  KNITTED UNION FLAG HOT WATER BOTTLE         6   \n536365       84029E       RED WOOLLY HOTTIE WHITE HEART.         6   \n536365        22752         SET 7 BABUSHKA NESTING BOXES         2   \n536365        21730    GLASS STAR FROSTED T-LIGHT HOLDER         6   \n\n                  InvoiceDate  UnitPrice  CustomerID         Country  \\\nInvoiceNo                                                              \n536365    2010-12-01 08:26:00       2.55     17850.0  United Kingdom   \n536365    2010-12-01 08:26:00       3.39     17850.0  United Kingdom   \n536365    2010-12-01 08:26:00       2.75     17850.0  United Kingdom   \n536365    2010-12-01 08:26:00       3.39     17850.0  United Kingdom   \n536365    2010-12-01 08:26:00       3.39     17850.0  United Kingdom   \n536365    2010-12-01 08:26:00       7.65     17850.0  United Kingdom   \n536365    2010-12-01 08:26:00       4.25     17850.0  United Kingdom   \n\n           TotalPrice  \nInvoiceNo              \n536365          15.30  \n536365          20.34  \n536365          22.00  \n536365          20.34  \n536365          20.34  \n536365          15.30  \n536365          25.50  ",
      "text/html": "<div>\n<style scoped>\n    .dataframe tbody tr th:only-of-type {\n        vertical-align: middle;\n    }\n\n    .dataframe tbody tr th {\n        vertical-align: top;\n    }\n\n    .dataframe thead th {\n        text-align: right;\n    }\n</style>\n<table border=\"1\" class=\"dataframe\">\n  <thead>\n    <tr style=\"text-align: right;\">\n      <th></th>\n      <th>StockCode</th>\n      <th>Description</th>\n      <th>Quantity</th>\n      <th>InvoiceDate</th>\n      <th>UnitPrice</th>\n      <th>CustomerID</th>\n      <th>Country</th>\n      <th>TotalPrice</th>\n    </tr>\n    <tr>\n      <th>InvoiceNo</th>\n      <th></th>\n      <th></th>\n      <th></th>\n      <th></th>\n      <th></th>\n      <th></th>\n      <th></th>\n      <th></th>\n    </tr>\n  </thead>\n  <tbody>\n    <tr>\n      <th>536365</th>\n      <td>85123A</td>\n      <td>WHITE HANGING HEART T-LIGHT HOLDER</td>\n      <td>6</td>\n      <td>2010-12-01 08:26:00</td>\n      <td>2.55</td>\n      <td>17850.0</td>\n      <td>United Kingdom</td>\n      <td>15.30</td>\n    </tr>\n    <tr>\n      <th>536365</th>\n      <td>71053</td>\n      <td>WHITE METAL LANTERN</td>\n      <td>6</td>\n      <td>2010-12-01 08:26:00</td>\n      <td>3.39</td>\n      <td>17850.0</td>\n      <td>United Kingdom</td>\n      <td>20.34</td>\n    </tr>\n    <tr>\n      <th>536365</th>\n      <td>84406B</td>\n      <td>CREAM CUPID HEARTS COAT HANGER</td>\n      <td>8</td>\n      <td>2010-12-01 08:26:00</td>\n      <td>2.75</td>\n      <td>17850.0</td>\n      <td>United Kingdom</td>\n      <td>22.00</td>\n    </tr>\n    <tr>\n      <th>536365</th>\n      <td>84029G</td>\n      <td>KNITTED UNION FLAG HOT WATER BOTTLE</td>\n      <td>6</td>\n      <td>2010-12-01 08:26:00</td>\n      <td>3.39</td>\n      <td>17850.0</td>\n      <td>United Kingdom</td>\n      <td>20.34</td>\n    </tr>\n    <tr>\n      <th>536365</th>\n      <td>84029E</td>\n      <td>RED WOOLLY HOTTIE WHITE HEART.</td>\n      <td>6</td>\n      <td>2010-12-01 08:26:00</td>\n      <td>3.39</td>\n      <td>17850.0</td>\n      <td>United Kingdom</td>\n      <td>20.34</td>\n    </tr>\n    <tr>\n      <th>536365</th>\n      <td>22752</td>\n      <td>SET 7 BABUSHKA NESTING BOXES</td>\n      <td>2</td>\n      <td>2010-12-01 08:26:00</td>\n      <td>7.65</td>\n      <td>17850.0</td>\n      <td>United Kingdom</td>\n      <td>15.30</td>\n    </tr>\n    <tr>\n      <th>536365</th>\n      <td>21730</td>\n      <td>GLASS STAR FROSTED T-LIGHT HOLDER</td>\n      <td>6</td>\n      <td>2010-12-01 08:26:00</td>\n      <td>4.25</td>\n      <td>17850.0</td>\n      <td>United Kingdom</td>\n      <td>25.50</td>\n    </tr>\n  </tbody>\n</table>\n</div>"
     },
     "execution_count": 116,
     "metadata": {},
     "output_type": "execute_result"
    }
   ],
   "source": [
    "df.loc[536365]"
   ]
  },
  {
   "cell_type": "markdown",
   "metadata": {
    "id": "IxPcZIOtteU-"
   },
   "source": [
    "### Cancelar os índices que foram criados"
   ]
  },
  {
   "cell_type": "code",
   "execution_count": 117,
   "metadata": {
    "id": "yCxQLIUNteU_",
    "outputId": "ad161b28-0cac-4e86-93a3-5a5b2634b0af",
    "ExecuteTime": {
     "start_time": "2023-04-27T10:15:56.186880Z",
     "end_time": "2023-04-27T10:15:56.549816Z"
    }
   },
   "outputs": [
    {
     "data": {
      "text/plain": "RangeIndex(start=0, stop=540455, step=1)"
     },
     "execution_count": 117,
     "metadata": {},
     "output_type": "execute_result"
    }
   ],
   "source": [
    "df = df.reset_index()\n",
    "df.index"
   ]
  },
  {
   "cell_type": "markdown",
   "metadata": {
    "id": "Mzoa3-okteU_"
   },
   "source": [
    "### Filtrar e calcular valores estatísticos de um atributo com valores numéricos"
   ]
  },
  {
   "cell_type": "code",
   "execution_count": 118,
   "metadata": {
    "id": "CkIiPiuEteU_",
    "outputId": "ba5032fa-d278-42d3-8133-4cdf81915611",
    "ExecuteTime": {
     "start_time": "2023-04-27T10:15:56.266128Z",
     "end_time": "2023-04-27T10:15:56.746770Z"
    }
   },
   "outputs": [
    {
     "data": {
      "text/plain": "4.456250000000001"
     },
     "execution_count": 118,
     "metadata": {},
     "output_type": "execute_result"
    }
   ],
   "source": [
    "df[df['Country'] == 'Brazil']['UnitPrice'].mean()"
   ]
  },
  {
   "cell_type": "code",
   "execution_count": 119,
   "metadata": {
    "id": "9PmYQLo2teU_",
    "outputId": "f88bbe4c-04bd-4c08-f77c-4988ec8df0cf",
    "ExecuteTime": {
     "start_time": "2023-04-27T10:15:56.424094Z",
     "end_time": "2023-04-27T10:15:56.878525Z"
    }
   },
   "outputs": [
    {
     "data": {
      "text/plain": "5.028864087881266"
     },
     "execution_count": 119,
     "metadata": {},
     "output_type": "execute_result"
    }
   ],
   "source": [
    "df[df['Country'] == 'France']['UnitPrice'].mean()"
   ]
  },
  {
   "cell_type": "code",
   "execution_count": 120,
   "metadata": {
    "id": "w8wMjsiZteU_",
    "outputId": "94db4d7d-fddd-4847-dea9-2e1436acf438",
    "ExecuteTime": {
     "start_time": "2023-04-27T10:15:56.494844Z",
     "end_time": "2023-04-27T10:15:56.895668Z"
    }
   },
   "outputs": [
    {
     "data": {
      "text/plain": "10.0"
     },
     "execution_count": 120,
     "metadata": {},
     "output_type": "execute_result"
    }
   ],
   "source": [
    "df[df['Country'] == 'Brazil']['Quantity'].median()"
   ]
  },
  {
   "cell_type": "code",
   "execution_count": 121,
   "metadata": {
    "id": "kqaLIu--teVA",
    "outputId": "6b5b4bec-d9a5-4c1d-fffa-2f34c63a3ba2",
    "ExecuteTime": {
     "start_time": "2023-04-27T10:15:56.517690Z",
     "end_time": "2023-04-27T10:15:57.003366Z"
    }
   },
   "outputs": [
    {
     "data": {
      "text/plain": "36.0"
     },
     "execution_count": 121,
     "metadata": {},
     "output_type": "execute_result"
    }
   ],
   "source": [
    "df[df['Country'] == 'Japan']['Quantity'].median()"
   ]
  },
  {
   "cell_type": "markdown",
   "metadata": {
    "id": "tpdWUwPoteVA"
   },
   "source": [
    "### Agrupar por um atributo e calcular estatísticas desse grupo"
   ]
  },
  {
   "cell_type": "code",
   "execution_count": 122,
   "metadata": {
    "id": "bfqYDF6BteVA",
    "outputId": "e672a6d0-fe90-49fe-f80e-9e51d18e7525",
    "ExecuteTime": {
     "start_time": "2023-04-27T10:15:56.582545Z",
     "end_time": "2023-04-27T10:15:57.250604Z"
    }
   },
   "outputs": [
    {
     "data": {
      "text/plain": "Description\n20713                               1\n 4 PURPLE FLOCK DINNER CANDLES     41\n 50'S CHRISTMAS GIFT BAG LARGE    130\n DOLLY GIRL BEAKER                181\n I LOVE LONDON MINI BACKPACK       88\nName: UnitPrice, dtype: int64"
     },
     "execution_count": 122,
     "metadata": {},
     "output_type": "execute_result"
    }
   ],
   "source": [
    "df_gb_description = df.groupby('Description')\n",
    "\n",
    "df_gb_description['UnitPrice'].count().head()"
   ]
  },
  {
   "cell_type": "code",
   "execution_count": 123,
   "metadata": {
    "id": "WHxqT3HhteVA",
    "outputId": "37b8e204-3aa8-494b-d2dd-7910c17c4128",
    "ExecuteTime": {
     "start_time": "2023-04-27T10:15:56.855042Z",
     "end_time": "2023-04-27T10:15:57.253626Z"
    }
   },
   "outputs": [
    {
     "data": {
      "text/plain": "Description\n20713                               1\n 4 PURPLE FLOCK DINNER CANDLES     41\n 50'S CHRISTMAS GIFT BAG LARGE    130\n DOLLY GIRL BEAKER                181\n I LOVE LONDON MINI BACKPACK       88\nName: Country, dtype: int64"
     },
     "execution_count": 123,
     "metadata": {},
     "output_type": "execute_result"
    }
   ],
   "source": [
    "df_gb_description['Country'].count().head()"
   ]
  },
  {
   "cell_type": "code",
   "execution_count": 124,
   "metadata": {
    "id": "SOmu8m5BteVA",
    "outputId": "92ddd3d0-d75a-40ca-d0bc-96696d9ce7c8",
    "ExecuteTime": {
     "start_time": "2023-04-27T10:15:56.901404Z",
     "end_time": "2023-04-27T10:15:57.402141Z"
    }
   },
   "outputs": [
    {
     "data": {
      "text/plain": "Description\n20713                               0.00\n 4 PURPLE FLOCK DINNER CANDLES    100.67\n 50'S CHRISTMAS GIFT BAG LARGE    185.28\n DOLLY GIRL BEAKER                271.38\n I LOVE LONDON MINI BACKPACK      405.80\nName: UnitPrice, dtype: float64"
     },
     "execution_count": 124,
     "metadata": {},
     "output_type": "execute_result"
    }
   ],
   "source": [
    "df_gb_description['UnitPrice'].sum().head()"
   ]
  },
  {
   "cell_type": "markdown",
   "metadata": {
    "id": "IS9aXFDfteVA"
   },
   "source": [
    "# Exercícios"
   ]
  },
  {
   "cell_type": "markdown",
   "metadata": {
    "id": "iTDuD3QYteVB"
   },
   "source": [
    "Execute e não remova a célula abaixo antes de iniciar os exercícios. Faça todas as atividades manipulando a variável `df`."
   ]
  },
  {
   "cell_type": "code",
   "execution_count": 125,
   "metadata": {
    "id": "W07rdZj6teVB",
    "ExecuteTime": {
     "start_time": "2023-04-27T10:15:56.930611Z",
     "end_time": "2023-04-27T10:16:52.612859Z"
    }
   },
   "outputs": [
    {
     "data": {
      "text/plain": "       InvoiceNo StockCode                          Description  Quantity  \\\n0         536365    85123A   WHITE HANGING HEART T-LIGHT HOLDER         6   \n1         536365     71053                  WHITE METAL LANTERN         6   \n2         536365    84406B       CREAM CUPID HEARTS COAT HANGER         8   \n3         536365    84029G  KNITTED UNION FLAG HOT WATER BOTTLE         6   \n4         536365    84029E       RED WOOLLY HOTTIE WHITE HEART.         6   \n...          ...       ...                                  ...       ...   \n541904    581587     22613          PACK OF 20 SPACEBOY NAPKINS        12   \n541905    581587     22899         CHILDREN'S APRON DOLLY GIRL          6   \n541906    581587     23254        CHILDRENS CUTLERY DOLLY GIRL          4   \n541907    581587     23255      CHILDRENS CUTLERY CIRCUS PARADE         4   \n541908    581587     22138        BAKING SET 9 PIECE RETROSPOT          3   \n\n               InvoiceDate  UnitPrice  CustomerID         Country  \n0      2010-12-01 08:26:00       2.55     17850.0  United Kingdom  \n1      2010-12-01 08:26:00       3.39     17850.0  United Kingdom  \n2      2010-12-01 08:26:00       2.75     17850.0  United Kingdom  \n3      2010-12-01 08:26:00       3.39     17850.0  United Kingdom  \n4      2010-12-01 08:26:00       3.39     17850.0  United Kingdom  \n...                    ...        ...         ...             ...  \n541904 2011-12-09 12:50:00       0.85     12680.0          France  \n541905 2011-12-09 12:50:00       2.10     12680.0          France  \n541906 2011-12-09 12:50:00       4.15     12680.0          France  \n541907 2011-12-09 12:50:00       4.15     12680.0          France  \n541908 2011-12-09 12:50:00       4.95     12680.0          France  \n\n[541909 rows x 8 columns]",
      "text/html": "<div>\n<style scoped>\n    .dataframe tbody tr th:only-of-type {\n        vertical-align: middle;\n    }\n\n    .dataframe tbody tr th {\n        vertical-align: top;\n    }\n\n    .dataframe thead th {\n        text-align: right;\n    }\n</style>\n<table border=\"1\" class=\"dataframe\">\n  <thead>\n    <tr style=\"text-align: right;\">\n      <th></th>\n      <th>InvoiceNo</th>\n      <th>StockCode</th>\n      <th>Description</th>\n      <th>Quantity</th>\n      <th>InvoiceDate</th>\n      <th>UnitPrice</th>\n      <th>CustomerID</th>\n      <th>Country</th>\n    </tr>\n  </thead>\n  <tbody>\n    <tr>\n      <th>0</th>\n      <td>536365</td>\n      <td>85123A</td>\n      <td>WHITE HANGING HEART T-LIGHT HOLDER</td>\n      <td>6</td>\n      <td>2010-12-01 08:26:00</td>\n      <td>2.55</td>\n      <td>17850.0</td>\n      <td>United Kingdom</td>\n    </tr>\n    <tr>\n      <th>1</th>\n      <td>536365</td>\n      <td>71053</td>\n      <td>WHITE METAL LANTERN</td>\n      <td>6</td>\n      <td>2010-12-01 08:26:00</td>\n      <td>3.39</td>\n      <td>17850.0</td>\n      <td>United Kingdom</td>\n    </tr>\n    <tr>\n      <th>2</th>\n      <td>536365</td>\n      <td>84406B</td>\n      <td>CREAM CUPID HEARTS COAT HANGER</td>\n      <td>8</td>\n      <td>2010-12-01 08:26:00</td>\n      <td>2.75</td>\n      <td>17850.0</td>\n      <td>United Kingdom</td>\n    </tr>\n    <tr>\n      <th>3</th>\n      <td>536365</td>\n      <td>84029G</td>\n      <td>KNITTED UNION FLAG HOT WATER BOTTLE</td>\n      <td>6</td>\n      <td>2010-12-01 08:26:00</td>\n      <td>3.39</td>\n      <td>17850.0</td>\n      <td>United Kingdom</td>\n    </tr>\n    <tr>\n      <th>4</th>\n      <td>536365</td>\n      <td>84029E</td>\n      <td>RED WOOLLY HOTTIE WHITE HEART.</td>\n      <td>6</td>\n      <td>2010-12-01 08:26:00</td>\n      <td>3.39</td>\n      <td>17850.0</td>\n      <td>United Kingdom</td>\n    </tr>\n    <tr>\n      <th>...</th>\n      <td>...</td>\n      <td>...</td>\n      <td>...</td>\n      <td>...</td>\n      <td>...</td>\n      <td>...</td>\n      <td>...</td>\n      <td>...</td>\n    </tr>\n    <tr>\n      <th>541904</th>\n      <td>581587</td>\n      <td>22613</td>\n      <td>PACK OF 20 SPACEBOY NAPKINS</td>\n      <td>12</td>\n      <td>2011-12-09 12:50:00</td>\n      <td>0.85</td>\n      <td>12680.0</td>\n      <td>France</td>\n    </tr>\n    <tr>\n      <th>541905</th>\n      <td>581587</td>\n      <td>22899</td>\n      <td>CHILDREN'S APRON DOLLY GIRL</td>\n      <td>6</td>\n      <td>2011-12-09 12:50:00</td>\n      <td>2.10</td>\n      <td>12680.0</td>\n      <td>France</td>\n    </tr>\n    <tr>\n      <th>541906</th>\n      <td>581587</td>\n      <td>23254</td>\n      <td>CHILDRENS CUTLERY DOLLY GIRL</td>\n      <td>4</td>\n      <td>2011-12-09 12:50:00</td>\n      <td>4.15</td>\n      <td>12680.0</td>\n      <td>France</td>\n    </tr>\n    <tr>\n      <th>541907</th>\n      <td>581587</td>\n      <td>23255</td>\n      <td>CHILDRENS CUTLERY CIRCUS PARADE</td>\n      <td>4</td>\n      <td>2011-12-09 12:50:00</td>\n      <td>4.15</td>\n      <td>12680.0</td>\n      <td>France</td>\n    </tr>\n    <tr>\n      <th>541908</th>\n      <td>581587</td>\n      <td>22138</td>\n      <td>BAKING SET 9 PIECE RETROSPOT</td>\n      <td>3</td>\n      <td>2011-12-09 12:50:00</td>\n      <td>4.95</td>\n      <td>12680.0</td>\n      <td>France</td>\n    </tr>\n  </tbody>\n</table>\n<p>541909 rows × 8 columns</p>\n</div>"
     },
     "execution_count": 125,
     "metadata": {},
     "output_type": "execute_result"
    }
   ],
   "source": [
    "# Atribui o dataframe com o estado \"original\" em uma variável isolada\n",
    "original_df = pd.read_excel('./OnlineRetail.xlsx')\n",
    "df = original_df\n",
    "df"
   ]
  },
  {
   "cell_type": "markdown",
   "metadata": {
    "id": "LK2GWHVRteVB"
   },
   "source": [
    "## 1. Recupere a quantidade de instâncias com Notas Fiscais ausentes/nulas\n",
    "Armazene-a na variável `missing_invoice_no`.\n",
    "\n",
    "Chame a função `q1.check()` no fim da célula para verificar a resposta.\n",
    "Você pode pedir dicas com `q1.hint()`"
   ]
  },
  {
   "cell_type": "code",
   "execution_count": 126,
   "metadata": {
    "id": "aYuqSUOGteVB",
    "ExecuteTime": {
     "start_time": "2023-04-27T10:16:52.614393Z",
     "end_time": "2023-04-27T10:16:52.790385Z"
    }
   },
   "outputs": [
    {
     "data": {
      "text/plain": "0"
     },
     "metadata": {},
     "output_type": "display_data"
    },
    {
     "data": {
      "text/plain": "<IPython.core.display.Javascript object>",
      "application/javascript": "parent.postMessage({\"jupyterEvent\": \"custom.exercise_interaction\", \"data\": {\"outcomeType\": 1, \"valueTowardsCompletion\": 0.125, \"interactionType\": 1, \"questionType\": 2, \"questionId\": \"1_Q1\", \"learnToolsVersion\": \"1.0.10\", \"failureMessage\": \"\", \"exceptionClass\": \"\", \"trace\": \"\"}}, \"*\")"
     },
     "metadata": {},
     "output_type": "display_data"
    },
    {
     "data": {
      "text/plain": "CORRETO: \n",
      "text/markdown": "<span style=\"color:#33cc33\">CORRETO:</span> \n\n"
     },
     "metadata": {},
     "output_type": "display_data"
    }
   ],
   "source": [
    "# q1.hint()\n",
    "\n",
    "missing_invoice_no = int(df['InvoiceNo'].isna().sum())\n",
    "display(missing_invoice_no)\n",
    "\n",
    "q1.check()"
   ]
  },
  {
   "cell_type": "markdown",
   "metadata": {
    "id": "PYr7gDvyteVB"
   },
   "source": [
    "## 2. Recupere a quantidade de instâncias com Preço Unitário menor que zero.\n",
    "Armazene-a na variável `invalid_unit_price`.\n",
    "\n",
    "Chame a função `q2.check()` no fim da célula para verificar a resposta.\n",
    "Você pode pedir dicas com `q2.hint()`"
   ]
  },
  {
   "cell_type": "code",
   "execution_count": 127,
   "metadata": {
    "id": "jM_XMeH-teVB",
    "ExecuteTime": {
     "start_time": "2023-04-27T10:16:52.697247Z",
     "end_time": "2023-04-27T10:16:52.790385Z"
    }
   },
   "outputs": [
    {
     "data": {
      "text/plain": "2"
     },
     "metadata": {},
     "output_type": "display_data"
    },
    {
     "data": {
      "text/plain": "<IPython.core.display.Javascript object>",
      "application/javascript": "parent.postMessage({\"jupyterEvent\": \"custom.exercise_interaction\", \"data\": {\"outcomeType\": 1, \"valueTowardsCompletion\": 0.125, \"interactionType\": 1, \"questionType\": 2, \"questionId\": \"2_Q2\", \"learnToolsVersion\": \"1.0.10\", \"failureMessage\": \"\", \"exceptionClass\": \"\", \"trace\": \"\"}}, \"*\")"
     },
     "metadata": {},
     "output_type": "display_data"
    },
    {
     "data": {
      "text/plain": "CORRETO: \n",
      "text/markdown": "<span style=\"color:#33cc33\">CORRETO:</span> \n\n"
     },
     "metadata": {},
     "output_type": "display_data"
    }
   ],
   "source": [
    "# q2.hint()\n",
    "\n",
    "invalid_unit_price = int(df.Quantity[df.UnitPrice < 0].count())\n",
    "display(invalid_unit_price)\n",
    "\n",
    "q2.check()"
   ]
  },
  {
   "cell_type": "markdown",
   "metadata": {
    "id": "S6TiRX4LteVC"
   },
   "source": [
    "## 3. Remova todos as instâncias que possui o Preço Unitário inválido.\n",
    "Reatribua o dataframe filtrado na variável `df`.\n",
    "\n",
    "Chame a função `q3.check()` no fim da célula para verificar a resposta.\n",
    "Você pode pedir dicas com `q3.hint()`"
   ]
  },
  {
   "cell_type": "code",
   "execution_count": 128,
   "metadata": {
    "id": "GKIBEc_HteVC",
    "ExecuteTime": {
     "start_time": "2023-04-27T10:16:52.718454Z",
     "end_time": "2023-04-27T10:16:52.908709Z"
    }
   },
   "outputs": [
    {
     "data": {
      "text/plain": "       InvoiceNo StockCode                          Description  Quantity  \\\n0         536365    85123A   WHITE HANGING HEART T-LIGHT HOLDER         6   \n1         536365     71053                  WHITE METAL LANTERN         6   \n2         536365    84406B       CREAM CUPID HEARTS COAT HANGER         8   \n3         536365    84029G  KNITTED UNION FLAG HOT WATER BOTTLE         6   \n4         536365    84029E       RED WOOLLY HOTTIE WHITE HEART.         6   \n...          ...       ...                                  ...       ...   \n541904    581587     22613          PACK OF 20 SPACEBOY NAPKINS        12   \n541905    581587     22899         CHILDREN'S APRON DOLLY GIRL          6   \n541906    581587     23254        CHILDRENS CUTLERY DOLLY GIRL          4   \n541907    581587     23255      CHILDRENS CUTLERY CIRCUS PARADE         4   \n541908    581587     22138        BAKING SET 9 PIECE RETROSPOT          3   \n\n               InvoiceDate  UnitPrice  CustomerID         Country  \n0      2010-12-01 08:26:00       2.55     17850.0  United Kingdom  \n1      2010-12-01 08:26:00       3.39     17850.0  United Kingdom  \n2      2010-12-01 08:26:00       2.75     17850.0  United Kingdom  \n3      2010-12-01 08:26:00       3.39     17850.0  United Kingdom  \n4      2010-12-01 08:26:00       3.39     17850.0  United Kingdom  \n...                    ...        ...         ...             ...  \n541904 2011-12-09 12:50:00       0.85     12680.0          France  \n541905 2011-12-09 12:50:00       2.10     12680.0          France  \n541906 2011-12-09 12:50:00       4.15     12680.0          France  \n541907 2011-12-09 12:50:00       4.15     12680.0          France  \n541908 2011-12-09 12:50:00       4.95     12680.0          France  \n\n[541907 rows x 8 columns]",
      "text/html": "<div>\n<style scoped>\n    .dataframe tbody tr th:only-of-type {\n        vertical-align: middle;\n    }\n\n    .dataframe tbody tr th {\n        vertical-align: top;\n    }\n\n    .dataframe thead th {\n        text-align: right;\n    }\n</style>\n<table border=\"1\" class=\"dataframe\">\n  <thead>\n    <tr style=\"text-align: right;\">\n      <th></th>\n      <th>InvoiceNo</th>\n      <th>StockCode</th>\n      <th>Description</th>\n      <th>Quantity</th>\n      <th>InvoiceDate</th>\n      <th>UnitPrice</th>\n      <th>CustomerID</th>\n      <th>Country</th>\n    </tr>\n  </thead>\n  <tbody>\n    <tr>\n      <th>0</th>\n      <td>536365</td>\n      <td>85123A</td>\n      <td>WHITE HANGING HEART T-LIGHT HOLDER</td>\n      <td>6</td>\n      <td>2010-12-01 08:26:00</td>\n      <td>2.55</td>\n      <td>17850.0</td>\n      <td>United Kingdom</td>\n    </tr>\n    <tr>\n      <th>1</th>\n      <td>536365</td>\n      <td>71053</td>\n      <td>WHITE METAL LANTERN</td>\n      <td>6</td>\n      <td>2010-12-01 08:26:00</td>\n      <td>3.39</td>\n      <td>17850.0</td>\n      <td>United Kingdom</td>\n    </tr>\n    <tr>\n      <th>2</th>\n      <td>536365</td>\n      <td>84406B</td>\n      <td>CREAM CUPID HEARTS COAT HANGER</td>\n      <td>8</td>\n      <td>2010-12-01 08:26:00</td>\n      <td>2.75</td>\n      <td>17850.0</td>\n      <td>United Kingdom</td>\n    </tr>\n    <tr>\n      <th>3</th>\n      <td>536365</td>\n      <td>84029G</td>\n      <td>KNITTED UNION FLAG HOT WATER BOTTLE</td>\n      <td>6</td>\n      <td>2010-12-01 08:26:00</td>\n      <td>3.39</td>\n      <td>17850.0</td>\n      <td>United Kingdom</td>\n    </tr>\n    <tr>\n      <th>4</th>\n      <td>536365</td>\n      <td>84029E</td>\n      <td>RED WOOLLY HOTTIE WHITE HEART.</td>\n      <td>6</td>\n      <td>2010-12-01 08:26:00</td>\n      <td>3.39</td>\n      <td>17850.0</td>\n      <td>United Kingdom</td>\n    </tr>\n    <tr>\n      <th>...</th>\n      <td>...</td>\n      <td>...</td>\n      <td>...</td>\n      <td>...</td>\n      <td>...</td>\n      <td>...</td>\n      <td>...</td>\n      <td>...</td>\n    </tr>\n    <tr>\n      <th>541904</th>\n      <td>581587</td>\n      <td>22613</td>\n      <td>PACK OF 20 SPACEBOY NAPKINS</td>\n      <td>12</td>\n      <td>2011-12-09 12:50:00</td>\n      <td>0.85</td>\n      <td>12680.0</td>\n      <td>France</td>\n    </tr>\n    <tr>\n      <th>541905</th>\n      <td>581587</td>\n      <td>22899</td>\n      <td>CHILDREN'S APRON DOLLY GIRL</td>\n      <td>6</td>\n      <td>2011-12-09 12:50:00</td>\n      <td>2.10</td>\n      <td>12680.0</td>\n      <td>France</td>\n    </tr>\n    <tr>\n      <th>541906</th>\n      <td>581587</td>\n      <td>23254</td>\n      <td>CHILDRENS CUTLERY DOLLY GIRL</td>\n      <td>4</td>\n      <td>2011-12-09 12:50:00</td>\n      <td>4.15</td>\n      <td>12680.0</td>\n      <td>France</td>\n    </tr>\n    <tr>\n      <th>541907</th>\n      <td>581587</td>\n      <td>23255</td>\n      <td>CHILDRENS CUTLERY CIRCUS PARADE</td>\n      <td>4</td>\n      <td>2011-12-09 12:50:00</td>\n      <td>4.15</td>\n      <td>12680.0</td>\n      <td>France</td>\n    </tr>\n    <tr>\n      <th>541908</th>\n      <td>581587</td>\n      <td>22138</td>\n      <td>BAKING SET 9 PIECE RETROSPOT</td>\n      <td>3</td>\n      <td>2011-12-09 12:50:00</td>\n      <td>4.95</td>\n      <td>12680.0</td>\n      <td>France</td>\n    </tr>\n  </tbody>\n</table>\n<p>541907 rows × 8 columns</p>\n</div>"
     },
     "metadata": {},
     "output_type": "display_data"
    },
    {
     "data": {
      "text/plain": "<IPython.core.display.Javascript object>",
      "application/javascript": "parent.postMessage({\"jupyterEvent\": \"custom.exercise_interaction\", \"data\": {\"outcomeType\": 1, \"valueTowardsCompletion\": 0.125, \"interactionType\": 1, \"questionType\": 2, \"questionId\": \"3_Q3\", \"learnToolsVersion\": \"1.0.10\", \"failureMessage\": \"\", \"exceptionClass\": \"\", \"trace\": \"\"}}, \"*\")"
     },
     "metadata": {},
     "output_type": "display_data"
    },
    {
     "data": {
      "text/plain": "CORRETO: \n",
      "text/markdown": "<span style=\"color:#33cc33\">CORRETO:</span> \n\n"
     },
     "metadata": {},
     "output_type": "display_data"
    }
   ],
   "source": [
    " # q3.hint()\n",
    "\n",
    "df = df.drop(df[df.UnitPrice < 0].index)\n",
    "display(df)\n",
    "\n",
    "q3.check()"
   ]
  },
  {
   "cell_type": "markdown",
   "metadata": {
    "id": "tkxW-ZKRteVC"
   },
   "source": [
    "## 4. Recupere o ID do Cliente que comprou mais itens.\n",
    "Armazene-o na variável `top_customer_id`.\n",
    "\n",
    "Chame a função `q4.check()` no fim da célula para verificar a resposta.\n",
    "Você pode pedir dicas com `q4.hint()`"
   ]
  },
  {
   "cell_type": "code",
   "execution_count": 129,
   "metadata": {
    "id": "zFRibg_OteVC",
    "ExecuteTime": {
     "start_time": "2023-04-27T10:16:52.898656Z",
     "end_time": "2023-04-27T10:16:53.003087Z"
    }
   },
   "outputs": [
    {
     "data": {
      "text/plain": "16446"
     },
     "metadata": {},
     "output_type": "display_data"
    },
    {
     "data": {
      "text/plain": "<IPython.core.display.Javascript object>",
      "application/javascript": "parent.postMessage({\"jupyterEvent\": \"custom.exercise_interaction\", \"data\": {\"outcomeType\": 2, \"failureMessage\": \"Valor incorreto para top_customer_id: `16446`\", \"interactionType\": 1, \"questionType\": 2, \"questionId\": \"4_Q4\", \"learnToolsVersion\": \"1.0.10\", \"valueTowardsCompletion\": 0.0, \"exceptionClass\": \"\", \"trace\": \"\"}}, \"*\")"
     },
     "metadata": {},
     "output_type": "display_data"
    },
    {
     "data": {
      "text/plain": "INCORRETO: Valor incorreto para top_customer_id: `16446`",
      "text/markdown": "<span style=\"color:#cc3333\">INCORRETO:</span> Valor incorreto para top_customer_id: `16446`"
     },
     "metadata": {},
     "output_type": "display_data"
    }
   ],
   "source": [
    "# q4.hint()\n",
    "quantity_max = df['Quantity'].max()\n",
    "top_customer_id = int(df[df['Quantity'] == quantity_max]['CustomerID'].values[0])\n",
    "display(top_customer_id)\n",
    "\n",
    "q4.check()\n",
    "\n",
    "# Aqui não sei qual o resultado certo tentei algumas funções e está errado."
   ]
  },
  {
   "cell_type": "markdown",
   "metadata": {
    "id": "TTGWWoZFteVC"
   },
   "source": [
    "## 5. Recupere a descrição do produto mais caro vendido.\n",
    "Armazene-o na variável `most_expensive_product`.\n",
    "\n",
    "Chame a função `q5.check()` no fim da célula para verificar a resposta.\n",
    "Você pode pedir dicas com `q5.hint()`"
   ]
  },
  {
   "cell_type": "code",
   "execution_count": 130,
   "metadata": {
    "id": "ESlQXA1hteVC",
    "ExecuteTime": {
     "start_time": "2023-04-27T10:16:52.929066Z",
     "end_time": "2023-04-27T10:16:53.065059Z"
    }
   },
   "outputs": [
    {
     "data": {
      "text/plain": "'Manual'"
     },
     "metadata": {},
     "output_type": "display_data"
    },
    {
     "data": {
      "text/plain": "<IPython.core.display.Javascript object>",
      "application/javascript": "parent.postMessage({\"jupyterEvent\": \"custom.exercise_interaction\", \"data\": {\"outcomeType\": 1, \"valueTowardsCompletion\": 0.125, \"interactionType\": 1, \"questionType\": 2, \"questionId\": \"5_Q5\", \"learnToolsVersion\": \"1.0.10\", \"failureMessage\": \"\", \"exceptionClass\": \"\", \"trace\": \"\"}}, \"*\")"
     },
     "metadata": {},
     "output_type": "display_data"
    },
    {
     "data": {
      "text/plain": "CORRETO: \n",
      "text/markdown": "<span style=\"color:#33cc33\">CORRETO:</span> \n\n"
     },
     "metadata": {},
     "output_type": "display_data"
    }
   ],
   "source": [
    "# q5.hint()\n",
    "\n",
    "max_value = df['UnitPrice'].max()\n",
    "most_expensive_product = df[df['UnitPrice'] == max_value]['Description'].values[0]\n",
    "display(most_expensive_product)\n",
    "\n",
    "q5.check()"
   ]
  },
  {
   "cell_type": "markdown",
   "metadata": {
    "id": "qGKkZKHNteVD"
   },
   "source": [
    "## 6. Recupere a % relativa das instâncias atribuídas ao país `Germany` excluindo o país `United Kingdom` da base.\n",
    "Armazene-a na variável `germany_orders_percentage`.\n",
    "\n",
    "Chame a função `q6.check()` no fim da célula para verificar a resposta.\n",
    "Você pode pedir dicas com `q6.hint()`"
   ]
  },
  {
   "cell_type": "code",
   "execution_count": 131,
   "metadata": {
    "id": "ABHnFBhtteVD",
    "ExecuteTime": {
     "start_time": "2023-04-27T10:16:53.003087Z",
     "end_time": "2023-04-27T10:16:53.317493Z"
    }
   },
   "outputs": [
    {
     "data": {
      "text/plain": "20.449699554177165"
     },
     "metadata": {},
     "output_type": "display_data"
    },
    {
     "data": {
      "text/plain": "<IPython.core.display.Javascript object>",
      "application/javascript": "parent.postMessage({\"jupyterEvent\": \"custom.exercise_interaction\", \"data\": {\"outcomeType\": 1, \"valueTowardsCompletion\": 0.125, \"interactionType\": 1, \"questionType\": 2, \"questionId\": \"6_Q6\", \"learnToolsVersion\": \"1.0.10\", \"failureMessage\": \"\", \"exceptionClass\": \"\", \"trace\": \"\"}}, \"*\")"
     },
     "metadata": {},
     "output_type": "display_data"
    },
    {
     "data": {
      "text/plain": "CORRETO: \n",
      "text/markdown": "<span style=\"color:#33cc33\">CORRETO:</span> \n\n"
     },
     "metadata": {},
     "output_type": "display_data"
    }
   ],
   "source": [
    "# q6.hint()\n",
    "total_UK = df['Country'][df['Country'] == 'United Kingdom'].count()\n",
    "total_Germany = df['Country'][df['Country'] == 'Germany'].count()\n",
    "total_df = df['Country'].count()\n",
    "germany_orders_percentage = total_Germany  / (total_df - total_UK) * 100\n",
    "display(germany_orders_percentage)\n",
    "\n",
    "q6.check()"
   ]
  },
  {
   "cell_type": "markdown",
   "metadata": {
    "id": "QSQf4F2XteVD"
   },
   "source": [
    "## 7. Recupere a(s) instância(s) da compra que possui mais itens.\n",
    "Armazene-a na variável `most_items_order`.\n",
    "\n",
    "Chame a função `q7.check()` no fim da célula para verificar a resposta.\n",
    "Você pode pedir dicas com `q7.hint()`"
   ]
  },
  {
   "cell_type": "code",
   "execution_count": 132,
   "metadata": {
    "id": "dvcWyidfteVD",
    "ExecuteTime": {
     "start_time": "2023-04-27T10:16:53.165720Z",
     "end_time": "2023-04-27T10:16:53.317493Z"
    }
   },
   "outputs": [
    {
     "data": {
      "text/plain": "       InvoiceNo StockCode                  Description  Quantity  \\\n540421    581483     23843  PAPER CRAFT , LITTLE BIRDIE     80995   \n\n               InvoiceDate  UnitPrice  CustomerID         Country  \n540421 2011-12-09 09:15:00       2.08     16446.0  United Kingdom  ",
      "text/html": "<div>\n<style scoped>\n    .dataframe tbody tr th:only-of-type {\n        vertical-align: middle;\n    }\n\n    .dataframe tbody tr th {\n        vertical-align: top;\n    }\n\n    .dataframe thead th {\n        text-align: right;\n    }\n</style>\n<table border=\"1\" class=\"dataframe\">\n  <thead>\n    <tr style=\"text-align: right;\">\n      <th></th>\n      <th>InvoiceNo</th>\n      <th>StockCode</th>\n      <th>Description</th>\n      <th>Quantity</th>\n      <th>InvoiceDate</th>\n      <th>UnitPrice</th>\n      <th>CustomerID</th>\n      <th>Country</th>\n    </tr>\n  </thead>\n  <tbody>\n    <tr>\n      <th>540421</th>\n      <td>581483</td>\n      <td>23843</td>\n      <td>PAPER CRAFT , LITTLE BIRDIE</td>\n      <td>80995</td>\n      <td>2011-12-09 09:15:00</td>\n      <td>2.08</td>\n      <td>16446.0</td>\n      <td>United Kingdom</td>\n    </tr>\n  </tbody>\n</table>\n</div>"
     },
     "metadata": {},
     "output_type": "display_data"
    },
    {
     "data": {
      "text/plain": "<IPython.core.display.Javascript object>",
      "application/javascript": "parent.postMessage({\"jupyterEvent\": \"custom.exercise_interaction\", \"data\": {\"outcomeType\": 1, \"valueTowardsCompletion\": 0.125, \"interactionType\": 1, \"questionType\": 2, \"questionId\": \"7_Q7\", \"learnToolsVersion\": \"1.0.10\", \"failureMessage\": \"\", \"exceptionClass\": \"\", \"trace\": \"\"}}, \"*\")"
     },
     "metadata": {},
     "output_type": "display_data"
    },
    {
     "data": {
      "text/plain": "CORRETO: \n",
      "text/markdown": "<span style=\"color:#33cc33\">CORRETO:</span> \n\n"
     },
     "metadata": {},
     "output_type": "display_data"
    }
   ],
   "source": [
    "# q7.hint()\n",
    "\n",
    "\n",
    "most_itens = df['Quantity'].max()\n",
    "most_items_order = df[df['Quantity'] == most_itens]\n",
    "display(most_items_order)\n",
    "\n",
    "q7.check()"
   ]
  },
  {
   "cell_type": "markdown",
   "metadata": {
    "id": "7Y3qmGonteVD"
   },
   "source": [
    "## 8. Recupere o identificador da compra mais cara.\n",
    "Armazene-a na variável `most_expensive_order`.\n",
    "\n",
    "Chame a função `q8.check()` no fim da célula para verificar a resposta.\n",
    "Você pode pedir dicas com `q8.hint()`"
   ]
  },
  {
   "cell_type": "code",
   "execution_count": 133,
   "metadata": {
    "id": "mKtn1AIlteVE",
    "ExecuteTime": {
     "start_time": "2023-04-27T10:16:53.197162Z",
     "end_time": "2023-04-27T10:16:53.320867Z"
    }
   },
   "outputs": [
    {
     "data": {
      "text/plain": "<IPython.core.display.Javascript object>",
      "application/javascript": "parent.postMessage({\"jupyterEvent\": \"custom.exercise_interaction\", \"data\": {\"interactionType\": 2, \"questionType\": 2, \"questionId\": \"8_Q8\", \"learnToolsVersion\": \"1.0.10\", \"valueTowardsCompletion\": 0.0, \"failureMessage\": \"\", \"exceptionClass\": \"\", \"trace\": \"\", \"outcomeType\": 4}}, \"*\")"
     },
     "metadata": {},
     "output_type": "display_data"
    },
    {
     "data": {
      "text/plain": "Dica 4: O que identifica uma compra no dataframe?\n(Para outra dica, chame `.hint(5)`)",
      "text/markdown": "<span style=\"color:#3366cc\">Dica 4:</span> O que identifica uma compra no dataframe?\n(Para outra dica, chame `.hint(5)`)"
     },
     "metadata": {},
     "output_type": "display_data"
    },
    {
     "data": {
      "text/plain": "581483"
     },
     "metadata": {},
     "output_type": "display_data"
    },
    {
     "data": {
      "text/plain": "<IPython.core.display.Javascript object>",
      "application/javascript": "parent.postMessage({\"jupyterEvent\": \"custom.exercise_interaction\", \"data\": {\"outcomeType\": 1, \"valueTowardsCompletion\": 0.125, \"interactionType\": 1, \"questionType\": 2, \"questionId\": \"8_Q8\", \"learnToolsVersion\": \"1.0.10\", \"failureMessage\": \"\", \"exceptionClass\": \"\", \"trace\": \"\"}}, \"*\")"
     },
     "metadata": {},
     "output_type": "display_data"
    },
    {
     "data": {
      "text/plain": "CORRETO: \n",
      "text/markdown": "<span style=\"color:#33cc33\">CORRETO:</span> \n\n"
     },
     "metadata": {},
     "output_type": "display_data"
    }
   ],
   "source": [
    " # q8.hint(4)\n",
    "\n",
    "total_price = df['UnitPrice'] * df['Quantity']\n",
    "df['TotalPrice'] = total_price\n",
    "most_expensive_order = df[df['TotalPrice'] == df['TotalPrice'].max()]['InvoiceNo'].values[0]\n",
    "display(most_expensive_order)\n",
    "\n",
    "\n",
    "q8.check()"
   ]
  },
  {
   "cell_type": "markdown",
   "metadata": {
    "id": "vzZdaPyRteVE"
   },
   "source": [
    "## 9. Responda as questões abertas a seguir:"
   ]
  },
  {
   "cell_type": "markdown",
   "metadata": {
    "id": "-uSo7a_KteVE"
   },
   "source": [
    "### 9.a) Qual o objetivo das estatísticas descritivas?\n",
    "\n",
    "RESPOSTA: O objetivo das estatísticas descritivas é resumir e descrever as características ou propriedades de um conjunto de dados. As estatísticas descritivas fornecem informações sobre os dados, que podem ajudar a entender a forma como eles estão distribuídos."
   ]
  },
  {
   "cell_type": "markdown",
   "metadata": {
    "id": "cWFnm0SPteVE"
   },
   "source": [
    "### 9.b) Liste 3 perguntas que poderiam ser respondidas utilizando estatística descritiva com o conjunto de dados trabalhados nessa prática.\n",
    "\n",
    "RESPOSTA: Correlação entre as variáveis do dataset\n",
    "          Descrever as instâncias Unity Price, Quantity e Total Price\n",
    "          Países com maior gasto com compras e seus valores\n"
   ]
  },
  {
   "cell_type": "markdown",
   "metadata": {
    "id": "Uv_cfFngteVE"
   },
   "source": [
    "### 9.c) Tente responder essas 3 perguntas acima com evidências usando as funcionalidades aprendidas.\n",
    "\n",
    "RESPOSTA:"
   ]
  },
  {
   "cell_type": "code",
   "execution_count": 135,
   "metadata": {
    "id": "pBQPZnM7teVE",
    "ExecuteTime": {
     "start_time": "2023-04-27T10:18:09.336337Z",
     "end_time": "2023-04-27T10:18:10.066832Z"
    }
   },
   "outputs": [
    {
     "name": "stderr",
     "output_type": "stream",
     "text": [
      "C:\\Users\\Miguel\\AppData\\Local\\Temp\\ipykernel_14900\\1245579044.py:7: FutureWarning: The default value of numeric_only in DataFrame.corr is deprecated. In a future version, it will default to False. Select only valid columns or specify the value of numeric_only to silence this warning.\n",
      "  sns.heatmap(df.corr(), annot=True, cmap='coolwarm')\n"
     ]
    },
    {
     "data": {
      "text/plain": "<Figure size 1000x800 with 2 Axes>",
      "image/png": "[encoded data removed]"
     },
     "metadata": {},
     "output_type": "display_data"
    },
    {
     "data": {
      "text/plain": "Country\nUnited Kingdom    8209930.484\nNetherlands        284661.540\nEIRE               263276.820\nGermany            221698.210\nFrance             197403.900\nAustralia          137077.270\nSwitzerland         56385.350\nSpain               54774.580\nBelgium             40910.960\nSweden              36595.910\nName: TotalPrice, dtype: float64"
     },
     "metadata": {},
     "output_type": "display_data"
    },
    {
     "data": {
      "text/plain": "           UnitPrice       Quantity     TotalPrice\ncount  531283.000000  531283.000000  531283.000000\nmean        3.898954      10.655299      20.077218\nstd        35.876279     156.830617     270.058254\nmin         0.000000       1.000000       0.000000\n25%         1.250000       1.000000       3.750000\n50%         2.080000       3.000000       9.900000\n75%         4.130000      10.000000      17.700000\nmax     13541.330000   80995.000000  168469.600000",
      "text/html": "<div>\n<style scoped>\n    .dataframe tbody tr th:only-of-type {\n        vertical-align: middle;\n    }\n\n    .dataframe tbody tr th {\n        vertical-align: top;\n    }\n\n    .dataframe thead th {\n        text-align: right;\n    }\n</style>\n<table border=\"1\" class=\"dataframe\">\n  <thead>\n    <tr style=\"text-align: right;\">\n      <th></th>\n      <th>UnitPrice</th>\n      <th>Quantity</th>\n      <th>TotalPrice</th>\n    </tr>\n  </thead>\n  <tbody>\n    <tr>\n      <th>count</th>\n      <td>531283.000000</td>\n      <td>531283.000000</td>\n      <td>531283.000000</td>\n    </tr>\n    <tr>\n      <th>mean</th>\n      <td>3.898954</td>\n      <td>10.655299</td>\n      <td>20.077218</td>\n    </tr>\n    <tr>\n      <th>std</th>\n      <td>35.876279</td>\n      <td>156.830617</td>\n      <td>270.058254</td>\n    </tr>\n    <tr>\n      <th>min</th>\n      <td>0.000000</td>\n      <td>1.000000</td>\n      <td>0.000000</td>\n    </tr>\n    <tr>\n      <th>25%</th>\n      <td>1.250000</td>\n      <td>1.000000</td>\n      <td>3.750000</td>\n    </tr>\n    <tr>\n      <th>50%</th>\n      <td>2.080000</td>\n      <td>3.000000</td>\n      <td>9.900000</td>\n    </tr>\n    <tr>\n      <th>75%</th>\n      <td>4.130000</td>\n      <td>10.000000</td>\n      <td>17.700000</td>\n    </tr>\n    <tr>\n      <th>max</th>\n      <td>13541.330000</td>\n      <td>80995.000000</td>\n      <td>168469.600000</td>\n    </tr>\n  </tbody>\n</table>\n</div>"
     },
     "execution_count": 135,
     "metadata": {},
     "output_type": "execute_result"
    }
   ],
   "source": [
    "# Matriz de correlação\n",
    "\n",
    "import seaborn as sns\n",
    "import matplotlib.pyplot as plt\n",
    "\n",
    "plt.figure(figsize=(10,8))\n",
    "sns.heatmap(df.corr(), annot=True, cmap='coolwarm')\n",
    "plt.show()\n",
    "\n",
    "# Países com maior gasto com compras e seus valores\n",
    "\n",
    "c = df.groupby('Country')['TotalPrice'].sum().sort_values(ascending=False).head(10)\n",
    "display(c)\n",
    "\n",
    "# Descrever as instâncias Unity Price, Quantity e Total Price\n",
    "# Veja que removi valores inválidos\n",
    "df = df.drop(df[df.Quantity < 0].index)\n",
    "df = df.drop(df[df.TotalPrice < 0].index)\n",
    "df[['UnitPrice', 'Quantity', 'TotalPrice']].describe()"
   ]
  },
  {
   "cell_type": "markdown",
   "metadata": {
    "id": "NPciwDhsteVE"
   },
   "source": [
    "### 9.d) Você acha que estatística descritiva é útil para fazer inferência ou predições? Justifique.\n",
    "\n",
    "RESPOSTA: Ela é útil para analisar e entender os dados disponíveis, identificando padrões, tendências e distribuições dos dados. No entanto, a estatística descritiva, por si só, não é suficiente para fazer inferências ou predições precisas sobre uma população maior. Para isso, é necessário utilizar a estatística inferencial. "
   ]
  }
 ],
 "metadata": {
  "colab": {
   "name": "pratica_5_ccf425.ipynb",
   "provenance": []
  },
  "interpreter": {
   "hash": "aee8b7b246df8f9039afb4144a1f6fd8d2ca17a180786b69acc140d282b71a49"
  },
  "kernelspec": {
   "display_name": "Python 3.9.12 64-bit",
   "language": "python",
   "name": "python3"
  },
  "language_info": {
   "codemirror_mode": {
    "name": "ipython",
    "version": 3
   },
   "file_extension": ".py",
   "mimetype": "text/x-python",
   "name": "python",
   "nbconvert_exporter": "python",
   "pygments_lexer": "ipython3",
   "version": "3.9.12"
  }
 },
 "nbformat": 4,
 "nbformat_minor": 0
}
