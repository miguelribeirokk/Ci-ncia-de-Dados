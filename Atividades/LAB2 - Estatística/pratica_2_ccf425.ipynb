{
 "cells": [
  {
   "cell_type": "markdown",
   "metadata": {
    "id": "VKVeuIoh6N-S"
   },
   "source": [
    "> Introdução à Ciência dos Dados \\\n",
    "> Ciência da Computação – UFV/Florestal\n",
    "\n",
    "\n",
    "* **Nome:** Miguel Antônio Ribeiro e Silva\n",
    "* **Matrícula:**  4680\n",
    "\n",
    "# Aula Prática 02\n",
    "##  Estatística Descritiva\n",
    "\n",
    "**Objetivo:** Avaliar dados numéricos com base em cálculos estatísticos \\\n",
    "**Pré-requisitos:** Linguagem de programação Python, estatística básica \\\n",
    "**Meta:** Ao final da prática, o aluno será capaz de utilizar ferramentas de análise de dados para calcular indicadores estatísticos e comparar valores.\n",
    "\n",
    "----"
   ]
  },
  {
   "cell_type": "code",
   "source": [
    "### NÃO REMOVA ESSA CÉLULA! ####\n",
    "!pip install learntools_dados_ufv\n",
    "\n",
    "!wget https://raw.githubusercontent.com/gfviegas/CCF425-resources/master/p2/series.csv\n",
    "!wget https://raw.githubusercontent.com/gfviegas/CCF425-resources/master/p2/altura_homens.csv\n",
    "!wget https://raw.githubusercontent.com/gfviegas/CCF425-resources/master/p2/altura_mulheres.csv"
   ],
   "metadata": {
    "id": "T-n9f0IN7P13"
   },
   "execution_count": 100,
   "outputs": [
    {
     "name": "stdout",
     "output_type": "stream",
     "text": [
      "Requirement already satisfied: learntools_dados_ufv in c:\\users\\miguel\\anaconda3\\lib\\site-packages (1.0.10)\n"
     ]
    },
    {
     "name": "stderr",
     "output_type": "stream",
     "text": [
      "'wget' nÆo ‚ reconhecido como um comando interno\n",
      "ou externo, um programa oper vel ou um arquivo em lotes.\n",
      "'wget' nÆo ‚ reconhecido como um comando interno\n",
      "ou externo, um programa oper vel ou um arquivo em lotes.\n",
      "'wget' nÆo ‚ reconhecido como um comando interno\n",
      "ou externo, um programa oper vel ou um arquivo em lotes.\n"
     ]
    }
   ]
  },
  {
   "cell_type": "code",
   "execution_count": 102,
   "metadata": {
    "id": "_X9J3UPRX7_6"
   },
   "outputs": [
    {
     "name": "stderr",
     "output_type": "stream",
     "text": [
      "WARNING:root:Ignoring repeated attempt to bind to globals\n"
     ]
    }
   ],
   "source": [
    "#### Não altere essa célula!!! ####\n",
    "import pandas as pd\n",
    "\n",
    "from learntools_dados_ufv.core import binder; binder.bind(globals())\n",
    "from learntools_dados_ufv.ccf425.pratica_2 import *\n",
    "from scipy.stats import percentileofscore"
   ]
  },
  {
   "cell_type": "markdown",
   "metadata": {
    "id": "8_kKp1SH6N-Z"
   },
   "source": [
    "# Roteiro\n",
    "\n",
    "## Leitura dos dados\n",
    "Veja os dados do arquivo `series.csv`. \n",
    "\n",
    "Use a opção `squeeze=True` para obter uma Série do arquivo e não um DataFrame (comportamento default)."
   ]
  },
  {
   "cell_type": "code",
   "execution_count": 103,
   "metadata": {
    "id": "HF4kr37Z6N-a",
    "outputId": "90de7bb1-1f3c-409f-de2d-c4650eed026e",
    "colab": {
     "base_uri": "https://localhost:8080/"
    }
   },
   "outputs": [
    {
     "name": "stderr",
     "output_type": "stream",
     "text": [
      "C:\\Users\\Miguel\\AppData\\Local\\Temp\\ipykernel_1644\\2655848147.py:1: FutureWarning: The squeeze argument has been deprecated and will be removed in a future version. Append .squeeze(\"columns\") to the call to squeeze.\n",
      "\n",
      "\n",
      "  series = pd.read_csv('./series.csv', index_col=False, header=None, squeeze=True)\n"
     ]
    },
    {
     "data": {
      "text/plain": "0      13\n1       3\n2       5\n3       6\n4       7\n5       9\n6       5\n7      33\n8      67\n9     432\n10      5\n11      7\n12     35\n13     67\n14     83\n15     57\n16     88\nName: 0, dtype: int64"
     },
     "execution_count": 103,
     "metadata": {},
     "output_type": "execute_result"
    }
   ],
   "source": [
    "series = pd.read_csv('./series.csv', index_col=False, header=None, squeeze=True)\n",
    "series"
   ]
  },
  {
   "cell_type": "markdown",
   "metadata": {
    "id": "Mw2yyXzu6N-b"
   },
   "source": [
    "## Explore os dados com base em estatísticas descritivas"
   ]
  },
  {
   "cell_type": "code",
   "execution_count": 104,
   "metadata": {
    "id": "g-dv3GAy6N-b",
    "outputId": "1f0369a3-b9b4-4809-9cb7-056abcbaa250"
   },
   "outputs": [
    {
     "name": "stdout",
     "output_type": "stream",
     "text": [
      "O valor mínimo é: 3\n",
      "O valor máximo é: 432\n",
      "O valor da média é: 54.24\n",
      "O valor do desvio padrão é: 101.94\n",
      "A moda é: 0    5\n",
      "Name: 0, dtype: int64\n"
     ]
    }
   ],
   "source": [
    "# Mínimo\n",
    "print('O valor mínimo é: {}'.format(series.min()))\n",
    "\n",
    "# Máximo\n",
    "print('O valor máximo é: {}'.format(series.max()))\n",
    "\n",
    "# Média\n",
    "print('O valor da média é: {:.2f}'.format(series.mean()))\n",
    "\n",
    "# Desvio Padrão\n",
    "print('O valor do desvio padrão é: {:.2f}'.format(series.std()))\n",
    "\n",
    "# Moda\n",
    "print('A moda é: {}'.format(series.mode()))"
   ]
  },
  {
   "cell_type": "markdown",
   "metadata": {
    "id": "ey3yYAH46N-c"
   },
   "source": [
    "## Calcule os percentis"
   ]
  },
  {
   "cell_type": "code",
   "execution_count": 105,
   "metadata": {
    "id": "Zk2egrJu6N-c",
    "outputId": "96fade9b-5dbe-47d1-dda8-3d5226cd023f"
   },
   "outputs": [
    {
     "name": "stdout",
     "output_type": "stream",
     "text": [
      "Percentil 25: 6.00\n",
      "Percentil 50: 13.00\n",
      "Percentil 75: 67.00\n",
      "Percentil 95: 156.80\n"
     ]
    }
   ],
   "source": [
    "# Percentil 25 (1º quartil)\n",
    "print('Percentil 25: {:.2f}'.format(series.quantile(.25)))\n",
    "\n",
    "# Percentil 50 (2º quartil ou mediana)\n",
    "print('Percentil 50: {:.2f}'.format(series.quantile(.50)))\n",
    "\n",
    "# Percentil 75 (3º quartil)\n",
    "print('Percentil 75: {:.2f}'.format(series.quantile(.75)))\n",
    "\n",
    "# Percentil 95\n",
    "print('Percentil 95: {:.2f}'.format(series.quantile(.95)))"
   ]
  },
  {
   "cell_type": "markdown",
   "metadata": {
    "id": "iwYIAbay6N-d"
   },
   "source": [
    "## Calcule a tablea de frequências"
   ]
  },
  {
   "cell_type": "code",
   "execution_count": 106,
   "metadata": {
    "id": "TExAAgdU6N-d",
    "outputId": "7bbae47f-6125-46b9-ada9-3bbb89086f3e"
   },
   "outputs": [
    {
     "data": {
      "text/plain": "5      3\n7      2\n67     2\n13     1\n3      1\n6      1\n9      1\n33     1\n432    1\n35     1\n83     1\n57     1\n88     1\nName: 0, dtype: int64"
     },
     "execution_count": 106,
     "metadata": {},
     "output_type": "execute_result"
    }
   ],
   "source": [
    "series.value_counts()"
   ]
  },
  {
   "cell_type": "markdown",
   "metadata": {
    "id": "hvJMH0Rr6N-e"
   },
   "source": [
    "# Exercícios"
   ]
  },
  {
   "cell_type": "markdown",
   "metadata": {
    "id": "3LWiNtDCX7_7"
   },
   "source": [
    "## 1. Leia os arquivos `altura_homens.csv` e `altura_mulheres.csv`\n",
    "Esses arquivos contém as alturas (em cm) de 1000 homens e 1000 mulheres, respectivamente. \\\n",
    "Leia os arquivos e salve-os em uma variável contendo uma série Pandas com os dados respectivos.\n",
    "\n",
    "Armazene-os nas variáveis `men_height_series` e `women_height_series` respectivamente. \n",
    "\n",
    "Chame a função `q1.check()` no fim da célula para verificar a resposta.\n",
    "Você pode pedir dicas com `q1.hint()`"
   ]
  },
  {
   "cell_type": "code",
   "execution_count": 107,
   "metadata": {
    "id": "hbkmyaDU6N-f"
   },
   "outputs": [
    {
     "name": "stdout",
     "output_type": "stream",
     "text": [
      "Dados dos homens:\n"
     ]
    },
    {
     "name": "stderr",
     "output_type": "stream",
     "text": [
      "C:\\Users\\Miguel\\AppData\\Local\\Temp\\ipykernel_1644\\2274728281.py:4: FutureWarning: The squeeze argument has been deprecated and will be removed in a future version. Append .squeeze(\"columns\") to the call to squeeze.\n",
      "\n",
      "\n",
      "  men_height_series = pd.read_csv('./altura_homens.csv', index_col=False, header=None, squeeze=True)\n",
      "C:\\Users\\Miguel\\AppData\\Local\\Temp\\ipykernel_1644\\2274728281.py:5: FutureWarning: The squeeze argument has been deprecated and will be removed in a future version. Append .squeeze(\"columns\") to the call to squeeze.\n",
      "\n",
      "\n",
      "  women_height_series = pd.read_csv('./altura_mulheres.csv', index_col=False, header=None, squeeze=True)\n"
     ]
    },
    {
     "data": {
      "text/plain": "0      185.24\n1      172.64\n2      161.96\n3      163.68\n4      156.02\n        ...  \n995    171.91\n996    181.22\n997    162.80\n998    174.02\n999    163.19\nName: 0, Length: 1000, dtype: float64"
     },
     "metadata": {},
     "output_type": "display_data"
    },
    {
     "name": "stdout",
     "output_type": "stream",
     "text": [
      "Dados das mulheres:\n"
     ]
    },
    {
     "data": {
      "text/plain": "0      162.14\n1      146.68\n2      159.95\n3      171.98\n4      139.35\n        ...  \n995    161.83\n996    161.63\n997    162.94\n998    167.84\n999    149.25\nName: 0, Length: 1000, dtype: float64"
     },
     "metadata": {},
     "output_type": "display_data"
    },
    {
     "name": "stderr",
     "output_type": "stream",
     "text": [
      "C:\\Users\\Miguel\\anaconda3\\lib\\site-packages\\learntools_dados_ufv\\ccf425\\pratica_2.py:15: FutureWarning: The squeeze argument has been deprecated and will be removed in a future version. Append .squeeze(\"columns\") to the call to squeeze.\n",
      "\n",
      "\n",
      "  assert_series_equals(men_height_series, pd.read_csv('./altura_homens.csv', header=None, squeeze=True), name='men_height_series')\n",
      "C:\\Users\\Miguel\\anaconda3\\lib\\site-packages\\learntools_dados_ufv\\ccf425\\pratica_2.py:17: FutureWarning: The squeeze argument has been deprecated and will be removed in a future version. Append .squeeze(\"columns\") to the call to squeeze.\n",
      "\n",
      "\n",
      "  assert_series_equals(women_height_series, pd.read_csv('./altura_mulheres.csv', header=None, squeeze=True), name='women_height_series')\n"
     ]
    },
    {
     "data": {
      "text/plain": "<IPython.core.display.Javascript object>",
      "application/javascript": "parent.postMessage({\"jupyterEvent\": \"custom.exercise_interaction\", \"data\": {\"outcomeType\": 1, \"valueTowardsCompletion\": 0.06666666666666667, \"interactionType\": 1, \"questionType\": 2, \"questionId\": \"1_Q1\", \"learnToolsVersion\": \"1.0.10\", \"failureMessage\": \"\", \"exceptionClass\": \"\", \"trace\": \"\"}}, \"*\")"
     },
     "metadata": {},
     "output_type": "display_data"
    },
    {
     "data": {
      "text/plain": "CORRETO: \n",
      "text/markdown": "<span style=\"color:#33cc33\">CORRETO:</span> \n\n"
     },
     "metadata": {},
     "output_type": "display_data"
    }
   ],
   "source": [
    "# q1.hint()\n",
    "\n",
    "\n",
    "men_height_series = pd.read_csv('./altura_homens.csv', index_col=False, header=None, squeeze=True)\n",
    "women_height_series = pd.read_csv('./altura_mulheres.csv', index_col=False, header=None, squeeze=True)\n",
    "\n",
    "\n",
    "print('Dados dos homens:')\n",
    "display(men_height_series)\n",
    "\n",
    "print('Dados das mulheres:')\n",
    "display(women_height_series)\n",
    "\n",
    "q1.check()"
   ]
  },
  {
   "cell_type": "markdown",
   "metadata": {
    "id": "4l1slkIq6N-f"
   },
   "source": [
    "## 2. Recupere a altura mínima e máxima dos homens e das mulheres dessas amostras.\n",
    "Armazene a altura mínima e máxixma dos homens nas variáveis `men_min_height` e `men_max_height`, respectivamente. \\\n",
    "Armazene a altura mínima e máxixma das mulheres nas variáveis `women_min_height` e `women_max_height`, respectivamente. \n",
    "\n",
    "Chame a função `q2.check()` no fim da célula para verificar a resposta.\n",
    "Você pode pedir dicas com `q2.hint()`"
   ]
  },
  {
   "cell_type": "code",
   "execution_count": 108,
   "metadata": {
    "id": "zIpFkHRm6N-f"
   },
   "outputs": [
    {
     "data": {
      "text/plain": "<IPython.core.display.Javascript object>",
      "application/javascript": "parent.postMessage({\"jupyterEvent\": \"custom.exercise_interaction\", \"data\": {\"interactionType\": 2, \"questionType\": 2, \"questionId\": \"2_Q2\", \"learnToolsVersion\": \"1.0.10\", \"valueTowardsCompletion\": 0.0, \"failureMessage\": \"\", \"exceptionClass\": \"\", \"trace\": \"\", \"outcomeType\": 4}}, \"*\")"
     },
     "metadata": {},
     "output_type": "display_data"
    },
    {
     "data": {
      "text/plain": "Dica: Utilize a função `.max()` e `.min()` da classe Series do Pandas",
      "text/markdown": "<span style=\"color:#3366cc\">Dica:</span> Utilize a função `.max()` e `.min()` da classe Series do Pandas"
     },
     "metadata": {},
     "output_type": "display_data"
    },
    {
     "name": "stdout",
     "output_type": "stream",
     "text": [
      "A altura mínima dos homens é: 120.05\n",
      "A altura máxima dos homens é: 221.00\n",
      "A altura mínima das mulheres é: 132.82\n",
      "A altura máxima das mulheres é: 190.300000\n"
     ]
    },
    {
     "data": {
      "text/plain": "<IPython.core.display.Javascript object>",
      "application/javascript": "parent.postMessage({\"jupyterEvent\": \"custom.exercise_interaction\", \"data\": {\"outcomeType\": 1, \"valueTowardsCompletion\": 0.06666666666666667, \"interactionType\": 1, \"questionType\": 2, \"questionId\": \"2_Q2\", \"learnToolsVersion\": \"1.0.10\", \"failureMessage\": \"\", \"exceptionClass\": \"\", \"trace\": \"\"}}, \"*\")"
     },
     "metadata": {},
     "output_type": "display_data"
    },
    {
     "data": {
      "text/plain": "CORRETO: \n",
      "text/markdown": "<span style=\"color:#33cc33\">CORRETO:</span> \n\n"
     },
     "metadata": {},
     "output_type": "display_data"
    }
   ],
   "source": [
    "q2.hint()\n",
    "\n",
    "men_min_height = men_height_series.min()\n",
    "men_max_height = men_height_series.max()\n",
    "\n",
    "women_min_height = women_height_series.min()\n",
    "women_max_height = women_height_series.max()\n",
    "\n",
    "print('A altura mínima dos homens é: {:.2f}'.format(men_min_height))\n",
    "print('A altura máxima dos homens é: {:.2f}'.format(men_max_height))\n",
    "\n",
    "print('A altura mínima das mulheres é: {:.2f}'.format(women_min_height))\n",
    "print('A altura máxima das mulheres é: {:2f}'.format(women_max_height))\n",
    "\n",
    "q2.check()"
   ]
  },
  {
   "cell_type": "markdown",
   "metadata": {
    "id": "yR1mnJTd6N-g"
   },
   "source": [
    "## 3. Recupere a média de altura dos homens e das mulheres.\n",
    "Armazene-as nas variáveis `men_mean_height` e `women_mean_height`, respectivamente.\n",
    "\n",
    "Chame a função `q3.check()` no fim da célula para verificar a resposta.\n",
    "Você pode pedir dicas com `q3.hint()`"
   ]
  },
  {
   "cell_type": "code",
   "execution_count": 109,
   "metadata": {
    "id": "rxN-qiF46N-g"
   },
   "outputs": [
    {
     "name": "stdout",
     "output_type": "stream",
     "text": [
      "A altura média dos homens é: 175.06\n",
      "A altura média das mulheres é: 160.12\n"
     ]
    },
    {
     "data": {
      "text/plain": "<IPython.core.display.Javascript object>",
      "application/javascript": "parent.postMessage({\"jupyterEvent\": \"custom.exercise_interaction\", \"data\": {\"outcomeType\": 1, \"valueTowardsCompletion\": 0.06666666666666667, \"interactionType\": 1, \"questionType\": 2, \"questionId\": \"3_Q3\", \"learnToolsVersion\": \"1.0.10\", \"failureMessage\": \"\", \"exceptionClass\": \"\", \"trace\": \"\"}}, \"*\")"
     },
     "metadata": {},
     "output_type": "display_data"
    },
    {
     "data": {
      "text/plain": "CORRETO: \n",
      "text/markdown": "<span style=\"color:#33cc33\">CORRETO:</span> \n\n"
     },
     "metadata": {},
     "output_type": "display_data"
    }
   ],
   "source": [
    "# q3.hint()\n",
    "\n",
    "men_mean_height = men_height_series.mean()\n",
    "women_mean_height = women_height_series.mean()\n",
    "\n",
    "print('A altura média dos homens é: {:.2f}'.format(men_mean_height))\n",
    "print('A altura média das mulheres é: {:.2f}'.format(women_mean_height))\n",
    "\n",
    "q3.check()"
   ]
  },
  {
   "cell_type": "markdown",
   "metadata": {
    "id": "iUj-JKtH6N-h"
   },
   "source": [
    "## 4. Recupere a mediana de altura dos homens e das mulheres\n",
    "Armazene-as nas variáveis `men_median_height` e `women_median_height`, respectivamente.\n",
    "\n",
    "Chame a função `q4.check()` no fim da célula para verificar a resposta.\n",
    "Você pode pedir dicas com `q4.hint()`"
   ]
  },
  {
   "cell_type": "code",
   "execution_count": 110,
   "metadata": {
    "id": "gXpBOkD16N-h"
   },
   "outputs": [
    {
     "name": "stdout",
     "output_type": "stream",
     "text": [
      "O valor da mediana da altura dos homens é: 174.57\n",
      "O valor da mediana da altura das mulheres é: 160.06\n"
     ]
    },
    {
     "data": {
      "text/plain": "<IPython.core.display.Javascript object>",
      "application/javascript": "parent.postMessage({\"jupyterEvent\": \"custom.exercise_interaction\", \"data\": {\"outcomeType\": 1, \"valueTowardsCompletion\": 0.06666666666666667, \"interactionType\": 1, \"questionType\": 2, \"questionId\": \"4_Q4\", \"learnToolsVersion\": \"1.0.10\", \"failureMessage\": \"\", \"exceptionClass\": \"\", \"trace\": \"\"}}, \"*\")"
     },
     "metadata": {},
     "output_type": "display_data"
    },
    {
     "data": {
      "text/plain": "CORRETO: \n",
      "text/markdown": "<span style=\"color:#33cc33\">CORRETO:</span> \n\n"
     },
     "metadata": {},
     "output_type": "display_data"
    }
   ],
   "source": [
    "# q4.hint()\n",
    "\n",
    "men_median_height = men_height_series.median()\n",
    "women_median_height = women_height_series.median()\n",
    "\n",
    "print('O valor da mediana da altura dos homens é: {:.2f}'.format(men_median_height))\n",
    "print('O valor da mediana da altura das mulheres é: {:.2f}'.format(women_median_height))\n",
    "\n",
    "q4.check()"
   ]
  },
  {
   "cell_type": "markdown",
   "metadata": {
    "id": "NG4vw_Mq6N-h"
   },
   "source": [
    "## 5. Recupere o desvio padrão da altura dos homens e das mulheres\n",
    "Armazene-os nas variáveis `men_std_height` e `women_std_height`, respectivamente.\n",
    "\n",
    "Chame a função `q5.check()` no fim da célula para verificar a resposta.\n",
    "Você pode pedir dicas com `q5.hint()`"
   ]
  },
  {
   "cell_type": "code",
   "execution_count": 111,
   "metadata": {
    "id": "L6RQAmL06N-h"
   },
   "outputs": [
    {
     "name": "stdout",
     "output_type": "stream",
     "text": [
      "O valor do desvio padrão da altura dos homens é: 15.33\n",
      "O valor do desvio padrão da altura das mulheres é: 9.70\n"
     ]
    },
    {
     "data": {
      "text/plain": "<IPython.core.display.Javascript object>",
      "application/javascript": "parent.postMessage({\"jupyterEvent\": \"custom.exercise_interaction\", \"data\": {\"outcomeType\": 1, \"valueTowardsCompletion\": 0.06666666666666667, \"interactionType\": 1, \"questionType\": 2, \"questionId\": \"5_Q5\", \"learnToolsVersion\": \"1.0.10\", \"failureMessage\": \"\", \"exceptionClass\": \"\", \"trace\": \"\"}}, \"*\")"
     },
     "metadata": {},
     "output_type": "display_data"
    },
    {
     "data": {
      "text/plain": "CORRETO: \n",
      "text/markdown": "<span style=\"color:#33cc33\">CORRETO:</span> \n\n"
     },
     "metadata": {},
     "output_type": "display_data"
    }
   ],
   "source": [
    " #q5.hint()\n",
    "\n",
    "men_std_height = men_height_series.std()\n",
    "women_std_height = women_height_series.std()\n",
    "\n",
    "print('O valor do desvio padrão da altura dos homens é: {:.2f}'.format(men_std_height))\n",
    "print('O valor do desvio padrão da altura das mulheres é: {:.2f}'.format(women_std_height))\n",
    "\n",
    "q5.check()"
   ]
  },
  {
   "cell_type": "markdown",
   "metadata": {
    "id": "q1LPxmkH6N-i"
   },
   "source": [
    "## 6. Recupere o percentual de homens com altura menor que 160cm\n",
    "Armazene-o na variável `men_shorter_160cm_perc`.\n",
    "\n",
    "Chame a função `q6.check()` no fim da célula para verificar a resposta.\n",
    "Você pode pedir dicas com `q6.hint(n)` onde n é o número da dica."
   ]
  },
  {
   "cell_type": "code",
   "execution_count": 112,
   "metadata": {
    "id": "-_mMFHCH6N-i"
   },
   "outputs": [
    {
     "name": "stdout",
     "output_type": "stream",
     "text": [
      "15.6\n"
     ]
    },
    {
     "data": {
      "text/plain": "<IPython.core.display.Javascript object>",
      "application/javascript": "parent.postMessage({\"jupyterEvent\": \"custom.exercise_interaction\", \"data\": {\"outcomeType\": 1, \"valueTowardsCompletion\": 0.06666666666666667, \"interactionType\": 1, \"questionType\": 2, \"questionId\": \"6_Q6\", \"learnToolsVersion\": \"1.0.10\", \"failureMessage\": \"\", \"exceptionClass\": \"\", \"trace\": \"\"}}, \"*\")"
     },
     "metadata": {},
     "output_type": "display_data"
    },
    {
     "data": {
      "text/plain": "CORRETO: \n",
      "text/markdown": "<span style=\"color:#33cc33\">CORRETO:</span> \n\n"
     },
     "metadata": {},
     "output_type": "display_data"
    }
   ],
   "source": [
    " #q6.hint()\n",
    "\n",
    "men_shorter_160cm_perc = ((men_height_series[ men_height_series < 160].count())/(men_height_series.count())*100)\n",
    "print(men_shorter_160cm_perc)\n",
    "\n",
    "q6.check()"
   ]
  },
  {
   "cell_type": "markdown",
   "metadata": {
    "id": "c55mkSbN6N-i"
   },
   "source": [
    "## 7. Recupere o percentual de mulheres com altura maior que 180cm\n",
    "Armazene-o na variável `women_taller_180cm_perc`.\n",
    "\n",
    "Chame a função `q7.check()` no fim da célula para verificar a resposta.\n",
    "Você pode pedir dicas com `q7.hint(n)` onde n é o número da dica."
   ]
  },
  {
   "cell_type": "code",
   "execution_count": 113,
   "metadata": {
    "id": "QOhd5ItC6N-j"
   },
   "outputs": [
    {
     "name": "stdout",
     "output_type": "stream",
     "text": [
      "2.4\n"
     ]
    },
    {
     "data": {
      "text/plain": "<IPython.core.display.Javascript object>",
      "application/javascript": "parent.postMessage({\"jupyterEvent\": \"custom.exercise_interaction\", \"data\": {\"outcomeType\": 1, \"valueTowardsCompletion\": 0.06666666666666667, \"interactionType\": 1, \"questionType\": 2, \"questionId\": \"7_Q7\", \"learnToolsVersion\": \"1.0.10\", \"failureMessage\": \"\", \"exceptionClass\": \"\", \"trace\": \"\"}}, \"*\")"
     },
     "metadata": {},
     "output_type": "display_data"
    },
    {
     "data": {
      "text/plain": "CORRETO: \n",
      "text/markdown": "<span style=\"color:#33cc33\">CORRETO:</span> \n\n"
     },
     "metadata": {},
     "output_type": "display_data"
    }
   ],
   "source": [
    "# q7.hint()\n",
    "\n",
    "women_taller_180cm_perc = ((women_height_series[women_height_series > 180]).count()) / women_height_series.count() * 100\n",
    "print(women_taller_180cm_perc)\n",
    "\n",
    "q7.check()"
   ]
  },
  {
   "cell_type": "markdown",
   "metadata": {
    "id": "xSwdN_-m6N-j"
   },
   "source": [
    "## 8. Um homem com altura 185cm está em qual percentil?\n",
    "Armazene a resposta na variável `men_185cm_percentile`.\n",
    "\n",
    "Chame a função `q8.check()` no fim da célula para verificar a resposta.\n",
    "Você pode pedir dicas com `q8.hint(n)` onde n é o número da dica."
   ]
  },
  {
   "cell_type": "code",
   "execution_count": 114,
   "metadata": {
    "id": "4TNFrDoU6N-j"
   },
   "outputs": [
    {
     "name": "stdout",
     "output_type": "stream",
     "text": [
      "73.9\n"
     ]
    },
    {
     "data": {
      "text/plain": "<IPython.core.display.Javascript object>",
      "application/javascript": "parent.postMessage({\"jupyterEvent\": \"custom.exercise_interaction\", \"data\": {\"outcomeType\": 1, \"valueTowardsCompletion\": 0.06666666666666667, \"interactionType\": 1, \"questionType\": 2, \"questionId\": \"8_Q8\", \"learnToolsVersion\": \"1.0.10\", \"failureMessage\": \"\", \"exceptionClass\": \"\", \"trace\": \"\"}}, \"*\")"
     },
     "metadata": {},
     "output_type": "display_data"
    },
    {
     "data": {
      "text/plain": "CORRETO: \n",
      "text/markdown": "<span style=\"color:#33cc33\">CORRETO:</span> \n\n"
     },
     "metadata": {},
     "output_type": "display_data"
    }
   ],
   "source": [
    "#q8.hint()\n",
    "\n",
    "men_185cm_percentile = percentileofscore(men_height_series, 185)\n",
    "print(men_185cm_percentile)\n",
    "\n",
    "q8.check()"
   ]
  },
  {
   "cell_type": "markdown",
   "metadata": {
    "id": "BbQPQ7w86N-j"
   },
   "source": [
    "## 9. Uma mulher com altura 150cm está em qual percentil?\n",
    "Armazene a resposta na variável `women_150cm_percentile`.\n",
    "\n",
    "Chame a função `q9.check()` no fim da célula para verificar a resposta.\n",
    "Você pode pedir dicas com `q9.hint(n)` onde n é o número da dica."
   ]
  },
  {
   "cell_type": "code",
   "execution_count": 115,
   "metadata": {
    "id": "geFe-w0W6N-j"
   },
   "outputs": [
    {
     "name": "stdout",
     "output_type": "stream",
     "text": [
      "14.600000000000001\n"
     ]
    },
    {
     "data": {
      "text/plain": "<IPython.core.display.Javascript object>",
      "application/javascript": "parent.postMessage({\"jupyterEvent\": \"custom.exercise_interaction\", \"data\": {\"outcomeType\": 1, \"valueTowardsCompletion\": 0.06666666666666667, \"interactionType\": 1, \"questionType\": 2, \"questionId\": \"9_Q9\", \"learnToolsVersion\": \"1.0.10\", \"failureMessage\": \"\", \"exceptionClass\": \"\", \"trace\": \"\"}}, \"*\")"
     },
     "metadata": {},
     "output_type": "display_data"
    },
    {
     "data": {
      "text/plain": "CORRETO: \n",
      "text/markdown": "<span style=\"color:#33cc33\">CORRETO:</span> \n\n"
     },
     "metadata": {},
     "output_type": "display_data"
    }
   ],
   "source": [
    "# q9.hint()\n",
    "\n",
    "women_150cm_percentile = percentileofscore(women_height_series, 150)\n",
    "print(women_150cm_percentile)\n",
    "\n",
    "q9.check()"
   ]
  },
  {
   "cell_type": "markdown",
   "metadata": {
    "id": "2zHbXl136N-k"
   },
   "source": [
    "## 10. Quais as três alturas de homens que são as mais frequentes? Quantos homens possuem, no total, essas alturas?\n",
    "Armazene a resposta das perguntas nas variáveis `men_top3_height` e `men_in_top3_height` respectivamente.\n",
    "\n",
    "Chame a função `q10.check()` no fim da célula para verificar a resposta.\n",
    "Você pode pedir dicas com `q10.hint(n)` onde n é o número da dica."
   ]
  },
  {
   "cell_type": "code",
   "execution_count": 116,
   "metadata": {
    "id": "W8J2Sjv2X7_7"
   },
   "outputs": [
    {
     "data": {
      "text/plain": "<IPython.core.display.Javascript object>",
      "application/javascript": "parent.postMessage({\"jupyterEvent\": \"custom.exercise_interaction\", \"data\": {\"interactionType\": 2, \"questionType\": 2, \"questionId\": \"10_Q10\", \"learnToolsVersion\": \"1.0.10\", \"valueTowardsCompletion\": 0.0, \"failureMessage\": \"\", \"exceptionClass\": \"\", \"trace\": \"\", \"outcomeType\": 4}}, \"*\")"
     },
     "metadata": {},
     "output_type": "display_data"
    },
    {
     "data": {
      "text/plain": "Dica 3: Pesquise sobre a função `iloc` da classe Series do Pandas\n(Para outra dica, chame `.hint(4)`)",
      "text/markdown": "<span style=\"color:#3366cc\">Dica 3:</span> Pesquise sobre a função `iloc` da classe Series do Pandas\n(Para outra dica, chame `.hint(4)`)"
     },
     "metadata": {},
     "output_type": "display_data"
    },
    {
     "name": "stdout",
     "output_type": "stream",
     "text": [
      "As alturas mais frequentes dos homens são:  169.97    3\n",
      "174.38    3\n",
      "169.17    3\n",
      "Name: 0, dtype: int64\n",
      "A quantidade de homens que possuem essas alturas são:  9\n"
     ]
    },
    {
     "name": "stderr",
     "output_type": "stream",
     "text": [
      "C:\\Users\\Miguel\\anaconda3\\lib\\site-packages\\learntools_dados_ufv\\ccf425\\pratica_2.py:194: FutureWarning: iteritems is deprecated and will be removed in a future version. Use .items instead.\n",
      "  for i, _row in men_top3_height.iteritems():\n"
     ]
    },
    {
     "data": {
      "text/plain": "<IPython.core.display.Javascript object>",
      "application/javascript": "parent.postMessage({\"jupyterEvent\": \"custom.exercise_interaction\", \"data\": {\"outcomeType\": 1, \"valueTowardsCompletion\": 0.06666666666666667, \"interactionType\": 1, \"questionType\": 2, \"questionId\": \"10_Q10\", \"learnToolsVersion\": \"1.0.10\", \"failureMessage\": \"\", \"exceptionClass\": \"\", \"trace\": \"\"}}, \"*\")"
     },
     "metadata": {},
     "output_type": "display_data"
    },
    {
     "data": {
      "text/plain": "CORRETO: \n",
      "text/markdown": "<span style=\"color:#33cc33\">CORRETO:</span> \n\n"
     },
     "metadata": {},
     "output_type": "display_data"
    }
   ],
   "source": [
    "q10.hint(3)\n",
    "\n",
    "men_top3_height = men_height_series.value_counts().head(3)\n",
    "men_in_top3_height = int(men_top3_height.sum())\n",
    "\n",
    "\n",
    "print('As alturas mais frequentes dos homens são: ', men_top3_height)\n",
    "print('A quantidade de homens que possuem essas alturas são: ', men_in_top3_height)\n",
    "\n",
    "q10.check()"
   ]
  },
  {
   "cell_type": "markdown",
   "metadata": {
    "id": "l6UIY12o6N-k"
   },
   "source": [
    "## 11. Uma mulher com altura 185cm está distante quantos desvios padrões da média das mulheres? E uma de 145cm?\n",
    "Armazene as respostas das perguntas nas variáveis `women_185cm_std_distance` e `women_145cm_std_distance` respectivamente.\n",
    "\n",
    "Chame a função `q11.check()` no fim da célula para verificar a resposta.\n",
    "Você pode pedir dicas com `q11.hint(n)` onde n é o número da dica."
   ]
  },
  {
   "cell_type": "code",
   "execution_count": 117,
   "metadata": {
    "id": "-OGk4gRy6N-k"
   },
   "outputs": [
    {
     "name": "stdout",
     "output_type": "stream",
     "text": [
      "A quantidade de desvios padrões distante da média de uma mulher de 185cm é:  2.5646950867821694\n",
      "A quantidade de desvios padrões distante da média de uma mulher de 145cm é:  1.5580637393733232\n"
     ]
    },
    {
     "data": {
      "text/plain": "<IPython.core.display.Javascript object>",
      "application/javascript": "parent.postMessage({\"jupyterEvent\": \"custom.exercise_interaction\", \"data\": {\"outcomeType\": 1, \"valueTowardsCompletion\": 0.06666666666666667, \"interactionType\": 1, \"questionType\": 2, \"questionId\": \"11_Q11\", \"learnToolsVersion\": \"1.0.10\", \"failureMessage\": \"\", \"exceptionClass\": \"\", \"trace\": \"\"}}, \"*\")"
     },
     "metadata": {},
     "output_type": "display_data"
    },
    {
     "data": {
      "text/plain": "CORRETO: \n",
      "text/markdown": "<span style=\"color:#33cc33\">CORRETO:</span> \n\n"
     },
     "metadata": {},
     "output_type": "display_data"
    }
   ],
   "source": [
    "#q11.hint()\n",
    "\n",
    "women_185cm_std_distance = abs((185 - women_mean_height) / women_std_height)\n",
    "women_145cm_std_distance = abs((145 - women_mean_height) / women_std_height)\n",
    "\n",
    "\n",
    "print('A quantidade de desvios padrões distante da média de uma mulher de 185cm é: ', women_185cm_std_distance)\n",
    "print('A quantidade de desvios padrões distante da média de uma mulher de 145cm é: ', women_145cm_std_distance)\n",
    "\n",
    "q11.check()"
   ]
  },
  {
   "cell_type": "code",
   "execution_count": 118,
   "outputs": [
    {
     "name": "stdout",
     "output_type": "stream",
     "text": [
      "55\n"
     ]
    }
   ],
   "source": [
    "\n",
    "women_165 = len([h for h in women_height_series if 149.51 < h < 151.51])\n",
    "print(women_165)\n"
   ],
   "metadata": {
    "collapsed": false
   }
  },
  {
   "cell_type": "markdown",
   "metadata": {
    "id": "-UYhCR6h6N-k"
   },
   "source": [
    "## 12.\n",
    "É possível afirmar com determinado grau de confiança que uma pessoa com altura 150cm é um homem ou uma mulher?\n",
    "- E uma pessoa com altura 190cm?\n",
    "- E uma pessoa com altura 165cm?\n",
    "\n",
    "\n",
    "Esta questão não possui `check`.\n",
    "Mas você pode pedir dica com `q12.hint()`."
   ]
  },
  {
   "cell_type": "markdown",
   "metadata": {
    "id": "cwPzokLT6N-l"
   },
   "source": [
    "### Resposta:\n",
    "\n",
    "### 1\n",
    "#### Não diria que é possível afirmar com um alto grau confiança, pois as análises que fiz foram rasas para tirar uma conclusão definitiva. Porém, é fato que a probabilidade de uma pessoa de 150 cm ser mulher é mais alta que dos homens: Essa pessoa está a 1.04(1.6 nos homens) desvios padrões da média das mulheres,  e a probabilidade de uma mulher ter uma altura <=150cm é de 15% (5% nos homens). Apesar dos números serem favoráveis as mulheres, creio que uma análise mais profunda seria necessária para tirar uma conclusão definitiva, como um Teste de Hipótese.\n",
    "\n",
    "### 2\n",
    "#### Já a probabilidade de uma pessoa de 190cm ser homem já é possível afirmar com um alto grau de confiança, pois a probabilidade de uma mulher ter altura maior ou igual a 190cm é de 0.1% (15% nos homens).\n",
    "\n",
    "### 3\n",
    "#### Bom, novamente essa estatística é favorável as mulheres, existe muito mais mulheres com altura <=165 (69%)  do que homem (25,6%), por exemplo. Esta estatística junto com a primeira é mais favorável as mulheres, porém, como já dito anteriormente, uma análise mais profunda seria necessária para tirar uma conclusão definitiva, diferentemente da segunda que só de olhar claramente conseguimos afimar com um alto grau de confiança que essa pessoa é um homem.\n",
    "\n",
    "#### EM RESUMO, sem fazer um teste de hipótese:\n",
    "##### 1 - Mulher com um grau, \"ok\", de confiança\n",
    "##### 2 - Homem com um altíssimo grau de confiança\n",
    "##### 3 - Mulher com um baixo grau de confiança"
   ]
  },
  {
   "cell_type": "markdown",
   "metadata": {
    "id": "pIjaC7iX6N-l"
   },
   "source": [
    "## 13. As alturas dos homens e mulheres seguem uma distribuição Normal?\n",
    "Justifique a sua resposta com evidências.\n",
    "\n",
    "Esta questão não possui `check`.\n",
    "Mas você pode pedir dica com `q13.hint()`."
   ]
  },
  {
   "cell_type": "markdown",
   "metadata": {
    "id": "tK-zrYat6N-l"
   },
   "source": [
    "### Resposta:\n",
    "\n",
    "#### A olho nu, parece sim seguir uma normal, baseado nas médias, medianas e em alguns outliers, como um homem de 120cm e uma mulher de 190cm. Pesquisei como poderia fazer um teste de normalidade e encontrei o teste de Shapiro-Wilk. Estudei e fiz alguns testes e realmente pareceu seguir uma distribuição Normal. Porém, para ter certeza, projetei um gráfico usando matplotlib e ficou claro que a distribuição é normal. Abaixo segue o código e o gráfico."
   ]
  },
  {
   "cell_type": "code",
   "execution_count": 119,
   "outputs": [
    {
     "data": {
      "text/plain": "<Figure size 640x480 with 1 Axes>",
      "image/png": "[encoded data removed]"
     },
     "metadata": {},
     "output_type": "display_data"
    }
   ],
   "source": [
    "import matplotlib.pyplot as plt\n",
    "from scipy.stats import probplot\n",
    "\n",
    "# Criar histograma para as alturas dos homens e mulheres\n",
    "plt.hist(men_height_series, alpha=0.5, label='Homens')\n",
    "plt.hist(women_height_series, alpha=0.5, label='Mulheres')\n",
    "plt.legend()\n",
    "plt.title('Distribuição das alturas')\n",
    "plt.xlabel('Altura (cm)')\n",
    "plt.ylabel('Frequência')\n",
    "plt.show()"
   ],
   "metadata": {
    "collapsed": false
   }
  },
  {
   "cell_type": "markdown",
   "source": [
    "#### Com algumas outras pesquisas, vi que existe um Gráfico Q-Q. Fiz o teste e também ficou claro que a distribuição é normal, segue um código projetado pelo ChatGPT-3 e sua definição: 'No gráfico Q-Q, os valores observados são plotados no eixo vertical e os valores esperados de uma distribuição normal são plotados no eixo horizontal. Se os dados seguirem uma distribuição normal, os pontos no gráfico devem se aproximar de uma linha diagonal. Se houver desvios significativos da linha diagonal, isso pode indicar que a distribuição dos dados não é normal.' Como não fazia ideia desse Gráfico Q-Q achei justo colocar um código projetado por uma IA."
   ],
   "metadata": {
    "collapsed": false
   }
  },
  {
   "cell_type": "code",
   "execution_count": 120,
   "metadata": {
    "id": "vQwdE6_c6N-l"
   },
   "outputs": [
    {
     "data": {
      "text/plain": "<Figure size 640x480 with 1 Axes>",
      "image/png": "[encoded data removed]"
     },
     "metadata": {},
     "output_type": "display_data"
    },
    {
     "data": {
      "text/plain": "<Figure size 640x480 with 1 Axes>",
      "image/png": "[encoded data removed]"
     },
     "metadata": {},
     "output_type": "display_data"
    }
   ],
   "source": [
    "# Criar gráfico de probabilidade normal para as alturas dos homens\n",
    "plt.figure()\n",
    "probplot(men_height_series, plot=plt)\n",
    "plt.title('Gráfico de probabilidade normal para as alturas dos homens')\n",
    "plt.xlabel('Quantis teóricos')\n",
    "plt.ylabel('Quantis observados')\n",
    "plt.show()\n",
    "\n",
    "# Criar gráfico de probabilidade normal para as alturas das mulheres\n",
    "plt.figure()\n",
    "probplot(women_height_series, plot=plt)\n",
    "plt.title('Gráfico de probabilidade normal para as alturas das mulheres')\n",
    "plt.xlabel('Quantis teóricos')\n",
    "plt.ylabel('Quantis observados')\n",
    "plt.show()\n",
    "\n"
   ]
  },
  {
   "cell_type": "markdown",
   "metadata": {
    "id": "-JAYWMS86N-m"
   },
   "source": [
    "## 14. Para que serve a função “describe()” de uma Series?\n",
    "Justifique a sua resposta com evidências.\n",
    "\n",
    "Esta questão não possui `check`.\n",
    "Mas você pode pedir dica com `q14.hint()`."
   ]
  },
  {
   "cell_type": "markdown",
   "metadata": {
    "id": "YBedgadj6N-m"
   },
   "source": [
    "### Resposta:\n",
    "\n",
    "#### A função describe() retorna um resumo estatístico de uma Series. Ela retorna a média, desvio padrão, valor mínimo, valor máximo, quartis e a frequência de cada valor. Abaixo segue um exemplo de como ela funciona:"
   ]
  },
  {
   "cell_type": "code",
   "execution_count": 121,
   "metadata": {
    "id": "4wGK0w2q6N-m"
   },
   "outputs": [
    {
     "data": {
      "text/plain": "count    1000.000000\nmean      175.058900\nstd        15.325255\nmin       120.050000\n25%       164.800000\n50%       174.575000\n75%       185.590000\nmax       221.000000\nName: 0, dtype: float64"
     },
     "execution_count": 121,
     "metadata": {},
     "output_type": "execute_result"
    }
   ],
   "source": [
    "# q14.hint()\n",
    "describe = men_height_series.describe()\n",
    "describe"
   ]
  },
  {
   "cell_type": "markdown",
   "metadata": {
    "id": "4ejAqiK26N-m"
   },
   "source": [
    "## 15. Para que serve a função \"unique()” de uma Series?\n",
    "Justifique a sua resposta com evidências.\n",
    "\n",
    "Esta questão não possui `check`.\n",
    "Mas você pode pedir dica com `q15.hint()`."
   ]
  },
  {
   "cell_type": "markdown",
   "metadata": {
    "id": "4kpaRk-m6N-m"
   },
   "source": [
    "### Resposta:\n",
    "\n",
    "#### A função unique() retorna os valores únicos de uma Series. Abaixo segue um exemplo de como ela funciona: Por exemplo na altura dos homens, 910 eram alturas únicas."
   ]
  },
  {
   "cell_type": "code",
   "execution_count": 122,
   "metadata": {
    "id": "-XNk--_A6N-m"
   },
   "outputs": [
    {
     "name": "stdout",
     "output_type": "stream",
     "text": [
      "910\n"
     ]
    },
    {
     "data": {
      "text/plain": "array([185.24, 172.64, 161.96, 163.68, 156.02, 191.98, 189.86, 199.45,\n       187.44, 167.37, 176.55, 167.59, 179.1 , 185.89, 169.33, 168.87,\n       164.33, 170.82, 159.55, 172.67, 180.7 , 198.36, 177.06, 183.35,\n       170.87, 159.79, 175.42, 181.83, 159.43, 183.77, 161.69, 178.27,\n       202.19, 184.51, 185.49, 175.84, 145.36, 164.84, 199.64, 170.22,\n       161.64, 164.21, 152.95, 163.62, 195.44, 177.25, 185.19, 168.11,\n       175.19, 177.4 , 151.27, 182.41, 173.64, 170.78, 170.23, 218.04,\n       207.77, 160.48, 187.69, 138.37, 173.34, 146.57, 204.05, 164.88,\n       150.17, 162.98, 193.3 , 176.73, 187.12, 174.25, 174.32, 188.89,\n       181.91, 175.11, 164.74, 165.2 , 172.48, 177.58, 186.12, 144.12,\n       185.79, 195.56, 158.8 , 204.1 , 158.68, 165.43, 189.61, 199.22,\n       164.13, 179.05, 203.05, 194.39, 166.78, 170.66, 185.44, 178.62,\n       164.96, 170.41, 166.94, 196.69, 184.85, 201.62, 165.87, 162.82,\n       174.08, 159.2 , 167.55, 170.11, 199.6 , 156.9 , 196.27, 175.08,\n       191.08, 188.66, 170.9 , 174.85, 174.54, 155.07, 188.69, 199.35,\n       162.23, 188.92, 146.12, 175.44, 171.48, 165.56, 188.31, 179.67,\n       162.36, 180.23, 171.62, 163.28, 151.24, 167.75, 169.17, 177.82,\n       169.97, 180.49, 150.72, 177.61, 164.  , 173.38, 190.1 , 212.21,\n       181.37, 168.81, 190.82, 187.27, 166.1 , 196.48, 182.33, 190.76,\n       167.23, 167.22, 174.58, 189.96, 193.45, 163.26, 180.45, 198.76,\n       141.35, 166.9 , 181.54, 188.1 , 182.03, 182.91, 152.54, 189.64,\n       147.06, 183.53, 196.54, 167.79, 184.57, 172.05, 189.52, 199.  ,\n       194.19, 164.05, 177.44, 146.22, 175.22, 190.41, 176.77, 195.13,\n       171.67, 158.11, 153.62, 210.52, 192.62, 165.54, 151.57, 167.96,\n       184.34, 163.35, 160.34, 169.93, 204.35, 161.43, 140.85, 203.31,\n       189.38, 192.57, 211.07, 197.51, 192.26, 170.85, 166.71, 158.27,\n       172.99, 181.71, 185.13, 162.34, 186.2 , 179.58, 188.53, 156.51,\n       171.56, 173.96, 163.46, 189.31, 188.79, 158.66, 183.4 , 217.06,\n       164.54, 175.47, 172.96, 172.7 , 174.59, 170.59, 164.8 , 213.96,\n       174.07, 163.67, 165.25, 192.55, 171.61, 161.47, 155.08, 139.26,\n       169.85, 165.09, 207.43, 186.34, 155.84, 156.05, 184.23, 185.16,\n       155.8 , 150.98, 193.28, 169.43, 176.14, 174.02, 211.35, 171.06,\n       139.21, 163.42, 166.22, 187.61, 180.57, 189.51, 182.43, 152.17,\n       184.61, 179.87, 138.61, 196.49, 189.97, 169.16, 188.08, 167.95,\n       150.32, 161.32, 202.12, 159.01, 206.33, 176.37, 172.72, 188.57,\n       153.26, 188.26, 217.74, 178.15, 169.12, 177.01, 200.23, 181.11,\n       183.22, 172.3 , 171.9 , 162.5 , 177.07, 189.75, 165.02, 183.78,\n       179.28, 157.39, 133.85, 174.68, 165.04, 143.67, 176.79, 175.6 ,\n       174.06, 144.5 , 177.56, 170.04, 164.47, 176.57, 198.56, 180.75,\n       160.96, 181.31, 173.76, 183.99, 196.13, 199.63, 186.  , 216.63,\n       160.56, 144.27, 170.84, 146.61, 195.3 , 184.64, 163.2 , 176.86,\n       181.84, 185.59, 154.75, 161.38, 178.69, 172.62, 168.04, 183.62,\n       181.07, 166.09, 165.77, 173.8 , 174.38, 181.12, 161.6 , 171.07,\n       174.78, 166.53, 183.98, 174.97, 167.36, 173.91, 184.46, 194.24,\n       194.89, 173.98, 194.72, 167.45, 201.35, 189.78, 176.33, 208.68,\n       156.34, 182.55, 167.48, 183.73, 161.76, 190.78, 187.71, 153.3 ,\n       161.11, 184.19, 188.22, 179.92, 142.94, 173.72, 155.04, 190.16,\n       182.83, 183.9 , 204.79, 171.29, 162.99, 178.  , 198.32, 189.11,\n       179.47, 168.98, 193.7 , 178.6 , 202.5 , 172.08, 188.84, 148.95,\n       173.83, 193.1 , 203.54, 155.27, 162.06, 181.88, 165.51, 159.29,\n       162.01, 188.62, 156.84, 183.48, 199.86, 153.21, 167.94, 172.94,\n       176.75, 186.29, 179.53, 152.97, 183.76, 173.69, 160.84, 177.75,\n       201.27, 186.36, 174.44, 173.21, 182.26, 174.57, 187.72, 177.13,\n       162.79, 164.09, 188.63, 171.31, 153.51, 180.83, 196.21, 161.56,\n       189.88, 166.72, 165.55, 163.49, 170.58, 171.57, 180.26, 205.67,\n       183.01, 182.14, 190.13, 183.86, 170.92, 198.04, 174.98, 165.37,\n       166.86, 167.43, 184.86, 170.98, 178.54, 182.53, 187.82, 174.72,\n       195.6 , 200.07, 183.71, 162.85, 171.3 , 201.03, 173.27, 154.16,\n       174.41, 195.62, 207.6 , 171.41, 184.8 , 154.94, 120.05, 175.48,\n       175.93, 179.22, 172.18, 156.86, 185.57, 149.55, 154.52, 196.57,\n       181.97, 154.26, 179.57, 174.77, 168.92, 158.35, 170.93, 189.15,\n       193.93, 178.25, 185.72, 166.15, 172.8 , 174.14, 174.17, 193.66,\n       198.62, 164.34, 177.74, 161.23, 169.21, 149.09, 171.27, 183.46,\n       192.51, 163.04, 188.35, 164.79, 183.15, 157.62, 175.54, 152.4 ,\n       149.96, 190.45, 180.47, 189.39, 164.4 , 179.91, 191.  , 205.43,\n       169.09, 186.99, 172.16, 177.63, 181.68, 210.64, 169.44, 205.54,\n       174.86, 200.66, 175.37, 142.62, 172.86, 173.4 , 147.31, 162.64,\n       161.82, 174.43, 193.36, 174.6 , 200.25, 194.3 , 176.85, 181.29,\n       173.89, 159.56, 168.97, 191.22, 188.64, 186.76, 163.34, 172.76,\n       201.38, 191.56, 192.33, 170.28, 183.27, 185.86, 170.24, 180.86,\n       180.32, 176.13, 143.9 , 176.44, 140.12, 140.33, 198.12, 168.08,\n       170.75, 191.12, 187.39, 168.63, 202.05, 155.44, 163.52, 144.66,\n       184.03, 180.34, 201.65, 179.72, 151.75, 177.15, 151.49, 152.07,\n       167.15, 171.28, 154.82, 177.21, 182.52, 167.88, 199.88, 163.41,\n       166.2 , 157.36, 187.13, 168.89, 178.96, 171.86, 154.64, 151.45,\n       189.2 , 160.74, 187.67, 200.55, 174.45, 160.37, 175.26, 176.11,\n       177.54, 175.36, 172.23, 178.8 , 188.97, 155.05, 159.75, 179.34,\n       193.38, 173.53, 185.74, 144.78, 196.41, 157.98, 163.43, 172.9 ,\n       177.91, 177.11, 152.5 , 150.6 , 167.04, 170.94, 165.1 , 183.63,\n       180.4 , 164.95, 147.99, 198.45, 186.07, 204.28, 175.73, 189.44,\n       187.45, 176.69, 164.58, 164.06, 138.62, 184.67, 178.43, 170.29,\n       195.11, 202.26, 146.84, 196.73, 151.92, 198.11, 159.15, 159.95,\n       170.71, 177.1 , 209.19, 176.41, 189.71, 153.34, 139.88, 180.14,\n       183.89, 161.29, 159.18, 192.59, 158.98, 156.64, 184.82, 160.66,\n       169.99, 163.17, 161.45, 147.5 , 173.55, 168.18, 156.71, 194.17,\n       175.31, 183.56, 185.03, 182.48, 180.01, 135.76, 187.4 , 173.95,\n       158.9 , 206.3 , 179.89, 167.49, 174.92, 171.78, 174.13, 185.64,\n       178.09, 160.42, 169.32, 166.21, 166.69, 191.67, 181.28, 171.72,\n       211.05, 185.97, 169.68, 174.95, 186.93, 168.12, 162.37, 188.88,\n       191.01, 175.68, 167.66, 159.82, 181.3 , 158.39, 160.44, 183.17,\n       174.88, 165.69, 187.22, 179.96, 184.72, 192.27, 172.12, 175.14,\n       183.37, 173.16, 172.47, 148.86, 135.45, 161.74, 188.61, 155.63,\n       184.52, 131.99, 139.01, 183.02, 165.53, 221.  , 173.56, 174.29,\n       154.22, 187.94, 162.54, 180.46, 146.69, 156.11, 177.39, 172.79,\n       191.7 , 178.86, 192.61, 175.58, 189.22, 153.66, 147.51, 163.19,\n       171.53, 193.08, 190.39, 181.73, 158.06, 172.28, 185.82, 197.45,\n       173.99, 176.26, 155.92, 170.08, 170.8 , 152.73, 174.34, 171.01,\n       178.12, 182.22, 180.87, 196.37, 156.45, 169.06, 169.83, 188.5 ,\n       166.25, 194.94, 142.58, 173.74, 166.16, 153.16, 180.19, 170.76,\n       155.68, 178.24, 171.99, 174.73, 189.32, 179.32, 175.78, 159.93,\n       169.73, 211.16, 209.13, 171.2 , 171.35, 180.73, 180.56, 196.98,\n       203.48, 143.6 , 192.83, 172.09, 177.71, 190.93, 153.37, 151.13,\n       161.02, 193.59, 169.07, 191.64, 170.95, 175.71, 163.14, 145.13,\n       145.94, 153.93, 188.06, 203.78, 161.99, 159.63, 175.65, 186.82,\n       180.98, 167.7 , 187.74, 195.63, 191.75, 178.38, 195.77, 198.75,\n       152.15, 179.66, 149.86, 140.36, 173.58, 180.43, 181.16, 121.84,\n       168.64, 173.22, 156.6 , 188.56, 183.45, 194.51, 159.77, 154.25,\n       157.09, 169.55, 156.44, 175.06, 197.91, 152.25, 192.14, 184.55,\n       162.07, 187.31, 177.52, 161.75, 165.17, 184.49, 177.62, 167.03,\n       182.64, 156.79, 170.97, 176.74, 170.35, 182.88, 155.94, 190.74,\n       190.31, 176.98, 181.95, 188.59, 188.72, 159.36, 185.27, 181.49,\n       147.23, 173.1 , 164.75, 173.36, 154.06, 164.48, 190.22, 190.19,\n       203.4 , 170.51, 171.65, 164.83, 181.92, 163.39, 155.32, 162.47,\n       177.79, 186.31, 178.75, 171.91, 181.22, 162.8 ])"
     },
     "execution_count": 122,
     "metadata": {},
     "output_type": "execute_result"
    }
   ],
   "source": [
    "#q15.hint()\n",
    "unique = men_height_series.unique()\n",
    "print(len(unique))\n",
    "unique"
   ]
  }
 ],
 "metadata": {
  "colab": {
   "provenance": []
  },
  "kernelspec": {
   "display_name": "Python 3",
   "language": "python",
   "name": "python3"
  },
  "language_info": {
   "codemirror_mode": {
    "name": "ipython",
    "version": 3
   },
   "file_extension": ".py",
   "mimetype": "text/x-python",
   "name": "python",
   "nbconvert_exporter": "python",
   "pygments_lexer": "ipython3",
   "version": "3.9.12"
  }
 },
 "nbformat": 4,
 "nbformat_minor": 0
}
