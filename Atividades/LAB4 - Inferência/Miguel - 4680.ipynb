{
 "cells": [
  {
   "cell_type": "code",
   "execution_count": 1,
   "metadata": {
    "collapsed": true
   },
   "outputs": [],
   "source": [
    "SUB SAHARAN AFRICAimport pandas as pd\n",
    "from scipy import stats"
   ]
  },
  {
   "cell_type": "markdown",
   "source": [
    "### Exercício 01"
   ],
   "metadata": {
    "collapsed": false
   }
  },
  {
   "cell_type": "code",
   "execution_count": 2,
   "outputs": [
    {
     "name": "stderr",
     "output_type": "stream",
     "text": [
      "C:\\Users\\Miguel\\AppData\\Local\\Temp\\ipykernel_9768\\3003863123.py:3: FutureWarning: The squeeze argument has been deprecated and will be removed in a future version. Append .squeeze(\"columns\") to the call to squeeze.\n",
      "\n",
      "\n",
      "  ia171 = pd.read_csv(\"./dados/atraso_ia171.csv\", index_col= False, header = None, squeeze=True)\n"
     ]
    },
    {
     "data": {
      "text/plain": "0     511.28\n1     494.68\n2     507.27\n3     461.34\n4     464.77\n       ...  \n95    545.39\n96    496.13\n97    504.65\n98    512.12\n99    485.72\nName: 0, Length: 100, dtype: float64"
     },
     "metadata": {},
     "output_type": "display_data"
    }
   ],
   "source": [
    "#Leitura dos dados\n",
    "\n",
    "ia171 = pd.read_csv(\"./dados/atraso_ia171.csv\", index_col= False, header = None, squeeze=True)\n",
    "display(ia171)"
   ],
   "metadata": {
    "collapsed": false
   }
  },
  {
   "cell_type": "code",
   "execution_count": 3,
   "outputs": [
    {
     "name": "stderr",
     "output_type": "stream",
     "text": [
      "C:\\Users\\Miguel\\AppData\\Local\\Temp\\ipykernel_9768\\1211101478.py:3: FutureWarning: The squeeze argument has been deprecated and will be removed in a future version. Append .squeeze(\"columns\") to the call to squeeze.\n",
      "\n",
      "\n",
      "  ie666 = pd.read_csv(\"./dados/atraso_ie666.csv\", index_col= False, header = None, squeeze=True)\n"
     ]
    },
    {
     "data": {
      "text/plain": "0     278.03\n1     135.09\n2     196.68\n3     258.81\n4     230.07\n       ...  \n95    191.78\n96    238.73\n97    176.90\n98    122.68\n99    234.77\nName: 0, Length: 100, dtype: float64"
     },
     "metadata": {},
     "output_type": "display_data"
    }
   ],
   "source": [
    "# Leitura dos dados\n",
    "\n",
    "ie666 = pd.read_csv(\"./dados/atraso_ie666.csv\", index_col= False, header = None, squeeze=True)\n",
    "display(ie666)"
   ],
   "metadata": {
    "collapsed": false
   }
  },
  {
   "cell_type": "code",
   "execution_count": 4,
   "outputs": [
    {
     "data": {
      "text/plain": "500.23060000000004"
     },
     "metadata": {},
     "output_type": "display_data"
    },
    {
     "data": {
      "text/plain": "186.78150000000002"
     },
     "metadata": {},
     "output_type": "display_data"
    }
   ],
   "source": [
    "#Média das amostras\n",
    "\n",
    "ia171_mean = ia171.mean()\n",
    "ie666_mean = ie666.mean()\n",
    "\n",
    "display(ia171_mean)\n",
    "display(ie666_mean)"
   ],
   "metadata": {
    "collapsed": false
   }
  },
  {
   "cell_type": "code",
   "execution_count": 5,
   "outputs": [
    {
     "data": {
      "text/plain": "23.901382818708726"
     },
     "metadata": {},
     "output_type": "display_data"
    },
    {
     "data": {
      "text/plain": "53.27804242648166"
     },
     "metadata": {},
     "output_type": "display_data"
    }
   ],
   "source": [
    "#Desvio padrão das amostras\n",
    "\n",
    "ia171_std = ia171.std()\n",
    "ie666_std = ie666.std()\n",
    "\n",
    "display(ia171_std)\n",
    "display(ie666_std)"
   ],
   "metadata": {
    "collapsed": false
   }
  },
  {
   "cell_type": "markdown",
   "source": [
    "### Definição de Hipóteses\n",
    "\n",
    "### H0: as médias dos atrasos de transmissão para IA171 e IE666 são iguais.\n",
    "### HA: as médias dos atrasos de transmissão para IA171 e IE666 são diferentes.\n",
    "\n",
    "### Nível de significância = 5%\n"
   ],
   "metadata": {
    "collapsed": false
   }
  },
  {
   "cell_type": "code",
   "execution_count": 6,
   "outputs": [
    {
     "data": {
      "text/plain": "53.67856833854304"
     },
     "metadata": {},
     "output_type": "display_data"
    }
   ],
   "source": [
    "# Teste t\n",
    "\n",
    "diff_mean_protocolo = ia171_mean - ie666_mean # Diferença das médias\n",
    "std_diff_protocolo = ia171_std - ie666_std    # Diferença dos desvios padrões\n",
    "n_ia171 = len(ia171)                # Quantidade de elementos da amostra ia171\n",
    "n_ie666 = len(ie666)                # Quantidade de elementos da amostra ie666\n",
    "se_diff_protocolo = ((ia171.var()/n_ia171) + (ie666.var()/n_ie666))**0.5  # Raiz da soma das variâncias / pela quantidade\n",
    "t_protocolo = diff_mean_protocolo / se_diff_protocolo # Teste T\n",
    "display(t_protocolo)\n"
   ],
   "metadata": {
    "collapsed": false
   }
  },
  {
   "cell_type": "code",
   "execution_count": 7,
   "outputs": [
    {
     "data": {
      "text/plain": "0.0"
     },
     "metadata": {},
     "output_type": "display_data"
    }
   ],
   "source": [
    "# Valor p\n",
    "\n",
    "df_protocolo = n_ia171 + n_ie666 - 2 # Graus de liberdade\n",
    "p_protocolo = 2 * (1 - stats.t.cdf(abs(t_protocolo), df_protocolo)) # Cálculo do p-value (*2 bicaudal)\n",
    "display(p_protocolo)"
   ],
   "metadata": {
    "collapsed": false
   }
  },
  {
   "cell_type": "code",
   "execution_count": 8,
   "outputs": [
    {
     "name": "stdout",
     "output_type": "stream",
     "text": [
      "H0 rejeitada: as médias dos atrasos de transmissão são diferentes\n"
     ]
    }
   ],
   "source": [
    "# Verifica se o valor p é menor do que o nível de significância\n",
    "\n",
    "alpha = 0.05\n",
    "\n",
    "if p_protocolo < alpha:\n",
    "    print('H0 rejeitada: as médias dos atrasos de transmissão são diferentes')\n",
    "else:\n",
    "    print('H0 não rejeitada: não há evidências de que as médias dos atrasos de transmissão são diferentes')"
   ],
   "metadata": {
    "collapsed": false
   }
  },
  {
   "cell_type": "markdown",
   "source": [
    "### Resposta final:\n",
    "\n",
    "### Podemos afirmar que, com base nos dados coletados e analisados, o protocolo que apresentou o menor atraso de transmissão médio é o mais indicado para a empresa. Logo o o protocolo ie666 é melhor."
   ],
   "metadata": {
    "collapsed": false
   }
  },
  {
   "cell_type": "markdown",
   "source": [
    "### Exercício 2"
   ],
   "metadata": {
    "collapsed": false
   }
  },
  {
   "cell_type": "code",
   "execution_count": 9,
   "outputs": [
    {
     "name": "stderr",
     "output_type": "stream",
     "text": [
      "C:\\Users\\Miguel\\AppData\\Local\\Temp\\ipykernel_9768\\150804329.py:3: FutureWarning: The squeeze argument has been deprecated and will be removed in a future version. Append .squeeze(\"columns\") to the call to squeeze.\n",
      "\n",
      "\n",
      "  bitcomb = pd.read_csv(\"./dados/tempo_bitcomb.csv\", index_col=False, header=None, squeeze=True)\n",
      "C:\\Users\\Miguel\\AppData\\Local\\Temp\\ipykernel_9768\\150804329.py:4: FutureWarning: The squeeze argument has been deprecated and will be removed in a future version. Append .squeeze(\"columns\") to the call to squeeze.\n",
      "\n",
      "\n",
      "  combinar = pd.read_csv(\"./dados/tempo_combinar.csv\", index_col=False, header=None, squeeze=True)\n"
     ]
    },
    {
     "data": {
      "text/plain": "0     11.92\n1      8.52\n2      3.56\n3      8.25\n4      9.39\n      ...  \n95     9.33\n96     8.28\n97    13.63\n98     9.08\n99     9.62\nName: 0, Length: 100, dtype: float64"
     },
     "metadata": {},
     "output_type": "display_data"
    },
    {
     "data": {
      "text/plain": "0      8.82\n1      9.63\n2     11.28\n3     13.46\n4      5.27\n      ...  \n95     3.39\n96    14.67\n97     4.94\n98    18.40\n99     5.19\nName: 0, Length: 100, dtype: float64"
     },
     "metadata": {},
     "output_type": "display_data"
    }
   ],
   "source": [
    "# Leitura dos dados\n",
    "\n",
    "bitcomb = pd.read_csv(\"./dados/tempo_bitcomb.csv\", index_col=False, header=None, squeeze=True)\n",
    "combinar = pd.read_csv(\"./dados/tempo_combinar.csv\", index_col=False, header=None, squeeze=True)\n",
    "\n",
    "display(bitcomb)\n",
    "display(combinar)"
   ],
   "metadata": {
    "collapsed": false
   }
  },
  {
   "cell_type": "code",
   "execution_count": 10,
   "outputs": [
    {
     "data": {
      "text/plain": "8.743500000000001"
     },
     "metadata": {},
     "output_type": "display_data"
    },
    {
     "data": {
      "text/plain": "9.540899999999999"
     },
     "metadata": {},
     "output_type": "display_data"
    }
   ],
   "source": [
    "# Média das amostras\n",
    "\n",
    "bitcomb_mean = bitcomb.mean()\n",
    "combinar_mean = combinar.mean()\n",
    "\n",
    "display(bitcomb_mean)\n",
    "display(combinar_mean)"
   ],
   "metadata": {
    "collapsed": false
   }
  },
  {
   "cell_type": "code",
   "execution_count": 11,
   "outputs": [
    {
     "data": {
      "text/plain": "3.600244204680195"
     },
     "metadata": {},
     "output_type": "display_data"
    },
    {
     "data": {
      "text/plain": "3.956262672438893"
     },
     "metadata": {},
     "output_type": "display_data"
    }
   ],
   "source": [
    "# Desvio padrão das amostras\n",
    "\n",
    "bitcomb_std = bitcomb.std()\n",
    "combinar_std = combinar.std()\n",
    "\n",
    "display(bitcomb_std)\n",
    "display(combinar_std)"
   ],
   "metadata": {
    "collapsed": false
   }
  },
  {
   "cell_type": "markdown",
   "source": [
    "### Definição de Hipóteses\n",
    "\n",
    "### H0: as médias dos tempos de execução dos algoritmos são iguais.\n",
    "### HA: as médias dos tempos de execução dos algoritmos são diferentes.\n",
    "\n",
    "### Nível de significância = 5%"
   ],
   "metadata": {
    "collapsed": false
   }
  },
  {
   "cell_type": "code",
   "execution_count": 12,
   "outputs": [
    {
     "data": {
      "text/plain": "-1.5181519957324323"
     },
     "metadata": {},
     "output_type": "display_data"
    }
   ],
   "source": [
    "# Teste t\n",
    "\n",
    "diff_mean_algoritmos =  bitcomb_mean - combinar_mean    # Diferença das médias\n",
    "std_diff_algoritmos = bitcomb_std - combinar_std        # Diferença dos desvios padrões\n",
    "n_bitcomb = len(bitcomb)                                # Quantidade de elementos da amostra\n",
    "n_combinar = len(combinar)                              # Quantidade de elementos da amostra\n",
    "se_diff_algoritmos = ((bitcomb.var()/n_bitcomb) + (combinar.var()/n_combinar)**0.5)    # Raiz da soma das variâncias / pela quantidade\n",
    "t_algoritmo = diff_mean_algoritmos / se_diff_algoritmos # Teste T\n",
    "display(t_algoritmo)"
   ],
   "metadata": {
    "collapsed": false
   }
  },
  {
   "cell_type": "code",
   "execution_count": 13,
   "outputs": [
    {
     "data": {
      "text/plain": "0.13057115295508037"
     },
     "metadata": {},
     "output_type": "display_data"
    }
   ],
   "source": [
    "# Valor p\n",
    "\n",
    "df_algoritmos = n_bitcomb + n_combinar - 2 # Graus de liberdade\n",
    "p_algoritmo = 2 * (1 - stats.t.cdf(abs(t_algoritmo), df_algoritmos)) # Cálculo do p-value (*2 bicaudal)\n",
    "display(p_algoritmo)"
   ],
   "metadata": {
    "collapsed": false
   }
  },
  {
   "cell_type": "code",
   "execution_count": 14,
   "outputs": [
    {
     "name": "stdout",
     "output_type": "stream",
     "text": [
      "H0 não rejeitada: não há evidências de que as médias dos tempos de execução são diferentes\n"
     ]
    }
   ],
   "source": [
    "# Verifica se o valor p é menor do que o nível de significância\n",
    "\n",
    "alpha = 0.05\n",
    "\n",
    "if p_algoritmo < alpha:\n",
    "    print('H0 rejeitada: as médias dos tempos de execução são diferentes')\n",
    "else:\n",
    "    print('H0 não rejeitada: não há evidências de que as médias dos tempos de execução são diferentes')"
   ],
   "metadata": {
    "collapsed": false
   }
  },
  {
   "cell_type": "markdown",
   "source": [
    "### Resposta final:\n",
    "### Podemos afirmar que, com base nos dados coletados e analisados, não há evidência estatística suficiente para concluir que um dos algoritmos é melhor do que o outro com base nos dados da amostra coletada."
   ],
   "metadata": {
    "collapsed": false
   }
  }
 ],
 "metadata": {
  "kernelspec": {
   "display_name": "Python 3",
   "language": "python",
   "name": "python3"
  },
  "language_info": {
   "codemirror_mode": {
    "name": "ipython",
    "version": 2
   },
   "file_extension": ".py",
   "mimetype": "text/x-python",
   "name": "python",
   "nbconvert_exporter": "python",
   "pygments_lexer": "ipython2",
   "version": "2.7.6"
  }
 },
 "nbformat": 4,
 "nbformat_minor": 0
}
