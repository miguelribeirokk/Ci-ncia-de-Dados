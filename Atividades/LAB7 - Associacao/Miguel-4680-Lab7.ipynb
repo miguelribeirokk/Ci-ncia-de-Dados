{
 "cells": [
  {
   "cell_type": "markdown",
   "metadata": {
    "id": "Ho1-xg7GvjIF"
   },
   "source": [
    "> Introdução à Ciência dos Dados \\\n",
    "> Ciência da Computação – UFV/Florestal\n",
    "\n",
    "\n",
    "* **Nome:** %s\n",
    "* **Matrícula:**  %d\n",
    "\n",
    "# Aula Prática 07\n",
    "## Regras de Associação e o Algoritmo Apriori\n",
    "\n",
    "**Objetivo:** Aplicar o algoritmo Apriori para extrair regras de associação de dados reais.\n",
    "**Pré-requisitos:** Linguagem de programação Python, estatística básica \\\n",
    "**Meta:** Ao final da prática, o aluno será capaz de preparar dados e extrair regras de associação desses dados utilizado o algoritmo Apriori.\n",
    "\n",
    "----"
   ]
  },
  {
   "cell_type": "code",
   "execution_count": 1,
   "metadata": {
    "id": "5iH9QPDfvjII",
    "colab": {
     "base_uri": "https://localhost:8080/"
    },
    "outputId": "87214ecc-39d2-4817-e730-0324a91534b7",
    "ExecuteTime": {
     "end_time": "2023-05-25T22:57:03.452767500Z",
     "start_time": "2023-05-25T22:56:57.417337300Z"
    }
   },
   "outputs": [
    {
     "name": "stdout",
     "output_type": "stream",
     "text": [
      "Requirement already satisfied: learntools_dados_ufv in c:\\users\\miguel\\anaconda3\\lib\\site-packages (1.0.13)\n"
     ]
    }
   ],
   "source": [
    "### NÃO REMOVA ESSA CÉLULA! ####\n",
    "!pip --no-cache-dir install --upgrade learntools_dados_ufv\n",
    "\n",
    "#!wget https://raw.githubusercontent.com/NESPEDUFV/CCF425-resources/master/p7/Market_Basket_Optimisation.csv"
   ]
  },
  {
   "cell_type": "code",
   "execution_count": 2,
   "metadata": {
    "id": "_X9J3UPRX7_6",
    "ExecuteTime": {
     "end_time": "2023-05-25T22:57:06.080858400Z",
     "start_time": "2023-05-25T22:57:03.456629500Z"
    }
   },
   "outputs": [],
   "source": [
    "#### Não altere essa célula!!! ####\n",
    "import pandas as pd\n",
    "import string\n",
    "import random\n",
    "import numpy as np\n",
    "\n",
    "from mlxtend.preprocessing import TransactionEncoder\n",
    "from mlxtend.frequent_patterns import apriori\n",
    "from mlxtend.frequent_patterns import association_rules\n",
    "\n",
    "from learntools_dados_ufv.core import binder; binder.bind(globals())\n",
    "from learntools_dados_ufv.ccf425.pratica_7b import *"
   ]
  },
  {
   "cell_type": "markdown",
   "metadata": {
    "id": "cvez_9LpvjIL"
   },
   "source": [
    "# Roteiro"
   ]
  },
  {
   "cell_type": "markdown",
   "metadata": {
    "id": "5id0Zl-kvjIM"
   },
   "source": [
    "## Estruturando os dados"
   ]
  },
  {
   "cell_type": "markdown",
   "metadata": {
    "id": "MzP7hXwSvjIM"
   },
   "source": [
    "### Criar o conjunto de dados"
   ]
  },
  {
   "cell_type": "code",
   "execution_count": 3,
   "metadata": {
    "id": "8rmMsiKLvjIM",
    "outputId": "cad291a6-1f34-4596-dd78-38c1f1c3c863",
    "colab": {
     "base_uri": "https://localhost:8080/"
    },
    "ExecuteTime": {
     "end_time": "2023-05-25T22:57:06.107772600Z",
     "start_time": "2023-05-25T22:57:06.089202500Z"
    }
   },
   "outputs": [
    {
     "data": {
      "text/plain": "[['Leite', 'Cebola', 'Nutela', 'Feijão', 'Ovo', 'Iogurte'],\n ['Arroz', 'Cebola', 'Nutela', 'Feijão', 'Ovo', 'Iogurte'],\n ['Leite', 'Maça', 'Feijão', 'Ovo'],\n ['Leite', 'Chocolate', 'Pipoca', 'Feijão', 'Iogurte'],\n ['Pipoca', 'Cebola', 'Feijão', 'Sorvete', 'Ovo']]"
     },
     "execution_count": 3,
     "metadata": {},
     "output_type": "execute_result"
    }
   ],
   "source": [
    "dataset = [['Leite', 'Cebola', 'Nutela', 'Feijão', 'Ovo', 'Iogurte'],\n",
    "          ['Arroz', 'Cebola', 'Nutela', 'Feijão', 'Ovo', 'Iogurte'],\n",
    "          ['Leite', 'Maça', 'Feijão', 'Ovo'],\n",
    "          ['Leite', 'Chocolate', 'Pipoca', 'Feijão', 'Iogurte'],\n",
    "          ['Pipoca', 'Cebola', 'Feijão', 'Sorvete', 'Ovo']]\n",
    "\n",
    "dataset"
   ]
  },
  {
   "cell_type": "markdown",
   "metadata": {
    "id": "4_cbzF8KvjIO"
   },
   "source": [
    "### Transformar no formato para ser utilizado no Apriori"
   ]
  },
  {
   "cell_type": "code",
   "execution_count": 4,
   "metadata": {
    "id": "LKh5EB6CvjIP",
    "outputId": "3bbc7517-07fa-4bb0-8f9b-78445099dba7",
    "colab": {
     "base_uri": "https://localhost:8080/"
    },
    "ExecuteTime": {
     "end_time": "2023-05-25T22:57:06.196502200Z",
     "start_time": "2023-05-25T22:57:06.107696600Z"
    }
   },
   "outputs": [
    {
     "data": {
      "text/plain": "array([[False,  True, False,  True,  True,  True, False,  True,  True,\n        False, False],\n       [ True,  True, False,  True,  True, False, False,  True,  True,\n        False, False],\n       [False, False, False,  True, False,  True,  True, False,  True,\n        False, False],\n       [False, False,  True,  True,  True,  True, False, False, False,\n         True, False],\n       [False,  True, False,  True, False, False, False, False,  True,\n         True,  True]])"
     },
     "execution_count": 4,
     "metadata": {},
     "output_type": "execute_result"
    }
   ],
   "source": [
    "transactions_oht = TransactionEncoder()\n",
    "transactions = transactions_oht.fit(dataset).transform(dataset)\n",
    "transactions\n",
    "\n"
   ]
  },
  {
   "cell_type": "code",
   "execution_count": 5,
   "metadata": {
    "id": "85DUHY6EvjIQ",
    "outputId": "907a4787-cf9f-4a37-f4df-4096790beddc",
    "colab": {
     "base_uri": "https://localhost:8080/",
     "height": 206
    },
    "ExecuteTime": {
     "end_time": "2023-05-25T22:57:06.271511300Z",
     "start_time": "2023-05-25T22:57:06.118191500Z"
    }
   },
   "outputs": [
    {
     "data": {
      "text/plain": "   Arroz  Cebola  Chocolate  Feijão  Iogurte  Leite   Maça  Nutela    Ovo  \\\n0  False    True      False    True     True   True  False    True   True   \n1   True    True      False    True     True  False  False    True   True   \n2  False   False      False    True    False   True   True   False   True   \n3  False   False       True    True     True   True  False   False  False   \n4  False    True      False    True    False  False  False   False   True   \n\n   Pipoca  Sorvete  \n0   False    False  \n1   False    False  \n2   False    False  \n3    True    False  \n4    True     True  ",
      "text/html": "<div>\n<style scoped>\n    .dataframe tbody tr th:only-of-type {\n        vertical-align: middle;\n    }\n\n    .dataframe tbody tr th {\n        vertical-align: top;\n    }\n\n    .dataframe thead th {\n        text-align: right;\n    }\n</style>\n<table border=\"1\" class=\"dataframe\">\n  <thead>\n    <tr style=\"text-align: right;\">\n      <th></th>\n      <th>Arroz</th>\n      <th>Cebola</th>\n      <th>Chocolate</th>\n      <th>Feijão</th>\n      <th>Iogurte</th>\n      <th>Leite</th>\n      <th>Maça</th>\n      <th>Nutela</th>\n      <th>Ovo</th>\n      <th>Pipoca</th>\n      <th>Sorvete</th>\n    </tr>\n  </thead>\n  <tbody>\n    <tr>\n      <th>0</th>\n      <td>False</td>\n      <td>True</td>\n      <td>False</td>\n      <td>True</td>\n      <td>True</td>\n      <td>True</td>\n      <td>False</td>\n      <td>True</td>\n      <td>True</td>\n      <td>False</td>\n      <td>False</td>\n    </tr>\n    <tr>\n      <th>1</th>\n      <td>True</td>\n      <td>True</td>\n      <td>False</td>\n      <td>True</td>\n      <td>True</td>\n      <td>False</td>\n      <td>False</td>\n      <td>True</td>\n      <td>True</td>\n      <td>False</td>\n      <td>False</td>\n    </tr>\n    <tr>\n      <th>2</th>\n      <td>False</td>\n      <td>False</td>\n      <td>False</td>\n      <td>True</td>\n      <td>False</td>\n      <td>True</td>\n      <td>True</td>\n      <td>False</td>\n      <td>True</td>\n      <td>False</td>\n      <td>False</td>\n    </tr>\n    <tr>\n      <th>3</th>\n      <td>False</td>\n      <td>False</td>\n      <td>True</td>\n      <td>True</td>\n      <td>True</td>\n      <td>True</td>\n      <td>False</td>\n      <td>False</td>\n      <td>False</td>\n      <td>True</td>\n      <td>False</td>\n    </tr>\n    <tr>\n      <th>4</th>\n      <td>False</td>\n      <td>True</td>\n      <td>False</td>\n      <td>True</td>\n      <td>False</td>\n      <td>False</td>\n      <td>False</td>\n      <td>False</td>\n      <td>True</td>\n      <td>True</td>\n      <td>True</td>\n    </tr>\n  </tbody>\n</table>\n</div>"
     },
     "execution_count": 5,
     "metadata": {},
     "output_type": "execute_result"
    }
   ],
   "source": [
    "df = pd.DataFrame(transactions, columns=transactions_oht.columns_)\n",
    "df"
   ]
  },
  {
   "cell_type": "markdown",
   "metadata": {
    "id": "CDUdlS91vjIS"
   },
   "source": [
    "## Calcular conjunto de itens frequentes\n",
    "\n",
    "Com suporte mínimo de 0.6"
   ]
  },
  {
   "cell_type": "code",
   "execution_count": 6,
   "metadata": {
    "id": "-BND7-f9vjIT",
    "outputId": "0fe18225-b54a-46cf-9124-4faaf2a2590f",
    "colab": {
     "base_uri": "https://localhost:8080/",
     "height": 394
    },
    "ExecuteTime": {
     "end_time": "2023-05-25T22:57:06.274989400Z",
     "start_time": "2023-05-25T22:57:06.164220300Z"
    }
   },
   "outputs": [
    {
     "data": {
      "text/plain": "    support               itemsets\n0       0.6               (Cebola)\n1       1.0               (Feijão)\n2       0.6              (Iogurte)\n3       0.6                (Leite)\n4       0.8                  (Ovo)\n5       0.6       (Feijão, Cebola)\n6       0.6          (Cebola, Ovo)\n7       0.6      (Feijão, Iogurte)\n8       0.6        (Feijão, Leite)\n9       0.8          (Feijão, Ovo)\n10      0.6  (Feijão, Cebola, Ovo)",
      "text/html": "<div>\n<style scoped>\n    .dataframe tbody tr th:only-of-type {\n        vertical-align: middle;\n    }\n\n    .dataframe tbody tr th {\n        vertical-align: top;\n    }\n\n    .dataframe thead th {\n        text-align: right;\n    }\n</style>\n<table border=\"1\" class=\"dataframe\">\n  <thead>\n    <tr style=\"text-align: right;\">\n      <th></th>\n      <th>support</th>\n      <th>itemsets</th>\n    </tr>\n  </thead>\n  <tbody>\n    <tr>\n      <th>0</th>\n      <td>0.6</td>\n      <td>(Cebola)</td>\n    </tr>\n    <tr>\n      <th>1</th>\n      <td>1.0</td>\n      <td>(Feijão)</td>\n    </tr>\n    <tr>\n      <th>2</th>\n      <td>0.6</td>\n      <td>(Iogurte)</td>\n    </tr>\n    <tr>\n      <th>3</th>\n      <td>0.6</td>\n      <td>(Leite)</td>\n    </tr>\n    <tr>\n      <th>4</th>\n      <td>0.8</td>\n      <td>(Ovo)</td>\n    </tr>\n    <tr>\n      <th>5</th>\n      <td>0.6</td>\n      <td>(Feijão, Cebola)</td>\n    </tr>\n    <tr>\n      <th>6</th>\n      <td>0.6</td>\n      <td>(Cebola, Ovo)</td>\n    </tr>\n    <tr>\n      <th>7</th>\n      <td>0.6</td>\n      <td>(Feijão, Iogurte)</td>\n    </tr>\n    <tr>\n      <th>8</th>\n      <td>0.6</td>\n      <td>(Feijão, Leite)</td>\n    </tr>\n    <tr>\n      <th>9</th>\n      <td>0.8</td>\n      <td>(Feijão, Ovo)</td>\n    </tr>\n    <tr>\n      <th>10</th>\n      <td>0.6</td>\n      <td>(Feijão, Cebola, Ovo)</td>\n    </tr>\n  </tbody>\n</table>\n</div>"
     },
     "execution_count": 6,
     "metadata": {},
     "output_type": "execute_result"
    }
   ],
   "source": [
    "# Calcula os conjuntos de itens frequentes, com suporte minimo de 0.6\n",
    "frequent_itemsets = apriori(df, min_support=0.6, use_colnames=True)\n",
    "frequent_itemsets"
   ]
  },
  {
   "cell_type": "markdown",
   "metadata": {
    "id": "scf2zkGmvjIU"
   },
   "source": [
    "## Calcular regras de associacão utilizando o Apriori\n",
    "\n",
    "Com filtro de confiança de 0.1"
   ]
  },
  {
   "cell_type": "code",
   "execution_count": 7,
   "metadata": {
    "id": "b84sKUCfvjIV",
    "outputId": "da7f71b7-0325-4d1c-9b0b-f1dc93cc235f",
    "colab": {
     "base_uri": "https://localhost:8080/",
     "height": 551
    },
    "ExecuteTime": {
     "end_time": "2023-05-25T22:57:06.358929700Z",
     "start_time": "2023-05-25T22:57:06.201432400Z"
    }
   },
   "outputs": [
    {
     "data": {
      "text/plain": "         antecedents       consequents  antecedent support  \\\n0           (Feijão)          (Cebola)                 1.0   \n1           (Cebola)          (Feijão)                 0.6   \n2           (Cebola)             (Ovo)                 0.6   \n3              (Ovo)          (Cebola)                 0.8   \n4           (Feijão)         (Iogurte)                 1.0   \n5          (Iogurte)          (Feijão)                 0.6   \n6           (Feijão)           (Leite)                 1.0   \n7            (Leite)          (Feijão)                 0.6   \n8           (Feijão)             (Ovo)                 1.0   \n9              (Ovo)          (Feijão)                 0.8   \n10  (Feijão, Cebola)             (Ovo)                 0.6   \n11     (Feijão, Ovo)          (Cebola)                 0.8   \n12     (Cebola, Ovo)          (Feijão)                 0.6   \n13          (Feijão)     (Cebola, Ovo)                 1.0   \n14          (Cebola)     (Feijão, Ovo)                 0.6   \n15             (Ovo)  (Feijão, Cebola)                 0.8   \n\n    consequent support  support  confidence  lift  leverage  conviction  \\\n0                  0.6      0.6        0.60  1.00      0.00         1.0   \n1                  1.0      0.6        1.00  1.00      0.00         inf   \n2                  0.8      0.6        1.00  1.25      0.12         inf   \n3                  0.6      0.6        0.75  1.25      0.12         1.6   \n4                  0.6      0.6        0.60  1.00      0.00         1.0   \n5                  1.0      0.6        1.00  1.00      0.00         inf   \n6                  0.6      0.6        0.60  1.00      0.00         1.0   \n7                  1.0      0.6        1.00  1.00      0.00         inf   \n8                  0.8      0.8        0.80  1.00      0.00         1.0   \n9                  1.0      0.8        1.00  1.00      0.00         inf   \n10                 0.8      0.6        1.00  1.25      0.12         inf   \n11                 0.6      0.6        0.75  1.25      0.12         1.6   \n12                 1.0      0.6        1.00  1.00      0.00         inf   \n13                 0.6      0.6        0.60  1.00      0.00         1.0   \n14                 0.8      0.6        1.00  1.25      0.12         inf   \n15                 0.6      0.6        0.75  1.25      0.12         1.6   \n\n    zhangs_metric  \n0             0.0  \n1             0.0  \n2             0.5  \n3             1.0  \n4             0.0  \n5             0.0  \n6             0.0  \n7             0.0  \n8             0.0  \n9             0.0  \n10            0.5  \n11            1.0  \n12            0.0  \n13            0.0  \n14            0.5  \n15            1.0  ",
      "text/html": "<div>\n<style scoped>\n    .dataframe tbody tr th:only-of-type {\n        vertical-align: middle;\n    }\n\n    .dataframe tbody tr th {\n        vertical-align: top;\n    }\n\n    .dataframe thead th {\n        text-align: right;\n    }\n</style>\n<table border=\"1\" class=\"dataframe\">\n  <thead>\n    <tr style=\"text-align: right;\">\n      <th></th>\n      <th>antecedents</th>\n      <th>consequents</th>\n      <th>antecedent support</th>\n      <th>consequent support</th>\n      <th>support</th>\n      <th>confidence</th>\n      <th>lift</th>\n      <th>leverage</th>\n      <th>conviction</th>\n      <th>zhangs_metric</th>\n    </tr>\n  </thead>\n  <tbody>\n    <tr>\n      <th>0</th>\n      <td>(Feijão)</td>\n      <td>(Cebola)</td>\n      <td>1.0</td>\n      <td>0.6</td>\n      <td>0.6</td>\n      <td>0.60</td>\n      <td>1.00</td>\n      <td>0.00</td>\n      <td>1.0</td>\n      <td>0.0</td>\n    </tr>\n    <tr>\n      <th>1</th>\n      <td>(Cebola)</td>\n      <td>(Feijão)</td>\n      <td>0.6</td>\n      <td>1.0</td>\n      <td>0.6</td>\n      <td>1.00</td>\n      <td>1.00</td>\n      <td>0.00</td>\n      <td>inf</td>\n      <td>0.0</td>\n    </tr>\n    <tr>\n      <th>2</th>\n      <td>(Cebola)</td>\n      <td>(Ovo)</td>\n      <td>0.6</td>\n      <td>0.8</td>\n      <td>0.6</td>\n      <td>1.00</td>\n      <td>1.25</td>\n      <td>0.12</td>\n      <td>inf</td>\n      <td>0.5</td>\n    </tr>\n    <tr>\n      <th>3</th>\n      <td>(Ovo)</td>\n      <td>(Cebola)</td>\n      <td>0.8</td>\n      <td>0.6</td>\n      <td>0.6</td>\n      <td>0.75</td>\n      <td>1.25</td>\n      <td>0.12</td>\n      <td>1.6</td>\n      <td>1.0</td>\n    </tr>\n    <tr>\n      <th>4</th>\n      <td>(Feijão)</td>\n      <td>(Iogurte)</td>\n      <td>1.0</td>\n      <td>0.6</td>\n      <td>0.6</td>\n      <td>0.60</td>\n      <td>1.00</td>\n      <td>0.00</td>\n      <td>1.0</td>\n      <td>0.0</td>\n    </tr>\n    <tr>\n      <th>5</th>\n      <td>(Iogurte)</td>\n      <td>(Feijão)</td>\n      <td>0.6</td>\n      <td>1.0</td>\n      <td>0.6</td>\n      <td>1.00</td>\n      <td>1.00</td>\n      <td>0.00</td>\n      <td>inf</td>\n      <td>0.0</td>\n    </tr>\n    <tr>\n      <th>6</th>\n      <td>(Feijão)</td>\n      <td>(Leite)</td>\n      <td>1.0</td>\n      <td>0.6</td>\n      <td>0.6</td>\n      <td>0.60</td>\n      <td>1.00</td>\n      <td>0.00</td>\n      <td>1.0</td>\n      <td>0.0</td>\n    </tr>\n    <tr>\n      <th>7</th>\n      <td>(Leite)</td>\n      <td>(Feijão)</td>\n      <td>0.6</td>\n      <td>1.0</td>\n      <td>0.6</td>\n      <td>1.00</td>\n      <td>1.00</td>\n      <td>0.00</td>\n      <td>inf</td>\n      <td>0.0</td>\n    </tr>\n    <tr>\n      <th>8</th>\n      <td>(Feijão)</td>\n      <td>(Ovo)</td>\n      <td>1.0</td>\n      <td>0.8</td>\n      <td>0.8</td>\n      <td>0.80</td>\n      <td>1.00</td>\n      <td>0.00</td>\n      <td>1.0</td>\n      <td>0.0</td>\n    </tr>\n    <tr>\n      <th>9</th>\n      <td>(Ovo)</td>\n      <td>(Feijão)</td>\n      <td>0.8</td>\n      <td>1.0</td>\n      <td>0.8</td>\n      <td>1.00</td>\n      <td>1.00</td>\n      <td>0.00</td>\n      <td>inf</td>\n      <td>0.0</td>\n    </tr>\n    <tr>\n      <th>10</th>\n      <td>(Feijão, Cebola)</td>\n      <td>(Ovo)</td>\n      <td>0.6</td>\n      <td>0.8</td>\n      <td>0.6</td>\n      <td>1.00</td>\n      <td>1.25</td>\n      <td>0.12</td>\n      <td>inf</td>\n      <td>0.5</td>\n    </tr>\n    <tr>\n      <th>11</th>\n      <td>(Feijão, Ovo)</td>\n      <td>(Cebola)</td>\n      <td>0.8</td>\n      <td>0.6</td>\n      <td>0.6</td>\n      <td>0.75</td>\n      <td>1.25</td>\n      <td>0.12</td>\n      <td>1.6</td>\n      <td>1.0</td>\n    </tr>\n    <tr>\n      <th>12</th>\n      <td>(Cebola, Ovo)</td>\n      <td>(Feijão)</td>\n      <td>0.6</td>\n      <td>1.0</td>\n      <td>0.6</td>\n      <td>1.00</td>\n      <td>1.00</td>\n      <td>0.00</td>\n      <td>inf</td>\n      <td>0.0</td>\n    </tr>\n    <tr>\n      <th>13</th>\n      <td>(Feijão)</td>\n      <td>(Cebola, Ovo)</td>\n      <td>1.0</td>\n      <td>0.6</td>\n      <td>0.6</td>\n      <td>0.60</td>\n      <td>1.00</td>\n      <td>0.00</td>\n      <td>1.0</td>\n      <td>0.0</td>\n    </tr>\n    <tr>\n      <th>14</th>\n      <td>(Cebola)</td>\n      <td>(Feijão, Ovo)</td>\n      <td>0.6</td>\n      <td>0.8</td>\n      <td>0.6</td>\n      <td>1.00</td>\n      <td>1.25</td>\n      <td>0.12</td>\n      <td>inf</td>\n      <td>0.5</td>\n    </tr>\n    <tr>\n      <th>15</th>\n      <td>(Ovo)</td>\n      <td>(Feijão, Cebola)</td>\n      <td>0.8</td>\n      <td>0.6</td>\n      <td>0.6</td>\n      <td>0.75</td>\n      <td>1.25</td>\n      <td>0.12</td>\n      <td>1.6</td>\n      <td>1.0</td>\n    </tr>\n  </tbody>\n</table>\n</div>"
     },
     "execution_count": 7,
     "metadata": {},
     "output_type": "execute_result"
    }
   ],
   "source": [
    "rules = association_rules(frequent_itemsets, metric='confidence', min_threshold=0.1)\n",
    "rules"
   ]
  },
  {
   "cell_type": "code",
   "execution_count": 8,
   "metadata": {
    "id": "XYH3HLAzvjIX",
    "colab": {
     "base_uri": "https://localhost:8080/",
     "height": 332
    },
    "outputId": "4778d4be-e5aa-4a99-b7b1-e5733c959d4d",
    "ExecuteTime": {
     "end_time": "2023-05-25T22:57:06.545941400Z",
     "start_time": "2023-05-25T22:57:06.269443200Z"
    }
   },
   "outputs": [
    {
     "data": {
      "text/plain": "         antecedents    consequents  antecedent support  consequent support  \\\n1           (Cebola)       (Feijão)                 0.6                 1.0   \n2           (Cebola)          (Ovo)                 0.6                 0.8   \n5          (Iogurte)       (Feijão)                 0.6                 1.0   \n7            (Leite)       (Feijão)                 0.6                 1.0   \n8           (Feijão)          (Ovo)                 1.0                 0.8   \n9              (Ovo)       (Feijão)                 0.8                 1.0   \n10  (Feijão, Cebola)          (Ovo)                 0.6                 0.8   \n12     (Cebola, Ovo)       (Feijão)                 0.6                 1.0   \n14          (Cebola)  (Feijão, Ovo)                 0.6                 0.8   \n\n    support  confidence  lift  leverage  conviction  zhangs_metric  \n1       0.6         1.0  1.00      0.00         inf            0.0  \n2       0.6         1.0  1.25      0.12         inf            0.5  \n5       0.6         1.0  1.00      0.00         inf            0.0  \n7       0.6         1.0  1.00      0.00         inf            0.0  \n8       0.8         0.8  1.00      0.00         1.0            0.0  \n9       0.8         1.0  1.00      0.00         inf            0.0  \n10      0.6         1.0  1.25      0.12         inf            0.5  \n12      0.6         1.0  1.00      0.00         inf            0.0  \n14      0.6         1.0  1.25      0.12         inf            0.5  ",
      "text/html": "<div>\n<style scoped>\n    .dataframe tbody tr th:only-of-type {\n        vertical-align: middle;\n    }\n\n    .dataframe tbody tr th {\n        vertical-align: top;\n    }\n\n    .dataframe thead th {\n        text-align: right;\n    }\n</style>\n<table border=\"1\" class=\"dataframe\">\n  <thead>\n    <tr style=\"text-align: right;\">\n      <th></th>\n      <th>antecedents</th>\n      <th>consequents</th>\n      <th>antecedent support</th>\n      <th>consequent support</th>\n      <th>support</th>\n      <th>confidence</th>\n      <th>lift</th>\n      <th>leverage</th>\n      <th>conviction</th>\n      <th>zhangs_metric</th>\n    </tr>\n  </thead>\n  <tbody>\n    <tr>\n      <th>1</th>\n      <td>(Cebola)</td>\n      <td>(Feijão)</td>\n      <td>0.6</td>\n      <td>1.0</td>\n      <td>0.6</td>\n      <td>1.0</td>\n      <td>1.00</td>\n      <td>0.00</td>\n      <td>inf</td>\n      <td>0.0</td>\n    </tr>\n    <tr>\n      <th>2</th>\n      <td>(Cebola)</td>\n      <td>(Ovo)</td>\n      <td>0.6</td>\n      <td>0.8</td>\n      <td>0.6</td>\n      <td>1.0</td>\n      <td>1.25</td>\n      <td>0.12</td>\n      <td>inf</td>\n      <td>0.5</td>\n    </tr>\n    <tr>\n      <th>5</th>\n      <td>(Iogurte)</td>\n      <td>(Feijão)</td>\n      <td>0.6</td>\n      <td>1.0</td>\n      <td>0.6</td>\n      <td>1.0</td>\n      <td>1.00</td>\n      <td>0.00</td>\n      <td>inf</td>\n      <td>0.0</td>\n    </tr>\n    <tr>\n      <th>7</th>\n      <td>(Leite)</td>\n      <td>(Feijão)</td>\n      <td>0.6</td>\n      <td>1.0</td>\n      <td>0.6</td>\n      <td>1.0</td>\n      <td>1.00</td>\n      <td>0.00</td>\n      <td>inf</td>\n      <td>0.0</td>\n    </tr>\n    <tr>\n      <th>8</th>\n      <td>(Feijão)</td>\n      <td>(Ovo)</td>\n      <td>1.0</td>\n      <td>0.8</td>\n      <td>0.8</td>\n      <td>0.8</td>\n      <td>1.00</td>\n      <td>0.00</td>\n      <td>1.0</td>\n      <td>0.0</td>\n    </tr>\n    <tr>\n      <th>9</th>\n      <td>(Ovo)</td>\n      <td>(Feijão)</td>\n      <td>0.8</td>\n      <td>1.0</td>\n      <td>0.8</td>\n      <td>1.0</td>\n      <td>1.00</td>\n      <td>0.00</td>\n      <td>inf</td>\n      <td>0.0</td>\n    </tr>\n    <tr>\n      <th>10</th>\n      <td>(Feijão, Cebola)</td>\n      <td>(Ovo)</td>\n      <td>0.6</td>\n      <td>0.8</td>\n      <td>0.6</td>\n      <td>1.0</td>\n      <td>1.25</td>\n      <td>0.12</td>\n      <td>inf</td>\n      <td>0.5</td>\n    </tr>\n    <tr>\n      <th>12</th>\n      <td>(Cebola, Ovo)</td>\n      <td>(Feijão)</td>\n      <td>0.6</td>\n      <td>1.0</td>\n      <td>0.6</td>\n      <td>1.0</td>\n      <td>1.00</td>\n      <td>0.00</td>\n      <td>inf</td>\n      <td>0.0</td>\n    </tr>\n    <tr>\n      <th>14</th>\n      <td>(Cebola)</td>\n      <td>(Feijão, Ovo)</td>\n      <td>0.6</td>\n      <td>0.8</td>\n      <td>0.6</td>\n      <td>1.0</td>\n      <td>1.25</td>\n      <td>0.12</td>\n      <td>inf</td>\n      <td>0.5</td>\n    </tr>\n  </tbody>\n</table>\n</div>"
     },
     "execution_count": 8,
     "metadata": {},
     "output_type": "execute_result"
    }
   ],
   "source": [
    "# Filtro por 'confidence'. Pode ser feito por outros campos também\n",
    "rules[rules['confidence'] > 0.75]"
   ]
  },
  {
   "cell_type": "code",
   "execution_count": 8,
   "outputs": [],
   "source": [],
   "metadata": {
    "collapsed": false,
    "ExecuteTime": {
     "end_time": "2023-05-25T22:57:06.565206700Z",
     "start_time": "2023-05-25T22:57:06.320771100Z"
    }
   }
  },
  {
   "cell_type": "markdown",
   "metadata": {
    "id": "iTzgEQxdvjIY"
   },
   "source": [
    "# Exercícios\n",
    "\n",
    "Os exercícios abaixo são referentes ao conjunto de dados `Market_Basket_Optimisation.csv`. Esse conjunto possui compras considerando 20 produtos distintos."
   ]
  },
  {
   "cell_type": "markdown",
   "metadata": {
    "id": "SEGG2lSSvjIZ"
   },
   "source": [
    "Execute e não remova a célula abaixo antes de iniciar os exercícios. Faça todas as atividades manipulando a variável `df`."
   ]
  },
  {
   "cell_type": "code",
   "execution_count": 9,
   "metadata": {
    "id": "W4JbmDrAvjIZ",
    "outputId": "cdf74f04-e6d5-4bc5-f4cf-7fb50daa3fba",
    "colab": {
     "base_uri": "https://localhost:8080/",
     "height": 572
    },
    "ExecuteTime": {
     "end_time": "2023-05-25T22:57:06.672694600Z",
     "start_time": "2023-05-25T22:57:06.334492600Z"
    }
   },
   "outputs": [
    {
     "data": {
      "text/plain": "                 0                  1            2                 3   \\\n0            shrimp            almonds      avocado    vegetables mix   \n1           burgers          meatballs         eggs               NaN   \n2           chutney                NaN          NaN               NaN   \n3            turkey            avocado          NaN               NaN   \n4     mineral water               milk   energy bar  whole wheat rice   \n...             ...                ...          ...               ...   \n7496         butter         light mayo  fresh bread               NaN   \n7497        burgers  frozen vegetables         eggs      french fries   \n7498        chicken                NaN          NaN               NaN   \n7499       escalope          green tea          NaN               NaN   \n7500           eggs    frozen smoothie  yogurt cake    low fat yogurt   \n\n                4                 5     6               7             8   \\\n0     green grapes  whole weat flour  yams  cottage cheese  energy drink   \n1              NaN               NaN   NaN             NaN           NaN   \n2              NaN               NaN   NaN             NaN           NaN   \n3              NaN               NaN   NaN             NaN           NaN   \n4        green tea               NaN   NaN             NaN           NaN   \n...            ...               ...   ...             ...           ...   \n7496           NaN               NaN   NaN             NaN           NaN   \n7497     magazines         green tea   NaN             NaN           NaN   \n7498           NaN               NaN   NaN             NaN           NaN   \n7499           NaN               NaN   NaN             NaN           NaN   \n7500           NaN               NaN   NaN             NaN           NaN   \n\n                9               10         11     12     13             14  \\\n0     tomato juice  low fat yogurt  green tea  honey  salad  mineral water   \n1              NaN             NaN        NaN    NaN    NaN            NaN   \n2              NaN             NaN        NaN    NaN    NaN            NaN   \n3              NaN             NaN        NaN    NaN    NaN            NaN   \n4              NaN             NaN        NaN    NaN    NaN            NaN   \n...            ...             ...        ...    ...    ...            ...   \n7496           NaN             NaN        NaN    NaN    NaN            NaN   \n7497           NaN             NaN        NaN    NaN    NaN            NaN   \n7498           NaN             NaN        NaN    NaN    NaN            NaN   \n7499           NaN             NaN        NaN    NaN    NaN            NaN   \n7500           NaN             NaN        NaN    NaN    NaN            NaN   \n\n          15                 16               17       18         19  \n0     salmon  antioxydant juice  frozen smoothie  spinach  olive oil  \n1        NaN                NaN              NaN      NaN        NaN  \n2        NaN                NaN              NaN      NaN        NaN  \n3        NaN                NaN              NaN      NaN        NaN  \n4        NaN                NaN              NaN      NaN        NaN  \n...      ...                ...              ...      ...        ...  \n7496     NaN                NaN              NaN      NaN        NaN  \n7497     NaN                NaN              NaN      NaN        NaN  \n7498     NaN                NaN              NaN      NaN        NaN  \n7499     NaN                NaN              NaN      NaN        NaN  \n7500     NaN                NaN              NaN      NaN        NaN  \n\n[7501 rows x 20 columns]",
      "text/html": "<div>\n<style scoped>\n    .dataframe tbody tr th:only-of-type {\n        vertical-align: middle;\n    }\n\n    .dataframe tbody tr th {\n        vertical-align: top;\n    }\n\n    .dataframe thead th {\n        text-align: right;\n    }\n</style>\n<table border=\"1\" class=\"dataframe\">\n  <thead>\n    <tr style=\"text-align: right;\">\n      <th></th>\n      <th>0</th>\n      <th>1</th>\n      <th>2</th>\n      <th>3</th>\n      <th>4</th>\n      <th>5</th>\n      <th>6</th>\n      <th>7</th>\n      <th>8</th>\n      <th>9</th>\n      <th>10</th>\n      <th>11</th>\n      <th>12</th>\n      <th>13</th>\n      <th>14</th>\n      <th>15</th>\n      <th>16</th>\n      <th>17</th>\n      <th>18</th>\n      <th>19</th>\n    </tr>\n  </thead>\n  <tbody>\n    <tr>\n      <th>0</th>\n      <td>shrimp</td>\n      <td>almonds</td>\n      <td>avocado</td>\n      <td>vegetables mix</td>\n      <td>green grapes</td>\n      <td>whole weat flour</td>\n      <td>yams</td>\n      <td>cottage cheese</td>\n      <td>energy drink</td>\n      <td>tomato juice</td>\n      <td>low fat yogurt</td>\n      <td>green tea</td>\n      <td>honey</td>\n      <td>salad</td>\n      <td>mineral water</td>\n      <td>salmon</td>\n      <td>antioxydant juice</td>\n      <td>frozen smoothie</td>\n      <td>spinach</td>\n      <td>olive oil</td>\n    </tr>\n    <tr>\n      <th>1</th>\n      <td>burgers</td>\n      <td>meatballs</td>\n      <td>eggs</td>\n      <td>NaN</td>\n      <td>NaN</td>\n      <td>NaN</td>\n      <td>NaN</td>\n      <td>NaN</td>\n      <td>NaN</td>\n      <td>NaN</td>\n      <td>NaN</td>\n      <td>NaN</td>\n      <td>NaN</td>\n      <td>NaN</td>\n      <td>NaN</td>\n      <td>NaN</td>\n      <td>NaN</td>\n      <td>NaN</td>\n      <td>NaN</td>\n      <td>NaN</td>\n    </tr>\n    <tr>\n      <th>2</th>\n      <td>chutney</td>\n      <td>NaN</td>\n      <td>NaN</td>\n      <td>NaN</td>\n      <td>NaN</td>\n      <td>NaN</td>\n      <td>NaN</td>\n      <td>NaN</td>\n      <td>NaN</td>\n      <td>NaN</td>\n      <td>NaN</td>\n      <td>NaN</td>\n      <td>NaN</td>\n      <td>NaN</td>\n      <td>NaN</td>\n      <td>NaN</td>\n      <td>NaN</td>\n      <td>NaN</td>\n      <td>NaN</td>\n      <td>NaN</td>\n    </tr>\n    <tr>\n      <th>3</th>\n      <td>turkey</td>\n      <td>avocado</td>\n      <td>NaN</td>\n      <td>NaN</td>\n      <td>NaN</td>\n      <td>NaN</td>\n      <td>NaN</td>\n      <td>NaN</td>\n      <td>NaN</td>\n      <td>NaN</td>\n      <td>NaN</td>\n      <td>NaN</td>\n      <td>NaN</td>\n      <td>NaN</td>\n      <td>NaN</td>\n      <td>NaN</td>\n      <td>NaN</td>\n      <td>NaN</td>\n      <td>NaN</td>\n      <td>NaN</td>\n    </tr>\n    <tr>\n      <th>4</th>\n      <td>mineral water</td>\n      <td>milk</td>\n      <td>energy bar</td>\n      <td>whole wheat rice</td>\n      <td>green tea</td>\n      <td>NaN</td>\n      <td>NaN</td>\n      <td>NaN</td>\n      <td>NaN</td>\n      <td>NaN</td>\n      <td>NaN</td>\n      <td>NaN</td>\n      <td>NaN</td>\n      <td>NaN</td>\n      <td>NaN</td>\n      <td>NaN</td>\n      <td>NaN</td>\n      <td>NaN</td>\n      <td>NaN</td>\n      <td>NaN</td>\n    </tr>\n    <tr>\n      <th>...</th>\n      <td>...</td>\n      <td>...</td>\n      <td>...</td>\n      <td>...</td>\n      <td>...</td>\n      <td>...</td>\n      <td>...</td>\n      <td>...</td>\n      <td>...</td>\n      <td>...</td>\n      <td>...</td>\n      <td>...</td>\n      <td>...</td>\n      <td>...</td>\n      <td>...</td>\n      <td>...</td>\n      <td>...</td>\n      <td>...</td>\n      <td>...</td>\n      <td>...</td>\n    </tr>\n    <tr>\n      <th>7496</th>\n      <td>butter</td>\n      <td>light mayo</td>\n      <td>fresh bread</td>\n      <td>NaN</td>\n      <td>NaN</td>\n      <td>NaN</td>\n      <td>NaN</td>\n      <td>NaN</td>\n      <td>NaN</td>\n      <td>NaN</td>\n      <td>NaN</td>\n      <td>NaN</td>\n      <td>NaN</td>\n      <td>NaN</td>\n      <td>NaN</td>\n      <td>NaN</td>\n      <td>NaN</td>\n      <td>NaN</td>\n      <td>NaN</td>\n      <td>NaN</td>\n    </tr>\n    <tr>\n      <th>7497</th>\n      <td>burgers</td>\n      <td>frozen vegetables</td>\n      <td>eggs</td>\n      <td>french fries</td>\n      <td>magazines</td>\n      <td>green tea</td>\n      <td>NaN</td>\n      <td>NaN</td>\n      <td>NaN</td>\n      <td>NaN</td>\n      <td>NaN</td>\n      <td>NaN</td>\n      <td>NaN</td>\n      <td>NaN</td>\n      <td>NaN</td>\n      <td>NaN</td>\n      <td>NaN</td>\n      <td>NaN</td>\n      <td>NaN</td>\n      <td>NaN</td>\n    </tr>\n    <tr>\n      <th>7498</th>\n      <td>chicken</td>\n      <td>NaN</td>\n      <td>NaN</td>\n      <td>NaN</td>\n      <td>NaN</td>\n      <td>NaN</td>\n      <td>NaN</td>\n      <td>NaN</td>\n      <td>NaN</td>\n      <td>NaN</td>\n      <td>NaN</td>\n      <td>NaN</td>\n      <td>NaN</td>\n      <td>NaN</td>\n      <td>NaN</td>\n      <td>NaN</td>\n      <td>NaN</td>\n      <td>NaN</td>\n      <td>NaN</td>\n      <td>NaN</td>\n    </tr>\n    <tr>\n      <th>7499</th>\n      <td>escalope</td>\n      <td>green tea</td>\n      <td>NaN</td>\n      <td>NaN</td>\n      <td>NaN</td>\n      <td>NaN</td>\n      <td>NaN</td>\n      <td>NaN</td>\n      <td>NaN</td>\n      <td>NaN</td>\n      <td>NaN</td>\n      <td>NaN</td>\n      <td>NaN</td>\n      <td>NaN</td>\n      <td>NaN</td>\n      <td>NaN</td>\n      <td>NaN</td>\n      <td>NaN</td>\n      <td>NaN</td>\n      <td>NaN</td>\n    </tr>\n    <tr>\n      <th>7500</th>\n      <td>eggs</td>\n      <td>frozen smoothie</td>\n      <td>yogurt cake</td>\n      <td>low fat yogurt</td>\n      <td>NaN</td>\n      <td>NaN</td>\n      <td>NaN</td>\n      <td>NaN</td>\n      <td>NaN</td>\n      <td>NaN</td>\n      <td>NaN</td>\n      <td>NaN</td>\n      <td>NaN</td>\n      <td>NaN</td>\n      <td>NaN</td>\n      <td>NaN</td>\n      <td>NaN</td>\n      <td>NaN</td>\n      <td>NaN</td>\n      <td>NaN</td>\n    </tr>\n  </tbody>\n</table>\n<p>7501 rows × 20 columns</p>\n</div>"
     },
     "execution_count": 9,
     "metadata": {},
     "output_type": "execute_result"
    }
   ],
   "source": [
    "# Atribui o dataframe com o estado \"original\" em uma variável isolada\n",
    "original_df = pd.read_csv('./Market_Basket_Optimisation.csv',header=None)\n",
    "df = original_df.copy()\n",
    "df"
   ]
  },
  {
   "cell_type": "code",
   "source": [
    "len(df.columns)"
   ],
   "metadata": {
    "colab": {
     "base_uri": "https://localhost:8080/"
    },
    "id": "hP4MWhZb-CoM",
    "outputId": "18c755f7-533d-4c1a-d8bb-8595cbc705ac",
    "ExecuteTime": {
     "end_time": "2023-05-25T22:57:06.720535500Z",
     "start_time": "2023-05-25T22:57:06.410770400Z"
    }
   },
   "execution_count": 10,
   "outputs": [
    {
     "data": {
      "text/plain": "20"
     },
     "execution_count": 10,
     "metadata": {},
     "output_type": "execute_result"
    }
   ]
  },
  {
   "cell_type": "markdown",
   "metadata": {
    "id": "MCsHEXPFvjIb"
   },
   "source": [
    "## 1. Faça uma preparação dos dados.\n",
    "Antes de fazer a análise de regras de associação, é necessário que você trate alguns dados desse dataset. Essa prática é **extremamente** importante e comum, já que os dados que encontramos ~~quase nunca~~ nem sempre estão prontos para serem manipulados."
   ]
  },
  {
   "cell_type": "markdown",
   "metadata": {
    "id": "TwKx7WXwvjId"
   },
   "source": [
    "### 1.a. Crie um dataframe com base nas transações, usando o TransactionEncoder e manipulação de Array\n",
    "\n",
    "Chame a função `q1.a.check()` no fim da célula para verificar a resposta.\n",
    "Você pode pedir dicas com `q1.a.hint()`"
   ]
  },
  {
   "cell_type": "code",
   "execution_count": 11,
   "metadata": {
    "id": "R_bobm8rvjIe",
    "colab": {
     "base_uri": "https://localhost:8080/",
     "height": 46
    },
    "outputId": "b6dbe11b-c6eb-495b-f1b6-526c479f4681",
    "ExecuteTime": {
     "end_time": "2023-05-25T22:57:07.216471600Z",
     "start_time": "2023-05-25T22:57:06.426921500Z"
    }
   },
   "outputs": [
    {
     "data": {
      "text/plain": "[array(['shrimp', 'almonds', 'avocado', 'vegetables mix', 'green grapes',\n        'whole weat flour', 'yams', 'cottage cheese', 'energy drink',\n        'tomato juice', 'low fat yogurt', 'green tea', 'honey', 'salad',\n        'mineral water', 'salmon', 'antioxydant juice', 'frozen smoothie',\n        'spinach', 'olive oil'], dtype=object),\n array(['burgers', 'meatballs', 'eggs', '', '', '', '', '', '', '', '', '',\n        '', '', '', '', '', '', '', ''], dtype=object),\n array(['chutney', '', '', '', '', '', '', '', '', '', '', '', '', '', '',\n        '', '', '', '', ''], dtype=object),\n array(['turkey', 'avocado', '', '', '', '', '', '', '', '', '', '', '',\n        '', '', '', '', '', '', ''], dtype=object),\n array(['mineral water', 'milk', 'energy bar', 'whole wheat rice',\n        'green tea', '', '', '', '', '', '', '', '', '', '', '', '', '',\n        '', ''], dtype=object),\n array(['low fat yogurt', '', '', '', '', '', '', '', '', '', '', '', '',\n        '', '', '', '', '', '', ''], dtype=object),\n array(['whole wheat pasta', 'french fries', '', '', '', '', '', '', '',\n        '', '', '', '', '', '', '', '', '', '', ''], dtype=object),\n array(['soup', 'light cream', 'shallot', '', '', '', '', '', '', '', '',\n        '', '', '', '', '', '', '', '', ''], dtype=object),\n array(['frozen vegetables', 'spaghetti', 'green tea', '', '', '', '', '',\n        '', '', '', '', '', '', '', '', '', '', '', ''], dtype=object),\n array(['french fries', '', '', '', '', '', '', '', '', '', '', '', '', '',\n        '', '', '', '', '', ''], dtype=object),\n array(['eggs', 'pet food', '', '', '', '', '', '', '', '', '', '', '', '',\n        '', '', '', '', '', ''], dtype=object),\n array(['cookies', '', '', '', '', '', '', '', '', '', '', '', '', '', '',\n        '', '', '', '', ''], dtype=object),\n array(['turkey', 'burgers', 'mineral water', 'eggs', 'cooking oil', '',\n        '', '', '', '', '', '', '', '', '', '', '', '', '', ''],\n       dtype=object),\n array(['spaghetti', 'champagne', 'cookies', '', '', '', '', '', '', '',\n        '', '', '', '', '', '', '', '', '', ''], dtype=object),\n array(['mineral water', 'salmon', '', '', '', '', '', '', '', '', '', '',\n        '', '', '', '', '', '', '', ''], dtype=object),\n array(['mineral water', '', '', '', '', '', '', '', '', '', '', '', '',\n        '', '', '', '', '', '', ''], dtype=object),\n array(['shrimp', 'chocolate', 'chicken', 'honey', 'oil', 'cooking oil',\n        'low fat yogurt', '', '', '', '', '', '', '', '', '', '', '', '',\n        ''], dtype=object),\n array(['turkey', 'eggs', '', '', '', '', '', '', '', '', '', '', '', '',\n        '', '', '', '', '', ''], dtype=object),\n array(['turkey', 'fresh tuna', 'tomatoes', 'spaghetti', 'mineral water',\n        'black tea', 'salmon', 'eggs', 'chicken', 'extra dark chocolate',\n        '', '', '', '', '', '', '', '', '', ''], dtype=object),\n array(['meatballs', 'milk', 'honey', 'french fries', 'protein bar', '',\n        '', '', '', '', '', '', '', '', '', '', '', '', '', ''],\n       dtype=object),\n array(['red wine', 'shrimp', 'pasta', 'pepper', 'eggs', 'chocolate',\n        'shampoo', '', '', '', '', '', '', '', '', '', '', '', '', ''],\n       dtype=object),\n array(['rice', 'sparkling water', '', '', '', '', '', '', '', '', '', '',\n        '', '', '', '', '', '', '', ''], dtype=object),\n array(['spaghetti', 'mineral water', 'ham', 'body spray', 'pancakes',\n        'green tea', '', '', '', '', '', '', '', '', '', '', '', '', '',\n        ''], dtype=object),\n array(['burgers', 'grated cheese', 'shrimp', 'pasta', 'avocado', 'honey',\n        'white wine', 'toothpaste', '', '', '', '', '', '', '', '', '', '',\n        '', ''], dtype=object),\n array(['eggs', '', '', '', '', '', '', '', '', '', '', '', '', '', '', '',\n        '', '', '', ''], dtype=object),\n array(['parmesan cheese', 'spaghetti', 'soup', 'avocado', 'milk',\n        'fresh bread', '', '', '', '', '', '', '', '', '', '', '', '', '',\n        ''], dtype=object),\n array(['ground beef', 'spaghetti', 'mineral water', 'milk', 'energy bar',\n        'black tea', 'salmon', 'frozen smoothie', 'escalope', '', '', '',\n        '', '', '', '', '', '', '', ''], dtype=object),\n array(['sparkling water', '', '', '', '', '', '', '', '', '', '', '', '',\n        '', '', '', '', '', '', ''], dtype=object),\n array(['mineral water', 'eggs', 'chicken', 'chocolate', 'french fries',\n        '', '', '', '', '', '', '', '', '', '', '', '', '', '', ''],\n       dtype=object),\n array(['frozen vegetables', 'spaghetti', 'yams', 'mineral water', '', '',\n        '', '', '', '', '', '', '', '', '', '', '', '', '', ''],\n       dtype=object),\n array(['herb & pepper', 'tomato sauce', 'light cream', 'magazines', '',\n        '', '', '', '', '', '', '', '', '', '', '', '', '', '', ''],\n       dtype=object),\n array(['mineral water', 'chocolate', 'avocado', 'eggs', '', '', '', '',\n        '', '', '', '', '', '', '', '', '', '', '', ''], dtype=object),\n array(['turkey', 'french fries', 'strawberries', '', '', '', '', '', '',\n        '', '', '', '', '', '', '', '', '', '', ''], dtype=object),\n array(['frozen vegetables', 'strong cheese', 'chocolate', '', '', '', '',\n        '', '', '', '', '', '', '', '', '', '', '', '', ''], dtype=object),\n array(['cookies', '', '', '', '', '', '', '', '', '', '', '', '', '', '',\n        '', '', '', '', ''], dtype=object),\n array(['pickles', 'spaghetti', 'salmon', 'escalope', '', '', '', '', '',\n        '', '', '', '', '', '', '', '', '', '', ''], dtype=object),\n array(['energy bar', 'french fries', '', '', '', '', '', '', '', '', '',\n        '', '', '', '', '', '', '', '', ''], dtype=object),\n array(['red wine', 'ground beef', 'mineral water', '', '', '', '', '', '',\n        '', '', '', '', '', '', '', '', '', '', ''], dtype=object),\n array(['mineral water', 'cake', 'cottage cheese', '', '', '', '', '', '',\n        '', '', '', '', '', '', '', '', '', '', ''], dtype=object),\n array(['pickles', 'champagne', 'green tea', '', '', '', '', '', '', '',\n        '', '', '', '', '', '', '', '', '', ''], dtype=object),\n array(['spaghetti', '', '', '', '', '', '', '', '', '', '', '', '', '',\n        '', '', '', '', '', ''], dtype=object),\n array(['fresh tuna', 'frozen vegetables', 'spaghetti', 'mineral water',\n        'honey', 'whole wheat rice', 'frozen smoothie', 'escalope', '', '',\n        '', '', '', '', '', '', '', '', '', ''], dtype=object),\n array(['spaghetti', '', '', '', '', '', '', '', '', '', '', '', '', '',\n        '', '', '', '', '', ''], dtype=object),\n array(['soup', 'meatballs', 'hot dogs', 'sparkling water', '', '', '', '',\n        '', '', '', '', '', '', '', '', '', '', '', ''], dtype=object),\n array(['escalope', '', '', '', '', '', '', '', '', '', '', '', '', '', '',\n        '', '', '', '', ''], dtype=object),\n array(['soup', 'avocado', 'french fries', 'hot dogs', 'brownies',\n        'body spray', 'pancakes', 'green tea', '', '', '', '', '', '', '',\n        '', '', '', '', ''], dtype=object),\n array(['mineral water', 'chicken', 'cereals', 'clothes accessories', '',\n        '', '', '', '', '', '', '', '', '', '', '', '', '', '', ''],\n       dtype=object),\n array(['mineral water', 'bug spray', '', '', '', '', '', '', '', '', '',\n        '', '', '', '', '', '', '', '', ''], dtype=object),\n array(['avocado', 'muffins', '', '', '', '', '', '', '', '', '', '', '',\n        '', '', '', '', '', '', ''], dtype=object),\n array(['burgers', 'black tea', 'green tea', '', '', '', '', '', '', '',\n        '', '', '', '', '', '', '', '', '', ''], dtype=object),\n array(['spaghetti', 'chocolate', 'brownies', 'white wine', 'green tea',\n        '', '', '', '', '', '', '', '', '', '', '', '', '', '', ''],\n       dtype=object),\n array(['fresh tuna', 'mineral water', 'eggs', '', '', '', '', '', '', '',\n        '', '', '', '', '', '', '', '', '', ''], dtype=object),\n array(['spaghetti', 'muffins', '', '', '', '', '', '', '', '', '', '', '',\n        '', '', '', '', '', '', ''], dtype=object),\n array(['spaghetti', 'chocolate', '', '', '', '', '', '', '', '', '', '',\n        '', '', '', '', '', '', '', ''], dtype=object),\n array(['french fries', 'escalope', 'champagne', '', '', '', '', '', '',\n        '', '', '', '', '', '', '', '', '', '', ''], dtype=object),\n array(['tomato sauce', 'light mayo', '', '', '', '', '', '', '', '', '',\n        '', '', '', '', '', '', '', '', ''], dtype=object),\n array(['turkey', 'fresh tuna', 'frozen vegetables', 'tomatoes',\n        'ground beef', 'spaghetti', 'mineral water', 'chocolate', 'soup',\n        'milk', 'olive oil', '', '', '', '', '', '', '', '', ''],\n       dtype=object),\n array(['eggs', 'cookies', '', '', '', '', '', '', '', '', '', '', '', '',\n        '', '', '', '', '', ''], dtype=object),\n array(['soup', 'chicken', 'gums', 'soda', 'body spray', 'energy drink',\n        'green tea', '', '', '', '', '', '', '', '', '', '', '', '', ''],\n       dtype=object),\n array(['turkey', 'frozen vegetables', 'mineral water', 'cider',\n        'cooking oil', 'green tea', '', '', '', '', '', '', '', '', '', '',\n        '', '', '', ''], dtype=object),\n array(['spaghetti', '', '', '', '', '', '', '', '', '', '', '', '', '',\n        '', '', '', '', '', ''], dtype=object),\n array(['clothes accessories', '', '', '', '', '', '', '', '', '', '', '',\n        '', '', '', '', '', '', '', ''], dtype=object),\n array(['energy drink', '', '', '', '', '', '', '', '', '', '', '', '', '',\n        '', '', '', '', '', ''], dtype=object),\n array(['soup', 'bug spray', 'shallot', 'protein bar', 'green tea', '', '',\n        '', '', '', '', '', '', '', '', '', '', '', '', ''], dtype=object),\n array(['turkey', 'eggs', '', '', '', '', '', '', '', '', '', '', '', '',\n        '', '', '', '', '', ''], dtype=object),\n array(['french fries', '', '', '', '', '', '', '', '', '', '', '', '', '',\n        '', '', '', '', '', ''], dtype=object),\n array(['chocolate', 'milk', '', '', '', '', '', '', '', '', '', '', '',\n        '', '', '', '', '', '', ''], dtype=object),\n array(['herb & pepper', 'whole wheat pasta', 'ground beef',\n        'mineral water', 'avocado', 'cider', 'whole wheat rice', '', '',\n        '', '', '', '', '', '', '', '', '', '', ''], dtype=object),\n array(['cookies', '', '', '', '', '', '', '', '', '', '', '', '', '', '',\n        '', '', '', '', ''], dtype=object),\n array(['shrimp', 'pasta', '', '', '', '', '', '', '', '', '', '', '', '',\n        '', '', '', '', '', ''], dtype=object),\n array(['grated cheese', 'herb & pepper', 'tomatoes', 'tomato sauce',\n        'corn', '', '', '', '', '', '', '', '', '', '', '', '', '', '', ''],\n       dtype=object),\n array(['burgers', 'escalope', 'shallot', '', '', '', '', '', '', '', '',\n        '', '', '', '', '', '', '', '', ''], dtype=object),\n array(['cookies', '', '', '', '', '', '', '', '', '', '', '', '', '', '',\n        '', '', '', '', ''], dtype=object),\n array(['yogurt cake', '', '', '', '', '', '', '', '', '', '', '', '', '',\n        '', '', '', '', '', ''], dtype=object),\n array(['soup', 'eggs', '', '', '', '', '', '', '', '', '', '', '', '', '',\n        '', '', '', '', ''], dtype=object),\n array(['cookies', '', '', '', '', '', '', '', '', '', '', '', '', '', '',\n        '', '', '', '', ''], dtype=object),\n array(['mineral water', 'chocolate', 'low fat yogurt', '', '', '', '', '',\n        '', '', '', '', '', '', '', '', '', '', '', ''], dtype=object),\n array(['eggs', 'strawberries', '', '', '', '', '', '', '', '', '', '', '',\n        '', '', '', '', '', '', ''], dtype=object),\n array(['grated cheese', 'ground beef', 'spaghetti', 'mineral water',\n        'white wine', '', '', '', '', '', '', '', '', '', '', '', '', '',\n        '', ''], dtype=object),\n array(['mint', '', '', '', '', '', '', '', '', '', '', '', '', '', '', '',\n        '', '', '', ''], dtype=object),\n array(['eggs', 'cake', 'french fries', '', '', '', '', '', '', '', '', '',\n        '', '', '', '', '', '', '', ''], dtype=object),\n array(['burgers', 'spaghetti', 'milk', 'french fries', 'green tea', '',\n        '', '', '', '', '', '', '', '', '', '', '', '', '', ''],\n       dtype=object),\n array(['mineral water', 'energy bar', 'butter', 'french fries', '', '',\n        '', '', '', '', '', '', '', '', '', '', '', '', '', ''],\n       dtype=object),\n array(['burgers', 'grated cheese', 'herb & pepper', 'mineral water',\n        'eggs', 'cooking oil', '', '', '', '', '', '', '', '', '', '', '',\n        '', '', ''], dtype=object),\n array(['energy bar', '', '', '', '', '', '', '', '', '', '', '', '', '',\n        '', '', '', '', '', ''], dtype=object),\n array(['energy bar', 'energy drink', '', '', '', '', '', '', '', '', '',\n        '', '', '', '', '', '', '', '', ''], dtype=object),\n array(['chocolate', 'frozen smoothie', '', '', '', '', '', '', '', '', '',\n        '', '', '', '', '', '', '', '', ''], dtype=object),\n array(['low fat yogurt', '', '', '', '', '', '', '', '', '', '', '', '',\n        '', '', '', '', '', '', ''], dtype=object),\n array(['asparagus', 'salad', '', '', '', '', '', '', '', '', '', '', '',\n        '', '', '', '', '', '', ''], dtype=object),\n array(['burgers', 'french fries', 'low fat yogurt', 'green tea', '', '',\n        '', '', '', '', '', '', '', '', '', '', '', '', '', ''],\n       dtype=object),\n array(['low fat yogurt', '', '', '', '', '', '', '', '', '', '', '', '',\n        '', '', '', '', '', '', ''], dtype=object),\n array(['burgers', 'herb & pepper', 'shrimp', 'pasta', 'spaghetti',\n        'mineral water', 'meatballs', 'olive oil', 'energy bar',\n        'french wine', 'eggs', 'salt', '', '', '', '', '', '', '', ''],\n       dtype=object),\n array(['champagne', 'low fat yogurt', '', '', '', '', '', '', '', '', '',\n        '', '', '', '', '', '', '', '', ''], dtype=object),\n array(['champagne', '', '', '', '', '', '', '', '', '', '', '', '', '',\n        '', '', '', '', '', ''], dtype=object),\n array(['burgers', 'almonds', 'eggs', 'french fries', 'cookies',\n        'green tea', '', '', '', '', '', '', '', '', '', '', '', '', '',\n        ''], dtype=object),\n array(['ham', 'soup', 'escalope', 'body spray', '', '', '', '', '', '',\n        '', '', '', '', '', '', '', '', '', ''], dtype=object),\n array(['turkey', 'ham', 'frozen vegetables', 'pepper', 'oil',\n        'extra dark chocolate', 'tea', 'magazines', '', '', '', '', '', '',\n        '', '', '', '', '', ''], dtype=object),\n array(['muffins', 'eggs', 'cookies', '', '', '', '', '', '', '', '', '',\n        '', '', '', '', '', '', '', ''], dtype=object),\n array(['cookies', '', '', '', '', '', '', '', '', '', '', '', '', '', '',\n        '', '', '', '', ''], dtype=object),\n array(['frozen vegetables', 'whole wheat pasta', 'ground beef',\n        'spaghetti', 'chocolate', 'green tea', '', '', '', '', '', '', '',\n        '', '', '', '', '', '', ''], dtype=object),\n array(['mineral water', 'barbecue sauce', 'chocolate', '', '', '', '', '',\n        '', '', '', '', '', '', '', '', '', '', '', ''], dtype=object),\n array(['burgers', 'herb & pepper', 'energy bar', 'almonds', 'eggs',\n        'corn', 'mayonnaise', 'zucchini', '', '', '', '', '', '', '', '',\n        '', '', '', ''], dtype=object),\n array(['turkey', 'burgers', 'ground beef', 'chocolate', 'soup', 'almonds',\n        'eggs', 'hot dogs', 'cottage cheese', '', '', '', '', '', '', '',\n        '', '', '', ''], dtype=object),\n array(['ham', 'spaghetti', 'chocolate', 'eggs', '', '', '', '', '', '',\n        '', '', '', '', '', '', '', '', '', ''], dtype=object),\n array(['ground beef', 'energy bar', 'pet food', 'carrots', 'protein bar',\n        '', '', '', '', '', '', '', '', '', '', '', '', '', '', ''],\n       dtype=object),\n array(['ground beef', 'tomato sauce', 'spaghetti', 'mineral water',\n        'almonds', 'eggs', '', '', '', '', '', '', '', '', '', '', '', '',\n        '', ''], dtype=object),\n array(['mineral water', 'olive oil', 'gums', 'cooking oil', '', '', '',\n        '', '', '', '', '', '', '', '', '', '', '', '', ''], dtype=object),\n array(['shrimp', 'pasta', 'mineral water', 'soup', 'avocado', 'milk',\n        'olive oil', 'green grapes', 'eggs', 'bug spray', '', '', '', '',\n        '', '', '', '', '', ''], dtype=object),\n array(['shrimp', 'pasta', 'soup', 'cake', 'cooking oil', 'chicken',\n        'light mayo', 'low fat yogurt', '', '', '', '', '', '', '', '', '',\n        '', '', ''], dtype=object),\n array(['spaghetti', 'mineral water', 'chocolate', 'french fries',\n        'champagne', 'escalope', 'mushroom cream sauce', 'fresh bread', '',\n        '', '', '', '', '', '', '', '', '', '', ''], dtype=object),\n array(['shrimp', 'pasta', 'mineral water', 'eggs', '', '', '', '', '', '',\n        '', '', '', '', '', '', '', '', '', ''], dtype=object),\n array(['burgers', 'oil', 'tomato juice', 'fresh bread', '', '', '', '',\n        '', '', '', '', '', '', '', '', '', '', '', ''], dtype=object),\n array(['french wine', 'eggs', 'chocolate', 'low fat yogurt', '', '', '',\n        '', '', '', '', '', '', '', '', '', '', '', '', ''], dtype=object),\n array(['chicken', 'eggs', 'french fries', 'pancakes', '', '', '', '', '',\n        '', '', '', '', '', '', '', '', '', '', ''], dtype=object),\n array(['turkey', 'herb & pepper', 'salmon', 'white wine', 'candy bars',\n        '', '', '', '', '', '', '', '', '', '', '', '', '', '', ''],\n       dtype=object),\n array(['grated cheese', 'spaghetti', 'olive oil', 'eggs', 'french fries',\n        'green tea', '', '', '', '', '', '', '', '', '', '', '', '', '',\n        ''], dtype=object),\n array(['mineral water', 'energy bar', '', '', '', '', '', '', '', '', '',\n        '', '', '', '', '', '', '', '', ''], dtype=object),\n array(['eggs', 'french fries', '', '', '', '', '', '', '', '', '', '', '',\n        '', '', '', '', '', '', ''], dtype=object),\n array(['burgers', 'tomatoes', 'mineral water', 'soup', 'milk', 'almonds',\n        'eggs', 'chocolate', 'tomato juice', '', '', '', '', '', '', '',\n        '', '', '', ''], dtype=object),\n array(['muffins', '', '', '', '', '', '', '', '', '', '', '', '', '', '',\n        '', '', '', '', ''], dtype=object),\n array(['pasta', '', '', '', '', '', '', '', '', '', '', '', '', '', '',\n        '', '', '', '', ''], dtype=object),\n array(['tomatoes', 'spaghetti', 'frozen smoothie', '', '', '', '', '', '',\n        '', '', '', '', '', '', '', '', '', '', ''], dtype=object),\n array(['ground beef', 'spaghetti', 'milk', '', '', '', '', '', '', '', '',\n        '', '', '', '', '', '', '', '', ''], dtype=object),\n array(['french fries', '', '', '', '', '', '', '', '', '', '', '', '', '',\n        '', '', '', '', '', ''], dtype=object),\n array(['chocolate', 'milk', '', '', '', '', '', '', '', '', '', '', '',\n        '', '', '', '', '', '', ''], dtype=object),\n array(['burgers', 'shrimp', 'pasta', 'frozen vegetables', 'spaghetti',\n        'mineral water', 'milk', 'eggs', 'chocolate', 'french fries',\n        'pancakes', 'low fat yogurt', '', '', '', '', '', '', '', ''],\n       dtype=object),\n array(['ground beef', 'mineral water', 'antioxydant juice', 'protein bar',\n        '', '', '', '', '', '', '', '', '', '', '', '', '', '', '', ''],\n       dtype=object),\n array(['grated cheese', 'whole wheat pasta', 'ground beef', 'spaghetti',\n        'cake', 'energy drink', '', '', '', '', '', '', '', '', '', '', '',\n        '', '', ''], dtype=object),\n array(['grated cheese', '', '', '', '', '', '', '', '', '', '', '', '',\n        '', '', '', '', '', '', ''], dtype=object),\n array(['pancakes', '', '', '', '', '', '', '', '', '', '', '', '', '', '',\n        '', '', '', '', ''], dtype=object),\n array(['frozen smoothie', '', '', '', '', '', '', '', '', '', '', '', '',\n        '', '', '', '', '', '', ''], dtype=object),\n array(['carrots', 'green tea', '', '', '', '', '', '', '', '', '', '', '',\n        '', '', '', '', '', '', ''], dtype=object),\n array(['chocolate', '', '', '', '', '', '', '', '', '', '', '', '', '',\n        '', '', '', '', '', ''], dtype=object),\n array(['turkey', 'burgers', 'chocolate', 'olive oil', 'eggs',\n        'cooking oil', 'corn', '', '', '', '', '', '', '', '', '', '', '',\n        '', ''], dtype=object),\n array(['frozen vegetables', 'tomatoes', 'pepper', 'spaghetti',\n        'mineral water', 'pancakes', 'chicken', 'chili', 'tea',\n        'french fries', 'tomato juice', 'fresh bread', '', '', '', '', '',\n        '', '', ''], dtype=object),\n array(['cookies', '', '', '', '', '', '', '', '', '', '', '', '', '', '',\n        '', '', '', '', ''], dtype=object),\n array(['ground beef', '', '', '', '', '', '', '', '', '', '', '', '', '',\n        '', '', '', '', '', ''], dtype=object),\n array(['turkey', 'eggs', 'chocolate', 'frozen smoothie', 'tomato juice',\n        '', '', '', '', '', '', '', '', '', '', '', '', '', '', ''],\n       dtype=object),\n array(['frozen vegetables', 'cooking oil', 'mashed potato', '', '', '',\n        '', '', '', '', '', '', '', '', '', '', '', '', '', ''],\n       dtype=object),\n array(['frozen vegetables', 'ground beef', 'tomato sauce',\n        'mineral water', 'meatballs', 'olive oil', 'light cream',\n        'tomato juice', '', '', '', '', '', '', '', '', '', '', '', ''],\n       dtype=object),\n array(['red wine', 'spaghetti', 'mineral water', 'soup', 'milk', 'eggs',\n        'cake', 'gums', 'cooking oil', 'chocolate', 'frozen smoothie', '',\n        '', '', '', '', '', '', '', ''], dtype=object),\n array(['chocolate', 'tomatoes', 'spaghetti', 'mineral water', 'avocado',\n        'milk', 'olive oil', 'eggs', 'rice', 'french fries', 'brownies',\n        '', '', '', '', '', '', '', '', ''], dtype=object),\n array(['chocolate', 'shrimp', 'pasta', 'frozen vegetables', 'ground beef',\n        'mineral water', 'nonfat milk', 'eggs', '', '', '', '', '', '', '',\n        '', '', '', '', ''], dtype=object),\n array(['turkey', 'shrimp', 'pasta', 'pepper', 'spaghetti',\n        'mineral water', 'eggs', 'chicken', 'french fries', '', '', '', '',\n        '', '', '', '', '', '', ''], dtype=object),\n array(['cookies', '', '', '', '', '', '', '', '', '', '', '', '', '', '',\n        '', '', '', '', ''], dtype=object),\n array(['turkey', 'tomatoes', 'cake', '', '', '', '', '', '', '', '', '',\n        '', '', '', '', '', '', '', ''], dtype=object),\n array(['yams', 'mineral water', 'soup', 'milk', 'pancakes',\n        'whole wheat rice', 'barbecue sauce', 'carrots', 'chocolate',\n        'champagne', '', '', '', '', '', '', '', '', '', ''], dtype=object),\n array(['rice', '', '', '', '', '', '', '', '', '', '', '', '', '', '', '',\n        '', '', '', ''], dtype=object),\n array(['chocolate', 'milk', '', '', '', '', '', '', '', '', '', '', '',\n        '', '', '', '', '', '', ''], dtype=object),\n array(['shrimp', 'pasta', 'frozen vegetables', 'water spray', '', '', '',\n        '', '', '', '', '', '', '', '', '', '', '', '', ''], dtype=object),\n array(['burgers', 'mineral water', 'milk', 'eggs', 'whole wheat rice',\n        'mint', '', '', '', '', '', '', '', '', '', '', '', '', '', ''],\n       dtype=object),\n array(['mineral water', 'vegetables mix', 'cake', 'frozen smoothie',\n        'brownies', '', '', '', '', '', '', '', '', '', '', '', '', '', '',\n        ''], dtype=object),\n array(['cookies', '', '', '', '', '', '', '', '', '', '', '', '', '', '',\n        '', '', '', '', ''], dtype=object),\n array(['shrimp', 'pasta', 'chicken', 'chocolate bread', '', '', '', '',\n        '', '', '', '', '', '', '', '', '', '', '', ''], dtype=object),\n array(['shallot', '', '', '', '', '', '', '', '', '', '', '', '', '', '',\n        '', '', '', '', ''], dtype=object),\n array(['shrimp', 'pasta', 'spaghetti', 'eggs', 'hot dogs', 'green tea',\n        '', '', '', '', '', '', '', '', '', '', '', '', '', ''],\n       dtype=object),\n array(['burgers', '', '', '', '', '', '', '', '', '', '', '', '', '', '',\n        '', '', '', '', ''], dtype=object),\n array(['red wine', 'ground beef', 'spaghetti', 'mineral water', 'milk',\n        'olive oil', 'strong cheese', 'light cream', 'cooking oil', '', '',\n        '', '', '', '', '', '', '', '', ''], dtype=object),\n array(['burgers', 'grated cheese', 'spaghetti', 'avocado', 'milk', 'oil',\n        'french fries', '', '', '', '', '', '', '', '', '', '', '', '', ''],\n       dtype=object),\n array(['herb & pepper', 'whole wheat pasta', 'ground beef',\n        'mineral water', 'olive oil', '', '', '', '', '', '', '', '', '',\n        '', '', '', '', '', ''], dtype=object),\n array(['shrimp', 'pasta', 'yams', 'milk', 'chocolate', '', '', '', '', '',\n        '', '', '', '', '', '', '', '', '', ''], dtype=object),\n array(['butter', 'green tea', '', '', '', '', '', '', '', '', '', '', '',\n        '', '', '', '', '', '', ''], dtype=object),\n array(['light mayo', '', '', '', '', '', '', '', '', '', '', '', '', '',\n        '', '', '', '', '', ''], dtype=object),\n array(['low fat yogurt', '', '', '', '', '', '', '', '', '', '', '', '',\n        '', '', '', '', '', '', ''], dtype=object),\n array(['herb & pepper', 'shrimp', 'pasta', 'spaghetti', 'milk', '', '',\n        '', '', '', '', '', '', '', '', '', '', '', '', ''], dtype=object),\n array(['burgers', 'eggs', '', '', '', '', '', '', '', '', '', '', '', '',\n        '', '', '', '', '', ''], dtype=object),\n array(['turkey', 'herb & pepper', 'ground beef', 'soup', 'avocado',\n        'milk', 'black tea', 'eggs', 'barbecue sauce', 'carrots',\n        'cookies', 'tomato juice', 'fresh bread', '', '', '', '', '', '',\n        ''], dtype=object),\n array(['cookies', '', '', '', '', '', '', '', '', '', '', '', '', '', '',\n        '', '', '', '', ''], dtype=object),\n array(['escalope', '', '', '', '', '', '', '', '', '', '', '', '', '', '',\n        '', '', '', '', ''], dtype=object),\n array(['pepper', 'french fries', 'strawberries', 'pancakes',\n        'low fat yogurt', '', '', '', '', '', '', '', '', '', '', '', '',\n        '', '', ''], dtype=object),\n array(['frozen vegetables', 'yams', 'chicken', 'honey', 'light mayo', '',\n        '', '', '', '', '', '', '', '', '', '', '', '', '', ''],\n       dtype=object),\n array(['chocolate', 'champagne', '', '', '', '', '', '', '', '', '', '',\n        '', '', '', '', '', '', '', ''], dtype=object),\n array(['herb & pepper', 'honey', 'cake', 'rice', 'protein bar', '', '',\n        '', '', '', '', '', '', '', '', '', '', '', '', ''], dtype=object),\n array(['burgers', 'chocolate', 'frozen vegetables', 'ground beef',\n        'mineral water', 'milk', 'light mayo', 'asparagus', '', '', '', '',\n        '', '', '', '', '', '', '', ''], dtype=object),\n array(['chocolate', 'mineral water', 'corn', 'cottage cheese',\n        'green tea', '', '', '', '', '', '', '', '', '', '', '', '', '',\n        '', ''], dtype=object),\n array(['muffins', '', '', '', '', '', '', '', '', '', '', '', '', '', '',\n        '', '', '', '', ''], dtype=object),\n array(['ham', 'french wine', 'escalope', '', '', '', '', '', '', '', '',\n        '', '', '', '', '', '', '', '', ''], dtype=object),\n array(['spaghetti', 'milk', 'whole wheat rice', 'mint green tea', '', '',\n        '', '', '', '', '', '', '', '', '', '', '', '', '', ''],\n       dtype=object),\n array(['chocolate', 'body spray', '', '', '', '', '', '', '', '', '', '',\n        '', '', '', '', '', '', '', ''], dtype=object),\n array(['frozen vegetables', 'french fries', 'hot dogs', '', '', '', '',\n        '', '', '', '', '', '', '', '', '', '', '', '', ''], dtype=object),\n array(['candy bars', '', '', '', '', '', '', '', '', '', '', '', '', '',\n        '', '', '', '', '', ''], dtype=object),\n array(['burgers', 'shrimp', 'pasta', 'milk', 'green tea', 'french fries',\n        'cookies', 'white wine', '', '', '', '', '', '', '', '', '', '',\n        '', ''], dtype=object),\n array(['parmesan cheese', 'ground beef', '', '', '', '', '', '', '', '',\n        '', '', '', '', '', '', '', '', '', ''], dtype=object),\n array(['pancakes', 'whole wheat rice', 'candy bars', '', '', '', '', '',\n        '', '', '', '', '', '', '', '', '', '', '', ''], dtype=object),\n array(['eggs', 'eggplant', 'cookies', '', '', '', '', '', '', '', '', '',\n        '', '', '', '', '', '', '', ''], dtype=object),\n array(['frozen vegetables', 'mineral water', '', '', '', '', '', '', '',\n        '', '', '', '', '', '', '', '', '', '', ''], dtype=object),\n array(['chocolate', '', '', '', '', '', '', '', '', '', '', '', '', '',\n        '', '', '', '', '', ''], dtype=object),\n array(['turkey', 'spaghetti', 'milk', 'whole wheat rice', 'chocolate', '',\n        '', '', '', '', '', '', '', '', '', '', '', '', '', ''],\n       dtype=object),\n array(['whole wheat pasta', 'ground beef', 'spaghetti', 'soup',\n        'meatballs', 'chicken', 'blueberries', 'cooking oil', 'champagne',\n        'yogurt cake', 'protein bar', '', '', '', '', '', '', '', '', ''],\n       dtype=object),\n array(['cooking oil', 'tomato juice', '', '', '', '', '', '', '', '', '',\n        '', '', '', '', '', '', '', '', ''], dtype=object),\n array(['frozen vegetables', 'milk', 'eggs', 'french fries', 'green tea',\n        '', '', '', '', '', '', '', '', '', '', '', '', '', '', ''],\n       dtype=object),\n array(['fresh tuna', 'spaghetti', 'olive oil', 'french wine', 'eggs',\n        'french fries', 'champagne', 'pancakes', 'light mayo', '', '', '',\n        '', '', '', '', '', '', '', ''], dtype=object),\n array(['red wine', 'honey', 'hot dogs', '', '', '', '', '', '', '', '',\n        '', '', '', '', '', '', '', '', ''], dtype=object),\n array(['milk', 'bacon', 'eggs', 'french fries', 'fresh bread', '', '', '',\n        '', '', '', '', '', '', '', '', '', '', '', ''], dtype=object),\n array(['french fries', 'yogurt cake', '', '', '', '', '', '', '', '', '',\n        '', '', '', '', '', '', '', '', ''], dtype=object),\n array(['milk', '', '', '', '', '', '', '', '', '', '', '', '', '', '', '',\n        '', '', '', ''], dtype=object),\n array(['french fries', '', '', '', '', '', '', '', '', '', '', '', '', '',\n        '', '', '', '', '', ''], dtype=object),\n array(['chocolate', '', '', '', '', '', '', '', '', '', '', '', '', '',\n        '', '', '', '', '', ''], dtype=object),\n array(['burgers', 'ham', 'red wine', '', '', '', '', '', '', '', '', '',\n        '', '', '', '', '', '', '', ''], dtype=object),\n array(['shrimp', 'pasta', 'tomatoes', 'energy bar', 'french wine',\n        'antioxydant juice', 'french fries', 'frozen smoothie', 'brownies',\n        '', '', '', '', '', '', '', '', '', '', ''], dtype=object),\n array(['green tea', '', '', '', '', '', '', '', '', '', '', '', '', '',\n        '', '', '', '', '', ''], dtype=object),\n array(['low fat yogurt', '', '', '', '', '', '', '', '', '', '', '', '',\n        '', '', '', '', '', '', ''], dtype=object),\n array(['turkey', 'spaghetti', 'mineral water', 'soup', 'spinach', 'soda',\n        'energy drink', 'salt', '', '', '', '', '', '', '', '', '', '', '',\n        ''], dtype=object),\n array(['turkey', 'eggs', '', '', '', '', '', '', '', '', '', '', '', '',\n        '', '', '', '', '', ''], dtype=object),\n array(['bug spray', 'hot dogs', '', '', '', '', '', '', '', '', '', '',\n        '', '', '', '', '', '', '', ''], dtype=object),\n array(['oil', '', '', '', '', '', '', '', '', '', '', '', '', '', '', '',\n        '', '', '', ''], dtype=object),\n array(['soup', 'energy bar', 'chicken', 'eggs', 'cake', 'french fries',\n        'body spray', 'strawberries', '', '', '', '', '', '', '', '', '',\n        '', '', ''], dtype=object),\n array(['spaghetti', 'chocolate', 'yogurt cake', '', '', '', '', '', '',\n        '', '', '', '', '', '', '', '', '', '', ''], dtype=object),\n array(['turkey', 'mineral water', 'meatballs', '', '', '', '', '', '', '',\n        '', '', '', '', '', '', '', '', '', ''], dtype=object),\n array(['ground beef', 'mineral water', 'chocolate', 'fromage blanc',\n        'bacon', 'hot dogs', '', '', '', '', '', '', '', '', '', '', '',\n        '', '', ''], dtype=object),\n array(['frozen vegetables', 'mineral water', 'vegetables mix', 'escalope',\n        '', '', '', '', '', '', '', '', '', '', '', '', '', '', '', ''],\n       dtype=object),\n array(['herb & pepper', 'red wine', 'tomatoes', '', '', '', '', '', '',\n        '', '', '', '', '', '', '', '', '', '', ''], dtype=object),\n array(['whole wheat pasta', 'olive oil', 'cereals', 'brownies',\n        'green tea', '', '', '', '', '', '', '', '', '', '', '', '', '',\n        '', ''], dtype=object),\n array(['cookies', '', '', '', '', '', '', '', '', '', '', '', '', '', '',\n        '', '', '', '', ''], dtype=object),\n array(['olive oil', 'cookies', 'mushroom cream sauce', '', '', '', '', '',\n        '', '', '', '', '', '', '', '', '', '', '', ''], dtype=object),\n array(['ground beef', 'pancakes', 'cooking oil', 'gluten free bar',\n        'light mayo', '', '', '', '', '', '', '', '', '', '', '', '', '',\n        '', ''], dtype=object),\n array(['mineral water', 'french fries', '', '', '', '', '', '', '', '',\n        '', '', '', '', '', '', '', '', '', ''], dtype=object),\n array(['herb & pepper', '', '', '', '', '', '', '', '', '', '', '', '',\n        '', '', '', '', '', '', ''], dtype=object),\n array(['salmon', '', '', '', '', '', '', '', '', '', '', '', '', '', '',\n        '', '', '', '', ''], dtype=object),\n array(['eggs', 'escalope', '', '', '', '', '', '', '', '', '', '', '', '',\n        '', '', '', '', '', ''], dtype=object),\n array(['mineral water', 'tomato juice', '', '', '', '', '', '', '', '',\n        '', '', '', '', '', '', '', '', '', ''], dtype=object),\n array(['mineral water', '', '', '', '', '', '', '', '', '', '', '', '',\n        '', '', '', '', '', '', ''], dtype=object),\n array(['shrimp', 'mineral water', 'soup', 'black tea', '', '', '', '', '',\n        '', '', '', '', '', '', '', '', '', '', ''], dtype=object),\n array(['cake', 'frozen smoothie', '', '', '', '', '', '', '', '', '', '',\n        '', '', '', '', '', '', '', ''], dtype=object),\n array(['turkey', 'burgers', 'grated cheese', 'tomatoes', 'chocolate',\n        'fromage blanc', 'honey', 'whole wheat rice', '', '', '', '', '',\n        '', '', '', '', '', '', ''], dtype=object),\n array(['frozen vegetables', 'ground beef', 'mineral water', 'olive oil',\n        'pancakes', '', '', '', '', '', '', '', '', '', '', '', '', '', '',\n        ''], dtype=object),\n array(['turkey', 'burgers', 'ground beef', 'milk', 'olive oil', 'cake',\n        'fresh bread', '', '', '', '', '', '', '', '', '', '', '', '', ''],\n       dtype=object),\n array(['whole wheat pasta', 'ground beef', 'spaghetti', 'yams',\n        'mineral water', 'soup', 'chutney', 'cereals', 'energy drink',\n        'protein bar', '', '', '', '', '', '', '', '', '', ''],\n       dtype=object),\n array(['eggs', 'whole wheat rice', 'cake', 'green tea', 'escalope', '',\n        '', '', '', '', '', '', '', '', '', '', '', '', '', ''],\n       dtype=object),\n array(['ground beef', 'yams', 'soup', 'avocado', 'salmon', 'green tea',\n        '', '', '', '', '', '', '', '', '', '', '', '', '', ''],\n       dtype=object),\n array(['milk', '', '', '', '', '', '', '', '', '', '', '', '', '', '', '',\n        '', '', '', ''], dtype=object),\n array(['spaghetti', 'chocolate', '', '', '', '', '', '', '', '', '', '',\n        '', '', '', '', '', '', '', ''], dtype=object),\n array(['whole wheat pasta', 'honey', '', '', '', '', '', '', '', '', '',\n        '', '', '', '', '', '', '', '', ''], dtype=object),\n array(['whole wheat pasta', 'green tea', '', '', '', '', '', '', '', '',\n        '', '', '', '', '', '', '', '', '', ''], dtype=object),\n array(['spaghetti', 'meatballs', 'vegetables mix', 'chocolate', '', '',\n        '', '', '', '', '', '', '', '', '', '', '', '', '', ''],\n       dtype=object),\n array(['eggs', 'low fat yogurt', '', '', '', '', '', '', '', '', '', '',\n        '', '', '', '', '', '', '', ''], dtype=object),\n array(['fresh tuna', 'shrimp', 'pasta', 'mineral water', 'olive oil',\n        'eggs', 'cake', 'brownies', 'tomato juice', '', '', '', '', '', '',\n        '', '', '', '', ''], dtype=object),\n array(['mineral water', 'green grapes', 'hot dogs', 'fresh bread', '', '',\n        '', '', '', '', '', '', '', '', '', '', '', '', '', ''],\n       dtype=object),\n array(['frozen vegetables', 'meatballs', 'eggs', 'chocolate', '', '', '',\n        '', '', '', '', '', '', '', '', '', '', '', '', ''], dtype=object),\n array(['chocolate', '', '', '', '', '', '', '', '', '', '', '', '', '',\n        '', '', '', '', '', ''], dtype=object),\n array(['meatballs', 'milk', '', '', '', '', '', '', '', '', '', '', '',\n        '', '', '', '', '', '', ''], dtype=object),\n array(['low fat yogurt', '', '', '', '', '', '', '', '', '', '', '', '',\n        '', '', '', '', '', '', ''], dtype=object),\n array(['green tea', '', '', '', '', '', '', '', '', '', '', '', '', '',\n        '', '', '', '', '', ''], dtype=object),\n array(['escalope', 'pasta', '', '', '', '', '', '', '', '', '', '', '',\n        '', '', '', '', '', '', ''], dtype=object),\n array(['pepper', 'chocolate', 'olive oil', 'french wine', 'salmon',\n        'rice', 'light mayo', 'fresh bread', 'magazines', '', '', '', '',\n        '', '', '', '', '', '', ''], dtype=object),\n array(['red wine', 'french wine', 'vegetables mix', 'rice',\n        'clothes accessories', 'hot dogs', 'green tea', '', '', '', '', '',\n        '', '', '', '', '', '', '', ''], dtype=object),\n array(['burgers', 'dessert wine', 'spaghetti', 'chicken', 'cake',\n        'protein bar', 'green tea', '', '', '', '', '', '', '', '', '', '',\n        '', '', ''], dtype=object),\n array(['french wine', 'cake', 'fresh bread', '', '', '', '', '', '', '',\n        '', '', '', '', '', '', '', '', '', ''], dtype=object),\n array(['burgers', 'frozen vegetables', 'flax seed', 'eggs', '', '', '',\n        '', '', '', '', '', '', '', '', '', '', '', '', ''], dtype=object),\n array(['red wine', '', '', '', '', '', '', '', '', '', '', '', '', '', '',\n        '', '', '', '', ''], dtype=object),\n array(['pepper', 'mineral water', 'energy bar', 'green grapes', '', '',\n        '', '', '', '', '', '', '', '', '', '', '', '', '', ''],\n       dtype=object),\n array(['milk', 'eggs', 'cake', 'chocolate', 'french fries', 'green tea',\n        '', '', '', '', '', '', '', '', '', '', '', '', '', ''],\n       dtype=object),\n array(['french fries', '', '', '', '', '', '', '', '', '', '', '', '', '',\n        '', '', '', '', '', ''], dtype=object),\n array(['almonds', '', '', '', '', '', '', '', '', '', '', '', '', '', '',\n        '', '', '', '', ''], dtype=object),\n array(['burgers', 'mineral water', 'green tea', '', '', '', '', '', '',\n        '', '', '', '', '', '', '', '', '', '', ''], dtype=object),\n array(['milk', 'pancakes', '', '', '', '', '', '', '', '', '', '', '', '',\n        '', '', '', '', '', ''], dtype=object),\n array(['pancakes', 'eggs', 'salt', 'tomato juice', '', '', '', '', '', '',\n        '', '', '', '', '', '', '', '', '', ''], dtype=object),\n array(['mineral water', '', '', '', '', '', '', '', '', '', '', '', '',\n        '', '', '', '', '', '', ''], dtype=object),\n array(['ham', 'spaghetti', 'mineral water', 'olive oil', '', '', '', '',\n        '', '', '', '', '', '', '', '', '', '', '', ''], dtype=object),\n array(['salt', 'tomato juice', 'fresh bread', '', '', '', '', '', '', '',\n        '', '', '', '', '', '', '', '', '', ''], dtype=object),\n array(['spaghetti', 'mushroom cream sauce', '', '', '', '', '', '', '',\n        '', '', '', '', '', '', '', '', '', '', ''], dtype=object),\n array(['spaghetti', 'mineral water', 'eggs', 'pet food', '', '', '', '',\n        '', '', '', '', '', '', '', '', '', '', '', ''], dtype=object),\n array(['frozen vegetables', 'spaghetti', '', '', '', '', '', '', '', '',\n        '', '', '', '', '', '', '', '', '', ''], dtype=object),\n array(['energy drink', '', '', '', '', '', '', '', '', '', '', '', '', '',\n        '', '', '', '', '', ''], dtype=object),\n array(['muffins', '', '', '', '', '', '', '', '', '', '', '', '', '', '',\n        '', '', '', '', ''], dtype=object),\n array(['turkey', 'milk', '', '', '', '', '', '', '', '', '', '', '', '',\n        '', '', '', '', '', ''], dtype=object),\n array(['cookies', '', '', '', '', '', '', '', '', '', '', '', '', '', '',\n        '', '', '', '', ''], dtype=object),\n array(['chocolate', '', '', '', '', '', '', '', '', '', '', '', '', '',\n        '', '', '', '', '', ''], dtype=object),\n array(['spaghetti', 'mineral water', 'eggs', 'cooking oil', 'chocolate',\n        'escalope', '', '', '', '', '', '', '', '', '', '', '', '', '', ''],\n       dtype=object),\n array(['shrimp', 'frozen vegetables', 'pepper', 'spaghetti', 'green tea',\n        '', '', '', '', '', '', '', '', '', '', '', '', '', '', ''],\n       dtype=object),\n array(['burgers', 'fresh tuna', 'red wine', 'mineral water',\n        'french fries', 'hand protein bar', 'low fat yogurt', '', '', '',\n        '', '', '', '', '', '', '', '', '', ''], dtype=object),\n array(['pancakes', 'eggs', 'energy drink', 'fresh bread', '', '', '', '',\n        '', '', '', '', '', '', '', '', '', '', '', ''], dtype=object),\n array(['strong cheese', 'salmon', 'green tea', 'french fries',\n        'frozen smoothie', 'hot dogs', '', '', '', '', '', '', '', '', '',\n        '', '', '', '', ''], dtype=object),\n array(['grated cheese', 'shrimp', 'pasta', 'tomatoes', 'milk',\n        'frozen smoothie', 'sandwich', '', '', '', '', '', '', '', '', '',\n        '', '', '', ''], dtype=object),\n array(['herb & pepper', 'whole wheat pasta', 'olive oil', 'pancakes',\n        'eggs', '', '', '', '', '', '', '', '', '', '', '', '', '', '', ''],\n       dtype=object),\n array(['spaghetti', 'antioxydant juice', '', '', '', '', '', '', '', '',\n        '', '', '', '', '', '', '', '', '', ''], dtype=object),\n array(['chocolate', 'milk', 'almonds', 'eggs', 'strawberries',\n        'white wine', '', '', '', '', '', '', '', '', '', '', '', '', '',\n        ''], dtype=object),\n array(['french fries', 'strawberries', '', '', '', '', '', '', '', '', '',\n        '', '', '', '', '', '', '', '', ''], dtype=object),\n array(['mineral water', '', '', '', '', '', '', '', '', '', '', '', '',\n        '', '', '', '', '', '', ''], dtype=object),\n array(['eggs', '', '', '', '', '', '', '', '', '', '', '', '', '', '', '',\n        '', '', '', ''], dtype=object),\n array(['escalope', '', '', '', '', '', '', '', '', '', '', '', '', '', '',\n        '', '', '', '', ''], dtype=object),\n array(['cake', '', '', '', '', '', '', '', '', '', '', '', '', '', '', '',\n        '', '', '', ''], dtype=object),\n array(['whole wheat pasta', 'antioxydant juice', 'body spray',\n        'green tea', '', '', '', '', '', '', '', '', '', '', '', '', '',\n        '', '', ''], dtype=object),\n array(['mineral water', 'oil', 'frozen smoothie', '', '', '', '', '', '',\n        '', '', '', '', '', '', '', '', '', '', ''], dtype=object),\n array(['french fries', 'champagne', '', '', '', '', '', '', '', '', '',\n        '', '', '', '', '', '', '', '', ''], dtype=object),\n array(['chocolate', 'french fries', '', '', '', '', '', '', '', '', '',\n        '', '', '', '', '', '', '', '', ''], dtype=object),\n array(['frozen vegetables', 'spaghetti', 'eggs', '', '', '', '', '', '',\n        '', '', '', '', '', '', '', '', '', '', ''], dtype=object),\n array(['hot dogs', '', '', '', '', '', '', '', '', '', '', '', '', '', '',\n        '', '', '', '', ''], dtype=object),\n array(['chocolate', 'cookies', '', '', '', '', '', '', '', '', '', '', '',\n        '', '', '', '', '', '', ''], dtype=object),\n array(['pancakes', '', '', '', '', '', '', '', '', '', '', '', '', '', '',\n        '', '', '', '', ''], dtype=object),\n array(['shrimp', 'butter', 'chicken', 'salmon', '', '', '', '', '', '',\n        '', '', '', '', '', '', '', '', '', ''], dtype=object),\n array(['chocolate', 'cookies', 'babies food', '', '', '', '', '', '', '',\n        '', '', '', '', '', '', '', '', '', ''], dtype=object),\n array(['pepper', 'spaghetti', 'cake', 'chocolate', 'french fries',\n        'fresh bread', '', '', '', '', '', '', '', '', '', '', '', '', '',\n        ''], dtype=object),\n array(['avocado', 'oil', 'cereals', 'french fries', '', '', '', '', '',\n        '', '', '', '', '', '', '', '', '', '', ''], dtype=object),\n array(['herb & pepper', 'spaghetti', 'mineral water', 'spinach', 'eggs',\n        'oil', 'cooking oil', 'green tea', 'shampoo', 'tomato juice',\n        'low fat yogurt', '', '', '', '', '', '', '', '', ''], dtype=object),\n array(['herb & pepper', 'frozen vegetables', 'ground beef', 'pepper',\n        'spaghetti', 'mint green tea', 'french fries', '', '', '', '', '',\n        '', '', '', '', '', '', '', ''], dtype=object),\n array(['french fries', '', '', '', '', '', '', '', '', '', '', '', '', '',\n        '', '', '', '', '', ''], dtype=object),\n array(['green tea', 'tomato juice', '', '', '', '', '', '', '', '', '',\n        '', '', '', '', '', '', '', '', ''], dtype=object),\n array(['eggs', 'whole wheat rice', 'chocolate', '', '', '', '', '', '',\n        '', '', '', '', '', '', '', '', '', '', ''], dtype=object),\n array(['grated cheese', 'herb & pepper', 'red wine', 'spaghetti',\n        'mineral water', 'salmon', 'eggs', 'cooking oil', 'green tea', '',\n        '', '', '', '', '', '', '', '', '', ''], dtype=object),\n array(['french fries', 'cookies', 'shallot', 'tomato juice',\n        'fresh bread', 'low fat yogurt', '', '', '', '', '', '', '', '',\n        '', '', '', '', '', ''], dtype=object),\n array(['burgers', 'fresh tuna', 'spaghetti', 'muffins', 'honey', '', '',\n        '', '', '', '', '', '', '', '', '', '', '', '', ''], dtype=object),\n array(['herb & pepper', 'ground beef', 'spaghetti', 'eggs', 'chicken', '',\n        '', '', '', '', '', '', '', '', '', '', '', '', '', ''],\n       dtype=object),\n array(['grated cheese', 'muffins', 'tomato juice', 'mayonnaise', '', '',\n        '', '', '', '', '', '', '', '', '', '', '', '', '', ''],\n       dtype=object),\n array(['whole wheat pasta', 'yams', 'mineral water', 'muffins',\n        'frozen smoothie', 'hot dogs', 'energy drink', '', '', '', '', '',\n        '', '', '', '', '', '', '', ''], dtype=object),\n array(['burgers', 'spaghetti', 'soup', 'milk', 'olive oil', 'salmon',\n        'eggs', 'blueberries', '', '', '', '', '', '', '', '', '', '', '',\n        ''], dtype=object),\n array(['chocolate', 'champagne', 'magazines', '', '', '', '', '', '', '',\n        '', '', '', '', '', '', '', '', '', ''], dtype=object),\n array(['frozen vegetables', 'spaghetti', 'yams', 'mineral water',\n        'french wine', 'green grapes', 'rice', 'chocolate', '', '', '', '',\n        '', '', '', '', '', '', '', ''], dtype=object),\n array(['tomato sauce', 'chocolate', '', '', '', '', '', '', '', '', '',\n        '', '', '', '', '', '', '', '', ''], dtype=object),\n array(['milk', 'eggs', '', '', '', '', '', '', '', '', '', '', '', '', '',\n        '', '', '', '', ''], dtype=object),\n array(['pet food', '', '', '', '', '', '', '', '', '', '', '', '', '', '',\n        '', '', '', '', ''], dtype=object),\n array(['yogurt cake', '', '', '', '', '', '', '', '', '', '', '', '', '',\n        '', '', '', '', '', ''], dtype=object),\n array(['green tea', '', '', '', '', '', '', '', '', '', '', '', '', '',\n        '', '', '', '', '', ''], dtype=object),\n array(['escalope', 'pasta', '', '', '', '', '', '', '', '', '', '', '',\n        '', '', '', '', '', '', ''], dtype=object),\n array(['herb & pepper', 'ground beef', '', '', '', '', '', '', '', '', '',\n        '', '', '', '', '', '', '', '', ''], dtype=object),\n array(['mineral water', 'honey', 'brownies', '', '', '', '', '', '', '',\n        '', '', '', '', '', '', '', '', '', ''], dtype=object),\n array(['turkey', 'eggs', 'cake', 'energy drink', '', '', '', '', '', '',\n        '', '', '', '', '', '', '', '', '', ''], dtype=object),\n array(['turkey', 'burgers', 'dessert wine', 'ground beef', 'soup',\n        'salmon', 'eggs', 'gums', 'tomato juice', 'candy bars', '', '', '',\n        '', '', '', '', '', '', ''], dtype=object),\n array(['spaghetti', 'mineral water', 'chicken', '', '', '', '', '', '',\n        '', '', '', '', '', '', '', '', '', '', ''], dtype=object),\n array(['turkey', 'ground beef', 'carrots', 'french fries', 'melons', '',\n        '', '', '', '', '', '', '', '', '', '', '', '', '', ''],\n       dtype=object),\n array(['mineral water', 'eggs', 'low fat yogurt', '', '', '', '', '', '',\n        '', '', '', '', '', '', '', '', '', '', ''], dtype=object),\n array(['turkey', 'cooking oil', 'shampoo', '', '', '', '', '', '', '', '',\n        '', '', '', '', '', '', '', '', ''], dtype=object),\n array(['spaghetti', 'hot dogs', '', '', '', '', '', '', '', '', '', '',\n        '', '', '', '', '', '', '', ''], dtype=object),\n array(['chocolate', 'green tea', '', '', '', '', '', '', '', '', '', '',\n        '', '', '', '', '', '', '', ''], dtype=object),\n array(['grated cheese', 'pepper', 'mineral water', 'chocolate', 'eggs',\n        'cake', 'mashed potato', 'tomato juice', '', '', '', '', '', '',\n        '', '', '', '', '', ''], dtype=object),\n array(['chocolate', '', '', '', '', '', '', '', '', '', '', '', '', '',\n        '', '', '', '', '', ''], dtype=object),\n array(['spaghetti', 'olive oil', 'strong cheese', 'pancakes', '', '', '',\n        '', '', '', '', '', '', '', '', '', '', '', '', ''], dtype=object),\n array(['red wine', 'mineral water', 'soup', 'rice', 'cookies', '', '', '',\n        '', '', '', '', '', '', '', '', '', '', '', ''], dtype=object),\n array(['red wine', 'shrimp', 'spaghetti', '', '', '', '', '', '', '', '',\n        '', '', '', '', '', '', '', '', ''], dtype=object),\n array(['green tea', '', '', '', '', '', '', '', '', '', '', '', '', '',\n        '', '', '', '', '', ''], dtype=object),\n array(['mineral water', 'chicken', 'french fries', 'frozen smoothie', '',\n        '', '', '', '', '', '', '', '', '', '', '', '', '', '', ''],\n       dtype=object),\n array(['muffins', '', '', '', '', '', '', '', '', '', '', '', '', '', '',\n        '', '', '', '', ''], dtype=object),\n array(['cake', 'chocolate', '', '', '', '', '', '', '', '', '', '', '',\n        '', '', '', '', '', '', ''], dtype=object),\n array(['fresh tuna', 'tomatoes', 'mineral water', 'soup', 'avocado',\n        'meatballs', 'olive oil', '', '', '', '', '', '', '', '', '', '',\n        '', '', ''], dtype=object),\n array(['turkey', 'french fries', '', '', '', '', '', '', '', '', '', '',\n        '', '', '', '', '', '', '', ''], dtype=object),\n array(['burgers', 'turkey', 'herb & pepper', 'ground beef', 'pancakes',\n        'eggs', 'light cream', 'rice', 'champagne', 'fresh bread', '', '',\n        '', '', '', '', '', '', '', ''], dtype=object),\n array(['escalope', '', '', '', '', '', '', '', '', '', '', '', '', '', '',\n        '', '', '', '', ''], dtype=object),\n array(['chocolate', 'escalope', 'fresh bread', '', '', '', '', '', '', '',\n        '', '', '', '', '', '', '', '', '', ''], dtype=object),\n array(['ham', 'spaghetti', 'french wine', 'vegetables mix', 'chocolate',\n        'french fries', '', '', '', '', '', '', '', '', '', '', '', '', '',\n        ''], dtype=object),\n array(['avocado', 'light mayo', '', '', '', '', '', '', '', '', '', '',\n        '', '', '', '', '', '', '', ''], dtype=object),\n array(['spaghetti', 'yams', 'butter', 'chocolate', '', '', '', '', '', '',\n        '', '', '', '', '', '', '', '', '', ''], dtype=object),\n array(['energy bar', 'eggs', 'french fries', '', '', '', '', '', '', '',\n        '', '', '', '', '', '', '', '', '', ''], dtype=object),\n array(['fresh tuna', 'barbecue sauce', 'eggplant', '', '', '', '', '', '',\n        '', '', '', '', '', '', '', '', '', '', ''], dtype=object),\n array(['energy drink', '', '', '', '', '', '', '', '', '', '', '', '', '',\n        '', '', '', '', '', ''], dtype=object),\n array(['whole wheat rice', 'french fries', 'hot dogs', 'green tea', '',\n        '', '', '', '', '', '', '', '', '', '', '', '', '', '', ''],\n       dtype=object),\n array(['mineral water', 'chicken', 'green tea', '', '', '', '', '', '',\n        '', '', '', '', '', '', '', '', '', '', ''], dtype=object),\n array(['eggs', 'cake', 'mushroom cream sauce', '', '', '', '', '', '', '',\n        '', '', '', '', '', '', '', '', '', ''], dtype=object),\n array(['escalope', '', '', '', '', '', '', '', '', '', '', '', '', '', '',\n        '', '', '', '', ''], dtype=object),\n array(['antioxydant juice', 'escalope', '', '', '', '', '', '', '', '',\n        '', '', '', '', '', '', '', '', '', ''], dtype=object),\n array(['shrimp', 'spaghetti', 'french fries', '', '', '', '', '', '', '',\n        '', '', '', '', '', '', '', '', '', ''], dtype=object),\n array(['grated cheese', 'spaghetti', 'salmon', 'tomato juice', '', '', '',\n        '', '', '', '', '', '', '', '', '', '', '', '', ''], dtype=object),\n array(['spaghetti', 'green tea', '', '', '', '', '', '', '', '', '', '',\n        '', '', '', '', '', '', '', ''], dtype=object),\n array(['champagne', 'protein bar', '', '', '', '', '', '', '', '', '', '',\n        '', '', '', '', '', '', '', ''], dtype=object),\n array(['mineral water', 'avocado', 'chocolate', '', '', '', '', '', '',\n        '', '', '', '', '', '', '', '', '', '', ''], dtype=object),\n array(['tomatoes', 'champagne', 'green tea', '', '', '', '', '', '', '',\n        '', '', '', '', '', '', '', '', '', ''], dtype=object),\n array(['chicken', 'french fries', 'escalope', '', '', '', '', '', '', '',\n        '', '', '', '', '', '', '', '', '', ''], dtype=object),\n array(['frozen vegetables', 'tomatoes', 'eggs', 'green tea',\n        'frozen smoothie', 'light mayo', '', '', '', '', '', '', '', '',\n        '', '', '', '', '', ''], dtype=object),\n array(['ground beef', 'chicken', 'cider', 'green grapes', 'honey',\n        'chocolate', 'french fries', 'champagne', 'frozen smoothie',\n        'escalope', '', '', '', '', '', '', '', '', '', ''], dtype=object),\n array(['french fries', 'champagne', '', '', '', '', '', '', '', '', '',\n        '', '', '', '', '', '', '', '', ''], dtype=object),\n array(['mineral water', 'soup', '', '', '', '', '', '', '', '', '', '',\n        '', '', '', '', '', '', '', ''], dtype=object),\n array(['frozen vegetables', 'spaghetti', 'milk', 'chocolate',\n        'babies food', '', '', '', '', '', '', '', '', '', '', '', '', '',\n        '', ''], dtype=object),\n array(['honey', 'whole wheat rice', '', '', '', '', '', '', '', '', '',\n        '', '', '', '', '', '', '', '', ''], dtype=object),\n array(['whole wheat rice', 'chicken', 'tomato juice', '', '', '', '', '',\n        '', '', '', '', '', '', '', '', '', '', '', ''], dtype=object),\n array(['pancakes', '', '', '', '', '', '', '', '', '', '', '', '', '', '',\n        '', '', '', '', ''], dtype=object),\n array(['green tea', 'protein bar', 'tomato juice', 'candy bars', '', '',\n        '', '', '', '', '', '', '', '', '', '', '', '', '', ''],\n       dtype=object),\n array(['french fries', '', '', '', '', '', '', '', '', '', '', '', '', '',\n        '', '', '', '', '', ''], dtype=object),\n array(['mineral water', '', '', '', '', '', '', '', '', '', '', '', '',\n        '', '', '', '', '', '', ''], dtype=object),\n array(['escalope', '', '', '', '', '', '', '', '', '', '', '', '', '', '',\n        '', '', '', '', ''], dtype=object),\n array(['grated cheese', 'herb & pepper', 'whole wheat pasta', 'yams',\n        'mineral water', 'bacon', 'nonfat milk', 'spinach', '', '', '', '',\n        '', '', '', '', '', '', '', ''], dtype=object),\n array(['spaghetti', 'milk', '', '', '', '', '', '', '', '', '', '', '',\n        '', '', '', '', '', '', ''], dtype=object),\n array(['milk', 'chocolate', 'white wine', '', '', '', '', '', '', '', '',\n        '', '', '', '', '', '', '', '', ''], dtype=object),\n array(['sandwich', '', '', '', '', '', '', '', '', '', '', '', '', '', '',\n        '', '', '', '', ''], dtype=object),\n array(['chocolate', 'light mayo', '', '', '', '', '', '', '', '', '', '',\n        '', '', '', '', '', '', '', ''], dtype=object),\n array(['shrimp', 'whole wheat pasta', 'spaghetti', 'meatballs', 'chicken',\n        'frozen smoothie', 'tomato juice', '', '', '', '', '', '', '', '',\n        '', '', '', '', ''], dtype=object),\n array(['red wine', 'ground beef', 'spaghetti', 'mineral water', 'eggs',\n        '', '', '', '', '', '', '', '', '', '', '', '', '', '', ''],\n       dtype=object),\n array(['yams', 'melons', '', '', '', '', '', '', '', '', '', '', '', '',\n        '', '', '', '', '', ''], dtype=object),\n array(['spaghetti', 'cooking oil', '', '', '', '', '', '', '', '', '', '',\n        '', '', '', '', '', '', '', ''], dtype=object),\n array(['french fries', '', '', '', '', '', '', '', '', '', '', '', '', '',\n        '', '', '', '', '', ''], dtype=object),\n array(['mineral water', 'milk', 'spinach', 'cooking oil', 'chocolate',\n        'frozen smoothie', 'hot dogs', '', '', '', '', '', '', '', '', '',\n        '', '', '', ''], dtype=object),\n array(['tomato sauce', 'milk', '', '', '', '', '', '', '', '', '', '', '',\n        '', '', '', '', '', '', ''], dtype=object),\n array(['shrimp', 'cider', 'eggs', 'french fries', '', '', '', '', '', '',\n        '', '', '', '', '', '', '', '', '', ''], dtype=object),\n array(['champagne', '', '', '', '', '', '', '', '', '', '', '', '', '',\n        '', '', '', '', '', ''], dtype=object),\n array(['salad', '', '', '', '', '', '', '', '', '', '', '', '', '', '',\n        '', '', '', '', ''], dtype=object),\n array(['french fries', '', '', '', '', '', '', '', '', '', '', '', '', '',\n        '', '', '', '', '', ''], dtype=object),\n array(['frozen vegetables', 'mineral water', 'energy bar', 'honey',\n        'rice', 'green tea', '', '', '', '', '', '', '', '', '', '', '',\n        '', '', ''], dtype=object),\n array(['french fries', 'salad', '', '', '', '', '', '', '', '', '', '',\n        '', '', '', '', '', '', '', ''], dtype=object),\n array(['honey', 'chocolate', 'french fries', 'brownies', '', '', '', '',\n        '', '', '', '', '', '', '', '', '', '', '', ''], dtype=object),\n array(['green tea', 'strawberries', 'gluten free bar', '', '', '', '', '',\n        '', '', '', '', '', '', '', '', '', '', '', ''], dtype=object),\n array(['frozen vegetables', 'ground beef', 'mineral water', 'salmon',\n        'honey', 'extra dark chocolate', 'green tea',\n        'mushroom cream sauce', 'gluten free bar', '', '', '', '', '', '',\n        '', '', '', '', ''], dtype=object),\n array(['grated cheese', 'tomatoes', 'mineral water', 'meatballs', '', '',\n        '', '', '', '', '', '', '', '', '', '', '', '', '', ''],\n       dtype=object),\n array(['shrimp', 'chocolate', 'water spray', '', '', '', '', '', '', '',\n        '', '', '', '', '', '', '', '', '', ''], dtype=object),\n array(['turkey', '', '', '', '', '', '', '', '', '', '', '', '', '', '',\n        '', '', '', '', ''], dtype=object),\n array(['turkey', 'eggs', '', '', '', '', '', '', '', '', '', '', '', '',\n        '', '', '', '', '', ''], dtype=object),\n array(['turkey', 'frozen vegetables', 'tomatoes', 'soup', 'butter',\n        'french wine', 'pancakes', 'eggs', 'tomato juice', 'fresh bread',\n        'green tea', '', '', '', '', '', '', '', '', ''], dtype=object),\n array(['spaghetti', '', '', '', '', '', '', '', '', '', '', '', '', '',\n        '', '', '', '', '', ''], dtype=object),\n array(['milk', 'frozen smoothie', 'low fat yogurt', '', '', '', '', '',\n        '', '', '', '', '', '', '', '', '', '', '', ''], dtype=object),\n array(['burgers', 'mineral water', 'milk', 'whole wheat rice', 'cereals',\n        'chocolate', 'french fries', '', '', '', '', '', '', '', '', '',\n        '', '', '', ''], dtype=object),\n array(['mineral water', '', '', '', '', '', '', '', '', '', '', '', '',\n        '', '', '', '', '', '', ''], dtype=object),\n array(['tomatoes', 'mineral water', 'soup', 'cake', 'chocolate', '', '',\n        '', '', '', '', '', '', '', '', '', '', '', '', ''], dtype=object),\n array(['mineral water', '', '', '', '', '', '', '', '', '', '', '', '',\n        '', '', '', '', '', '', ''], dtype=object),\n array(['ground beef', 'spaghetti', '', '', '', '', '', '', '', '', '', '',\n        '', '', '', '', '', '', '', ''], dtype=object),\n array(['pepper', 'frozen smoothie', '', '', '', '', '', '', '', '', '',\n        '', '', '', '', '', '', '', '', ''], dtype=object),\n array(['yogurt cake', '', '', '', '', '', '', '', '', '', '', '', '', '',\n        '', '', '', '', '', ''], dtype=object),\n array(['red wine', 'pancakes', '', '', '', '', '', '', '', '', '', '', '',\n        '', '', '', '', '', '', ''], dtype=object),\n array(['candy bars', '', '', '', '', '', '', '', '', '', '', '', '', '',\n        '', '', '', '', '', ''], dtype=object),\n array(['eggs', 'french fries', 'low fat yogurt', '', '', '', '', '', '',\n        '', '', '', '', '', '', '', '', '', '', ''], dtype=object),\n array(['cookies', '', '', '', '', '', '', '', '', '', '', '', '', '', '',\n        '', '', '', '', ''], dtype=object),\n array(['cookies', '', '', '', '', '', '', '', '', '', '', '', '', '', '',\n        '', '', '', '', ''], dtype=object),\n array(['spaghetti', 'soup', 'vegetables mix', 'spinach', 'french fries',\n        'escalope', 'cauliflower', 'toothpaste', '', '', '', '', '', '',\n        '', '', '', '', '', ''], dtype=object),\n array(['cookies', '', '', '', '', '', '', '', '', '', '', '', '', '', '',\n        '', '', '', '', ''], dtype=object),\n array(['soup', 'olive oil', 'eggs', 'soda', 'corn', '', '', '', '', '',\n        '', '', '', '', '', '', '', '', '', ''], dtype=object),\n array(['chocolate', 'frozen smoothie', 'low fat yogurt', '', '', '', '',\n        '', '', '', '', '', '', '', '', '', '', '', '', ''], dtype=object),\n array(['spaghetti', 'mineral water', 'milk', 'pancakes', 'chocolate',\n        'french fries', '', '', '', '', '', '', '', '', '', '', '', '', '',\n        ''], dtype=object),\n array(['mineral water', '', '', '', '', '', '', '', '', '', '', '', '',\n        '', '', '', '', '', '', ''], dtype=object),\n array(['herb & pepper', 'frozen vegetables', 'tomato sauce',\n        'mineral water', 'soup', 'milk', 'olive oil', 'almonds', '', '',\n        '', '', '', '', '', '', '', '', '', ''], dtype=object),\n array(['burgers', 'eggs', '', '', '', '', '', '', '', '', '', '', '', '',\n        '', '', '', '', '', ''], dtype=object),\n array(['french fries', '', '', '', '', '', '', '', '', '', '', '', '', '',\n        '', '', '', '', '', ''], dtype=object),\n array(['frozen smoothie', 'cottage cheese', '', '', '', '', '', '', '',\n        '', '', '', '', '', '', '', '', '', '', ''], dtype=object),\n array(['tomatoes', 'mineral water', 'chocolate', 'light mayo', '', '', '',\n        '', '', '', '', '', '', '', '', '', '', '', '', ''], dtype=object),\n array(['salmon', 'escalope', 'shallot', 'strawberries', 'fresh bread',\n        'low fat yogurt', '', '', '', '', '', '', '', '', '', '', '', '',\n        '', ''], dtype=object),\n array(['energy bar', '', '', '', '', '', '', '', '', '', '', '', '', '',\n        '', '', '', '', '', ''], dtype=object),\n array(['red wine', 'ground beef', 'spaghetti', 'pancakes', 'blueberries',\n        'oil', 'cooking oil', 'tomato juice', '', '', '', '', '', '', '',\n        '', '', '', '', ''], dtype=object),\n array(['ground beef', 'spaghetti', 'mineral water', 'milk',\n        'frozen smoothie', 'champagne', '', '', '', '', '', '', '', '', '',\n        '', '', '', '', ''], dtype=object),\n array(['cookies', '', '', '', '', '', '', '', '', '', '', '', '', '', '',\n        '', '', '', '', ''], dtype=object),\n array(['salmon', 'escalope', '', '', '', '', '', '', '', '', '', '', '',\n        '', '', '', '', '', '', ''], dtype=object),\n array(['cookies', '', '', '', '', '', '', '', '', '', '', '', '', '', '',\n        '', '', '', '', ''], dtype=object),\n array(['low fat yogurt', '', '', '', '', '', '', '', '', '', '', '', '',\n        '', '', '', '', '', '', ''], dtype=object),\n array(['eggs', '', '', '', '', '', '', '', '', '', '', '', '', '', '', '',\n        '', '', '', ''], dtype=object),\n array(['red wine', 'butter', 'hot dogs', '', '', '', '', '', '', '', '',\n        '', '', '', '', '', '', '', '', ''], dtype=object),\n array(['tomatoes', 'mineral water', 'soup', 'mashed potato', '', '', '',\n        '', '', '', '', '', '', '', '', '', '', '', '', ''], dtype=object),\n array(['cookies', '', '', '', '', '', '', '', '', '', '', '', '', '', '',\n        '', '', '', '', ''], dtype=object),\n array(['parmesan cheese', 'ground beef', 'salmon', 'pancakes',\n        'champagne', '', '', '', '', '', '', '', '', '', '', '', '', '',\n        '', ''], dtype=object),\n array(['ground beef', 'yams', 'chocolate', 'olive oil', 'eggs', '', '',\n        '', '', '', '', '', '', '', '', '', '', '', '', ''], dtype=object),\n array(['shrimp', 'salmon', 'eggs', 'cookies', 'hot dogs', '', '', '', '',\n        '', '', '', '', '', '', '', '', '', '', ''], dtype=object),\n array(['magazines', 'mint', '', '', '', '', '', '', '', '', '', '', '',\n        '', '', '', '', '', '', ''], dtype=object),\n array(['turkey', 'mineral water', 'eggs', 'cooking oil',\n        'extra dark chocolate', 'escalope', '', '', '', '', '', '', '', '',\n        '', '', '', '', '', ''], dtype=object),\n array(['mineral water', 'mushroom cream sauce', '', '', '', '', '', '',\n        '', '', '', '', '', '', '', '', '', '', '', ''], dtype=object),\n array(['grated cheese', 'frozen vegetables', 'mineral water', 'soup',\n        'milk', 'french wine', '', '', '', '', '', '', '', '', '', '', '',\n        '', '', ''], dtype=object),\n array(['chocolate', 'cake', '', '', '', '', '', '', '', '', '', '', '',\n        '', '', '', '', '', '', ''], dtype=object),\n array(['burgers', 'salt', 'white wine', '', '', '', '', '', '', '', '',\n        '', '', '', '', '', '', '', '', ''], dtype=object),\n array(['energy drink', '', '', '', '', '', '', '', '', '', '', '', '', '',\n        '', '', '', '', '', ''], dtype=object),\n array(['olive oil', 'cake', 'energy drink', '', '', '', '', '', '', '',\n        '', '', '', '', '', '', '', '', '', ''], dtype=object),\n array(['ground beef', 'whole wheat rice', '', '', '', '', '', '', '', '',\n        '', '', '', '', '', '', '', '', '', ''], dtype=object),\n array(['eggs', 'french fries', '', '', '', '', '', '', '', '', '', '', '',\n        '', '', '', '', '', '', ''], dtype=object),\n array(['spaghetti', 'escalope', 'mushroom cream sauce', '', '', '', '',\n        '', '', '', '', '', '', '', '', '', '', '', '', ''], dtype=object),\n array(['mineral water', 'fromage blanc', 'whole wheat rice', 'cake',\n        'french fries', '', '', '', '', '', '', '', '', '', '', '', '', '',\n        '', ''], dtype=object),\n array(['turkey', 'burgers', 'frozen vegetables', 'ground beef',\n        'mineral water', 'milk', 'eggs', 'cake', 'light mayo', '', '', '',\n        '', '', '', '', '', '', '', ''], dtype=object),\n array(['green tea', 'cottage cheese', '', '', '', '', '', '', '', '', '',\n        '', '', '', '', '', '', '', '', ''], dtype=object),\n array(['fresh tuna', 'eggs', 'champagne', '', '', '', '', '', '', '', '',\n        '', '', '', '', '', '', '', '', ''], dtype=object),\n array(['cookies', '', '', '', '', '', '', '', '', '', '', '', '', '', '',\n        '', '', '', '', ''], dtype=object),\n array(['cookies', '', '', '', '', '', '', '', '', '', '', '', '', '', '',\n        '', '', '', '', ''], dtype=object),\n array(['cookies', '', '', '', '', '', '', '', '', '', '', '', '', '', '',\n        '', '', '', '', ''], dtype=object),\n array(['tomatoes', 'mineral water', 'eggplant', '', '', '', '', '', '',\n        '', '', '', '', '', '', '', '', '', '', ''], dtype=object),\n array(['grated cheese', 'tomatoes', 'spaghetti', 'mineral water', 'soup',\n        'honey', 'chicken', 'chocolate', 'french fries', '', '', '', '',\n        '', '', '', '', '', '', ''], dtype=object),\n array(['protein bar', '', '', '', '', '', '', '', '', '', '', '', '', '',\n        '', '', '', '', '', ''], dtype=object),\n array(['herb & pepper', 'red wine', 'shrimp', 'mineral water',\n        'barbecue sauce', 'protein bar', '', '', '', '', '', '', '', '',\n        '', '', '', '', '', ''], dtype=object),\n array(['burgers', 'ham', 'spaghetti', 'mineral water', 'milk', 'eggs',\n        'french fries', 'escalope', 'pancakes', 'low fat yogurt', '', '',\n        '', '', '', '', '', '', '', ''], dtype=object),\n array(['french fries', '', '', '', '', '', '', '', '', '', '', '', '', '',\n        '', '', '', '', '', ''], dtype=object),\n array(['frozen vegetables', 'soup', 'milk', 'eggs', 'whole wheat rice',\n        'chocolate', 'escalope', 'melons', '', '', '', '', '', '', '', '',\n        '', '', '', ''], dtype=object),\n array(['spaghetti', '', '', '', '', '', '', '', '', '', '', '', '', '',\n        '', '', '', '', '', ''], dtype=object),\n array(['herb & pepper', 'shrimp', 'soup', 'eggs', 'oil', 'cooking oil',\n        'energy drink', 'protein bar', 'low fat yogurt', '', '', '', '',\n        '', '', '', '', '', '', ''], dtype=object),\n array(['ham', 'grated cheese', 'herb & pepper', 'shrimp', 'ground beef',\n        'spaghetti', 'mineral water', 'carrots', '', '', '', '', '', '',\n        '', '', '', '', '', ''], dtype=object),\n array(['ham', 'red wine', 'ground beef', 'yams', 'mineral water',\n        'chocolate', 'low fat yogurt', '', '', '', '', '', '', '', '', '',\n        '', '', '', ''], dtype=object),\n array(['chocolate', 'french fries', 'mushroom cream sauce',\n        'cottage cheese', 'low fat yogurt', '', '', '', '', '', '', '', '',\n        '', '', '', '', '', '', ''], dtype=object),\n array(['eggs', '', '', '', '', '', '', '', '', '', '', '', '', '', '', '',\n        '', '', '', ''], dtype=object),\n array(['cake', 'cookies', '', '', '', '', '', '', '', '', '', '', '', '',\n        '', '', '', '', '', ''], dtype=object),\n array(['grated cheese', 'mineral water', 'cake', 'chocolate bread', '',\n        '', '', '', '', '', '', '', '', '', '', '', '', '', '', ''],\n       dtype=object),\n array(['tomatoes', 'almonds', 'cake', 'champagne', 'low fat yogurt', '',\n        '', '', '', '', '', '', '', '', '', '', '', '', '', ''],\n       dtype=object),\n array(['herb & pepper', 'shrimp', 'frozen vegetables', 'milk', 'butter',\n        'salmon', 'eggs', 'chocolate', '', '', '', '', '', '', '', '', '',\n        '', '', ''], dtype=object),\n array(['herb & pepper', 'shrimp', 'whole wheat pasta', 'whole wheat rice',\n        'chicken', 'green tea', 'cauliflower', '', '', '', '', '', '', '',\n        '', '', '', '', '', ''], dtype=object),\n array(['eggs', 'corn', '', '', '', '', '', '', '', '', '', '', '', '', '',\n        '', '', '', '', ''], dtype=object),\n array(['shrimp', 'frozen vegetables', 'tomato sauce', 'mineral water',\n        'chocolate', 'soup', 'olive oil', 'salmon', 'green beans',\n        'champagne', '', '', '', '', '', '', '', '', '', ''], dtype=object),\n array(['ham', 'herb & pepper', 'tomato sauce', 'mineral water',\n        'green grapes', 'eggs', 'gums', 'light cream', 'oil', 'green tea',\n        'mint', '', '', '', '', '', '', '', '', ''], dtype=object),\n array(['energy bar', 'cake', 'chocolate', '', '', '', '', '', '', '', '',\n        '', '', '', '', '', '', '', '', ''], dtype=object),\n array(['herb & pepper', 'shrimp', 'spaghetti', 'eggs', '', '', '', '', '',\n        '', '', '', '', '', '', '', '', '', '', ''], dtype=object),\n array(['fresh tuna', 'mineral water', 'honey', 'cooking oil', '', '', '',\n        '', '', '', '', '', '', '', '', '', '', '', '', ''], dtype=object),\n array(['red wine', 'mineral water', 'oil', 'ketchup', 'chili', 'pet food',\n        'eggplant', 'green tea', 'escalope', 'tomato juice',\n        'low fat yogurt', '', '', '', '', '', '', '', '', ''], dtype=object),\n array(['herb & pepper', 'shrimp', 'mineral water', 'pancakes', 'eggs',\n        'cake', 'blueberries', 'tea', 'frozen smoothie', '', '', '', '',\n        '', '', '', '', '', '', ''], dtype=object),\n array(['ground beef', 'mineral water', 'protein bar', '', '', '', '', '',\n        '', '', '', '', '', '', '', '', '', '', '', ''], dtype=object),\n array(['shrimp', 'frozen vegetables', 'parmesan cheese', 'spaghetti',\n        'salmon', 'carrots', 'frozen smoothie', 'pasta', 'mashed potato',\n        'shallot', 'light mayo', 'magazines', '', '', '', '', '', '', '',\n        ''], dtype=object),\n array(['milk', 'chocolate', '', '', '', '', '', '', '', '', '', '', '',\n        '', '', '', '', '', '', ''], dtype=object),\n array(['frozen vegetables', 'ground beef', 'spaghetti', 'olive oil',\n        'whole wheat rice', 'eggplant', 'cottage cheese', '', '', '', '',\n        '', '', '', '', '', '', '', '', ''], dtype=object),\n array(['turkey', 'ground beef', 'low fat yogurt', '', '', '', '', '', '',\n        '', '', '', '', '', '', '', '', '', '', ''], dtype=object),\n array(['herb & pepper', 'spaghetti', 'mineral water', 'whole wheat rice',\n        'cake', 'hot dogs', 'green tea', '', '', '', '', '', '', '', '',\n        '', '', '', '', ''], dtype=object),\n array(['green tea', '', '', '', '', '', '', '', '', '', '', '', '', '',\n        '', '', '', '', '', ''], dtype=object),\n array(['cookies', '', '', '', '', '', '', '', '', '', '', '', '', '', '',\n        '', '', '', '', ''], dtype=object),\n array(['eggs', 'cookies', '', '', '', '', '', '', '', '', '', '', '', '',\n        '', '', '', '', '', ''], dtype=object),\n array(['spaghetti', 'eggs', 'ham', 'chocolate', 'french fries',\n        'champagne', 'brownies', 'pancakes', 'light mayo', '', '', '', '',\n        '', '', '', '', '', '', ''], dtype=object),\n array(['red wine', 'spaghetti', 'milk', 'eggs', 'chocolate', '', '', '',\n        '', '', '', '', '', '', '', '', '', '', '', ''], dtype=object),\n array(['turkey', 'burgers', 'pancakes', 'french fries', 'strawberries',\n        'green tea', '', '', '', '', '', '', '', '', '', '', '', '', '',\n        ''], dtype=object),\n array(['escalope', '', '', '', '', '', '', '', '', '', '', '', '', '', '',\n        '', '', '', '', ''], dtype=object),\n array(['frozen vegetables', 'pancakes', 'eggs', 'cake', '', '', '', '',\n        '', '', '', '', '', '', '', '', '', '', '', ''], dtype=object),\n array(['french fries', '', '', '', '', '', '', '', '', '', '', '', '', '',\n        '', '', '', '', '', ''], dtype=object),\n array(['turkey', 'ground beef', 'pepper', 'spaghetti', 'honey', 'cookies',\n        '', '', '', '', '', '', '', '', '', '', '', '', '', ''],\n       dtype=object),\n array(['chocolate', 'red wine', 'tomato sauce', 'olive oil', 'chili',\n        'french fries', 'cookies', 'salt', 'fresh bread', 'magazines', '',\n        '', '', '', '', '', '', '', '', ''], dtype=object),\n array(['green tea', 'french fries', '', '', '', '', '', '', '', '', '',\n        '', '', '', '', '', '', '', '', ''], dtype=object),\n array(['mineral water', '', '', '', '', '', '', '', '', '', '', '', '',\n        '', '', '', '', '', '', ''], dtype=object),\n array(['cooking oil', '', '', '', '', '', '', '', '', '', '', '', '', '',\n        '', '', '', '', '', ''], dtype=object),\n array(['frozen vegetables', 'spaghetti', '', '', '', '', '', '', '', '',\n        '', '', '', '', '', '', '', '', '', ''], dtype=object),\n array(['ham', 'spaghetti', '', '', '', '', '', '', '', '', '', '', '', '',\n        '', '', '', '', '', ''], dtype=object),\n array(['chicken', 'chocolate', 'cookies', '', '', '', '', '', '', '', '',\n        '', '', '', '', '', '', '', '', ''], dtype=object),\n array(['low fat yogurt', '', '', '', '', '', '', '', '', '', '', '', '',\n        '', '', '', '', '', '', ''], dtype=object),\n array(['eggs', 'cake', 'low fat yogurt', '', '', '', '', '', '', '', '',\n        '', '', '', '', '', '', '', '', ''], dtype=object),\n array(['shrimp', 'spaghetti', 'mineral water', 'soup', 'milk', 'bramble',\n        'frozen smoothie', 'cottage cheese', '', '', '', '', '', '', '',\n        '', '', '', '', ''], dtype=object),\n array(['mineral water', 'eggs', 'protein bar', '', '', '', '', '', '', '',\n        '', '', '', '', '', '', '', '', '', ''], dtype=object),\n array(['turkey', 'shrimp', 'meatballs', 'butter', 'eggs', 'salad',\n        'green tea', '', '', '', '', '', '', '', '', '', '', '', '', ''],\n       dtype=object),\n array(['fresh tuna', 'spaghetti', 'chocolate', 'olive oil', 'chicken',\n        'french fries', '', '', '', '', '', '', '', '', '', '', '', '', '',\n        ''], dtype=object),\n array(['turkey', 'shrimp', 'escalope', 'hot dogs', '', '', '', '', '', '',\n        '', '', '', '', '', '', '', '', '', ''], dtype=object),\n array(['burgers', 'pepper', 'soup', 'milk', 'pancakes', 'green tea', '',\n        '', '', '', '', '', '', '', '', '', '', '', '', ''], dtype=object),\n array(['pancakes', '', '', '', '', '', '', '', '', '', '', '', '', '', '',\n        '', '', '', '', ''], dtype=object),\n array(['mineral water', 'pancakes', 'eggs', 'french fries', '', '', '',\n        '', '', '', '', '', '', '', '', '', '', '', '', ''], dtype=object),\n array(['eggs', 'escalope', 'low fat yogurt', '', '', '', '', '', '', '',\n        '', '', '', '', '', '', '', '', '', ''], dtype=object),\n array(['mineral water', 'french wine', 'gluten free bar', '', '', '', '',\n        '', '', '', '', '', '', '', '', '', '', '', '', ''], dtype=object),\n array(['burgers', 'ground beef', 'spaghetti', 'eggs', 'french fries', '',\n        '', '', '', '', '', '', '', '', '', '', '', '', '', ''],\n       dtype=object),\n array(['soup', 'meatballs', 'milk', 'energy bar', '', '', '', '', '', '',\n        '', '', '', '', '', '', '', '', '', ''], dtype=object),\n array(['chocolate', '', '', '', '', '', '', '', '', '', '', '', '', '',\n        '', '', '', '', '', ''], dtype=object),\n array(['herb & pepper', '', '', '', '', '', '', '', '', '', '', '', '',\n        '', '', '', '', '', '', ''], dtype=object),\n array(['turkey', 'red wine', 'mineral water', 'eggs', 'bramble', '', '',\n        '', '', '', '', '', '', '', '', '', '', '', '', ''], dtype=object),\n array(['burgers', 'ham', 'frozen vegetables', 'tomatoes', 'cake',\n        'chicken', 'green tea', 'toothpaste', 'mint', '', '', '', '', '',\n        '', '', '', '', '', ''], dtype=object),\n array(['grated cheese', 'mineral water', 'olive oil', 'energy bar', '',\n        '', '', '', '', '', '', '', '', '', '', '', '', '', '', ''],\n       dtype=object),\n array(['milk', 'cake', 'green tea', '', '', '', '', '', '', '', '', '',\n        '', '', '', '', '', '', '', ''], dtype=object),\n array(['mineral water', 'almonds', 'cooking oil', 'cereals',\n        'protein bar', 'white wine', 'green tea', '', '', '', '', '', '',\n        '', '', '', '', '', '', ''], dtype=object),\n array(['turkey', 'fresh tuna', 'mineral water', 'milk', 'eggs', 'cake',\n        'burger sauce', 'chicken', 'french fries', 'frozen smoothie',\n        'fresh bread', '', '', '', '', '', '', '', '', ''], dtype=object),\n array(['herb & pepper', 'mineral water', 'whole wheat rice',\n        'yogurt cake', 'low fat yogurt', '', '', '', '', '', '', '', '',\n        '', '', '', '', '', '', ''], dtype=object),\n array(['tomatoes', 'spaghetti', 'meatballs', 'chicken', 'eggs', '', '',\n        '', '', '', '', '', '', '', '', '', '', '', '', ''], dtype=object),\n array(['burgers', 'mineral water', 'eggs', 'green tea', 'pancakes', '',\n        '', '', '', '', '', '', '', '', '', '', '', '', '', ''],\n       dtype=object),\n array(['cake', 'green tea', '', '', '', '', '', '', '', '', '', '', '',\n        '', '', '', '', '', '', ''], dtype=object),\n array(['chocolate', 'herb & pepper', 'yogurt cake', '', '', '', '', '',\n        '', '', '', '', '', '', '', '', '', '', '', ''], dtype=object),\n array(['ground beef', 'spaghetti', 'mineral water', 'almonds', 'salmon',\n        'nonfat milk', 'green grapes', 'pancakes', '', '', '', '', '', '',\n        '', '', '', '', '', ''], dtype=object),\n array(['mineral water', 'vegetables mix', 'eggs', '', '', '', '', '', '',\n        '', '', '', '', '', '', '', '', '', '', ''], dtype=object),\n array(['protein bar', '', '', '', '', '', '', '', '', '', '', '', '', '',\n        '', '', '', '', '', ''], dtype=object),\n array(['eggs', 'eggplant', '', '', '', '', '', '', '', '', '', '', '', '',\n        '', '', '', '', '', ''], dtype=object),\n array(['mayonnaise', '', '', '', '', '', '', '', '', '', '', '', '', '',\n        '', '', '', '', '', ''], dtype=object),\n array(['milk', 'bug spray', 'oatmeal', 'sandwich', 'asparagus', '', '',\n        '', '', '', '', '', '', '', '', '', '', '', '', ''], dtype=object),\n array(['frozen vegetables', 'soup', 'almonds', 'eggs', 'french fries', '',\n        '', '', '', '', '', '', '', '', '', '', '', '', '', ''],\n       dtype=object),\n array(['frozen vegetables', '', '', '', '', '', '', '', '', '', '', '',\n        '', '', '', '', '', '', '', ''], dtype=object),\n array(['soup', 'butter', 'shampoo', '', '', '', '', '', '', '', '', '',\n        '', '', '', '', '', '', '', ''], dtype=object),\n array(['herb & pepper', 'whole wheat pasta', 'pepper', 'eggs', '', '', '',\n        '', '', '', '', '', '', '', '', '', '', '', '', ''], dtype=object),\n array(['mineral water', 'whole wheat rice', 'rice', 'cooking oil',\n        'chocolate', 'fresh bread', 'low fat yogurt', '', '', '', '', '',\n        '', '', '', '', '', '', '', ''], dtype=object),\n array(['grated cheese', 'butter', 'chocolate', 'french fries', 'cookies',\n        '', '', '', '', '', '', '', '', '', '', '', '', '', '', ''],\n       dtype=object),\n array(['spaghetti', 'soup', 'milk', 'chutney', 'cooking oil', 'asparagus',\n        'tomato juice', '', '', '', '', '', '', '', '', '', '', '', '', ''],\n       dtype=object),\n array(['eggs', 'french fries', 'frozen smoothie', 'cookies', 'champagne',\n        'cottage cheese', 'green tea', '', '', '', '', '', '', '', '', '',\n        '', '', '', ''], dtype=object),\n array(['turkey', 'tomatoes', 'mineral water', 'eggs', 'blueberries', '',\n        '', '', '', '', '', '', '', '', '', '', '', '', '', ''],\n       dtype=object),\n array(['milk', 'tomato juice', 'low fat yogurt', 'green tea', '', '', '',\n        '', '', '', '', '', '', '', '', '', '', '', '', ''], dtype=object),\n array(['mineral water', 'soup', 'almonds', 'cereals', 'green tea', '', '',\n        '', '', '', '', '', '', '', '', '', '', '', '', ''], dtype=object),\n array(['chocolate', 'light mayo', '', '', '', '', '', '', '', '', '', '',\n        '', '', '', '', '', '', '', ''], dtype=object),\n array(['turkey', 'herb & pepper', 'chocolate', '', '', '', '', '', '', '',\n        '', '', '', '', '', '', '', '', '', ''], dtype=object),\n array(['eggs', 'french fries', 'green tea', '', '', '', '', '', '', '',\n        '', '', '', '', '', '', '', '', '', ''], dtype=object),\n array(['mineral water', 'cake', 'chocolate', 'tomato juice', '', '', '',\n        '', '', '', '', '', '', '', '', '', '', '', '', ''], dtype=object),\n array(['eggs', '', '', '', '', '', '', '', '', '', '', '', '', '', '', '',\n        '', '', '', ''], dtype=object),\n array(['chocolate', 'pepper', 'spaghetti', 'mineral water',\n        'whole wheat rice', 'champagne', 'mushroom cream sauce', '', '',\n        '', '', '', '', '', '', '', '', '', '', ''], dtype=object),\n array(['frozen vegetables', 'pepper', 'mineral water', 'chocolate',\n        'white wine', '', '', '', '', '', '', '', '', '', '', '', '', '',\n        '', ''], dtype=object),\n array(['burgers', 'turkey', 'spaghetti', 'milk', 'whole wheat rice',\n        'oil', 'tomato juice', 'green tea', '', '', '', '', '', '', '', '',\n        '', '', '', ''], dtype=object),\n array(['burgers', 'spaghetti', 'mineral water', 'soup', 'french wine',\n        'french fries', 'light mayo', 'low fat yogurt', '', '', '', '', '',\n        '', '', '', '', '', '', ''], dtype=object),\n array(['butter', 'green grapes', 'frozen smoothie', 'low fat yogurt', '',\n        '', '', '', '', '', '', '', '', '', '', '', '', '', '', ''],\n       dtype=object),\n array(['eggs', 'low fat yogurt', '', '', '', '', '', '', '', '', '', '',\n        '', '', '', '', '', '', '', ''], dtype=object),\n array(['cookies', '', '', '', '', '', '', '', '', '', '', '', '', '', '',\n        '', '', '', '', ''], dtype=object),\n array(['milk', 'energy drink', '', '', '', '', '', '', '', '', '', '', '',\n        '', '', '', '', '', '', ''], dtype=object),\n array(['olive oil', 'energy drink', '', '', '', '', '', '', '', '', '',\n        '', '', '', '', '', '', '', '', ''], dtype=object),\n array(['eggs', 'cookies', '', '', '', '', '', '', '', '', '', '', '', '',\n        '', '', '', '', '', ''], dtype=object),\n array(['eggs', '', '', '', '', '', '', '', '', '', '', '', '', '', '', '',\n        '', '', '', ''], dtype=object),\n array(['energy bar', 'eggs', '', '', '', '', '', '', '', '', '', '', '',\n        '', '', '', '', '', '', ''], dtype=object),\n array(['eggs', '', '', '', '', '', '', '', '', '', '', '', '', '', '', '',\n        '', '', '', ''], dtype=object),\n array(['eggs', 'green tea', '', '', '', '', '', '', '', '', '', '', '',\n        '', '', '', '', '', '', ''], dtype=object),\n array(['escalope', '', '', '', '', '', '', '', '', '', '', '', '', '', '',\n        '', '', '', '', ''], dtype=object),\n array(['shrimp', 'soup', 'milk', 'almonds', 'eggs', 'oil', 'chocolate',\n        '', '', '', '', '', '', '', '', '', '', '', '', ''], dtype=object),\n array(['chocolate', 'french fries', '', '', '', '', '', '', '', '', '',\n        '', '', '', '', '', '', '', '', ''], dtype=object),\n array(['cake', '', '', '', '', '', '', '', '', '', '', '', '', '', '', '',\n        '', '', '', ''], dtype=object),\n array(['pancakes', 'eggs', 'cake', 'green tea', 'toothpaste', '', '', '',\n        '', '', '', '', '', '', '', '', '', '', '', ''], dtype=object),\n array(['herb & pepper', 'tomatoes', 'ground beef', 'eggs', 'cooking oil',\n        '', '', '', '', '', '', '', '', '', '', '', '', '', '', ''],\n       dtype=object),\n array(['cider', 'eggs', 'chocolate', 'low fat yogurt', '', '', '', '', '',\n        '', '', '', '', '', '', '', '', '', '', ''], dtype=object),\n array(['frozen vegetables', 'cider', 'eggs', 'french fries', '', '', '',\n        '', '', '', '', '', '', '', '', '', '', '', '', ''], dtype=object),\n array(['yams', 'cookies', 'toothpaste', '', '', '', '', '', '', '', '',\n        '', '', '', '', '', '', '', '', ''], dtype=object),\n array(['mineral water', 'milk', 'escalope', 'champagne', 'hot dogs',\n        'fresh bread', '', '', '', '', '', '', '', '', '', '', '', '', '',\n        ''], dtype=object),\n array(['ham', 'herb & pepper', 'spaghetti', 'mineral water', 'chocolate',\n        'pancakes', 'eggs', '', '', '', '', '', '', '', '', '', '', '', '',\n        ''], dtype=object),\n array(['pepper', 'mineral water', 'escalope', 'shallot', 'protein bar',\n        'white wine', '', '', '', '', '', '', '', '', '', '', '', '', '',\n        ''], dtype=object),\n array(['turkey', 'parmesan cheese', 'spaghetti', 'meatballs', 'butter',\n        '', '', '', '', '', '', '', '', '', '', '', '', '', '', ''],\n       dtype=object),\n array(['herb & pepper', 'eggs', 'escalope', '', '', '', '', '', '', '',\n        '', '', '', '', '', '', '', '', '', ''], dtype=object),\n array(['herb & pepper', '', '', '', '', '', '', '', '', '', '', '', '',\n        '', '', '', '', '', '', ''], dtype=object),\n array(['burgers', 'escalope', 'shallot', '', '', '', '', '', '', '', '',\n        '', '', '', '', '', '', '', '', ''], dtype=object),\n array(['chocolate', 'pepper', 'tomato sauce', 'tomato juice', '', '', '',\n        '', '', '', '', '', '', '', '', '', '', '', '', ''], dtype=object),\n array(['cookies', '', '', '', '', '', '', '', '', '', '', '', '', '', '',\n        '', '', '', '', ''], dtype=object),\n array(['burgers', 'ground beef', 'spaghetti', 'mineral water', 'escalope',\n        'melons', '', '', '', '', '', '', '', '', '', '', '', '', '', ''],\n       dtype=object),\n array(['frozen vegetables', 'mineral water', 'soup', 'milk', 'olive oil',\n        '', '', '', '', '', '', '', '', '', '', '', '', '', '', ''],\n       dtype=object),\n array(['turkey', 'eggs', 'french fries', 'asparagus', 'low fat yogurt',\n        'zucchini', '', '', '', '', '', '', '', '', '', '', '', '', '', ''],\n       dtype=object),\n array(['burgers', 'frozen vegetables', 'gums', '', '', '', '', '', '', '',\n        '', '', '', '', '', '', '', '', '', ''], dtype=object),\n array(['herb & pepper', 'frozen vegetables', 'ground beef', 'milk', '',\n        '', '', '', '', '', '', '', '', '', '', '', '', '', '', ''],\n       dtype=object),\n array(['frozen vegetables', 'cake', 'light cream', 'mashed potato', '',\n        '', '', '', '', '', '', '', '', '', '', '', '', '', '', ''],\n       dtype=object),\n array(['milk', '', '', '', '', '', '', '', '', '', '', '', '', '', '', '',\n        '', '', '', ''], dtype=object),\n array(['turkey', 'eggs', 'barbecue sauce', '', '', '', '', '', '', '', '',\n        '', '', '', '', '', '', '', '', ''], dtype=object),\n array(['escalope', '', '', '', '', '', '', '', '', '', '', '', '', '', '',\n        '', '', '', '', ''], dtype=object),\n array(['parmesan cheese', 'french fries', '', '', '', '', '', '', '', '',\n        '', '', '', '', '', '', '', '', '', ''], dtype=object),\n array(['energy bar', 'eggs', '', '', '', '', '', '', '', '', '', '', '',\n        '', '', '', '', '', '', ''], dtype=object),\n array(['soup', 'escalope', 'mint', '', '', '', '', '', '', '', '', '', '',\n        '', '', '', '', '', '', ''], dtype=object),\n array(['muffins', 'chicken', 'zucchini', '', '', '', '', '', '', '', '',\n        '', '', '', '', '', '', '', '', ''], dtype=object),\n array(['burgers', 'eggs', 'french fries', 'cookies', 'green tea', '', '',\n        '', '', '', '', '', '', '', '', '', '', '', '', ''], dtype=object),\n array(['spaghetti', '', '', '', '', '', '', '', '', '', '', '', '', '',\n        '', '', '', '', '', ''], dtype=object),\n array(['avocado', 'energy bar', 'chocolate', '', '', '', '', '', '', '',\n        '', '', '', '', '', '', '', '', '', ''], dtype=object),\n array(['cookies', '', '', '', '', '', '', '', '', '', '', '', '', '', '',\n        '', '', '', '', ''], dtype=object),\n array(['green tea', '', '', '', '', '', '', '', '', '', '', '', '', '',\n        '', '', '', '', '', ''], dtype=object),\n array(['whole wheat pasta', 'spaghetti', 'mineral water', 'olive oil', '',\n        '', '', '', '', '', '', '', '', '', '', '', '', '', '', ''],\n       dtype=object),\n array(['grated cheese', 'frozen vegetables', 'eggs', 'gums', 'escalope',\n        'low fat yogurt', '', '', '', '', '', '', '', '', '', '', '', '',\n        '', ''], dtype=object),\n array(['grated cheese', 'herb & pepper', 'mineral water', 'pancakes',\n        'chocolate', 'escalope', 'tomato juice', '', '', '', '', '', '',\n        '', '', '', '', '', '', ''], dtype=object),\n array(['chocolate', 'spaghetti', 'yams', 'flax seed', 'salmon',\n        'frozen smoothie', '', '', '', '', '', '', '', '', '', '', '', '',\n        '', ''], dtype=object),\n array(['burger sauce', 'oil', '', '', '', '', '', '', '', '', '', '', '',\n        '', '', '', '', '', '', ''], dtype=object),\n array(['eggs', 'french fries', 'energy drink', '', '', '', '', '', '', '',\n        '', '', '', '', '', '', '', '', '', ''], dtype=object),\n array(['mineral water', '', '', '', '', '', '', '', '', '', '', '', '',\n        '', '', '', '', '', '', ''], dtype=object),\n array(['grated cheese', 'ground beef', 'mineral water', 'olive oil', '',\n        '', '', '', '', '', '', '', '', '', '', '', '', '', '', ''],\n       dtype=object),\n array(['eggs', 'low fat yogurt', '', '', '', '', '', '', '', '', '', '',\n        '', '', '', '', '', '', '', ''], dtype=object),\n array(['parmesan cheese', 'spaghetti', 'soda', 'pet food', 'white wine',\n        '', '', '', '', '', '', '', '', '', '', '', '', '', '', ''],\n       dtype=object),\n array(['turkey', 'shrimp', 'olive oil', 'chicken', 'eggs',\n        'extra dark chocolate', 'melons', 'fresh bread', '', '', '', '',\n        '', '', '', '', '', '', '', ''], dtype=object),\n array(['pickles', 'ground beef', 'yams', 'milk', 'strong cheese',\n        'salmon', 'muffins', 'french fries', 'escalope', '', '', '', '',\n        '', '', '', '', '', '', ''], dtype=object),\n array(['pepper', 'spaghetti', 'light cream', '', '', '', '', '', '', '',\n        '', '', '', '', '', '', '', '', '', ''], dtype=object),\n array(['frozen vegetables', 'mineral water', 'eggs', '', '', '', '', '',\n        '', '', '', '', '', '', '', '', '', '', '', ''], dtype=object),\n array(['spaghetti', 'chicken', 'tea', 'pancakes', 'gluten free bar', '',\n        '', '', '', '', '', '', '', '', '', '', '', '', '', ''],\n       dtype=object),\n array(['fresh tuna', 'turkey', 'herb & pepper', 'spaghetti',\n        'mineral water', 'mint', '', '', '', '', '', '', '', '', '', '',\n        '', '', '', ''], dtype=object),\n array(['spaghetti', 'mineral water', 'cooking oil', 'escalope', '', '',\n        '', '', '', '', '', '', '', '', '', '', '', '', '', ''],\n       dtype=object),\n array(['soup', '', '', '', '', '', '', '', '', '', '', '', '', '', '', '',\n        '', '', '', ''], dtype=object),\n array(['burgers', 'herb & pepper', 'spaghetti', '', '', '', '', '', '',\n        '', '', '', '', '', '', '', '', '', '', ''], dtype=object),\n array(['cookies', 'shallot', 'strawberries', '', '', '', '', '', '', '',\n        '', '', '', '', '', '', '', '', '', ''], dtype=object),\n array(['fresh tuna', 'chocolate', 'shrimp', 'whole wheat pasta', 'pepper',\n        'mineral water', 'soup', 'milk', 'salmon', '', '', '', '', '', '',\n        '', '', '', '', ''], dtype=object),\n array(['yams', 'mineral water', 'avocado', 'milk', 'butter',\n        'cooking oil', 'chocolate', 'cottage cheese', '', '', '', '', '',\n        '', '', '', '', '', '', ''], dtype=object),\n array(['ham', 'eggs', 'french fries', 'energy drink', '', '', '', '', '',\n        '', '', '', '', '', '', '', '', '', '', ''], dtype=object),\n array(['mineral water', 'avocado', '', '', '', '', '', '', '', '', '', '',\n        '', '', '', '', '', '', '', ''], dtype=object),\n array(['cookies', '', '', '', '', '', '', '', '', '', '', '', '', '', '',\n        '', '', '', '', ''], dtype=object),\n array(['chocolate', 'butter', 'eggs', 'green tea', 'cottage cheese',\n        'mayonnaise', '', '', '', '', '', '', '', '', '', '', '', '', '',\n        ''], dtype=object),\n array(['eggs', 'mushroom cream sauce', 'low fat yogurt', '', '', '', '',\n        '', '', '', '', '', '', '', '', '', '', '', '', ''], dtype=object),\n array(['antioxydant juice', 'chocolate', '', '', '', '', '', '', '', '',\n        '', '', '', '', '', '', '', '', '', ''], dtype=object),\n array(['ground beef', 'spaghetti', 'french fries', 'green tea', '', '',\n        '', '', '', '', '', '', '', '', '', '', '', '', '', ''],\n       dtype=object),\n array(['cake', '', '', '', '', '', '', '', '', '', '', '', '', '', '', '',\n        '', '', '', ''], dtype=object),\n array(['turkey', 'red wine', 'mineral water', 'pancakes', 'eggs',\n        'whole wheat rice', 'cooking oil', 'chocolate', 'zucchini', '', '',\n        '', '', '', '', '', '', '', '', ''], dtype=object),\n array(['chocolate', 'parmesan cheese', 'mineral water', 'olive oil',\n        'bacon', '', '', '', '', '', '', '', '', '', '', '', '', '', '',\n        ''], dtype=object),\n array(['green grapes', 'gums', '', '', '', '', '', '', '', '', '', '', '',\n        '', '', '', '', '', '', ''], dtype=object),\n array(['shrimp', 'frozen vegetables', 'parmesan cheese', 'milk', 'eggs',\n        'cooking oil', 'chocolate', 'french fries', '', '', '', '', '', '',\n        '', '', '', '', '', ''], dtype=object),\n array(['ground beef', 'mineral water', 'milk', 'eggs', '', '', '', '', '',\n        '', '', '', '', '', '', '', '', '', '', ''], dtype=object),\n array(['escalope', '', '', '', '', '', '', '', '', '', '', '', '', '', '',\n        '', '', '', '', ''], dtype=object),\n array(['turkey', 'cookies', '', '', '', '', '', '', '', '', '', '', '',\n        '', '', '', '', '', '', ''], dtype=object),\n array(['ground beef', 'mineral water', 'chocolate', 'green tea', '', '',\n        '', '', '', '', '', '', '', '', '', '', '', '', '', ''],\n       dtype=object),\n array(['whole wheat pasta', 'spaghetti', 'olive oil', 'butter',\n        'chocolate', 'french fries', 'tomato juice', 'low fat yogurt', '',\n        '', '', '', '', '', '', '', '', '', '', ''], dtype=object),\n array(['red wine', '', '', '', '', '', '', '', '', '', '', '', '', '', '',\n        '', '', '', '', ''], dtype=object),\n array(['frozen vegetables', 'mineral water', 'eggs', 'gums',\n        'cooking oil', 'frozen smoothie', 'cottage cheese',\n        'low fat yogurt', '', '', '', '', '', '', '', '', '', '', '', ''],\n       dtype=object),\n array(['turkey', 'grated cheese', 'energy bar', 'vegetables mix',\n        'brownies', '', '', '', '', '', '', '', '', '', '', '', '', '', '',\n        ''], dtype=object),\n array(['turkey', 'burgers', 'nonfat milk', 'cooking oil', 'energy drink',\n        '', '', '', '', '', '', '', '', '', '', '', '', '', '', ''],\n       dtype=object),\n array(['french fries', 'low fat yogurt', '', '', '', '', '', '', '', '',\n        '', '', '', '', '', '', '', '', '', ''], dtype=object),\n array(['muffins', '', '', '', '', '', '', '', '', '', '', '', '', '', '',\n        '', '', '', '', ''], dtype=object),\n array(['herb & pepper', 'mineral water', 'salmon', 'whole wheat rice',\n        'cake', 'green tea', '', '', '', '', '', '', '', '', '', '', '',\n        '', '', ''], dtype=object),\n array(['mineral water', 'cake', 'chocolate', 'low fat yogurt',\n        'candy bars', '', '', '', '', '', '', '', '', '', '', '', '', '',\n        '', ''], dtype=object),\n array(['grated cheese', 'mineral water', 'chocolate', 'soup', 'milk',\n        'olive oil', 'light cream', 'chicken', '', '', '', '', '', '', '',\n        '', '', '', '', ''], dtype=object),\n array(['mineral water', 'strawberries', '', '', '', '', '', '', '', '',\n        '', '', '', '', '', '', '', '', '', ''], dtype=object),\n array(['escalope', '', '', '', '', '', '', '', '', '', '', '', '', '', '',\n        '', '', '', '', ''], dtype=object),\n array(['grated cheese', 'parmesan cheese', 'butter', 'whole wheat rice',\n        'cooking oil', '', '', '', '', '', '', '', '', '', '', '', '', '',\n        '', ''], dtype=object),\n array(['ground beef', 'mint', '', '', '', '', '', '', '', '', '', '', '',\n        '', '', '', '', '', '', ''], dtype=object),\n array(['cookies', '', '', '', '', '', '', '', '', '', '', '', '', '', '',\n        '', '', '', '', ''], dtype=object),\n array(['ground beef', 'avocado', 'milk', 'chicken', 'rice', '', '', '',\n        '', '', '', '', '', '', '', '', '', '', '', ''], dtype=object),\n array(['frozen vegetables', 'soup', 'eggs', 'low fat yogurt', '', '', '',\n        '', '', '', '', '', '', '', '', '', '', '', '', ''], dtype=object),\n array(['herb & pepper', 'ground beef', 'spaghetti', 'mineral water',\n        'chocolate', 'black tea', 'french wine', 'pancakes', 'rice',\n        'green tea', 'toothpaste', '', '', '', '', '', '', '', '', ''],\n       dtype=object),\n array(['shrimp', 'parmesan cheese', 'mineral water', 'eggs', 'cake',\n        'oil', 'cooking oil', 'toothpaste', 'low fat yogurt', '', '', '',\n        '', '', '', '', '', '', '', ''], dtype=object),\n array(['ham', 'herb & pepper', 'frozen vegetables', 'tomatoes',\n        'spaghetti', 'olive oil', 'black tea', 'vegetables mix',\n        'cooking oil', 'green tea', 'frozen smoothie', 'mint', '', '', '',\n        '', '', '', '', ''], dtype=object),\n array(['chicken', 'cider', 'eggs', '', '', '', '', '', '', '', '', '', '',\n        '', '', '', '', '', '', ''], dtype=object),\n array(['shrimp', 'tomato sauce', 'mineral water', 'chocolate', 'escalope',\n        'mint', '', '', '', '', '', '', '', '', '', '', '', '', '', ''],\n       dtype=object),\n array(['energy drink', '', '', '', '', '', '', '', '', '', '', '', '', '',\n        '', '', '', '', '', ''], dtype=object),\n array(['ham', 'spaghetti', 'mineral water', 'energy bar', 'eggs',\n        'cooking oil', 'pancakes', 'fresh bread', 'low fat yogurt', '', '',\n        '', '', '', '', '', '', '', '', ''], dtype=object),\n array(['shrimp', 'frozen vegetables', 'tomatoes', '', '', '', '', '', '',\n        '', '', '', '', '', '', '', '', '', '', ''], dtype=object),\n array(['turkey', 'herb & pepper', 'frozen vegetables', 'ground beef',\n        'yams', 'mineral water', 'salmon', '', '', '', '', '', '', '', '',\n        '', '', '', '', ''], dtype=object),\n array(['shrimp', 'mineral water', '', '', '', '', '', '', '', '', '', '',\n        '', '', '', '', '', '', '', ''], dtype=object),\n array(['turkey', 'ground beef', 'spaghetti', 'soup', 'escalope',\n        'yogurt cake', '', '', '', '', '', '', '', '', '', '', '', '', '',\n        ''], dtype=object),\n array(['shrimp', 'pepper', 'mineral water', 'soup', 'milk', 'eggs',\n        'rice', 'barbecue sauce', 'clothes accessories', 'cookies', '', '',\n        '', '', '', '', '', '', '', ''], dtype=object),\n array(['burgers', 'pancakes', '', '', '', '', '', '', '', '', '', '', '',\n        '', '', '', '', '', '', ''], dtype=object),\n array(['low fat yogurt', '', '', '', '', '', '', '', '', '', '', '', '',\n        '', '', '', '', '', '', ''], dtype=object),\n array(['mineral water', 'milk', '', '', '', '', '', '', '', '', '', '',\n        '', '', '', '', '', '', '', ''], dtype=object),\n array(['milk', '', '', '', '', '', '', '', '', '', '', '', '', '', '', '',\n        '', '', '', ''], dtype=object),\n array(['chocolate', '', '', '', '', '', '', '', '', '', '', '', '', '',\n        '', '', '', '', '', ''], dtype=object),\n array(['whole wheat pasta', 'mineral water', 'olive oil', 'pancakes', '',\n        '', '', '', '', '', '', '', '', '', '', '', '', '', '', ''],\n       dtype=object),\n array(['yams', 'mineral water', 'eggs', 'cake', '', '', '', '', '', '',\n        '', '', '', '', '', '', '', '', '', ''], dtype=object),\n array(['turkey', 'french fries', '', '', '', '', '', '', '', '', '', '',\n        '', '', '', '', '', '', '', ''], dtype=object),\n array(['shrimp', 'spaghetti', 'yams', 'mineral water', 'chocolate',\n        'olive oil', 'light cream', 'chicken', 'green tea', 'french fries',\n        'sandwich', 'white wine', '', '', '', '', '', '', '', ''],\n       dtype=object),\n array(['mineral water', 'milk', 'salmon', 'green tea', 'cookies',\n        'fresh bread', '', '', '', '', '', '', '', '', '', '', '', '', '',\n        ''], dtype=object),\n array(['spaghetti', 'olive oil', '', '', '', '', '', '', '', '', '', '',\n        '', '', '', '', '', '', '', ''], dtype=object),\n array(['herb & pepper', 'spaghetti', '', '', '', '', '', '', '', '', '',\n        '', '', '', '', '', '', '', '', ''], dtype=object),\n array(['spaghetti', 'mineral water', 'soup', 'salmon', 'pancakes',\n        'chicken', 'mint green tea', 'low fat yogurt', '', '', '', '', '',\n        '', '', '', '', '', '', ''], dtype=object),\n array(['frozen vegetables', 'whole wheat pasta', 'ground beef',\n        'mineral water', 'chocolate', 'milk', 'olive oil', 'almonds',\n        'french wine', 'yogurt cake', 'fresh bread', '', '', '', '', '',\n        '', '', '', ''], dtype=object),\n array(['green tea', '', '', '', '', '', '', '', '', '', '', '', '', '',\n        '', '', '', '', '', ''], dtype=object),\n array(['burgers', 'grated cheese', 'spaghetti', 'nonfat milk', 'eggs',\n        'gums', 'chocolate', 'tomato juice', 'low fat yogurt', '', '', '',\n        '', '', '', '', '', '', '', ''], dtype=object),\n array(['ham', 'ground beef', 'olive oil', 'energy bar', 'chicken',\n        'brownies', 'white wine', '', '', '', '', '', '', '', '', '', '',\n        '', '', ''], dtype=object),\n array(['whole wheat pasta', 'mineral water', 'olive oil', 'cooking oil',\n        'frozen smoothie', 'green tea', '', '', '', '', '', '', '', '', '',\n        '', '', '', '', ''], dtype=object),\n array(['vegetables mix', 'champagne', '', '', '', '', '', '', '', '', '',\n        '', '', '', '', '', '', '', '', ''], dtype=object),\n array(['olive oil', '', '', '', '', '', '', '', '', '', '', '', '', '',\n        '', '', '', '', '', ''], dtype=object),\n array(['herb & pepper', 'ground beef', 'escalope', 'pancakes',\n        'green tea', '', '', '', '', '', '', '', '', '', '', '', '', '',\n        '', ''], dtype=object),\n array(['herb & pepper', 'frozen vegetables', 'ground beef',\n        'tomato sauce', 'spaghetti', 'mineral water', 'milk',\n        'french wine', 'eggs', 'whole wheat rice', 'chocolate', 'escalope',\n        'hot dogs', 'green tea', '', '', '', '', '', ''], dtype=object),\n array(['yams', 'carrots', '', '', '', '', '', '', '', '', '', '', '', '',\n        '', '', '', '', '', ''], dtype=object),\n array(['chicken', '', '', '', '', '', '', '', '', '', '', '', '', '', '',\n        '', '', '', '', ''], dtype=object),\n array(['turkey', 'burgers', 'herb & pepper', 'ground beef', 'yams',\n        'mineral water', 'avocado', 'milk', 'almonds', 'muffins', 'eggs',\n        'french fries', '', '', '', '', '', '', '', ''], dtype=object),\n array(['whole wheat pasta', 'salmon', 'antioxydant juice',\n        'mint green tea', '', '', '', '', '', '', '', '', '', '', '', '',\n        '', '', '', ''], dtype=object),\n array(['chocolate', 'french fries', 'strawberries', 'fresh bread', '', '',\n        '', '', '', '', '', '', '', '', '', '', '', '', '', ''],\n       dtype=object),\n array(['burgers', 'chocolate', 'shrimp', 'whole wheat pasta',\n        'ground beef', 'soup', 'energy bar', ' asparagus', '', '', '', '',\n        '', '', '', '', '', '', '', ''], dtype=object),\n array(['mineral water', 'butter', 'pancakes', 'french fries',\n        'frozen smoothie', 'white wine', 'low fat yogurt', '', '', '', '',\n        '', '', '', '', '', '', '', '', ''], dtype=object),\n array(['muffins', 'eggs', '', '', '', '', '', '', '', '', '', '', '', '',\n        '', '', '', '', '', ''], dtype=object),\n array(['turkey', 'shrimp', 'frozen vegetables', 'eggs', '', '', '', '',\n        '', '', '', '', '', '', '', '', '', '', '', ''], dtype=object),\n array(['burgers', 'eggs', 'yogurt cake', '', '', '', '', '', '', '', '',\n        '', '', '', '', '', '', '', '', ''], dtype=object),\n array(['burgers', 'fresh tuna', 'shrimp', 'frozen vegetables',\n        'whole wheat pasta', 'yams', 'mineral water', 'olive oil',\n        'almonds', 'cake', 'chicken', 'extra dark chocolate', '', '', '',\n        '', '', '', '', ''], dtype=object),\n array(['herb & pepper', 'ground beef', 'mineral water', 'chicken', '', '',\n        '', '', '', '', '', '', '', '', '', '', '', '', '', ''],\n       dtype=object),\n array(['frozen smoothie', '', '', '', '', '', '', '', '', '', '', '', '',\n        '', '', '', '', '', '', ''], dtype=object),\n array(['chicken', 'tomato juice', '', '', '', '', '', '', '', '', '', '',\n        '', '', '', '', '', '', '', ''], dtype=object),\n array(['whole wheat pasta', 'olive oil', '', '', '', '', '', '', '', '',\n        '', '', '', '', '', '', '', '', '', ''], dtype=object),\n array(['milk', 'energy bar', 'green tea', '', '', '', '', '', '', '', '',\n        '', '', '', '', '', '', '', '', ''], dtype=object),\n array(['grated cheese', 'herb & pepper', '', '', '', '', '', '', '', '',\n        '', '', '', '', '', '', '', '', '', ''], dtype=object),\n array(['escalope', 'green tea', '', '', '', '', '', '', '', '', '', '',\n        '', '', '', '', '', '', '', ''], dtype=object),\n array(['soup', 'meatballs', 'milk', 'almonds', 'green tea', '', '', '',\n        '', '', '', '', '', '', '', '', '', '', '', ''], dtype=object),\n array(['herb & pepper', 'pet food', 'cookies', '', '', '', '', '', '', '',\n        '', '', '', '', '', '', '', '', '', ''], dtype=object),\n array(['grated cheese', 'whole wheat pasta', 'olive oil', 'energy bar',\n        'light cream', 'oil', 'french fries', 'pancakes', 'low fat yogurt',\n        '', '', '', '', '', '', '', '', '', '', ''], dtype=object),\n array(['honey', '', '', '', '', '', '', '', '', '', '', '', '', '', '',\n        '', '', '', '', ''], dtype=object),\n array(['parmesan cheese', 'mineral water', 'fromage blanc', 'eggs',\n        'honey', 'frozen smoothie', '', '', '', '', '', '', '', '', '', '',\n        '', '', '', ''], dtype=object),\n array(['bramble', 'zucchini', '', '', '', '', '', '', '', '', '', '', '',\n        '', '', '', '', '', '', ''], dtype=object),\n array(['ground beef', 'pepper', 'milk', 'eggs', 'green tea', 'chocolate',\n        'white wine', '', '', '', '', '', '', '', '', '', '', '', '', ''],\n       dtype=object),\n array(['chocolate', 'red wine', 'butter', 'french fries', 'cookies',\n        'low fat yogurt', '', '', '', '', '', '', '', '', '', '', '', '',\n        '', ''], dtype=object),\n array(['chocolate', 'spaghetti', 'bug spray', '', '', '', '', '', '', '',\n        '', '', '', '', '', '', '', '', '', ''], dtype=object),\n array(['cookies', '', '', '', '', '', '', '', '', '', '', '', '', '', '',\n        '', '', '', '', ''], dtype=object),\n array(['spaghetti', 'mineral water', 'vegetables mix', 'eggs',\n        'whole wheat rice', 'fresh bread', '', '', '', '', '', '', '', '',\n        '', '', '', '', '', ''], dtype=object),\n array(['chocolate', 'grated cheese', 'mineral water', 'salmon',\n        'whole wheat rice', 'burger sauce', 'escalope',\n        'mushroom cream sauce', 'low fat yogurt', '', '', '', '', '', '',\n        '', '', '', '', ''], dtype=object),\n array(['spaghetti', 'champagne', '', '', '', '', '', '', '', '', '', '',\n        '', '', '', '', '', '', '', ''], dtype=object),\n array(['frozen vegetables', 'mineral water', '', '', '', '', '', '', '',\n        '', '', '', '', '', '', '', '', '', '', ''], dtype=object),\n array(['mineral water', 'body spray', 'low fat yogurt', '', '', '', '',\n        '', '', '', '', '', '', '', '', '', '', '', '', ''], dtype=object),\n array(['herb & pepper', 'red wine', 'whole wheat pasta', 'cake',\n        'tomato juice', '', '', '', '', '', '', '', '', '', '', '', '', '',\n        '', ''], dtype=object),\n array(['burgers', 'parmesan cheese', 'eggs', 'french fries', 'hot dogs',\n        '', '', '', '', '', '', '', '', '', '', '', '', '', '', ''],\n       dtype=object),\n array(['mineral water', 'eggs', 'pancakes', '', '', '', '', '', '', '',\n        '', '', '', '', '', '', '', '', '', ''], dtype=object),\n array(['eggs', 'french fries', '', '', '', '', '', '', '', '', '', '', '',\n        '', '', '', '', '', '', ''], dtype=object),\n array(['shrimp', 'frozen vegetables', 'tomatoes', 'spaghetti', '', '', '',\n        '', '', '', '', '', '', '', '', '', '', '', '', ''], dtype=object),\n array(['mineral water', 'almonds', 'pancakes', 'chocolate',\n        'french fries', 'green tea', '', '', '', '', '', '', '', '', '',\n        '', '', '', '', ''], dtype=object),\n array(['cake', 'french fries', 'escalope', '', '', '', '', '', '', '', '',\n        '', '', '', '', '', '', '', '', ''], dtype=object),\n array(['frozen vegetables', 'spaghetti', 'mineral water', 'milk',\n        'black tea', 'french wine', 'cider', 'chutney', 'salmon', '', '',\n        '', '', '', '', '', '', '', '', ''], dtype=object),\n array(['almonds', 'cake', 'low fat yogurt', '', '', '', '', '', '', '',\n        '', '', '', '', '', '', '', '', '', ''], dtype=object),\n array(['french fries', '', '', '', '', '', '', '', '', '', '', '', '', '',\n        '', '', '', '', '', ''], dtype=object),\n array(['hot dogs', '', '', '', '', '', '', '', '', '', '', '', '', '', '',\n        '', '', '', '', ''], dtype=object),\n array(['mineral water', 'soup', 'chicken', 'light cream', 'green tea',\n        'chocolate', 'champagne', 'low fat yogurt', '', '', '', '', '', '',\n        '', '', '', '', '', ''], dtype=object),\n array(['ground beef', 'olive oil', '', '', '', '', '', '', '', '', '', '',\n        '', '', '', '', '', '', '', ''], dtype=object),\n array(['french fries', 'cookies', 'green tea', '', '', '', '', '', '', '',\n        '', '', '', '', '', '', '', '', '', ''], dtype=object),\n array(['soup', 'blueberries', 'cooking oil', 'chocolate', 'cookies',\n        'champagne', 'salt', '', '', '', '', '', '', '', '', '', '', '',\n        '', ''], dtype=object),\n array(['chocolate', 'french fries', 'frozen smoothie', 'escalope',\n        'fresh bread', '', '', '', '', '', '', '', '', '', '', '', '', '',\n        '', ''], dtype=object),\n array(['yams', 'mint', '', '', '', '', '', '', '', '', '', '', '', '', '',\n        '', '', '', '', ''], dtype=object),\n array(['frozen vegetables', 'ground beef', 'salmon', 'muffins',\n        'chocolate', 'magazines', '', '', '', '', '', '', '', '', '', '',\n        '', '', '', ''], dtype=object),\n array(['fresh tuna', 'herb & pepper', 'parmesan cheese', 'milk',\n        'olive oil', 'pancakes', 'honey', 'cake', 'chocolate', '', '', '',\n        '', '', '', '', '', '', '', ''], dtype=object),\n array(['grated cheese', 'shrimp', 'butter', 'whole wheat rice',\n        'french fries', 'escalope', 'cookies', 'cottage cheese', '', '',\n        '', '', '', '', '', '', '', '', '', ''], dtype=object),\n array(['energy bar', 'eggs', 'french fries', 'champagne', 'body spray',\n        '', '', '', '', '', '', '', '', '', '', '', '', '', '', ''],\n       dtype=object),\n array(['burgers', 'eggs', 'french fries', '', '', '', '', '', '', '', '',\n        '', '', '', '', '', '', '', '', ''], dtype=object),\n array(['burgers', 'shrimp', 'mineral water', 'milk', 'eggs', 'chocolate',\n        'french fries', 'fresh bread', '', '', '', '', '', '', '', '', '',\n        '', '', ''], dtype=object),\n array(['ground beef', 'mineral water', 'chocolate', 'milk', 'chicken',\n        'nonfat milk', 'green tea', '', '', '', '', '', '', '', '', '', '',\n        '', '', ''], dtype=object),\n array(['mineral water', 'chicken', '', '', '', '', '', '', '', '', '', '',\n        '', '', '', '', '', '', '', ''], dtype=object),\n array(['turkey', 'ground beef', 'spaghetti', 'milk', 'eggs', 'cake', '',\n        '', '', '', '', '', '', '', '', '', '', '', '', ''], dtype=object),\n array(['french fries', 'green tea', '', '', '', '', '', '', '', '', '',\n        '', '', '', '', '', '', '', '', ''], dtype=object),\n array(['french fries', 'escalope', '', '', '', '', '', '', '', '', '', '',\n        '', '', '', '', '', '', '', ''], dtype=object),\n array(['turkey', 'sparkling water', '', '', '', '', '', '', '', '', '',\n        '', '', '', '', '', '', '', '', ''], dtype=object),\n array(['whole wheat pasta', 'mineral water', 'olive oil', 'carrots',\n        'protein bar', 'low fat yogurt', '', '', '', '', '', '', '', '',\n        '', '', '', '', '', ''], dtype=object),\n array(['cookies', '', '', '', '', '', '', '', '', '', '', '', '', '', '',\n        '', '', '', '', ''], dtype=object),\n array(['turkey', 'grated cheese', 'honey', 'green beans', 'french fries',\n        '', '', '', '', '', '', '', '', '', '', '', '', '', '', ''],\n       dtype=object),\n array(['turkey', 'red wine', 'mineral water', 'chocolate', 'soup',\n        'light cream', 'rice', 'oil', 'chicken', 'barbecue sauce', '', '',\n        '', '', '', '', '', '', '', ''], dtype=object),\n array(['turkey', 'eggs', '', '', '', '', '', '', '', '', '', '', '', '',\n        '', '', '', '', '', ''], dtype=object),\n array(['low fat yogurt', '', '', '', '', '', '', '', '', '', '', '', '',\n        '', '', '', '', '', '', ''], dtype=object),\n array(['nonfat milk', 'low fat yogurt', '', '', '', '', '', '', '', '',\n        '', '', '', '', '', '', '', '', '', ''], dtype=object),\n array(['frozen vegetables', 'low fat yogurt', '', '', '', '', '', '', '',\n        '', '', '', '', '', '', '', '', '', '', ''], dtype=object),\n array(['herb & pepper', 'parmesan cheese', 'whole wheat pasta',\n        'mineral water', 'milk', 'eggs', 'low fat yogurt', 'mint', '', '',\n        '', '', '', '', '', '', '', '', '', ''], dtype=object),\n array(['yogurt cake', 'mint', '', '', '', '', '', '', '', '', '', '', '',\n        '', '', '', '', '', '', ''], dtype=object),\n array(['sandwich', 'salt', '', '', '', '', '', '', '', '', '', '', '', '',\n        '', '', '', '', '', ''], dtype=object),\n array(['shrimp', 'fresh bread', 'green tea', '', '', '', '', '', '', '',\n        '', '', '', '', '', '', '', '', '', ''], dtype=object),\n array(['pepper', 'tomato sauce', 'escalope', '', '', '', '', '', '', '',\n        '', '', '', '', '', '', '', '', '', ''], dtype=object),\n array(['mineral water', 'cake', 'protein bar', 'toothpaste', '', '', '',\n        '', '', '', '', '', '', '', '', '', '', '', '', ''], dtype=object),\n array(['candy bars', '', '', '', '', '', '', '', '', '', '', '', '', '',\n        '', '', '', '', '', ''], dtype=object),\n array(['red wine', '', '', '', '', '', '', '', '', '', '', '', '', '', '',\n        '', '', '', '', ''], dtype=object),\n array(['spaghetti', 'mineral water', 'honey', 'strawberries', '', '', '',\n        '', '', '', '', '', '', '', '', '', '', '', '', ''], dtype=object),\n array(['mineral water', 'eggs', 'green tea', '', '', '', '', '', '', '',\n        '', '', '', '', '', '', '', '', '', ''], dtype=object),\n array(['grated cheese', 'frozen vegetables', 'parmesan cheese',\n        'french wine', 'french fries', 'fresh bread', 'green tea', '', '',\n        '', '', '', '', '', '', '', '', '', '', ''], dtype=object),\n array(['frozen vegetables', 'parmesan cheese', 'whole wheat pasta',\n        'spaghetti', 'mineral water', 'chocolate', 'avocado', 'milk',\n        'olive oil', 'muffins', 'cake', '', '', '', '', '', '', '', '', ''],\n       dtype=object),\n array(['chocolate', 'grated cheese', 'shrimp', 'spaghetti', 'olive oil',\n        'honey', 'strawberries', 'mint', '', '', '', '', '', '', '', '',\n        '', '', '', ''], dtype=object),\n array(['spaghetti', 'strawberries', '', '', '', '', '', '', '', '', '',\n        '', '', '', '', '', '', '', '', ''], dtype=object),\n array(['burgers', 'chocolate', 'mushroom cream sauce', '', '', '', '', '',\n        '', '', '', '', '', '', '', '', '', '', '', ''], dtype=object),\n array(['mineral water', 'olive oil', 'extra dark chocolate', '', '', '',\n        '', '', '', '', '', '', '', '', '', '', '', '', '', ''],\n       dtype=object),\n array(['eggs', 'green tea', '', '', '', '', '', '', '', '', '', '', '',\n        '', '', '', '', '', '', ''], dtype=object),\n array(['tomato juice', '', '', '', '', '', '', '', '', '', '', '', '', '',\n        '', '', '', '', '', ''], dtype=object),\n array(['muffins', 'low fat yogurt', '', '', '', '', '', '', '', '', '',\n        '', '', '', '', '', '', '', '', ''], dtype=object),\n array(['soup', 'olive oil', 'pancakes', 'light cream', 'champagne',\n        'low fat yogurt', '', '', '', '', '', '', '', '', '', '', '', '',\n        '', ''], dtype=object),\n array(['mineral water', 'vegetables mix', 'low fat yogurt', '', '', '',\n        '', '', '', '', '', '', '', '', '', '', '', '', '', ''],\n       dtype=object),\n array(['pepper', 'mineral water', 'avocado', 'pancakes', 'eggs', 'honey',\n        'green tea', 'chocolate', '', '', '', '', '', '', '', '', '', '',\n        '', ''], dtype=object),\n array(['pickles', 'burgers', 'almonds', 'honey', 'frozen smoothie', '',\n        '', '', '', '', '', '', '', '', '', '', '', '', '', ''],\n       dtype=object),\n array(['bug spray', 'clothes accessories', 'cottage cheese', '', '', '',\n        '', '', '', '', '', '', '', '', '', '', '', '', '', ''],\n       dtype=object),\n array(['frozen vegetables', 'ground beef', 'spaghetti', 'pancakes',\n        'honey', 'whole wheat rice', 'green beans', 'french fries',\n        'frozen smoothie', 'mashed potato', '', '', '', '', '', '', '', '',\n        '', ''], dtype=object),\n array(['spaghetti', 'mineral water', 'milk', '', '', '', '', '', '', '',\n        '', '', '', '', '', '', '', '', '', ''], dtype=object),\n array(['pancakes', '', '', '', '', '', '', '', '', '', '', '', '', '', '',\n        '', '', '', '', ''], dtype=object),\n array(['muffins', '', '', '', '', '', '', '', '', '', '', '', '', '', '',\n        '', '', '', '', ''], dtype=object),\n array(['frozen vegetables', 'oil', 'cereals', '', '', '', '', '', '', '',\n        '', '', '', '', '', '', '', '', '', ''], dtype=object),\n array(['turkey', 'shrimp', 'mineral water', 'milk', 'almonds',\n        'strong cheese', 'cake', 'frozen smoothie', '', '', '', '', '', '',\n        '', '', '', '', '', ''], dtype=object),\n array(['chocolate', 'rice', 'eggplant', 'hand protein bar', 'zucchini',\n        '', '', '', '', '', '', '', '', '', '', '', '', '', '', ''],\n       dtype=object),\n array(['spaghetti', 'meatballs', 'nonfat milk', 'hot dogs', '', '', '',\n        '', '', '', '', '', '', '', '', '', '', '', '', ''], dtype=object),\n array(['frozen vegetables', 'cake', 'cookies', 'pancakes', '', '', '', '',\n        '', '', '', '', '', '', '', '', '', '', '', ''], dtype=object),\n array(['butter', 'bug spray', 'french fries', 'yogurt cake', 'green tea',\n        '', '', '', '', '', '', '', '', '', '', '', '', '', '', ''],\n       dtype=object),\n array(['herb & pepper', '', '', '', '', '', '', '', '', '', '', '', '',\n        '', '', '', '', '', '', ''], dtype=object),\n array(['soup', 'milk', 'cider', 'chicken', 'green beans', '', '', '', '',\n        '', '', '', '', '', '', '', '', '', '', ''], dtype=object),\n array(['shrimp', 'spaghetti', 'mineral water', 'avocado', 'milk',\n        'salmon', 'frozen smoothie', 'escalope', 'hot dogs', '', '', '',\n        '', '', '', '', '', '', '', ''], dtype=object),\n array(['milk', 'whole wheat rice', 'escalope', 'champagne', '', '', '',\n        '', '', '', '', '', '', '', '', '', '', '', '', ''], dtype=object),\n array(['escalope', 'pasta', 'mushroom cream sauce', '', '', '', '', '',\n        '', '', '', '', '', '', '', '', '', '', '', ''], dtype=object),\n array(['parmesan cheese', '', '', '', '', '', '', '', '', '', '', '', '',\n        '', '', '', '', '', '', ''], dtype=object),\n array(['grated cheese', 'spaghetti', 'french fries', '', '', '', '', '',\n        '', '', '', '', '', '', '', '', '', '', '', ''], dtype=object),\n array(['burgers', 'shrimp', 'whole wheat pasta', 'spaghetti',\n        'mineral water', 'milk', 'olive oil', 'chicken', 'salmon',\n        'pancakes', 'cake', '', '', '', '', '', '', '', '', ''],\n       dtype=object),\n array(['turkey', 'chocolate', 'grated cheese', 'frozen vegetables',\n        'ground beef', 'spaghetti', 'milk', 'butter', 'bacon',\n        'whole wheat rice', '', '', '', '', '', '', '', '', '', ''],\n       dtype=object),\n array(['turkey', 'pepper', 'chocolate', 'fromage blanc', 'eggs',\n        'green tea', 'escalope', '', '', '', '', '', '', '', '', '', '',\n        '', '', ''], dtype=object),\n array(['tomatoes', 'ground beef', 'avocado', 'milk', 'pancakes',\n        'green tea', '', '', '', '', '', '', '', '', '', '', '', '', '',\n        ''], dtype=object),\n array(['turkey', 'mineral water', 'green tea', 'protein bar', '', '', '',\n        '', '', '', '', '', '', '', '', '', '', '', '', ''], dtype=object),\n array(['mineral water', 'low fat yogurt', '', '', '', '', '', '', '', '',\n        '', '', '', '', '', '', '', '', '', ''], dtype=object),\n array(['pancakes', 'tomato juice', 'candy bars', '', '', '', '', '', '',\n        '', '', '', '', '', '', '', '', '', '', ''], dtype=object),\n array(['yams', 'avocado', 'bacon', 'oil', 'french fries', 'brownies',\n        'pancakes', 'zucchini', 'green tea', '', '', '', '', '', '', '',\n        '', '', '', ''], dtype=object),\n array(['shrimp', 'spaghetti', 'mineral water', 'soup', 'milk',\n        'olive oil', 'chicken', 'cake', 'burger sauce', 'oil', '', '', '',\n        '', '', '', '', '', '', ''], dtype=object),\n array(['chicken', 'cooking oil', 'tea', '', '', '', '', '', '', '', '',\n        '', '', '', '', '', '', '', '', ''], dtype=object),\n array(['burgers', 'soup', 'vegetables mix', 'pancakes', 'body spray',\n        'melons', 'protein bar', 'asparagus', 'mayonnaise', 'mint',\n        'green tea', '', '', '', '', '', '', '', '', ''], dtype=object),\n array(['shrimp', 'pepper', '', '', '', '', '', '', '', '', '', '', '', '',\n        '', '', '', '', '', ''], dtype=object),\n array(['spaghetti', 'olive oil', 'blueberries', '', '', '', '', '', '',\n        '', '', '', '', '', '', '', '', '', '', ''], dtype=object),\n array(['muffins', '', '', '', '', '', '', '', '', '', '', '', '', '', '',\n        '', '', '', '', ''], dtype=object),\n array(['grated cheese', 'herb & pepper', 'muffins', 'eggs',\n        'low fat yogurt', '', '', '', '', '', '', '', '', '', '', '', '',\n        '', '', ''], dtype=object),\n array(['grated cheese', 'frozen vegetables', 'spaghetti', 'milk', 'gums',\n        'light cream', 'cooking oil', 'gluten free bar', '', '', '', '',\n        '', '', '', '', '', '', '', ''], dtype=object),\n array(['pepper', 'pancakes', 'french fries', 'tomato juice', '', '', '',\n        '', '', '', '', '', '', '', '', '', '', '', '', ''], dtype=object),\n array(['frozen vegetables', 'tomatoes', 'parmesan cheese', 'ground beef',\n        'tomato sauce', 'milk', 'extra dark chocolate', 'melons', 'mint',\n        'green tea', '', '', '', '', '', '', '', '', '', ''], dtype=object),\n array(['olive oil', 'chicken', 'chocolate', 'cookies', 'green tea', '',\n        '', '', '', '', '', '', '', '', '', '', '', '', '', ''],\n       dtype=object),\n array(['whole wheat pasta', 'ground beef', 'spaghetti', 'chocolate',\n        'french wine', 'pancakes', 'eggs', 'frozen smoothie', 'sandwich',\n        'tomato juice', '', '', '', '', '', '', '', '', '', ''],\n       dtype=object),\n array(['eggs', 'cottage cheese', '', '', '', '', '', '', '', '', '', '',\n        '', '', '', '', '', '', '', ''], dtype=object),\n array(['muffins', 'cottage cheese', '', '', '', '', '', '', '', '', '',\n        '', '', '', '', '', '', '', '', ''], dtype=object),\n array(['green tea', 'frozen smoothie', 'white wine', '', '', '', '', '',\n        '', '', '', '', '', '', '', '', '', '', '', ''], dtype=object),\n array(['mineral water', 'chocolate', 'rice', 'champagne', '', '', '', '',\n        '', '', '', '', '', '', '', '', '', '', '', ''], dtype=object),\n array(['mineral water', '', '', '', '', '', '', '', '', '', '', '', '',\n        '', '', '', '', '', '', ''], dtype=object),\n array(['shrimp', 'whole wheat pasta', 'meatballs', 'milk', '', '', '', '',\n        '', '', '', '', '', '', '', '', '', '', '', ''], dtype=object),\n array(['herb & pepper', 'parmesan cheese', 'ground beef', 'pepper',\n        'spaghetti', 'cream', 'black tea', 'almonds', 'french wine',\n        'pancakes', 'eggs', '', '', '', '', '', '', '', '', ''],\n       dtype=object),\n array(['grated cheese', 'shrimp', 'parmesan cheese', 'ground beef',\n        'mineral water', 'mint', '', '', '', '', '', '', '', '', '', '',\n        '', '', '', ''], dtype=object),\n array(['mineral water', 'rice', '', '', '', '', '', '', '', '', '', '',\n        '', '', '', '', '', '', '', ''], dtype=object),\n array(['pancakes', '', '', '', '', '', '', '', '', '', '', '', '', '', '',\n        '', '', '', '', ''], dtype=object),\n array(['mineral water', 'honey', '', '', '', '', '', '', '', '', '', '',\n        '', '', '', '', '', '', '', ''], dtype=object),\n array(['burgers', 'ground beef', 'pancakes', 'salt', '', '', '', '', '',\n        '', '', '', '', '', '', '', '', '', '', ''], dtype=object),\n array(['parmesan cheese', 'soda', 'french fries', 'brownies', '', '', '',\n        '', '', '', '', '', '', '', '', '', '', '', '', ''], dtype=object),\n array(['whole wheat rice', '', '', '', '', '', '', '', '', '', '', '', '',\n        '', '', '', '', '', '', ''], dtype=object),\n array(['ground beef', 'spaghetti', 'chicken', 'rice', 'oil',\n        'cooking oil', 'hot dogs', 'mint', '', '', '', '', '', '', '', '',\n        '', '', '', ''], dtype=object),\n array(['butter', 'chocolate', '', '', '', '', '', '', '', '', '', '', '',\n        '', '', '', '', '', '', ''], dtype=object),\n array(['pepper', '', '', '', '', '', '', '', '', '', '', '', '', '', '',\n        '', '', '', '', ''], dtype=object),\n array(['herb & pepper', 'chocolate', 'champagne', 'yogurt cake',\n        'green tea', '', '', '', '', '', '', '', '', '', '', '', '', '',\n        '', ''], dtype=object),\n array(['grated cheese', 'mineral water', 'eggs', 'escalope', '', '', '',\n        '', '', '', '', '', '', '', '', '', '', '', '', ''], dtype=object),\n array(['cookies', 'yogurt cake', 'light mayo', 'green tea', '', '', '',\n        '', '', '', '', '', '', '', '', '', '', '', '', ''], dtype=object),\n array(['milk', 'cooking oil', '', '', '', '', '', '', '', '', '', '', '',\n        '', '', '', '', '', '', ''], dtype=object),\n array(['milk', 'olive oil', 'light cream', 'cooking oil', 'chicken',\n        'extra dark chocolate', 'cereals', 'french fries',\n        'frozen smoothie', 'pancakes', 'tomato juice', 'fresh bread',\n        'low fat yogurt', '', '', '', '', '', '', ''], dtype=object),\n array(['tomatoes', 'soup', 'avocado', 'milk', 'yogurt cake',\n        'energy drink', 'low fat yogurt', 'green tea', '', '', '', '', '',\n        '', '', '', '', '', '', ''], dtype=object),\n array(['ham', 'chocolate', 'ground beef', 'mineral water', 'oil', '', '',\n        '', '', '', '', '', '', '', '', '', '', '', '', ''], dtype=object),\n array(['green tea', 'champagne', 'escalope', '', '', '', '', '', '', '',\n        '', '', '', '', '', '', '', '', '', ''], dtype=object),\n array(['chocolate', '', '', '', '', '', '', '', '', '', '', '', '', '',\n        '', '', '', '', '', ''], dtype=object),\n array(['escalope', 'pasta', '', '', '', '', '', '', '', '', '', '', '',\n        '', '', '', '', '', '', ''], dtype=object),\n array(['burgers', 'mineral water', 'olive oil', 'rice',\n        'antioxydant juice', 'frozen smoothie', '', '', '', '', '', '', '',\n        '', '', '', '', '', '', ''], dtype=object),\n array(['green tea', '', '', '', '', '', '', '', '', '', '', '', '', '',\n        '', '', '', '', '', ''], dtype=object),\n array(['grated cheese', 'tomato sauce', 'spaghetti', 'milk', 'pancakes',\n        'energy drink', 'white wine', '', '', '', '', '', '', '', '', '',\n        '', '', '', ''], dtype=object),\n array(['turkey', 'spaghetti', 'strong cheese', 'strawberries', '', '', '',\n        '', '', '', '', '', '', '', '', '', '', '', '', ''], dtype=object),\n array(['muffins', '', '', '', '', '', '', '', '', '', '', '', '', '', '',\n        '', '', '', '', ''], dtype=object),\n array(['ground beef', 'spaghetti', 'cider', 'cooking oil', 'cookies', '',\n        '', '', '', '', '', '', '', '', '', '', '', '', '', ''],\n       dtype=object),\n array(['burgers', 'frozen vegetables', 'parmesan cheese', 'spaghetti',\n        'fromage blanc', 'vegetables mix', 'pancakes', 'honey', 'hot dogs',\n        'low fat yogurt', '', '', '', '', '', '', '', '', '', ''],\n       dtype=object),\n array(['ground beef', '', '', '', '', '', '', '', '', '', '', '', '', '',\n        '', '', '', '', '', ''], dtype=object),\n array(['green beans', '', '', '', '', '', '', '', '', '', '', '', '', '',\n        '', '', '', '', '', ''], dtype=object),\n array(['frozen vegetables', 'mineral water', 'honey', 'whole wheat rice',\n        'champagne', 'escalope', '', '', '', '', '', '', '', '', '', '',\n        '', '', '', ''], dtype=object),\n array(['parmesan cheese', 'milk', 'butter', 'black tea', 'eggs',\n        'frozen smoothie', 'light mayo', 'shampoo', 'low fat yogurt',\n        'green tea', '', '', '', '', '', '', '', '', '', ''], dtype=object),\n array(['mineral water', 'cake', '', '', '', '', '', '', '', '', '', '',\n        '', '', '', '', '', '', '', ''], dtype=object),\n array(['turkey', 'mineral water', 'milk', 'pancakes', 'whole wheat rice',\n        'cooking oil', 'frozen smoothie', 'cookies', 'green tea', '', '',\n        '', '', '', '', '', '', '', '', ''], dtype=object),\n array(['avocado', 'chocolate', 'french fries', '', '', '', '', '', '', '',\n        '', '', '', '', '', '', '', '', '', ''], dtype=object),\n array(['green tea', '', '', '', '', '', '', '', '', '', '', '', '', '',\n        '', '', '', '', '', ''], dtype=object),\n array(['chocolate', 'eggs', 'bug spray', '', '', '', '', '', '', '', '',\n        '', '', '', '', '', '', '', '', ''], dtype=object),\n array(['grated cheese', 'muffins', 'french fries', 'body spray', '', '',\n        '', '', '', '', '', '', '', '', '', '', '', '', '', ''],\n       dtype=object),\n array(['mineral water', 'eggs', 'blueberries', 'soda', 'escalope', '', '',\n        '', '', '', '', '', '', '', '', '', '', '', '', ''], dtype=object),\n array(['whole wheat rice', '', '', '', '', '', '', '', '', '', '', '', '',\n        '', '', '', '', '', '', ''], dtype=object),\n array(['nonfat milk', 'cookies', 'mushroom cream sauce', '', '', '', '',\n        '', '', '', '', '', '', '', '', '', '', '', '', ''], dtype=object),\n array(['french fries', 'champagne', '', '', '', '', '', '', '', '', '',\n        '', '', '', '', '', '', '', '', ''], dtype=object),\n array(['mineral water', 'salmon', '', '', '', '', '', '', '', '', '', '',\n        '', '', '', '', '', '', '', ''], dtype=object),\n array(['olive oil', '', '', '', '', '', '', '', '', '', '', '', '', '',\n        '', '', '', '', '', ''], dtype=object),\n array(['turkey', 'tomatoes', 'ground beef', 'soup', 'milk', 'butter',\n        'honey', 'cake', 'mint green tea', 'brownies', 'salt', '', '', '',\n        '', '', '', '', '', ''], dtype=object),\n array(['parmesan cheese', 'spaghetti', 'mineral water', 'chocolate',\n        'napkins', 'low fat yogurt', '', '', '', '', '', '', '', '', '',\n        '', '', '', '', ''], dtype=object),\n array(['burgers', 'parmesan cheese', 'chocolate', 'soup', 'milk',\n        'olive oil', 'energy bar', 'butter', 'almonds', 'fromage blanc',\n        'eggs', 'cake', 'pancakes', '', '', '', '', '', '', ''],\n       dtype=object),\n array(['shrimp', 'honey', 'pasta', 'energy drink', 'green tea', '', '',\n        '', '', '', '', '', '', '', '', '', '', '', '', ''], dtype=object),\n array(['fresh tuna', 'chocolate', 'milk', 'french wine', 'muffins',\n        'pancakes', 'champagne', 'frozen smoothie', '', '', '', '', '', '',\n        '', '', '', '', '', ''], dtype=object),\n array(['strawberries', '', '', '', '', '', '', '', '', '', '', '', '', '',\n        '', '', '', '', '', ''], dtype=object),\n array(['herb & pepper', '', '', '', '', '', '', '', '', '', '', '', '',\n        '', '', '', '', '', '', ''], dtype=object),\n array(['herb & pepper', 'frozen vegetables', 'tomatoes',\n        'parmesan cheese', 'ground beef', 'fromage blanc', 'eggs', 'honey',\n        'cake', 'rice', 'cereals', 'french fries', 'champagne', '', '', '',\n        '', '', '', ''], dtype=object),\n array(['spaghetti', 'mineral water', 'milk', 'strong cheese', 'cereals',\n        'escalope', 'cottage cheese', '', '', '', '', '', '', '', '', '',\n        '', '', '', ''], dtype=object),\n array(['turkey', 'burgers', 'fresh tuna', 'spaghetti', 'pancakes', 'eggs',\n        'cake', 'cottage cheese', 'energy drink', 'gluten free bar', '',\n        '', '', '', '', '', '', '', '', ''], dtype=object),\n array(['eggplant', '', '', '', '', '', '', '', '', '', '', '', '', '', '',\n        '', '', '', '', ''], dtype=object),\n array(['burgers', 'spaghetti', 'mineral water', 'almonds', 'honey',\n        'extra dark chocolate', 'carrots', 'mashed potato', '', '', '', '',\n        '', '', '', '', '', '', '', ''], dtype=object),\n array(['chocolate', 'french fries', 'frozen smoothie', 'cottage cheese',\n        'strawberries', 'light mayo', '', '', '', '', '', '', '', '', '',\n        '', '', '', '', ''], dtype=object),\n array(['strong cheese', '', '', '', '', '', '', '', '', '', '', '', '',\n        '', '', '', '', '', '', ''], dtype=object),\n array(['chocolate', 'french fries', '', '', '', '', '', '', '', '', '',\n        '', '', '', '', '', '', '', '', ''], dtype=object),\n array(['chocolate', 'french fries', 'strawberries', '', '', '', '', '',\n        '', '', '', '', '', '', '', '', '', '', '', ''], dtype=object),\n array(['turkey', 'frozen vegetables', 'avocado', 'cake', 'light cream',\n        'cooking oil', 'chicken', 'chocolate bread', 'mashed potato', '',\n        '', '', '', '', '', '', '', '', '', ''], dtype=object),\n array(['olive oil', 'energy bar', 'shallot', '', '', '', '', '', '', '',\n        '', '', '', '', '', '', '', '', '', ''], dtype=object),\n array(['turkey', 'shrimp', '', '', '', '', '', '', '', '', '', '', '', '',\n        '', '', '', '', '', ''], dtype=object),\n array(['chocolate', 'spaghetti', 'champagne', 'yogurt cake', '', '', '',\n        '', '', '', '', '', '', '', '', '', '', '', '', ''], dtype=object),\n array(['shrimp', 'mineral water', 'chocolate', 'avocado', 'butter',\n        'zucchini', 'green tea', '', '', '', '', '', '', '', '', '', '',\n        '', '', ''], dtype=object),\n array(['muffins', 'green tea', 'brownies', '', '', '', '', '', '', '', '',\n        '', '', '', '', '', '', '', '', ''], dtype=object),\n array(['yogurt cake', '', '', '', '', '', '', '', '', '', '', '', '', '',\n        '', '', '', '', '', ''], dtype=object),\n array(['turkey', 'tomato sauce', 'milk', 'butter', 'bacon', 'salmon',\n        'cooking oil', 'chocolate', 'french fries', 'hot dogs', 'melons',\n        'protein bar', 'mint', '', '', '', '', '', '', ''], dtype=object),\n array(['grated cheese', '', '', '', '', '', '', '', '', '', '', '', '',\n        '', '', '', '', '', '', ''], dtype=object),\n array(['butter', 'burger sauce', 'brownies', 'pancakes', '', '', '', '',\n        '', '', '', '', '', '', '', '', '', '', '', ''], dtype=object),\n array(['butter', 'pancakes', 'whole wheat rice', 'green tea',\n        'french fries', 'cookies', 'shallot', 'low fat yogurt', '', '', '',\n        '', '', '', '', '', '', '', '', ''], dtype=object),\n array(['shrimp', 'chocolate', 'butter', 'cooking oil', 'escalope', '', '',\n        '', '', '', '', '', '', '', '', '', '', '', '', ''], dtype=object),\n array(['burgers', 'red wine', 'frozen vegetables', 'pepper', 'spaghetti',\n        'chocolate', 'milk', 'honey', 'whole wheat rice', 'cooking oil',\n        'cereals', '', '', '', '', '', '', '', '', ''], dtype=object),\n array(['turkey', 'ground beef', 'spaghetti', 'pancakes', 'eggs', 'cake',\n        'chili', 'pet food', 'chocolate', '', '', '', '', '', '', '', '',\n        '', '', ''], dtype=object),\n array(['shrimp', 'milk', 'butter', 'chicken', 'salt', 'mayonnaise',\n        'green tea', '', '', '', '', '', '', '', '', '', '', '', '', ''],\n       dtype=object),\n array(['fresh tuna', 'mineral water', 'fromage blanc', 'honey', 'gums',\n        'chocolate', 'french fries', 'frozen smoothie', 'sparkling water',\n        'strawberries', 'green tea', '', '', '', '', '', '', '', '', ''],\n       dtype=object),\n array(['chocolate', 'cookies', '', '', '', '', '', '', '', '', '', '', '',\n        '', '', '', '', '', '', ''], dtype=object),\n array(['sparkling water', 'light mayo', '', '', '', '', '', '', '', '',\n        '', '', '', '', '', '', '', '', '', ''], dtype=object),\n array(['frozen vegetables', 'tomatoes', 'spaghetti', 'chicken',\n        'french fries', 'escalope', '', '', '', '', '', '', '', '', '', '',\n        '', '', '', ''], dtype=object),\n array(['turkey', 'burgers', 'butter', 'vegetables mix', 'green grapes',\n        'pancakes', 'eggs', 'cake', 'barbecue sauce', 'green tea', '', '',\n        '', '', '', '', '', '', '', ''], dtype=object),\n array(['red wine', 'shrimp', 'yams', 'eggs', 'burger sauce',\n        'yogurt cake', '', '', '', '', '', '', '', '', '', '', '', '', '',\n        ''], dtype=object),\n array(['french fries', 'light mayo', '', '', '', '', '', '', '', '', '',\n        '', '', '', '', '', '', '', '', ''], dtype=object),\n array(['burgers', 'ground beef', 'eggs', 'chocolate', 'champagne',\n        'zucchini', '', '', '', '', '', '', '', '', '', '', '', '', '', ''],\n       dtype=object),\n array(['mushroom cream sauce', '', '', '', '', '', '', '', '', '', '', '',\n        '', '', '', '', '', '', '', ''], dtype=object),\n array(['butter', 'mint green tea', '', '', '', '', '', '', '', '', '', '',\n        '', '', '', '', '', '', '', ''], dtype=object),\n array(['whole wheat rice', '', '', '', '', '', '', '', '', '', '', '', '',\n        '', '', '', '', '', '', ''], dtype=object),\n array(['gums', '', '', '', '', '', '', '', '', '', '', '', '', '', '', '',\n        '', '', '', ''], dtype=object),\n array(['mineral water', 'french fries', 'champagne', 'green tea', '', '',\n        '', '', '', '', '', '', '', '', '', '', '', '', '', ''],\n       dtype=object),\n array(['cereals', 'salt', 'green tea', '', '', '', '', '', '', '', '', '',\n        '', '', '', '', '', '', '', ''], dtype=object),\n array(['shrimp', 'spaghetti', 'chocolate', 'french fries', 'escalope',\n        'cookies', 'brownies', 'pancakes', 'melons', '', '', '', '', '',\n        '', '', '', '', '', ''], dtype=object),\n array(['ham', 'spaghetti', 'yams', 'chicken', 'cooking oil', 'chocolate',\n        'hot dogs', '', '', '', '', '', '', '', '', '', '', '', '', ''],\n       dtype=object),\n array(['eggs', '', '', '', '', '', '', '', '', '', '', '', '', '', '', '',\n        '', '', '', ''], dtype=object),\n array(['ground beef', 'olive oil', 'bug spray', 'frozen smoothie',\n        'hot dogs', '', '', '', '', '', '', '', '', '', '', '', '', '', '',\n        ''], dtype=object),\n array(['frozen vegetables', 'spaghetti', 'mineral water', 'soup',\n        'olive oil', 'escalope', '', '', '', '', '', '', '', '', '', '',\n        '', '', '', ''], dtype=object),\n array(['whole wheat rice', 'oil', 'chicken', 'french fries', 'escalope',\n        '', '', '', '', '', '', '', '', '', '', '', '', '', '', ''],\n       dtype=object),\n array(['green tea', '', '', '', '', '', '', '', '', '', '', '', '', '',\n        '', '', '', '', '', ''], dtype=object),\n array(['parmesan cheese', 'whole wheat rice', 'escalope', 'champagne', '',\n        '', '', '', '', '', '', '', '', '', '', '', '', '', '', ''],\n       dtype=object),\n array(['fresh tuna', 'frozen vegetables', 'chicken', 'fromage blanc',\n        'honey', 'light mayo', '', '', '', '', '', '', '', '', '', '', '',\n        '', '', ''], dtype=object),\n array(['ground beef', '', '', '', '', '', '', '', '', '', '', '', '', '',\n        '', '', '', '', '', ''], dtype=object),\n array(['muffins', 'champagne', 'cookies', 'fresh bread', 'green tea', '',\n        '', '', '', '', '', '', '', '', '', '', '', '', '', ''],\n       dtype=object),\n array(['frozen vegetables', 'spaghetti', 'chocolate', 'escalope',\n        'fresh bread', '', '', '', '', '', '', '', '', '', '', '', '', '',\n        '', ''], dtype=object),\n array(['pickles', 'spaghetti', 'french fries', 'frozen smoothie', '', '',\n        '', '', '', '', '', '', '', '', '', '', '', '', '', ''],\n       dtype=object),\n array(['avocado', '', '', '', '', '', '', '', '', '', '', '', '', '', '',\n        '', '', '', '', ''], dtype=object),\n array(['sandwich', '', '', '', '', '', '', '', '', '', '', '', '', '', '',\n        '', '', '', '', ''], dtype=object),\n array(['spaghetti', 'milk', 'oil', 'shampoo', '', '', '', '', '', '', '',\n        '', '', '', '', '', '', '', '', ''], dtype=object),\n array(['champagne', '', '', '', '', '', '', '', '', '', '', '', '', '',\n        '', '', '', '', '', ''], dtype=object),\n array(['spaghetti', '', '', '', '', '', '', '', '', '', '', '', '', '',\n        '', '', '', '', '', ''], dtype=object),\n array(['champagne', '', '', '', '', '', '', '', '', '', '', '', '', '',\n        '', '', '', '', '', ''], dtype=object),\n array(['avocado', 'milk', 'butter', 'french fries', 'cookies', '', '', '',\n        '', '', '', '', '', '', '', '', '', '', '', ''], dtype=object),\n array(['turkey', 'frozen vegetables', 'chicken', 'eggs',\n        'frozen smoothie', 'cauliflower', 'low fat yogurt', '', '', '', '',\n        '', '', '', '', '', '', '', '', ''], dtype=object),\n array(['burgers', 'shrimp', 'tomatoes', 'milk', 'energy bar', 'almonds',\n        'chicken', 'chocolate', 'french fries', 'body spray', '', '', '',\n        '', '', '', '', '', '', ''], dtype=object),\n array(['burgers', 'milk', 'cake', 'cooking oil', 'french fries',\n        'escalope', 'zucchini', '', '', '', '', '', '', '', '', '', '', '',\n        '', ''], dtype=object),\n array(['tomatoes', 'spaghetti', 'chocolate', 'milk', 'olive oil',\n        'whole wheat rice', 'cake', 'frozen smoothie', 'protein bar', '',\n        '', '', '', '', '', '', '', '', '', ''], dtype=object),\n array(['fresh tuna', 'red wine', 'pepper', 'spaghetti', 'fromage blanc',\n        'salmon', 'pancakes', 'eggs', 'honey', 'green tea', '', '', '', '',\n        '', '', '', '', '', ''], dtype=object),\n array(['milk', 'low fat yogurt', '', '', '', '', '', '', '', '', '', '',\n        '', '', '', '', '', '', '', ''], dtype=object),\n array(['shrimp', 'parmesan cheese', 'soup', 'chocolate', 'brownies', '',\n        '', '', '', '', '', '', '', '', '', '', '', '', '', ''],\n       dtype=object),\n array(['spaghetti', 'chicken', '', '', '', '', '', '', '', '', '', '', '',\n        '', '', '', '', '', '', ''], dtype=object),\n array(['grated cheese', 'vegetables mix', 'nonfat milk', 'green tea', '',\n        '', '', '', '', '', '', '', '', '', '', '', '', '', '', ''],\n       dtype=object),\n array(['fresh tuna', 'parmesan cheese', 'cider', 'muffins', 'spinach',\n        'honey', 'oil', '', '', '', '', '', '', '', '', '', '', '', '', ''],\n       dtype=object),\n array(['cake', '', '', '', '', '', '', '', '', '', '', '', '', '', '', '',\n        '', '', '', ''], dtype=object),\n array(['shrimp', 'chocolate', 'mushroom cream sauce', 'candy bars', '',\n        '', '', '', '', '', '', '', '', '', '', '', '', '', '', ''],\n       dtype=object),\n array(['candy bars', '', '', '', '', '', '', '', '', '', '', '', '', '',\n        '', '', '', '', '', ''], dtype=object),\n array(['avocado', 'honey', '', '', '', '', '', '', '', '', '', '', '', '',\n        '', '', '', '', '', ''], dtype=object),\n array(['shrimp', 'frozen vegetables', 'tomatoes', 'cottage cheese', '',\n        '', '', '', '', '', '', '', '', '', '', '', '', '', '', ''],\n       dtype=object),\n array(['french fries', '', '', '', '', '', '', '', '', '', '', '', '', '',\n        '', '', '', '', '', ''], dtype=object),\n array(['strawberries', '', '', '', '', '', '', '', '', '', '', '', '', '',\n        '', '', '', '', '', ''], dtype=object),\n array(['ground beef', 'almonds', 'french fries', 'escalope', '', '', '',\n        '', '', '', '', '', '', '', '', '', '', '', '', ''], dtype=object),\n array(['grated cheese', 'spaghetti', '', '', '', '', '', '', '', '', '',\n        '', '', '', '', '', '', '', '', ''], dtype=object),\n array(['turkey', 'mineral water', 'butter', 'frozen smoothie', '', '', '',\n        '', '', '', '', '', '', '', '', '', '', '', '', ''], dtype=object),\n array(['frozen vegetables', 'spaghetti', 'french fries', 'light mayo',\n        'green tea', '', '', '', '', '', '', '', '', '', '', '', '', '',\n        '', ''], dtype=object),\n array(['burgers', 'ham', 'spaghetti', 'whole wheat rice', 'eggplant',\n        'chocolate', 'cookies', 'shallot', 'green tea', '', '', '', '', '',\n        '', '', '', '', '', ''], dtype=object),\n array(['grated cheese', 'frozen vegetables', 'spaghetti', 'avocado',\n        'milk', 'blueberries', 'light cream', 'rice', 'green tea',\n        'chocolate', 'french fries', 'frozen smoothie', 'cookies',\n        'hot dogs', '', '', '', '', '', ''], dtype=object),\n array(['burgers', 'shrimp', 'tomatoes', 'bacon', 'whole wheat rice',\n        'green tea', '', '', '', '', '', '', '', '', '', '', '', '', '',\n        ''], dtype=object),\n array(['parmesan cheese', 'pancakes', '', '', '', '', '', '', '', '', '',\n        '', '', '', '', '', '', '', '', ''], dtype=object),\n array(['parmesan cheese', 'cake', 'hot dogs', 'green tea', '', '', '', '',\n        '', '', '', '', '', '', '', '', '', '', '', ''], dtype=object),\n array(['spaghetti', 'milk', 'fromage blanc', 'ketchup', 'chocolate',\n        'babies food', '', '', '', '', '', '', '', '', '', '', '', '', '',\n        ''], dtype=object),\n array(['mint', '', '', '', '', '', '', '', '', '', '', '', '', '', '', '',\n        '', '', '', ''], dtype=object),\n array(['chocolate', 'mint', '', '', '', '', '', '', '', '', '', '', '',\n        '', '', '', '', '', '', ''], dtype=object),\n array(['butter', 'french fries', 'salt', 'fresh bread', '', '', '', '',\n        '', '', '', '', '', '', '', '', '', '', '', ''], dtype=object),\n array(['chocolate', 'french fries', 'strawberries', 'yogurt cake',\n        'light mayo', '', '', '', '', '', '', '', '', '', '', '', '', '',\n        '', ''], dtype=object),\n array(['eggs', 'eggplant', 'cookies', '', '', '', '', '', '', '', '', '',\n        '', '', '', '', '', '', '', ''], dtype=object),\n array(['yogurt cake', '', '', '', '', '', '', '', '', '', '', '', '', '',\n        '', '', '', '', '', ''], dtype=object),\n array(['herb & pepper', 'spaghetti', 'meatballs', 'milk', 'olive oil',\n        'chicken', 'honey', 'frozen smoothie', 'escalope', 'pancakes', '',\n        '', '', '', '', '', '', '', '', ''], dtype=object),\n array(['frozen vegetables', 'rice', 'chocolate', '', '', '', '', '', '',\n        '', '', '', '', '', '', '', '', '', '', ''], dtype=object),\n array(['herb & pepper', 'ground beef', 'spaghetti', 'chocolate', 'milk',\n        'eggs', 'light cream', '', '', '', '', '', '', '', '', '', '', '',\n        '', ''], dtype=object),\n array(['eggs', 'champagne', '', '', '', '', '', '', '', '', '', '', '',\n        '', '', '', '', '', '', ''], dtype=object),\n array(['whole wheat pasta', 'ground beef', 'olive oil', 'blueberries',\n        'escalope', '', '', '', '', '', '', '', '', '', '', '', '', '', '',\n        ''], dtype=object),\n array(['burgers', 'red wine', 'mineral water', 'eggs', 'oil', 'carrots',\n        'hand protein bar', 'tomato juice', '', '', '', '', '', '', '', '',\n        '', '', '', ''], dtype=object),\n array(['chocolate', 'grated cheese', 'herb & pepper', 'mineral water',\n        'soup', 'olive oil', '', '', '', '', '', '', '', '', '', '', '',\n        '', '', ''], dtype=object),\n array(['burgers', 'shrimp', 'mineral water', 'chicken', 'fromage blanc',\n        'salmon', 'eggs', 'cake', 'frozen smoothie', 'strawberries', '',\n        '', '', '', '', '', '', '', '', ''], dtype=object),\n array(['green tea', '', '', '', '', '', '', '', '', '', '', '', '', '',\n        '', '', '', '', '', ''], dtype=object),\n array(['cookies', '', '', '', '', '', '', '', '', '', '', '', '', '', '',\n        '', '', '', '', ''], dtype=object),\n array(['french fries', 'cookies', '', '', '', '', '', '', '', '', '', '',\n        '', '', '', '', '', '', '', ''], dtype=object),\n array(['milk', 'butter', 'eggs', '', '', '', '', '', '', '', '', '', '',\n        '', '', '', '', '', '', ''], dtype=object),\n array(['eggs', 'mushroom cream sauce', 'low fat yogurt', '', '', '', '',\n        '', '', '', '', '', '', '', '', '', '', '', '', ''], dtype=object),\n array(['eggs', 'green tea', '', '', '', '', '', '', '', '', '', '', '',\n        '', '', '', '', '', '', ''], dtype=object),\n array(['mineral water', 'whole wheat rice', '', '', '', '', '', '', '',\n        '', '', '', '', '', '', '', '', '', '', ''], dtype=object),\n array(['shrimp', 'frozen vegetables', 'parmesan cheese', 'mineral water',\n        'whole wheat rice', 'cake', '', '', '', '', '', '', '', '', '', '',\n        '', '', '', ''], dtype=object),\n array(['whole wheat rice', 'pancakes', '', '', '', '', '', '', '', '', '',\n        '', '', '', '', '', '', '', '', ''], dtype=object),\n array(['frozen vegetables', 'spaghetti', 'olive oil', 'butter', 'salmon',\n        'oil', 'cooking oil', 'frozen smoothie', 'cauliflower', '', '', '',\n        '', '', '', '', '', '', '', ''], dtype=object),\n array(['green tea', '', '', '', '', '', '', '', '', '', '', '', '', '',\n        '', '', '', '', '', ''], dtype=object),\n array(['fresh tuna', 'eggs', 'escalope', 'strawberries', '', '', '', '',\n        '', '', '', '', '', '', '', '', '', '', '', ''], dtype=object),\n array(['spaghetti', 'soup', 'milk', 'carrots', 'chocolate', '', '', '',\n        '', '', '', '', '', '', '', '', '', '', '', ''], dtype=object),\n array(['burgers', 'mineral water', 'soup', 'meatballs', 'olive oil', '',\n        '', '', '', '', '', '', '', '', '', '', '', '', '', ''],\n       dtype=object),\n array(['grated cheese', 'mineral water', 'cooking oil', 'french fries',\n        'cookies', 'low fat yogurt', '', '', '', '', '', '', '', '', '',\n        '', '', '', '', ''], dtype=object),\n array(['shrimp', 'milk', 'olive oil', 'french fries', '', '', '', '', '',\n        '', '', '', '', '', '', '', '', '', '', ''], dtype=object),\n array(['frozen vegetables', 'mineral water', 'pancakes', 'cake',\n        'tomato juice', '', '', '', '', '', '', '', '', '', '', '', '', '',\n        '', ''], dtype=object),\n array(['spaghetti', 'milk', 'chicken', '', '', '', '', '', '', '', '', '',\n        '', '', '', '', '', '', '', ''], dtype=object),\n array(['grated cheese', 'mineral water', 'chicken', 'french fries',\n        'cottage cheese', 'pancakes', '', '', '', '', '', '', '', '', '',\n        '', '', '', '', ''], dtype=object),\n array(['ground beef', 'mineral water', 'milk', 'eggs', 'mint', '', '', '',\n        '', '', '', '', '', '', '', '', '', '', '', ''], dtype=object),\n array(['shrimp', 'body spray', 'green tea', '', '', '', '', '', '', '',\n        '', '', '', '', '', '', '', '', '', ''], dtype=object),\n array(['frozen smoothie', '', '', '', '', '', '', '', '', '', '', '', '',\n        '', '', '', '', '', '', ''], dtype=object),\n array(['herb & pepper', 'frozen vegetables', 'mineral water', 'muffins',\n        'cereals', '', '', '', '', '', '', '', '', '', '', '', '', '', '',\n        ''], dtype=object),\n array(['turkey', 'tomatoes', 'spaghetti', 'milk', 'cider', 'eggs',\n        'honey', 'cake', 'green tea', 'french fries', 'brownies',\n        'tomato juice', '', '', '', '', '', '', '', ''], dtype=object),\n ...]"
     },
     "execution_count": 11,
     "metadata": {},
     "output_type": "execute_result"
    }
   ],
   "source": [
    "# Resposta da 1\n",
    "df = df.fillna('') # Substitui os valores nulos por uma string vazia\n",
    "#df = df.replace(to_replace =\" asparagus\", value =\"asparagus\") # Corrige um erro de digitação\n",
    "transactions_array = []\n",
    "for i in range(len(df)):\n",
    "    transactions_array.append(df.iloc[i].values)\n",
    "transactions_array"
   ]
  },
  {
   "cell_type": "code",
   "execution_count": 12,
   "outputs": [
    {
     "data": {
      "text/plain": "array([[False, False,  True, ...,  True, False, False],\n       [ True, False, False, ..., False, False, False],\n       [ True, False, False, ..., False, False, False],\n       ...,\n       [ True, False, False, ..., False, False, False],\n       [ True, False, False, ..., False, False, False],\n       [ True, False, False, ..., False,  True, False]])"
     },
     "execution_count": 12,
     "metadata": {},
     "output_type": "execute_result"
    }
   ],
   "source": [
    "transactions_oht = TransactionEncoder()\n",
    "transactions = transactions_oht.fit(transactions_array).transform(transactions_array)\n",
    "transactions"
   ],
   "metadata": {
    "collapsed": false,
    "ExecuteTime": {
     "end_time": "2023-05-25T22:57:07.262458700Z",
     "start_time": "2023-05-25T22:57:07.168937900Z"
    }
   }
  },
  {
   "cell_type": "code",
   "execution_count": 13,
   "outputs": [
    {
     "data": {
      "text/plain": "<IPython.core.display.Javascript object>",
      "application/javascript": "parent.postMessage({\"jupyterEvent\": \"custom.exercise_interaction\", \"data\": {\"outcomeType\": 1, \"valueTowardsCompletion\": 1.0, \"interactionType\": 1, \"questionType\": 2, \"questionId\": \"1_Q1\", \"learnToolsVersion\": \"1.0.13\", \"failureMessage\": \"\", \"exceptionClass\": \"\", \"trace\": \"\"}}, \"*\")"
     },
     "metadata": {},
     "output_type": "display_data"
    },
    {
     "data": {
      "text/plain": "CORRETO: \n",
      "text/markdown": "<span style=\"color:#33cc33\">CORRETO:</span> \n\n"
     },
     "metadata": {},
     "output_type": "display_data"
    }
   ],
   "source": [
    "df = pd.DataFrame(transactions, columns=transactions_oht.columns_)\n",
    "df = df.drop('', axis=1) #Exclusão da coluna vazia\n",
    "df\n",
    "\n",
    "q1.check()"
   ],
   "metadata": {
    "collapsed": false,
    "ExecuteTime": {
     "end_time": "2023-05-25T22:57:08.508028700Z",
     "start_time": "2023-05-25T22:57:07.245941900Z"
    }
   }
  },
  {
   "cell_type": "markdown",
   "metadata": {
    "id": "ZLGr3Q8bvjIo"
   },
   "source": [
    "## 2. Faça o cálculo dos itemsets frequentes e regras de associação.\n",
    "Utilize o algoritmo _apriori_."
   ]
  },
  {
   "cell_type": "markdown",
   "metadata": {
    "id": "YAljdFgEvjIp"
   },
   "source": [
    "### 2.a. A partir de `df`, calcule os itemsets frequentes utilizando `apriori`. \n",
    "\n",
    "Utilize o suporte mínimo de 0.01. Utilize o paramêtro `use_colnames=True`.\n",
    "\n",
    "Armazene-a na variável `frequent_itemsets`.\n",
    "\n",
    "Chame a função `q3.a.check()` no fim da célula para verificar a resposta.\n",
    "Você pode pedir dicas com `q3.a.hint()`"
   ]
  },
  {
   "cell_type": "code",
   "execution_count": 14,
   "metadata": {
    "id": "DY8FCtuFvjIp",
    "colab": {
     "base_uri": "https://localhost:8080/",
     "height": 64
    },
    "outputId": "ccbf6f2d-a3ab-4c74-f824-66d9113850be",
    "ExecuteTime": {
     "end_time": "2023-05-25T22:57:09.921622200Z",
     "start_time": "2023-05-25T22:57:08.510760700Z"
    }
   },
   "outputs": [
    {
     "data": {
      "text/plain": "<IPython.core.display.Javascript object>",
      "application/javascript": "parent.postMessage({\"jupyterEvent\": \"custom.exercise_interaction\", \"data\": {\"outcomeType\": 1, \"valueTowardsCompletion\": 1.0, \"interactionType\": 1, \"questionType\": 2, \"questionId\": \"2.1_Q2A\", \"learnToolsVersion\": \"1.0.13\", \"failureMessage\": \"\", \"exceptionClass\": \"\", \"trace\": \"\"}}, \"*\")"
     },
     "metadata": {},
     "output_type": "display_data"
    },
    {
     "data": {
      "text/plain": "CORRETO: \n",
      "text/markdown": "<span style=\"color:#33cc33\">CORRETO:</span> \n\n"
     },
     "metadata": {},
     "output_type": "display_data"
    },
    {
     "data": {
      "text/plain": "      support                                 itemsets\n0    0.020397                                (almonds)\n1    0.033329                                (avocado)\n2    0.010799                         (barbecue sauce)\n3    0.014265                              (black tea)\n4    0.011465                             (body spray)\n..        ...                                      ...\n252  0.011065       (mineral water, ground beef, milk)\n253  0.017064  (mineral water, ground beef, spaghetti)\n254  0.015731         (mineral water, spaghetti, milk)\n255  0.010265    (mineral water, olive oil, spaghetti)\n256  0.011465     (mineral water, pancakes, spaghetti)\n\n[257 rows x 2 columns]",
      "text/html": "<div>\n<style scoped>\n    .dataframe tbody tr th:only-of-type {\n        vertical-align: middle;\n    }\n\n    .dataframe tbody tr th {\n        vertical-align: top;\n    }\n\n    .dataframe thead th {\n        text-align: right;\n    }\n</style>\n<table border=\"1\" class=\"dataframe\">\n  <thead>\n    <tr style=\"text-align: right;\">\n      <th></th>\n      <th>support</th>\n      <th>itemsets</th>\n    </tr>\n  </thead>\n  <tbody>\n    <tr>\n      <th>0</th>\n      <td>0.020397</td>\n      <td>(almonds)</td>\n    </tr>\n    <tr>\n      <th>1</th>\n      <td>0.033329</td>\n      <td>(avocado)</td>\n    </tr>\n    <tr>\n      <th>2</th>\n      <td>0.010799</td>\n      <td>(barbecue sauce)</td>\n    </tr>\n    <tr>\n      <th>3</th>\n      <td>0.014265</td>\n      <td>(black tea)</td>\n    </tr>\n    <tr>\n      <th>4</th>\n      <td>0.011465</td>\n      <td>(body spray)</td>\n    </tr>\n    <tr>\n      <th>...</th>\n      <td>...</td>\n      <td>...</td>\n    </tr>\n    <tr>\n      <th>252</th>\n      <td>0.011065</td>\n      <td>(mineral water, ground beef, milk)</td>\n    </tr>\n    <tr>\n      <th>253</th>\n      <td>0.017064</td>\n      <td>(mineral water, ground beef, spaghetti)</td>\n    </tr>\n    <tr>\n      <th>254</th>\n      <td>0.015731</td>\n      <td>(mineral water, spaghetti, milk)</td>\n    </tr>\n    <tr>\n      <th>255</th>\n      <td>0.010265</td>\n      <td>(mineral water, olive oil, spaghetti)</td>\n    </tr>\n    <tr>\n      <th>256</th>\n      <td>0.011465</td>\n      <td>(mineral water, pancakes, spaghetti)</td>\n    </tr>\n  </tbody>\n</table>\n<p>257 rows × 2 columns</p>\n</div>"
     },
     "execution_count": 14,
     "metadata": {},
     "output_type": "execute_result"
    }
   ],
   "source": [
    "# Resposta da 2.a\n",
    "\n",
    "# q2.a.hint()\n",
    "\n",
    "frequent_itemsets = apriori(df, min_support=0.01, use_colnames=True)\n",
    "q2.a.check()\n",
    "frequent_itemsets\n"
   ]
  },
  {
   "cell_type": "markdown",
   "metadata": {
    "id": "p2AjRP3CvjIq"
   },
   "source": [
    "### 2.b. A partir de `frequent_itemsets`, calcule as regras de associação. \n",
    "\n",
    "Utilize filtro de confiança de `0.3`.\n",
    "\n",
    "Armazene-a na variável `rules`.\n",
    "\n",
    "Chame a função `q2.b.check()` no fim da célula para verificar a resposta.\n",
    "Você pode pedir dicas com `q2.b.hint()`"
   ]
  },
  {
   "cell_type": "code",
   "execution_count": 15,
   "metadata": {
    "id": "xHq10SjbvjIq",
    "colab": {
     "base_uri": "https://localhost:8080/",
     "height": 46
    },
    "outputId": "36496f57-726b-4fb9-d37e-a4e3f6965822",
    "ExecuteTime": {
     "end_time": "2023-05-25T22:57:11.102697200Z",
     "start_time": "2023-05-25T22:57:09.921622200Z"
    }
   },
   "outputs": [
    {
     "data": {
      "text/plain": "<IPython.core.display.Javascript object>",
      "application/javascript": "parent.postMessage({\"jupyterEvent\": \"custom.exercise_interaction\", \"data\": {\"outcomeType\": 1, \"valueTowardsCompletion\": 1.0, \"interactionType\": 1, \"questionType\": 2, \"questionId\": \"2.2_Q2B\", \"learnToolsVersion\": \"1.0.13\", \"failureMessage\": \"\", \"exceptionClass\": \"\", \"trace\": \"\"}}, \"*\")"
     },
     "metadata": {},
     "output_type": "display_data"
    },
    {
     "data": {
      "text/plain": "CORRETO: \n",
      "text/markdown": "<span style=\"color:#33cc33\">CORRETO:</span> \n\n"
     },
     "metadata": {},
     "output_type": "display_data"
    },
    {
     "data": {
      "text/plain": "                   antecedents      consequents  antecedent support  \\\n0                    (avocado)  (mineral water)            0.033329   \n1                    (burgers)           (eggs)            0.087188   \n2                       (cake)  (mineral water)            0.081056   \n3                    (cereals)  (mineral water)            0.025730   \n4                    (chicken)  (mineral water)            0.059992   \n..                         ...              ...                 ...   \n58           (milk, spaghetti)  (mineral water)            0.035462   \n59  (mineral water, olive oil)      (spaghetti)            0.027596   \n60      (olive oil, spaghetti)  (mineral water)            0.022930   \n61   (mineral water, pancakes)      (spaghetti)            0.033729   \n62       (pancakes, spaghetti)  (mineral water)            0.025197   \n\n    consequent support   support  confidence      lift  leverage  conviction  \\\n0             0.238368  0.011598    0.348000  1.459926  0.003654    1.168147   \n1             0.179709  0.028796    0.330275  1.837830  0.013128    1.224818   \n2             0.238368  0.027463    0.338816  1.421397  0.008142    1.151921   \n3             0.238368  0.010265    0.398964  1.673729  0.004132    1.267198   \n4             0.238368  0.022797    0.380000  1.594172  0.008497    1.228438   \n..                 ...       ...         ...       ...       ...         ...   \n58            0.238368  0.015731    0.443609  1.861024  0.007278    1.368879   \n59            0.174110  0.010265    0.371981  2.136468  0.005460    1.315071   \n60            0.238368  0.010265    0.447674  1.878079  0.004799    1.378954   \n61            0.174110  0.011465    0.339921  1.952333  0.005593    1.251198   \n62            0.238368  0.011465    0.455026  1.908923  0.005459    1.397557   \n\n    zhangs_metric  \n0        0.325896  \n1        0.499424  \n2        0.322617  \n3        0.413162  \n4        0.396502  \n..            ...  \n58       0.479672  \n59       0.547034  \n60       0.478514  \n61       0.504819  \n62       0.488452  \n\n[63 rows x 10 columns]",
      "text/html": "<div>\n<style scoped>\n    .dataframe tbody tr th:only-of-type {\n        vertical-align: middle;\n    }\n\n    .dataframe tbody tr th {\n        vertical-align: top;\n    }\n\n    .dataframe thead th {\n        text-align: right;\n    }\n</style>\n<table border=\"1\" class=\"dataframe\">\n  <thead>\n    <tr style=\"text-align: right;\">\n      <th></th>\n      <th>antecedents</th>\n      <th>consequents</th>\n      <th>antecedent support</th>\n      <th>consequent support</th>\n      <th>support</th>\n      <th>confidence</th>\n      <th>lift</th>\n      <th>leverage</th>\n      <th>conviction</th>\n      <th>zhangs_metric</th>\n    </tr>\n  </thead>\n  <tbody>\n    <tr>\n      <th>0</th>\n      <td>(avocado)</td>\n      <td>(mineral water)</td>\n      <td>0.033329</td>\n      <td>0.238368</td>\n      <td>0.011598</td>\n      <td>0.348000</td>\n      <td>1.459926</td>\n      <td>0.003654</td>\n      <td>1.168147</td>\n      <td>0.325896</td>\n    </tr>\n    <tr>\n      <th>1</th>\n      <td>(burgers)</td>\n      <td>(eggs)</td>\n      <td>0.087188</td>\n      <td>0.179709</td>\n      <td>0.028796</td>\n      <td>0.330275</td>\n      <td>1.837830</td>\n      <td>0.013128</td>\n      <td>1.224818</td>\n      <td>0.499424</td>\n    </tr>\n    <tr>\n      <th>2</th>\n      <td>(cake)</td>\n      <td>(mineral water)</td>\n      <td>0.081056</td>\n      <td>0.238368</td>\n      <td>0.027463</td>\n      <td>0.338816</td>\n      <td>1.421397</td>\n      <td>0.008142</td>\n      <td>1.151921</td>\n      <td>0.322617</td>\n    </tr>\n    <tr>\n      <th>3</th>\n      <td>(cereals)</td>\n      <td>(mineral water)</td>\n      <td>0.025730</td>\n      <td>0.238368</td>\n      <td>0.010265</td>\n      <td>0.398964</td>\n      <td>1.673729</td>\n      <td>0.004132</td>\n      <td>1.267198</td>\n      <td>0.413162</td>\n    </tr>\n    <tr>\n      <th>4</th>\n      <td>(chicken)</td>\n      <td>(mineral water)</td>\n      <td>0.059992</td>\n      <td>0.238368</td>\n      <td>0.022797</td>\n      <td>0.380000</td>\n      <td>1.594172</td>\n      <td>0.008497</td>\n      <td>1.228438</td>\n      <td>0.396502</td>\n    </tr>\n    <tr>\n      <th>...</th>\n      <td>...</td>\n      <td>...</td>\n      <td>...</td>\n      <td>...</td>\n      <td>...</td>\n      <td>...</td>\n      <td>...</td>\n      <td>...</td>\n      <td>...</td>\n      <td>...</td>\n    </tr>\n    <tr>\n      <th>58</th>\n      <td>(milk, spaghetti)</td>\n      <td>(mineral water)</td>\n      <td>0.035462</td>\n      <td>0.238368</td>\n      <td>0.015731</td>\n      <td>0.443609</td>\n      <td>1.861024</td>\n      <td>0.007278</td>\n      <td>1.368879</td>\n      <td>0.479672</td>\n    </tr>\n    <tr>\n      <th>59</th>\n      <td>(mineral water, olive oil)</td>\n      <td>(spaghetti)</td>\n      <td>0.027596</td>\n      <td>0.174110</td>\n      <td>0.010265</td>\n      <td>0.371981</td>\n      <td>2.136468</td>\n      <td>0.005460</td>\n      <td>1.315071</td>\n      <td>0.547034</td>\n    </tr>\n    <tr>\n      <th>60</th>\n      <td>(olive oil, spaghetti)</td>\n      <td>(mineral water)</td>\n      <td>0.022930</td>\n      <td>0.238368</td>\n      <td>0.010265</td>\n      <td>0.447674</td>\n      <td>1.878079</td>\n      <td>0.004799</td>\n      <td>1.378954</td>\n      <td>0.478514</td>\n    </tr>\n    <tr>\n      <th>61</th>\n      <td>(mineral water, pancakes)</td>\n      <td>(spaghetti)</td>\n      <td>0.033729</td>\n      <td>0.174110</td>\n      <td>0.011465</td>\n      <td>0.339921</td>\n      <td>1.952333</td>\n      <td>0.005593</td>\n      <td>1.251198</td>\n      <td>0.504819</td>\n    </tr>\n    <tr>\n      <th>62</th>\n      <td>(pancakes, spaghetti)</td>\n      <td>(mineral water)</td>\n      <td>0.025197</td>\n      <td>0.238368</td>\n      <td>0.011465</td>\n      <td>0.455026</td>\n      <td>1.908923</td>\n      <td>0.005459</td>\n      <td>1.397557</td>\n      <td>0.488452</td>\n    </tr>\n  </tbody>\n</table>\n<p>63 rows × 10 columns</p>\n</div>"
     },
     "execution_count": 15,
     "metadata": {},
     "output_type": "execute_result"
    }
   ],
   "source": [
    "# Resposta da 2.b\n",
    "\n",
    "# q2.b.hint()\n",
    "\n",
    "rules = association_rules(frequent_itemsets, metric='confidence', min_threshold=0.3)\n",
    "q2.b.check()\n",
    "rules"
   ]
  },
  {
   "cell_type": "markdown",
   "metadata": {
    "id": "Lno2HH_bvjIr"
   },
   "source": [
    "## 3. Analise as regras obtidas."
   ]
  },
  {
   "cell_type": "markdown",
   "metadata": {
    "id": "zILTKyyTvjIr"
   },
   "source": [
    "### 3.a. A partir de `rules`, recupere as regras com suporte maior ou igual a 0.015 e confiança maior ou igual a 0.4. \n",
    "\n",
    "Armazene-a na variável `rules_a`.\n",
    "\n",
    "Chame a função `q3.a.check()` no fim da célula para verificar a resposta.\n",
    "Você pode pedir dicas com `q3.a.hint()`"
   ]
  },
  {
   "cell_type": "code",
   "execution_count": 16,
   "metadata": {
    "id": "I_MUEg6hvjIr",
    "colab": {
     "base_uri": "https://localhost:8080/",
     "height": 46
    },
    "outputId": "f67610ea-c7a2-4d77-bcd6-6fe551d3883f",
    "ExecuteTime": {
     "end_time": "2023-05-25T22:57:12.257285100Z",
     "start_time": "2023-05-25T22:57:11.092602600Z"
    }
   },
   "outputs": [
    {
     "data": {
      "text/plain": "<IPython.core.display.Javascript object>",
      "application/javascript": "parent.postMessage({\"jupyterEvent\": \"custom.exercise_interaction\", \"data\": {\"outcomeType\": 1, \"valueTowardsCompletion\": 1.0, \"interactionType\": 1, \"questionType\": 2, \"questionId\": \"3.1_Q3A\", \"learnToolsVersion\": \"1.0.13\", \"failureMessage\": \"\", \"exceptionClass\": \"\", \"trace\": \"\"}}, \"*\")"
     },
     "metadata": {},
     "output_type": "display_data"
    },
    {
     "data": {
      "text/plain": "CORRETO: \n",
      "text/markdown": "<span style=\"color:#33cc33\">CORRETO:</span> \n\n"
     },
     "metadata": {},
     "output_type": "display_data"
    },
    {
     "data": {
      "text/plain": "                     antecedents      consequents  antecedent support  \\\n15                 (ground beef)  (mineral water)            0.098254   \n23                   (olive oil)  (mineral water)            0.065858   \n26                      (salmon)  (mineral water)            0.042528   \n28                        (soup)  (mineral water)            0.050527   \n44        (chocolate, spaghetti)  (mineral water)            0.039195   \n55  (mineral water, ground beef)      (spaghetti)            0.040928   \n56      (ground beef, spaghetti)  (mineral water)            0.039195   \n58             (milk, spaghetti)  (mineral water)            0.035462   \n\n    consequent support   support  confidence      lift  leverage  conviction  \\\n15            0.238368  0.040928    0.416554  1.747522  0.017507    1.305401   \n23            0.238368  0.027596    0.419028  1.757904  0.011898    1.310962   \n26            0.238368  0.017064    0.401254  1.683336  0.006927    1.272045   \n28            0.238368  0.023064    0.456464  1.914955  0.011020    1.401255   \n44            0.238368  0.015865    0.404762  1.698053  0.006522    1.279541   \n55            0.174110  0.017064    0.416938  2.394681  0.009938    1.416470   \n56            0.238368  0.017064    0.435374  1.826477  0.007722    1.348914   \n58            0.238368  0.015731    0.443609  1.861024  0.007278    1.368879   \n\n    zhangs_metric  \n15       0.474369  \n23       0.461536  \n26       0.423972  \n28       0.503221  \n44       0.427860  \n55       0.607262  \n56       0.470957  \n58       0.479672  ",
      "text/html": "<div>\n<style scoped>\n    .dataframe tbody tr th:only-of-type {\n        vertical-align: middle;\n    }\n\n    .dataframe tbody tr th {\n        vertical-align: top;\n    }\n\n    .dataframe thead th {\n        text-align: right;\n    }\n</style>\n<table border=\"1\" class=\"dataframe\">\n  <thead>\n    <tr style=\"text-align: right;\">\n      <th></th>\n      <th>antecedents</th>\n      <th>consequents</th>\n      <th>antecedent support</th>\n      <th>consequent support</th>\n      <th>support</th>\n      <th>confidence</th>\n      <th>lift</th>\n      <th>leverage</th>\n      <th>conviction</th>\n      <th>zhangs_metric</th>\n    </tr>\n  </thead>\n  <tbody>\n    <tr>\n      <th>15</th>\n      <td>(ground beef)</td>\n      <td>(mineral water)</td>\n      <td>0.098254</td>\n      <td>0.238368</td>\n      <td>0.040928</td>\n      <td>0.416554</td>\n      <td>1.747522</td>\n      <td>0.017507</td>\n      <td>1.305401</td>\n      <td>0.474369</td>\n    </tr>\n    <tr>\n      <th>23</th>\n      <td>(olive oil)</td>\n      <td>(mineral water)</td>\n      <td>0.065858</td>\n      <td>0.238368</td>\n      <td>0.027596</td>\n      <td>0.419028</td>\n      <td>1.757904</td>\n      <td>0.011898</td>\n      <td>1.310962</td>\n      <td>0.461536</td>\n    </tr>\n    <tr>\n      <th>26</th>\n      <td>(salmon)</td>\n      <td>(mineral water)</td>\n      <td>0.042528</td>\n      <td>0.238368</td>\n      <td>0.017064</td>\n      <td>0.401254</td>\n      <td>1.683336</td>\n      <td>0.006927</td>\n      <td>1.272045</td>\n      <td>0.423972</td>\n    </tr>\n    <tr>\n      <th>28</th>\n      <td>(soup)</td>\n      <td>(mineral water)</td>\n      <td>0.050527</td>\n      <td>0.238368</td>\n      <td>0.023064</td>\n      <td>0.456464</td>\n      <td>1.914955</td>\n      <td>0.011020</td>\n      <td>1.401255</td>\n      <td>0.503221</td>\n    </tr>\n    <tr>\n      <th>44</th>\n      <td>(chocolate, spaghetti)</td>\n      <td>(mineral water)</td>\n      <td>0.039195</td>\n      <td>0.238368</td>\n      <td>0.015865</td>\n      <td>0.404762</td>\n      <td>1.698053</td>\n      <td>0.006522</td>\n      <td>1.279541</td>\n      <td>0.427860</td>\n    </tr>\n    <tr>\n      <th>55</th>\n      <td>(mineral water, ground beef)</td>\n      <td>(spaghetti)</td>\n      <td>0.040928</td>\n      <td>0.174110</td>\n      <td>0.017064</td>\n      <td>0.416938</td>\n      <td>2.394681</td>\n      <td>0.009938</td>\n      <td>1.416470</td>\n      <td>0.607262</td>\n    </tr>\n    <tr>\n      <th>56</th>\n      <td>(ground beef, spaghetti)</td>\n      <td>(mineral water)</td>\n      <td>0.039195</td>\n      <td>0.238368</td>\n      <td>0.017064</td>\n      <td>0.435374</td>\n      <td>1.826477</td>\n      <td>0.007722</td>\n      <td>1.348914</td>\n      <td>0.470957</td>\n    </tr>\n    <tr>\n      <th>58</th>\n      <td>(milk, spaghetti)</td>\n      <td>(mineral water)</td>\n      <td>0.035462</td>\n      <td>0.238368</td>\n      <td>0.015731</td>\n      <td>0.443609</td>\n      <td>1.861024</td>\n      <td>0.007278</td>\n      <td>1.368879</td>\n      <td>0.479672</td>\n    </tr>\n  </tbody>\n</table>\n</div>"
     },
     "execution_count": 16,
     "metadata": {},
     "output_type": "execute_result"
    }
   ],
   "source": [
    "# Resposta da 3.a\n",
    "\n",
    "# q3.a.hint()\n",
    "\n",
    "rules_a = rules[(rules['support'] >= 0.015) & (rules['confidence'] >= 0.4)]\n",
    "\n",
    "q3.a.check()\n",
    "rules_a"
   ]
  },
  {
   "cell_type": "markdown",
   "metadata": {
    "id": "eElWoMOMvjIs"
   },
   "source": [
    "### 3.b. A partir de `rules`, recupere as regras com lift maior ou igual a 2 e confiança maior ou igual a 0.5. \n",
    "\n",
    "Armazene-a na variável `rules_b`.\n",
    "\n",
    "Chame a função `q3.b.check()` no fim da célula para verificar a resposta.\n",
    "Você pode pedir dicas com `q3.b.hint()`"
   ]
  },
  {
   "cell_type": "code",
   "execution_count": null,
   "metadata": {
    "id": "NfsIN4F0vjIs",
    "colab": {
     "base_uri": "https://localhost:8080/",
     "height": 347
    },
    "outputId": "53ba401e-368f-4384-970f-babc6b08b3c3",
    "is_executing": true,
    "ExecuteTime": {
     "start_time": "2023-05-25T22:57:12.257285100Z"
    }
   },
   "outputs": [],
   "source": [
    "# Resposta da 3.b\n",
    "\n",
    "# q3.b.hint()\n",
    "\n",
    "rules_b = rules[(rules['lift'] >= 2) & (rules['confidence'] >= 0.5)]\n",
    "\n",
    "q3.b.check()\n",
    "rules_b"
   ]
  },
  {
   "cell_type": "markdown",
   "metadata": {
    "id": "i-b4LXE9vjIt"
   },
   "source": [
    "### 3.c. Quais produtos você recomendaria colocar próximos se fosse organizar um supermercado físico?\n",
    "\n",
    "Justifique sua resposta com evidências plausíveis em uma resposta completa.\n",
    "\n",
    "Essa questão não possui check automático. Mas você pode pedir dica com `q3.c.hint()`. "
   ]
  },
  {
   "cell_type": "markdown",
   "metadata": {
    "id": "Nm9U5h3KvjIt"
   },
   "source": [
    "**RESPOSTA 3.c.:** {{ESCREVA AQUI}}"
   ]
  },
  {
   "cell_type": "markdown",
   "source": [
    "#### Os produtos que eu recomendaria colocar próximos são os que possuem maior lift, pois isso significa que eles são comprados juntos com mais frequência. Por exemplo, água mineral seria importante estar próxima de leite e beef, pois o lift entre eles é > que 2.0, o que significa que eles são comprados juntos com frequência. Aliás água mineral é um parametro bem interessante para se analisar, pois ela possui um lift alto com vários produtos, o que significa que ela é um produto que é comprado com frequência e que pode ser na entrada e saída do supermercado."
   ],
   "metadata": {
    "collapsed": false
   }
  },
  {
   "cell_type": "markdown",
   "metadata": {
    "id": "ZTNkV1yWvjIt"
   },
   "source": [
    "## 4. Outras questões\n",
    "Essa questão não possui correção automática."
   ]
  },
  {
   "cell_type": "markdown",
   "metadata": {
    "id": "GE82HfLHvjIv"
   },
   "source": [
    "### 4.a. Liste 5 cenários hipotéticos que você vê utilidade de se analisar regras de associação (pense em algum problema real, algum problema de pesquisa ou desenvolvimento que já atuou ou atua,...)"
   ]
  },
  {
   "cell_type": "markdown",
   "metadata": {
    "id": "jx0tOcmzvjIv"
   },
   "source": [
    "**RESPOSTA 4.a.:**\n",
    "\n",
    "1. Análise de comportamento do cliente: : Uma empresa de serviços financeiros está interessada em entender melhor o comportamento de seus clientes em relação aos produtos financeiros oferecidos.\n",
    "2. Análise de redes sociais: Em plataformas de redes sociais, a análise de regras de associação pode ser usada para identificar conexões e padrões entre os usuários.\n",
    "3. Sistemas de recomendação de filmes e músicas: Serviços de streaming podem utilizar a análise de regras de associação para identificar associações entre filmes, programas de TV, músicas ou artistas.\n",
    "4. Manutenção preditiva: Em ambientes industriais, a análise de regras de associação pode ser aplicada para identificar associações entre falhas de equipamentos\n",
    "5. Medicina e saúde: Em um estudo clínico, pesquisadores podem analisar regras de associação entre sintomas, histórico médico e resultados de testes para identificar padrões que possam indicar condições médicas específicas."
   ]
  },
  {
   "cell_type": "markdown",
   "source": [
    "### 4.b. Considerando os resultados das regras, faça uma análise da regra (pancakes, mineral water)-> (spaghetti) em termos das métricas de \"antecedent support\",\t\"consequent support\", \"support\",\t\"confidence\" e\t\"lift\". O objetivo é verificar se você entendeu os conceitos dessas métricas. Por exemplo, explique o que significa para essa regra um valor de \"antecedent support\" de 0.033729. Faça isso para todas as métricas."
   ],
   "metadata": {
    "id": "KVNXMcv8CsN_"
   }
  },
  {
   "cell_type": "code",
   "execution_count": null,
   "outputs": [],
   "source": [
    "#RESPOSTA 4.b.:\n",
    "\n",
    "rules_PMS = rules[(rules['antecedents'] == {'pancakes', 'mineral water'}) & (rules['consequents'] == {'spaghetti'})]\n",
    "rules_PMS"
   ],
   "metadata": {
    "collapsed": false,
    "is_executing": true
   }
  },
  {
   "cell_type": "markdown",
   "source": [
    "### RESPOSTA 4.b.:\n",
    "\n",
    "#### Antecedent support: 0.033729 -> O valor 0.033729 indica a frequência relativa do antecedente da regra no conjunto de transações. Isso significa que o antecedente aparece em cerca de 3,37% das transações analisadas.\n",
    "#### Consequent support: 0.17411 -> O valor 0.17411 indica a frequência relativa do consequente da regra no conjunto de transações. Isso significa que o consequente aparece em cerca de 17,41% das transações analisadas.\n",
    "#### Support: 0.011465 -> O valor 0.011465 indica a frequência relativa do conjunto de itens (antecedente e consequente) da regra no conjunto de transações. Isso significa que o conjunto de itens aparece em cerca de 1,15% das transações analisadas.\n",
    "#### Confidence: 0.339921 -> O valor 0.339921 indica a probabilidade condicional de que o consequente ocorra, dado que o antecedente ocorreu. Isso significa que, quando o antecedente da regra é observado, há uma probabilidade de aproximadamente 33,99% de que o consequente também ocorra.\n",
    "#### Lift: 1.9512 ->  O valor 1.9512 indica o incremento (ou aumento) observado na ocorrência conjunta do antecedente e do consequente em relação à ocorrência esperada se eles fossem independentes um do outro. Um valor de lift acima de 1 indica uma associação positiva entre os itens, neste caso, cerca de 1,95 vezes mais provável de ocorrerem juntos do que se fossem independentes.\n",
    "#### Leverage: 0.005572 -> O valor 0.005572 indica o incremento absoluto na ocorrência conjunta do antecedente e do consequente em relação à ocorrência esperada se eles fossem independentes. Isso fornece uma medida da associação dos itens, sendo um valor positivo quando a ocorrência conjunta é maior do que a esperada.\n",
    "#### Conviction: 1.2145 ->  O valor 1.2145 indica a força da dependência entre o antecedente e o consequente, levando em consideração a probabilidade de que a regra seja uma falsa descoberta. Quanto maior o valor de convicção, mais forte é a dependência entre os itens.\n",
    "#### Zhangs metric: 0.011465 -> ?\n",
    "\n",
    "\n",
    "\n"
   ],
   "metadata": {
    "collapsed": false
   }
  },
  {
   "cell_type": "markdown",
   "metadata": {
    "id": "6Y8VV1TivjIv"
   },
   "source": [
    "### 4.c. Utilize a função auxiliar abaixo para calcular conjuntos de itens frequentes (utilize suporte mínimo no intervalo [0.05, 0.3]) variando os tamanhos. Qual padrão você observa?\n",
    "Qual variável você acredita que afeta o desempenho desse método? Experimente e discorra sobre quando usar esse método."
   ]
  },
  {
   "cell_type": "code",
   "execution_count": null,
   "metadata": {
    "id": "QXWJ-vp9vjIw",
    "is_executing": true
   },
   "outputs": [],
   "source": [
    "# Gera uma matriz 2D de strings aleatórias.\n",
    "#\n",
    "# Parâmetro dv (different values): Quantidade de strings aleatórias únicas que a matriz irá conter.\n",
    "# Parâmetro vpi (values per instance): Quantidade de strings aleatórias que cada instância terá.\n",
    "# Parâmetro n: Quantidade de instâncias que será retornada.\n",
    "def generate_fictional_data(dv=50, vpi=10, n=25000):\n",
    "    instances = [''.join(random.choices(string.ascii_uppercase + string.digits, k=20)) for _i in range(dv)]\n",
    "    fictional_data = [random.choices(instances, k=vpi) for _i in range(n)]\n",
    "    return fictional_data"
   ]
  },
  {
   "cell_type": "markdown",
   "metadata": {
    "id": "7-9fBd5QvjIw"
   },
   "source": [
    "**RESPOSTA 4.c.:** {{Não sei se consegui fazer certo, porque o support ficou muito parecido (0.18}, mas a ideia é que quanto menor o suporte passado na função a priori, mais itens frequentes são gerados, porém, demorando um tempo absurdo de execução, sendo muito caro computacionalmente. Com min_support menor que 0.03, consegui ver essa diferença de tempos de execução e custos computacionais.}"
   ]
  },
  {
   "cell_type": "code",
   "execution_count": null,
   "metadata": {
    "id": "cfZ9wqEdvjIx",
    "is_executing": true
   },
   "outputs": [],
   "source": [
    "#RESPOSTA 4.\n",
    "fictional = generate_fictional_data()\n",
    "fictional_array = []"
   ]
  },
  {
   "cell_type": "code",
   "execution_count": null,
   "outputs": [],
   "source": [
    "for i in fictional:\n",
    "    fictional_array.append(i)\n",
    "fictional_array\n"
   ],
   "metadata": {
    "collapsed": false,
    "is_executing": true
   }
  },
  {
   "cell_type": "code",
   "execution_count": null,
   "outputs": [],
   "source": [
    "fictional_t = TransactionEncoder()\n",
    "fictional_t_array = fictional_t.fit(fictional_array).transform(fictional_array)\n",
    "fictional_t_array"
   ],
   "metadata": {
    "collapsed": false,
    "is_executing": true
   }
  },
  {
   "cell_type": "code",
   "execution_count": null,
   "outputs": [],
   "source": [
    "fictional_t_df = pd.DataFrame(fictional_t_array, columns=fictional_t.columns_)\n",
    "fictional_t_df"
   ],
   "metadata": {
    "collapsed": false,
    "is_executing": true
   }
  },
  {
   "cell_type": "code",
   "execution_count": null,
   "outputs": [],
   "source": [
    "frequent_item = apriori(fictional_t_df, min_support=0.05, use_colnames=True)\n",
    "frequent_item"
   ],
   "metadata": {
    "collapsed": false,
    "is_executing": true
   }
  },
  {
   "cell_type": "code",
   "execution_count": null,
   "outputs": [],
   "source": [
    "frequent_item = apriori(fictional_t_df, min_support=0.1, use_colnames=True)\n",
    "frequent_item"
   ],
   "metadata": {
    "collapsed": false,
    "is_executing": true
   }
  },
  {
   "cell_type": "code",
   "execution_count": null,
   "outputs": [],
   "source": [
    "frequent_item = apriori(fictional_t_df, min_support=0.15, use_colnames=True)\n",
    "frequent_item"
   ],
   "metadata": {
    "collapsed": false,
    "is_executing": true
   }
  },
  {
   "cell_type": "code",
   "execution_count": null,
   "outputs": [],
   "source": [
    "frequent_item = apriori(fictional_t_df, min_support=0.2, use_colnames=True)\n",
    "frequent_item"
   ],
   "metadata": {
    "collapsed": false,
    "is_executing": true
   }
  },
  {
   "cell_type": "code",
   "execution_count": null,
   "outputs": [],
   "source": [
    "frequent_item = apriori(fictional_t_df, min_support=0.25, use_colnames=True)\n",
    "frequent_item"
   ],
   "metadata": {
    "collapsed": false,
    "is_executing": true
   }
  },
  {
   "cell_type": "code",
   "execution_count": null,
   "outputs": [],
   "source": [
    "frequent_item = apriori(fictional_t_df, min_support=0.3, use_colnames=True)\n",
    "frequent_item"
   ],
   "metadata": {
    "collapsed": false,
    "is_executing": true
   }
  },
  {
   "cell_type": "code",
   "execution_count": null,
   "outputs": [],
   "source": [
    "frequent_item = apriori(fictional_t_df, min_support=0.03, use_colnames=True)\n",
    "frequent_item # demora 2 segundos"
   ],
   "metadata": {
    "collapsed": false,
    "is_executing": true
   }
  },
  {
   "cell_type": "code",
   "execution_count": null,
   "outputs": [],
   "source": [
    "frequent_item = apriori(fictional_t_df, min_support=0.02, use_colnames=True)\n",
    "frequent_item # demora 3 segundos"
   ],
   "metadata": {
    "collapsed": false,
    "is_executing": true
   }
  },
  {
   "cell_type": "code",
   "execution_count": null,
   "outputs": [],
   "source": [
    "frequent_item = apriori(fictional_t_df, min_support=0.005, use_colnames=True)\n",
    "frequent_item # demora 1 minuto :)"
   ],
   "metadata": {
    "collapsed": false,
    "is_executing": true
   }
  },
  {
   "cell_type": "code",
   "execution_count": null,
   "outputs": [],
   "source": [],
   "metadata": {
    "collapsed": false,
    "is_executing": true
   }
  }
 ],
 "metadata": {
  "colab": {
   "provenance": [],
   "toc_visible": true,
   "collapsed_sections": [
    "GE82HfLHvjIv",
    "6Y8VV1TivjIv"
   ]
  },
  "interpreter": {
   "hash": "aee8b7b246df8f9039afb4144a1f6fd8d2ca17a180786b69acc140d282b71a49"
  },
  "kernelspec": {
   "display_name": "Python 3.9.12 64-bit",
   "language": "python",
   "name": "python3"
  },
  "language_info": {
   "codemirror_mode": {
    "name": "ipython",
    "version": 3
   },
   "file_extension": ".py",
   "mimetype": "text/x-python",
   "name": "python",
   "nbconvert_exporter": "python",
   "pygments_lexer": "ipython3",
   "version": "3.9.12"
  }
 },
 "nbformat": 4,
 "nbformat_minor": 0
}
