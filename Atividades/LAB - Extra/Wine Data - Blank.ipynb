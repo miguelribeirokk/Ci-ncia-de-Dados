{
 "cells": [
  {
   "cell_type": "code",
   "execution_count": 29,
   "id": "28cffbde",
   "metadata": {
    "ExecuteTime": {
     "end_time": "2023-05-16T18:25:07.199465600Z",
     "start_time": "2023-05-16T18:25:07.033434700Z"
    }
   },
   "outputs": [],
   "source": [
    "import pandas as pd\n",
    "import numpy as np\n",
    "import matplotlib.pyplot as plt\n",
    "import seaborn as sns"
   ]
  },
  {
   "cell_type": "code",
   "execution_count": 30,
   "id": "1f87483d",
   "metadata": {
    "scrolled": true,
    "ExecuteTime": {
     "end_time": "2023-05-16T18:25:07.354670500Z",
     "start_time": "2023-05-16T18:25:07.050481400Z"
    }
   },
   "outputs": [
    {
     "data": {
      "text/plain": "      fixed acidity  volatile acidity  citric acid  residual sugar  chlorides  \\\n0               7.4             0.700         0.00             1.9      0.076   \n1               7.8             0.880         0.00             2.6      0.098   \n2               7.8             0.760         0.04             2.3      0.092   \n3              11.2             0.280         0.56             1.9      0.075   \n4               7.4             0.700         0.00             1.9      0.076   \n...             ...               ...          ...             ...        ...   \n1594            6.2             0.600         0.08             2.0      0.090   \n1595            5.9             0.550         0.10             2.2      0.062   \n1596            6.3             0.510         0.13             2.3      0.076   \n1597            5.9             0.645         0.12             2.0      0.075   \n1598            6.0             0.310         0.47             3.6      0.067   \n\n      free sulfur dioxide  total sulfur dioxide  density    pH  sulphates  \\\n0                    11.0                  34.0  0.99780  3.51       0.56   \n1                    25.0                  67.0  0.99680  3.20       0.68   \n2                    15.0                  54.0  0.99700  3.26       0.65   \n3                    17.0                  60.0  0.99800  3.16       0.58   \n4                    11.0                  34.0  0.99780  3.51       0.56   \n...                   ...                   ...      ...   ...        ...   \n1594                 32.0                  44.0  0.99490  3.45       0.58   \n1595                 39.0                  51.0  0.99512  3.52       0.76   \n1596                 29.0                  40.0  0.99574  3.42       0.75   \n1597                 32.0                  44.0  0.99547  3.57       0.71   \n1598                 18.0                  42.0  0.99549  3.39       0.66   \n\n      alcohol  quality  \n0         9.4        5  \n1         9.8        5  \n2         9.8        5  \n3         9.8        6  \n4         9.4        5  \n...       ...      ...  \n1594     10.5        5  \n1595     11.2        6  \n1596     11.0        6  \n1597     10.2        5  \n1598     11.0        6  \n\n[1599 rows x 12 columns]",
      "text/html": "<div>\n<style scoped>\n    .dataframe tbody tr th:only-of-type {\n        vertical-align: middle;\n    }\n\n    .dataframe tbody tr th {\n        vertical-align: top;\n    }\n\n    .dataframe thead th {\n        text-align: right;\n    }\n</style>\n<table border=\"1\" class=\"dataframe\">\n  <thead>\n    <tr style=\"text-align: right;\">\n      <th></th>\n      <th>fixed acidity</th>\n      <th>volatile acidity</th>\n      <th>citric acid</th>\n      <th>residual sugar</th>\n      <th>chlorides</th>\n      <th>free sulfur dioxide</th>\n      <th>total sulfur dioxide</th>\n      <th>density</th>\n      <th>pH</th>\n      <th>sulphates</th>\n      <th>alcohol</th>\n      <th>quality</th>\n    </tr>\n  </thead>\n  <tbody>\n    <tr>\n      <th>0</th>\n      <td>7.4</td>\n      <td>0.700</td>\n      <td>0.00</td>\n      <td>1.9</td>\n      <td>0.076</td>\n      <td>11.0</td>\n      <td>34.0</td>\n      <td>0.99780</td>\n      <td>3.51</td>\n      <td>0.56</td>\n      <td>9.4</td>\n      <td>5</td>\n    </tr>\n    <tr>\n      <th>1</th>\n      <td>7.8</td>\n      <td>0.880</td>\n      <td>0.00</td>\n      <td>2.6</td>\n      <td>0.098</td>\n      <td>25.0</td>\n      <td>67.0</td>\n      <td>0.99680</td>\n      <td>3.20</td>\n      <td>0.68</td>\n      <td>9.8</td>\n      <td>5</td>\n    </tr>\n    <tr>\n      <th>2</th>\n      <td>7.8</td>\n      <td>0.760</td>\n      <td>0.04</td>\n      <td>2.3</td>\n      <td>0.092</td>\n      <td>15.0</td>\n      <td>54.0</td>\n      <td>0.99700</td>\n      <td>3.26</td>\n      <td>0.65</td>\n      <td>9.8</td>\n      <td>5</td>\n    </tr>\n    <tr>\n      <th>3</th>\n      <td>11.2</td>\n      <td>0.280</td>\n      <td>0.56</td>\n      <td>1.9</td>\n      <td>0.075</td>\n      <td>17.0</td>\n      <td>60.0</td>\n      <td>0.99800</td>\n      <td>3.16</td>\n      <td>0.58</td>\n      <td>9.8</td>\n      <td>6</td>\n    </tr>\n    <tr>\n      <th>4</th>\n      <td>7.4</td>\n      <td>0.700</td>\n      <td>0.00</td>\n      <td>1.9</td>\n      <td>0.076</td>\n      <td>11.0</td>\n      <td>34.0</td>\n      <td>0.99780</td>\n      <td>3.51</td>\n      <td>0.56</td>\n      <td>9.4</td>\n      <td>5</td>\n    </tr>\n    <tr>\n      <th>...</th>\n      <td>...</td>\n      <td>...</td>\n      <td>...</td>\n      <td>...</td>\n      <td>...</td>\n      <td>...</td>\n      <td>...</td>\n      <td>...</td>\n      <td>...</td>\n      <td>...</td>\n      <td>...</td>\n      <td>...</td>\n    </tr>\n    <tr>\n      <th>1594</th>\n      <td>6.2</td>\n      <td>0.600</td>\n      <td>0.08</td>\n      <td>2.0</td>\n      <td>0.090</td>\n      <td>32.0</td>\n      <td>44.0</td>\n      <td>0.99490</td>\n      <td>3.45</td>\n      <td>0.58</td>\n      <td>10.5</td>\n      <td>5</td>\n    </tr>\n    <tr>\n      <th>1595</th>\n      <td>5.9</td>\n      <td>0.550</td>\n      <td>0.10</td>\n      <td>2.2</td>\n      <td>0.062</td>\n      <td>39.0</td>\n      <td>51.0</td>\n      <td>0.99512</td>\n      <td>3.52</td>\n      <td>0.76</td>\n      <td>11.2</td>\n      <td>6</td>\n    </tr>\n    <tr>\n      <th>1596</th>\n      <td>6.3</td>\n      <td>0.510</td>\n      <td>0.13</td>\n      <td>2.3</td>\n      <td>0.076</td>\n      <td>29.0</td>\n      <td>40.0</td>\n      <td>0.99574</td>\n      <td>3.42</td>\n      <td>0.75</td>\n      <td>11.0</td>\n      <td>6</td>\n    </tr>\n    <tr>\n      <th>1597</th>\n      <td>5.9</td>\n      <td>0.645</td>\n      <td>0.12</td>\n      <td>2.0</td>\n      <td>0.075</td>\n      <td>32.0</td>\n      <td>44.0</td>\n      <td>0.99547</td>\n      <td>3.57</td>\n      <td>0.71</td>\n      <td>10.2</td>\n      <td>5</td>\n    </tr>\n    <tr>\n      <th>1598</th>\n      <td>6.0</td>\n      <td>0.310</td>\n      <td>0.47</td>\n      <td>3.6</td>\n      <td>0.067</td>\n      <td>18.0</td>\n      <td>42.0</td>\n      <td>0.99549</td>\n      <td>3.39</td>\n      <td>0.66</td>\n      <td>11.0</td>\n      <td>6</td>\n    </tr>\n  </tbody>\n</table>\n<p>1599 rows × 12 columns</p>\n</div>"
     },
     "execution_count": 30,
     "metadata": {},
     "output_type": "execute_result"
    }
   ],
   "source": [
    "df = pd.read_csv(\"winequality-red.csv\")\n",
    "df"
   ]
  },
  {
   "cell_type": "code",
   "execution_count": 31,
   "id": "cedfaf5e",
   "metadata": {
    "ExecuteTime": {
     "end_time": "2023-05-16T18:25:07.363235500Z",
     "start_time": "2023-05-16T18:25:07.127614400Z"
    }
   },
   "outputs": [
    {
     "data": {
      "text/plain": "fixed acidity           0\nvolatile acidity        0\ncitric acid             0\nresidual sugar          0\nchlorides               0\nfree sulfur dioxide     0\ntotal sulfur dioxide    0\ndensity                 0\npH                      0\nsulphates               0\nalcohol                 0\nquality                 0\ndtype: int64"
     },
     "execution_count": 31,
     "metadata": {},
     "output_type": "execute_result"
    }
   ],
   "source": [
    "df.isnull().sum()"
   ]
  },
  {
   "cell_type": "markdown",
   "id": "b683046c",
   "metadata": {},
   "source": [
    "## Quais as quantidades de cada tipo de vinho?"
   ]
  },
  {
   "cell_type": "code",
   "execution_count": 32,
   "outputs": [
    {
     "data": {
      "text/plain": "   qualidade  quantidade\n0          5         681\n1          6         638\n2          7         199\n3          4          53\n4          8          18\n5          3          10",
      "text/html": "<div>\n<style scoped>\n    .dataframe tbody tr th:only-of-type {\n        vertical-align: middle;\n    }\n\n    .dataframe tbody tr th {\n        vertical-align: top;\n    }\n\n    .dataframe thead th {\n        text-align: right;\n    }\n</style>\n<table border=\"1\" class=\"dataframe\">\n  <thead>\n    <tr style=\"text-align: right;\">\n      <th></th>\n      <th>qualidade</th>\n      <th>quantidade</th>\n    </tr>\n  </thead>\n  <tbody>\n    <tr>\n      <th>0</th>\n      <td>5</td>\n      <td>681</td>\n    </tr>\n    <tr>\n      <th>1</th>\n      <td>6</td>\n      <td>638</td>\n    </tr>\n    <tr>\n      <th>2</th>\n      <td>7</td>\n      <td>199</td>\n    </tr>\n    <tr>\n      <th>3</th>\n      <td>4</td>\n      <td>53</td>\n    </tr>\n    <tr>\n      <th>4</th>\n      <td>8</td>\n      <td>18</td>\n    </tr>\n    <tr>\n      <th>5</th>\n      <td>3</td>\n      <td>10</td>\n    </tr>\n  </tbody>\n</table>\n</div>"
     },
     "execution_count": 32,
     "metadata": {},
     "output_type": "execute_result"
    }
   ],
   "source": [
    "# grop by e count\n",
    "#df.groupby('quality').count()\n",
    "ax = df['quality'].value_counts().reset_index()\n",
    "ax.columns = ['qualidade', 'quantidade']\n",
    "ax"
   ],
   "metadata": {
    "collapsed": false,
    "ExecuteTime": {
     "end_time": "2023-05-16T18:25:07.379735Z",
     "start_time": "2023-05-16T18:25:07.143787900Z"
    }
   }
  },
  {
   "cell_type": "markdown",
   "id": "dab6054a",
   "metadata": {},
   "source": [
    "## Quantos desvios padrões o vinho de 0.5 de açucar residual está da média?"
   ]
  },
  {
   "cell_type": "code",
   "execution_count": 33,
   "id": "581e2b85",
   "metadata": {
    "ExecuteTime": {
     "end_time": "2023-05-16T18:25:07.381751Z",
     "start_time": "2023-05-16T18:25:07.162099700Z"
    }
   },
   "outputs": [
    {
     "name": "stdout",
     "output_type": "stream",
     "text": [
      "Media da amostra:  2.53880550343965\n",
      "Desvio padrão da amostra:  1.4099280595072805\n",
      "Quantidade de desvios padrões:  1.4460351290207953\n"
     ]
    }
   ],
   "source": [
    "media = df['residual sugar'].mean()\n",
    "desvio = df['residual sugar'].std()\n",
    "print(\"Media da amostra: \", media)\n",
    "print(\"Desvio padrão da amostra: \", desvio)\n",
    "print(\"Quantidade de desvios padrões: \", abs((0.5 - media)/desvio))"
   ]
  },
  {
   "cell_type": "markdown",
   "id": "c595c13f",
   "metadata": {},
   "source": [
    "## Qual o intervalo de confiança dos vinhos de qualidade 5 em relação à quantidade de açucar residual?"
   ]
  },
  {
   "cell_type": "code",
   "execution_count": 34,
   "id": "aaefaaa6",
   "metadata": {
    "ExecuteTime": {
     "end_time": "2023-05-16T18:25:07.381751Z",
     "start_time": "2023-05-16T18:25:07.176621Z"
    }
   },
   "outputs": [
    {
     "name": "stdout",
     "output_type": "stream",
     "text": [
      "Media da amostra:  2.528854625550661\n",
      "Desvio padrão da amostra:  1.359752630297107\n",
      "Intervalo de confiança:  2.426727190893679 2.630982060207643\n"
     ]
    }
   ],
   "source": [
    "df_vinho5 = df[df['quality'] == 5]\n",
    "media_vinho5 = df_vinho5['residual sugar'].mean()\n",
    "desvio_vinho5 = df_vinho5['residual sugar'].std()\n",
    "print(\"Media da amostra: \", media_vinho5)\n",
    "print(\"Desvio padrão da amostra: \",desvio_vinho5)\n",
    "limite_inferior =  media_vinho5 - 1.96  * (desvio_vinho5/np.sqrt(len(df_vinho5)))\n",
    "limite_superior =  media_vinho5 + 1.96  * (desvio_vinho5/np.sqrt(len(df_vinho5)))\n",
    "print(\"Intervalo de confiança: \", limite_inferior, limite_superior)"
   ]
  },
  {
   "cell_type": "markdown",
   "id": "eb840c81",
   "metadata": {},
   "source": [
    "## Plote a distribuição do teor alcólico dos vinhos de acordo com a qualidade"
   ]
  },
  {
   "cell_type": "code",
   "execution_count": 56,
   "id": "027d6e7b",
   "metadata": {
    "ExecuteTime": {
     "end_time": "2023-05-16T18:38:08.787716300Z",
     "start_time": "2023-05-16T18:38:08.142781Z"
    }
   },
   "outputs": [
    {
     "data": {
      "text/plain": "<seaborn.axisgrid.FacetGrid at 0x2538084ef70>"
     },
     "execution_count": 56,
     "metadata": {},
     "output_type": "execute_result"
    },
    {
     "data": {
      "text/plain": "<Figure size 500x500 with 1 Axes>",
      "image/png": "[encoded data removed]"
     },
     "metadata": {},
     "output_type": "display_data"
    }
   ],
   "source": [
    "sns.catplot(x=\"quality\", y=\"alcohol\", kind=\"box\", data=df)\n"
   ]
  },
  {
   "cell_type": "markdown",
   "id": "5d9062e9",
   "metadata": {},
   "source": [
    "## Houve um erro durante a produção, sendo que vinhos com a açucar residual maior que 10 foram afetados. Mostre quais foram os vinhos afetados"
   ]
  },
  {
   "cell_type": "code",
   "execution_count": 65,
   "id": "d3dc790f",
   "metadata": {
    "scrolled": true,
    "ExecuteTime": {
     "end_time": "2023-05-16T18:40:18.432741200Z",
     "start_time": "2023-05-16T18:40:18.380912100Z"
    }
   },
   "outputs": [
    {
     "data": {
      "text/plain": "      fixed acidity  volatile acidity  citric acid  residual sugar  chlorides  \\\n33              6.9             0.605         0.12            10.7      0.073   \n324            10.0             0.490         0.20            11.0      0.071   \n325            10.0             0.490         0.20            11.0      0.071   \n480            10.6             0.280         0.39            15.5      0.069   \n1235            6.0             0.330         0.32            12.9      0.054   \n1244            5.9             0.290         0.25            13.4      0.067   \n1434           10.2             0.540         0.37            15.4      0.214   \n1435           10.2             0.540         0.37            15.4      0.214   \n1474            9.9             0.500         0.50            13.8      0.205   \n1476            9.9             0.500         0.50            13.8      0.205   \n1574            5.6             0.310         0.78            13.9      0.074   \n\n      free sulfur dioxide  total sulfur dioxide  density    pH  sulphates  \\\n33                   40.0                  83.0  0.99930  3.45       0.52   \n324                  13.0                  50.0  1.00150  3.16       0.69   \n325                  13.0                  50.0  1.00150  3.16       0.69   \n480                   6.0                  23.0  1.00260  3.12       0.66   \n1235                  6.0                 113.0  0.99572  3.30       0.56   \n1244                 72.0                 160.0  0.99721  3.33       0.54   \n1434                 55.0                  95.0  1.00369  3.18       0.77   \n1435                 55.0                  95.0  1.00369  3.18       0.77   \n1474                 48.0                  82.0  1.00242  3.16       0.75   \n1476                 48.0                  82.0  1.00242  3.16       0.75   \n1574                 23.0                  92.0  0.99677  3.39       0.48   \n\n      alcohol  quality  \n33        9.4        6  \n324       9.2        6  \n325       9.2        6  \n480       9.2        5  \n1235     11.5        4  \n1244     10.3        6  \n1434      9.0        6  \n1435      9.0        6  \n1474      8.8        5  \n1476      8.8        5  \n1574     10.5        6  ",
      "text/html": "<div>\n<style scoped>\n    .dataframe tbody tr th:only-of-type {\n        vertical-align: middle;\n    }\n\n    .dataframe tbody tr th {\n        vertical-align: top;\n    }\n\n    .dataframe thead th {\n        text-align: right;\n    }\n</style>\n<table border=\"1\" class=\"dataframe\">\n  <thead>\n    <tr style=\"text-align: right;\">\n      <th></th>\n      <th>fixed acidity</th>\n      <th>volatile acidity</th>\n      <th>citric acid</th>\n      <th>residual sugar</th>\n      <th>chlorides</th>\n      <th>free sulfur dioxide</th>\n      <th>total sulfur dioxide</th>\n      <th>density</th>\n      <th>pH</th>\n      <th>sulphates</th>\n      <th>alcohol</th>\n      <th>quality</th>\n    </tr>\n  </thead>\n  <tbody>\n    <tr>\n      <th>33</th>\n      <td>6.9</td>\n      <td>0.605</td>\n      <td>0.12</td>\n      <td>10.7</td>\n      <td>0.073</td>\n      <td>40.0</td>\n      <td>83.0</td>\n      <td>0.99930</td>\n      <td>3.45</td>\n      <td>0.52</td>\n      <td>9.4</td>\n      <td>6</td>\n    </tr>\n    <tr>\n      <th>324</th>\n      <td>10.0</td>\n      <td>0.490</td>\n      <td>0.20</td>\n      <td>11.0</td>\n      <td>0.071</td>\n      <td>13.0</td>\n      <td>50.0</td>\n      <td>1.00150</td>\n      <td>3.16</td>\n      <td>0.69</td>\n      <td>9.2</td>\n      <td>6</td>\n    </tr>\n    <tr>\n      <th>325</th>\n      <td>10.0</td>\n      <td>0.490</td>\n      <td>0.20</td>\n      <td>11.0</td>\n      <td>0.071</td>\n      <td>13.0</td>\n      <td>50.0</td>\n      <td>1.00150</td>\n      <td>3.16</td>\n      <td>0.69</td>\n      <td>9.2</td>\n      <td>6</td>\n    </tr>\n    <tr>\n      <th>480</th>\n      <td>10.6</td>\n      <td>0.280</td>\n      <td>0.39</td>\n      <td>15.5</td>\n      <td>0.069</td>\n      <td>6.0</td>\n      <td>23.0</td>\n      <td>1.00260</td>\n      <td>3.12</td>\n      <td>0.66</td>\n      <td>9.2</td>\n      <td>5</td>\n    </tr>\n    <tr>\n      <th>1235</th>\n      <td>6.0</td>\n      <td>0.330</td>\n      <td>0.32</td>\n      <td>12.9</td>\n      <td>0.054</td>\n      <td>6.0</td>\n      <td>113.0</td>\n      <td>0.99572</td>\n      <td>3.30</td>\n      <td>0.56</td>\n      <td>11.5</td>\n      <td>4</td>\n    </tr>\n    <tr>\n      <th>1244</th>\n      <td>5.9</td>\n      <td>0.290</td>\n      <td>0.25</td>\n      <td>13.4</td>\n      <td>0.067</td>\n      <td>72.0</td>\n      <td>160.0</td>\n      <td>0.99721</td>\n      <td>3.33</td>\n      <td>0.54</td>\n      <td>10.3</td>\n      <td>6</td>\n    </tr>\n    <tr>\n      <th>1434</th>\n      <td>10.2</td>\n      <td>0.540</td>\n      <td>0.37</td>\n      <td>15.4</td>\n      <td>0.214</td>\n      <td>55.0</td>\n      <td>95.0</td>\n      <td>1.00369</td>\n      <td>3.18</td>\n      <td>0.77</td>\n      <td>9.0</td>\n      <td>6</td>\n    </tr>\n    <tr>\n      <th>1435</th>\n      <td>10.2</td>\n      <td>0.540</td>\n      <td>0.37</td>\n      <td>15.4</td>\n      <td>0.214</td>\n      <td>55.0</td>\n      <td>95.0</td>\n      <td>1.00369</td>\n      <td>3.18</td>\n      <td>0.77</td>\n      <td>9.0</td>\n      <td>6</td>\n    </tr>\n    <tr>\n      <th>1474</th>\n      <td>9.9</td>\n      <td>0.500</td>\n      <td>0.50</td>\n      <td>13.8</td>\n      <td>0.205</td>\n      <td>48.0</td>\n      <td>82.0</td>\n      <td>1.00242</td>\n      <td>3.16</td>\n      <td>0.75</td>\n      <td>8.8</td>\n      <td>5</td>\n    </tr>\n    <tr>\n      <th>1476</th>\n      <td>9.9</td>\n      <td>0.500</td>\n      <td>0.50</td>\n      <td>13.8</td>\n      <td>0.205</td>\n      <td>48.0</td>\n      <td>82.0</td>\n      <td>1.00242</td>\n      <td>3.16</td>\n      <td>0.75</td>\n      <td>8.8</td>\n      <td>5</td>\n    </tr>\n    <tr>\n      <th>1574</th>\n      <td>5.6</td>\n      <td>0.310</td>\n      <td>0.78</td>\n      <td>13.9</td>\n      <td>0.074</td>\n      <td>23.0</td>\n      <td>92.0</td>\n      <td>0.99677</td>\n      <td>3.39</td>\n      <td>0.48</td>\n      <td>10.5</td>\n      <td>6</td>\n    </tr>\n  </tbody>\n</table>\n</div>"
     },
     "execution_count": 65,
     "metadata": {},
     "output_type": "execute_result"
    }
   ],
   "source": [
    "nome_10 = df[df['residual sugar'] > 10]\n",
    "nome_10"
   ]
  },
  {
   "cell_type": "markdown",
   "id": "c09710e1",
   "metadata": {},
   "source": [
    "### Mostre uma lista com o id dos vinhos afetados"
   ]
  },
  {
   "cell_type": "code",
   "execution_count": 68,
   "id": "21be46d6",
   "metadata": {
    "ExecuteTime": {
     "end_time": "2023-05-16T18:40:35.740725700Z",
     "start_time": "2023-05-16T18:40:35.700764100Z"
    }
   },
   "outputs": [
    {
     "data": {
      "text/plain": "Int64Index([33, 324, 325, 480, 1235, 1244, 1434, 1435, 1474, 1476, 1574], dtype='int64')"
     },
     "execution_count": 68,
     "metadata": {},
     "output_type": "execute_result"
    }
   ],
   "source": [
    "ids_vinho10 = nome_10.index\n",
    "ids_vinho10"
   ]
  },
  {
   "cell_type": "markdown",
   "id": "0b62d800",
   "metadata": {},
   "source": [
    "## Adicione um coluna para determinar o valor do vinho, considerando que o valor será:"
   ]
  },
  {
   "cell_type": "markdown",
   "id": "a27e9481",
   "metadata": {},
   "source": [
    "Valor = Qualidade * teor alcóolico"
   ]
  },
  {
   "cell_type": "code",
   "execution_count": 70,
   "id": "9e2a7279",
   "metadata": {
    "scrolled": true,
    "ExecuteTime": {
     "end_time": "2023-05-16T18:41:26.984816400Z",
     "start_time": "2023-05-16T18:41:26.949567500Z"
    }
   },
   "outputs": [
    {
     "data": {
      "text/plain": "      fixed acidity  volatile acidity  citric acid  residual sugar  chlorides  \\\n0               7.4             0.700         0.00             1.9      0.076   \n1               7.8             0.880         0.00             2.6      0.098   \n2               7.8             0.760         0.04             2.3      0.092   \n3              11.2             0.280         0.56             1.9      0.075   \n4               7.4             0.700         0.00             1.9      0.076   \n...             ...               ...          ...             ...        ...   \n1594            6.2             0.600         0.08             2.0      0.090   \n1595            5.9             0.550         0.10             2.2      0.062   \n1596            6.3             0.510         0.13             2.3      0.076   \n1597            5.9             0.645         0.12             2.0      0.075   \n1598            6.0             0.310         0.47             3.6      0.067   \n\n      free sulfur dioxide  total sulfur dioxide  density    pH  sulphates  \\\n0                    11.0                  34.0  0.99780  3.51       0.56   \n1                    25.0                  67.0  0.99680  3.20       0.68   \n2                    15.0                  54.0  0.99700  3.26       0.65   \n3                    17.0                  60.0  0.99800  3.16       0.58   \n4                    11.0                  34.0  0.99780  3.51       0.56   \n...                   ...                   ...      ...   ...        ...   \n1594                 32.0                  44.0  0.99490  3.45       0.58   \n1595                 39.0                  51.0  0.99512  3.52       0.76   \n1596                 29.0                  40.0  0.99574  3.42       0.75   \n1597                 32.0                  44.0  0.99547  3.57       0.71   \n1598                 18.0                  42.0  0.99549  3.39       0.66   \n\n      alcohol  quality  valor do vinho  \n0         9.4        5            47.0  \n1         9.8        5            49.0  \n2         9.8        5            49.0  \n3         9.8        6            58.8  \n4         9.4        5            47.0  \n...       ...      ...             ...  \n1594     10.5        5            52.5  \n1595     11.2        6            67.2  \n1596     11.0        6            66.0  \n1597     10.2        5            51.0  \n1598     11.0        6            66.0  \n\n[1599 rows x 13 columns]",
      "text/html": "<div>\n<style scoped>\n    .dataframe tbody tr th:only-of-type {\n        vertical-align: middle;\n    }\n\n    .dataframe tbody tr th {\n        vertical-align: top;\n    }\n\n    .dataframe thead th {\n        text-align: right;\n    }\n</style>\n<table border=\"1\" class=\"dataframe\">\n  <thead>\n    <tr style=\"text-align: right;\">\n      <th></th>\n      <th>fixed acidity</th>\n      <th>volatile acidity</th>\n      <th>citric acid</th>\n      <th>residual sugar</th>\n      <th>chlorides</th>\n      <th>free sulfur dioxide</th>\n      <th>total sulfur dioxide</th>\n      <th>density</th>\n      <th>pH</th>\n      <th>sulphates</th>\n      <th>alcohol</th>\n      <th>quality</th>\n      <th>valor do vinho</th>\n    </tr>\n  </thead>\n  <tbody>\n    <tr>\n      <th>0</th>\n      <td>7.4</td>\n      <td>0.700</td>\n      <td>0.00</td>\n      <td>1.9</td>\n      <td>0.076</td>\n      <td>11.0</td>\n      <td>34.0</td>\n      <td>0.99780</td>\n      <td>3.51</td>\n      <td>0.56</td>\n      <td>9.4</td>\n      <td>5</td>\n      <td>47.0</td>\n    </tr>\n    <tr>\n      <th>1</th>\n      <td>7.8</td>\n      <td>0.880</td>\n      <td>0.00</td>\n      <td>2.6</td>\n      <td>0.098</td>\n      <td>25.0</td>\n      <td>67.0</td>\n      <td>0.99680</td>\n      <td>3.20</td>\n      <td>0.68</td>\n      <td>9.8</td>\n      <td>5</td>\n      <td>49.0</td>\n    </tr>\n    <tr>\n      <th>2</th>\n      <td>7.8</td>\n      <td>0.760</td>\n      <td>0.04</td>\n      <td>2.3</td>\n      <td>0.092</td>\n      <td>15.0</td>\n      <td>54.0</td>\n      <td>0.99700</td>\n      <td>3.26</td>\n      <td>0.65</td>\n      <td>9.8</td>\n      <td>5</td>\n      <td>49.0</td>\n    </tr>\n    <tr>\n      <th>3</th>\n      <td>11.2</td>\n      <td>0.280</td>\n      <td>0.56</td>\n      <td>1.9</td>\n      <td>0.075</td>\n      <td>17.0</td>\n      <td>60.0</td>\n      <td>0.99800</td>\n      <td>3.16</td>\n      <td>0.58</td>\n      <td>9.8</td>\n      <td>6</td>\n      <td>58.8</td>\n    </tr>\n    <tr>\n      <th>4</th>\n      <td>7.4</td>\n      <td>0.700</td>\n      <td>0.00</td>\n      <td>1.9</td>\n      <td>0.076</td>\n      <td>11.0</td>\n      <td>34.0</td>\n      <td>0.99780</td>\n      <td>3.51</td>\n      <td>0.56</td>\n      <td>9.4</td>\n      <td>5</td>\n      <td>47.0</td>\n    </tr>\n    <tr>\n      <th>...</th>\n      <td>...</td>\n      <td>...</td>\n      <td>...</td>\n      <td>...</td>\n      <td>...</td>\n      <td>...</td>\n      <td>...</td>\n      <td>...</td>\n      <td>...</td>\n      <td>...</td>\n      <td>...</td>\n      <td>...</td>\n      <td>...</td>\n    </tr>\n    <tr>\n      <th>1594</th>\n      <td>6.2</td>\n      <td>0.600</td>\n      <td>0.08</td>\n      <td>2.0</td>\n      <td>0.090</td>\n      <td>32.0</td>\n      <td>44.0</td>\n      <td>0.99490</td>\n      <td>3.45</td>\n      <td>0.58</td>\n      <td>10.5</td>\n      <td>5</td>\n      <td>52.5</td>\n    </tr>\n    <tr>\n      <th>1595</th>\n      <td>5.9</td>\n      <td>0.550</td>\n      <td>0.10</td>\n      <td>2.2</td>\n      <td>0.062</td>\n      <td>39.0</td>\n      <td>51.0</td>\n      <td>0.99512</td>\n      <td>3.52</td>\n      <td>0.76</td>\n      <td>11.2</td>\n      <td>6</td>\n      <td>67.2</td>\n    </tr>\n    <tr>\n      <th>1596</th>\n      <td>6.3</td>\n      <td>0.510</td>\n      <td>0.13</td>\n      <td>2.3</td>\n      <td>0.076</td>\n      <td>29.0</td>\n      <td>40.0</td>\n      <td>0.99574</td>\n      <td>3.42</td>\n      <td>0.75</td>\n      <td>11.0</td>\n      <td>6</td>\n      <td>66.0</td>\n    </tr>\n    <tr>\n      <th>1597</th>\n      <td>5.9</td>\n      <td>0.645</td>\n      <td>0.12</td>\n      <td>2.0</td>\n      <td>0.075</td>\n      <td>32.0</td>\n      <td>44.0</td>\n      <td>0.99547</td>\n      <td>3.57</td>\n      <td>0.71</td>\n      <td>10.2</td>\n      <td>5</td>\n      <td>51.0</td>\n    </tr>\n    <tr>\n      <th>1598</th>\n      <td>6.0</td>\n      <td>0.310</td>\n      <td>0.47</td>\n      <td>3.6</td>\n      <td>0.067</td>\n      <td>18.0</td>\n      <td>42.0</td>\n      <td>0.99549</td>\n      <td>3.39</td>\n      <td>0.66</td>\n      <td>11.0</td>\n      <td>6</td>\n      <td>66.0</td>\n    </tr>\n  </tbody>\n</table>\n<p>1599 rows × 13 columns</p>\n</div>"
     },
     "execution_count": 70,
     "metadata": {},
     "output_type": "execute_result"
    }
   ],
   "source": [
    "new_column = df['quality'] * df['alcohol']\n",
    "df['valor do vinho'] = new_column\n",
    "df"
   ]
  },
  {
   "cell_type": "markdown",
   "id": "fc900075",
   "metadata": {},
   "source": [
    "## Quais são os vinhos com o maior preço de cada qualidade?"
   ]
  },
  {
   "cell_type": "code",
   "execution_count": 81,
   "id": "23cdf073",
   "metadata": {
    "scrolled": true,
    "ExecuteTime": {
     "end_time": "2023-05-16T18:47:27.703705600Z",
     "start_time": "2023-05-16T18:47:27.637384900Z"
    }
   },
   "outputs": [
    {
     "data": {
      "text/plain": "      fixed acidity  volatile acidity  citric acid  residual sugar  chlorides  \\\n45              4.6              0.52         0.15             2.1      0.054   \n142             5.2              0.34         0.00             1.8      0.050   \n144             5.2              0.34         0.00             1.8      0.050   \n467             8.8              0.46         0.45             2.6      0.065   \n588             5.0              0.42         0.24             2.0      0.060   \n652            15.9              0.36         0.65             7.5      0.096   \n821             4.9              0.42         0.00             2.1      0.048   \n899             8.3              1.02         0.02             3.4      0.084   \n1269            5.5              0.49         0.03             1.8      0.044   \n1270            5.0              0.38         0.01             1.6      0.048   \n\n      free sulfur dioxide  total sulfur dioxide  density    pH  sulphates  \\\n45                    8.0                  65.0  0.99340  3.90       0.56   \n142                  27.0                  63.0  0.99160  3.68       0.79   \n144                  27.0                  63.0  0.99160  3.68       0.79   \n467                   7.0                  18.0  0.99470  3.32       0.79   \n588                  19.0                  50.0  0.99170  3.72       0.74   \n652                  22.0                  71.0  0.99760  2.98       0.84   \n821                  16.0                  42.0  0.99154  3.71       0.74   \n899                   6.0                  11.0  0.99892  3.48       0.49   \n1269                 28.0                  87.0  0.99080  3.50       0.82   \n1270                 26.0                  60.0  0.99084  3.70       0.75   \n\n      alcohol  quality  valor do vinho  \n45       13.1        4            52.4  \n142      14.0        6            84.0  \n144      14.0        6            84.0  \n467      14.0        6            84.0  \n588      14.0        8           112.0  \n652      14.9        5            74.5  \n821      14.0        7            98.0  \n899      11.0        3            33.0  \n1269     14.0        8           112.0  \n1270     14.0        6            84.0  ",
      "text/html": "<div>\n<style scoped>\n    .dataframe tbody tr th:only-of-type {\n        vertical-align: middle;\n    }\n\n    .dataframe tbody tr th {\n        vertical-align: top;\n    }\n\n    .dataframe thead th {\n        text-align: right;\n    }\n</style>\n<table border=\"1\" class=\"dataframe\">\n  <thead>\n    <tr style=\"text-align: right;\">\n      <th></th>\n      <th>fixed acidity</th>\n      <th>volatile acidity</th>\n      <th>citric acid</th>\n      <th>residual sugar</th>\n      <th>chlorides</th>\n      <th>free sulfur dioxide</th>\n      <th>total sulfur dioxide</th>\n      <th>density</th>\n      <th>pH</th>\n      <th>sulphates</th>\n      <th>alcohol</th>\n      <th>quality</th>\n      <th>valor do vinho</th>\n    </tr>\n  </thead>\n  <tbody>\n    <tr>\n      <th>45</th>\n      <td>4.6</td>\n      <td>0.52</td>\n      <td>0.15</td>\n      <td>2.1</td>\n      <td>0.054</td>\n      <td>8.0</td>\n      <td>65.0</td>\n      <td>0.99340</td>\n      <td>3.90</td>\n      <td>0.56</td>\n      <td>13.1</td>\n      <td>4</td>\n      <td>52.4</td>\n    </tr>\n    <tr>\n      <th>142</th>\n      <td>5.2</td>\n      <td>0.34</td>\n      <td>0.00</td>\n      <td>1.8</td>\n      <td>0.050</td>\n      <td>27.0</td>\n      <td>63.0</td>\n      <td>0.99160</td>\n      <td>3.68</td>\n      <td>0.79</td>\n      <td>14.0</td>\n      <td>6</td>\n      <td>84.0</td>\n    </tr>\n    <tr>\n      <th>144</th>\n      <td>5.2</td>\n      <td>0.34</td>\n      <td>0.00</td>\n      <td>1.8</td>\n      <td>0.050</td>\n      <td>27.0</td>\n      <td>63.0</td>\n      <td>0.99160</td>\n      <td>3.68</td>\n      <td>0.79</td>\n      <td>14.0</td>\n      <td>6</td>\n      <td>84.0</td>\n    </tr>\n    <tr>\n      <th>467</th>\n      <td>8.8</td>\n      <td>0.46</td>\n      <td>0.45</td>\n      <td>2.6</td>\n      <td>0.065</td>\n      <td>7.0</td>\n      <td>18.0</td>\n      <td>0.99470</td>\n      <td>3.32</td>\n      <td>0.79</td>\n      <td>14.0</td>\n      <td>6</td>\n      <td>84.0</td>\n    </tr>\n    <tr>\n      <th>588</th>\n      <td>5.0</td>\n      <td>0.42</td>\n      <td>0.24</td>\n      <td>2.0</td>\n      <td>0.060</td>\n      <td>19.0</td>\n      <td>50.0</td>\n      <td>0.99170</td>\n      <td>3.72</td>\n      <td>0.74</td>\n      <td>14.0</td>\n      <td>8</td>\n      <td>112.0</td>\n    </tr>\n    <tr>\n      <th>652</th>\n      <td>15.9</td>\n      <td>0.36</td>\n      <td>0.65</td>\n      <td>7.5</td>\n      <td>0.096</td>\n      <td>22.0</td>\n      <td>71.0</td>\n      <td>0.99760</td>\n      <td>2.98</td>\n      <td>0.84</td>\n      <td>14.9</td>\n      <td>5</td>\n      <td>74.5</td>\n    </tr>\n    <tr>\n      <th>821</th>\n      <td>4.9</td>\n      <td>0.42</td>\n      <td>0.00</td>\n      <td>2.1</td>\n      <td>0.048</td>\n      <td>16.0</td>\n      <td>42.0</td>\n      <td>0.99154</td>\n      <td>3.71</td>\n      <td>0.74</td>\n      <td>14.0</td>\n      <td>7</td>\n      <td>98.0</td>\n    </tr>\n    <tr>\n      <th>899</th>\n      <td>8.3</td>\n      <td>1.02</td>\n      <td>0.02</td>\n      <td>3.4</td>\n      <td>0.084</td>\n      <td>6.0</td>\n      <td>11.0</td>\n      <td>0.99892</td>\n      <td>3.48</td>\n      <td>0.49</td>\n      <td>11.0</td>\n      <td>3</td>\n      <td>33.0</td>\n    </tr>\n    <tr>\n      <th>1269</th>\n      <td>5.5</td>\n      <td>0.49</td>\n      <td>0.03</td>\n      <td>1.8</td>\n      <td>0.044</td>\n      <td>28.0</td>\n      <td>87.0</td>\n      <td>0.99080</td>\n      <td>3.50</td>\n      <td>0.82</td>\n      <td>14.0</td>\n      <td>8</td>\n      <td>112.0</td>\n    </tr>\n    <tr>\n      <th>1270</th>\n      <td>5.0</td>\n      <td>0.38</td>\n      <td>0.01</td>\n      <td>1.6</td>\n      <td>0.048</td>\n      <td>26.0</td>\n      <td>60.0</td>\n      <td>0.99084</td>\n      <td>3.70</td>\n      <td>0.75</td>\n      <td>14.0</td>\n      <td>6</td>\n      <td>84.0</td>\n    </tr>\n  </tbody>\n</table>\n</div>"
     },
     "execution_count": 81,
     "metadata": {},
     "output_type": "execute_result"
    }
   ],
   "source": [
    "df[df.groupby(['quality'])['valor do vinho'].transform(max) == df['valor do vinho']]"
   ]
  },
  {
   "cell_type": "markdown",
   "id": "2df79649",
   "metadata": {},
   "source": [
    "## Um vinho com o 'citric acid' igual a 0.45 tem a maior probabilidade de pertencer a qual qualidade?"
   ]
  },
  {
   "cell_type": "code",
   "execution_count": 107,
   "id": "4602e196",
   "metadata": {
    "ExecuteTime": {
     "end_time": "2023-05-16T19:22:12.791678600Z",
     "start_time": "2023-05-16T19:22:12.745181500Z"
    }
   },
   "outputs": [
    {
     "name": "stdout",
     "output_type": "stream",
     "text": [
      "Erro padrão para qualidade 3:  0.07926677880563977\n",
      "Z-score:  3.519759528567463\n",
      "Probabilidade de ser da qualidade 3:  0.00043193822145575747\n",
      "Rejeitar H0\n",
      "\n",
      "\n",
      "Erro padrão para qualidade 4:  0.02761364427138512\n",
      "Z-score:  9.989592604755346\n",
      "Probabilidade de ser da qualidade 4:  1.692760065055133e-23\n",
      "Rejeitar H0\n",
      "\n",
      "\n",
      "Erro padrão para qualidade 5:  0.006897716539610617\n",
      "Z-score:  29.910513511885245\n",
      "Probabilidade de ser da qualidade 5:  1.43641855027428e-196\n",
      "Rejeitar H0\n",
      "\n",
      "\n",
      "Erro padrão para qualidade 6:  0.007724416488374369\n",
      "Z-score:  22.80761904209783\n",
      "Probabilidade de ser da qualidade 6:  3.852580859939881e-115\n",
      "Rejeitar H0\n",
      "\n",
      "\n",
      "Erro padrão para qualidade 7:  0.013782933706796188\n",
      "Z-score:  5.42875139609213\n",
      "Probabilidade de ser da qualidade 7:  5.674966720379526e-08\n",
      "Rejeitar H0\n",
      "\n",
      "\n",
      "Erro padrão para qualidade 8:  0.04702863047379867\n",
      "Z-score:  1.2521922985126697\n",
      "Probabilidade de ser da qualidade 8:  0.2104998016395846\n",
      "Aceitar H1\n",
      "\n",
      "\n"
     ]
    }
   ],
   "source": [
    "import scipy.stats as st\n",
    "\n",
    "def qualidade(p):\n",
    "    if p < 0.05:\n",
    "        print(\"Rejeitar H0\\n\\n\")\n",
    "    else:\n",
    "        print(\"Aceitar H1\\n\\n\")\n",
    "\n",
    "\n",
    "#Qualidades\n",
    "qualidade_3 = df[df['quality'] == 3]\n",
    "qualidade_4 = df[df['quality'] == 4]\n",
    "qualidade_5 = df[df['quality'] == 5]\n",
    "qualidade_6 = df[df['quality'] == 6]\n",
    "qualidade_7 = df[df['quality'] == 7]\n",
    "qualidade_8 = df[df['quality'] == 8]\n",
    "\n",
    "#Média das qualidades\n",
    "media_3 = df[df['quality'] == 3]['citric acid'].mean()\n",
    "media_4 = df[df['quality'] == 4]['citric acid'].mean()\n",
    "media_5 = df[df['quality'] == 5]['citric acid'].mean()\n",
    "media_6 = df[df['quality'] == 6]['citric acid'].mean()\n",
    "media_7 = df[df['quality'] == 7]['citric acid'].mean()\n",
    "media_8 = df[df['quality'] == 8]['citric acid'].mean()\n",
    "\n",
    "#Erro padrão\n",
    "erro_3 = (df [df['quality'] == 3]['citric acid'].std())/np.sqrt(len(df[df['quality'] == 3]))\n",
    "z_score_3 = abs(0.45 - media_3)/erro_3\n",
    "valor_p_3 = 2*st.norm.sf(abs(z_score_3))\n",
    "print(\"Erro padrão para qualidade 3: \", erro_3)\n",
    "print(\"Z-score: \", z_score_3)\n",
    "print (\"Probabilidade de ser da qualidade 3: \", valor_p_3)\n",
    "qualidade(valor_p_3)\n",
    "\n",
    "erro_4 = (df [df['quality'] == 4]['citric acid'].std())/np.sqrt(len(df[df['quality'] == 4]))\n",
    "z_score_4 = abs(0.45 - media_4)/erro_4\n",
    "valor_p_4 = 2*st.norm.sf(abs(z_score_4))\n",
    "print(\"Erro padrão para qualidade 4: \", erro_4)\n",
    "print(\"Z-score: \", z_score_4)\n",
    "print (\"Probabilidade de ser da qualidade 4: \", valor_p_4)\n",
    "qualidade(valor_p_4)\n",
    "\n",
    "erro_5 = (df [df['quality'] == 5]['citric acid'].std())/np.sqrt(len(df[df['quality'] == 5]))\n",
    "z_score_5 = abs(0.45 - media_5)/erro_5\n",
    "valor_p_5 = 2*st.norm.sf(abs(z_score_5))\n",
    "print(\"Erro padrão para qualidade 5: \", erro_5)\n",
    "print(\"Z-score: \", z_score_5)\n",
    "print (\"Probabilidade de ser da qualidade 5: \", valor_p_5)\n",
    "qualidade(valor_p_5)\n",
    "\n",
    "\n",
    "erro_6 = (df [df['quality'] == 6]['citric acid'].std())/np.sqrt(len(df[df['quality'] == 6]))\n",
    "z_score_6 = abs(0.45 - media_6)/erro_6\n",
    "valor_p_6 = 2*st.norm.sf(abs(z_score_6))\n",
    "print(\"Erro padrão para qualidade 6: \", erro_6)\n",
    "print(\"Z-score: \", z_score_6)\n",
    "print (\"Probabilidade de ser da qualidade 6: \", valor_p_6)\n",
    "qualidade(valor_p_6)\n",
    "\n",
    "erro_7 = (df [df['quality'] == 7]['citric acid'].std())/np.sqrt(len(df[df['quality'] == 7]))\n",
    "z_score_7 = abs(0.45 - media_7)/erro_7\n",
    "valor_p_7 = 2*st.norm.sf(abs(z_score_7))\n",
    "print(\"Erro padrão para qualidade 7: \", erro_7)\n",
    "print(\"Z-score: \", z_score_7)\n",
    "print (\"Probabilidade de ser da qualidade 7: \", valor_p_7)\n",
    "qualidade(valor_p_7)\n",
    "\n",
    "erro_8 = (df [df['quality'] == 8]['citric acid'].std())/np.sqrt(len(df[df['quality'] == 8]))\n",
    "z_score_8 = abs(0.45 - media_8)/erro_8\n",
    "valor_p_8 = 2*st.norm.sf(abs(z_score_8))\n",
    "print(\"Erro padrão para qualidade 8: \", erro_8)\n",
    "print(\"Z-score: \", z_score_8)\n",
    "print (\"Probabilidade de ser da qualidade 8: \", valor_p_8)\n",
    "qualidade(valor_p_8)\n",
    "\n",
    "\n",
    "\n",
    "\n",
    "\n",
    "\n"
   ]
  },
  {
   "cell_type": "markdown",
   "id": "e9552f82",
   "metadata": {},
   "source": [
    "##  Fazer um gráfico de barra da média de \"alcohol\" por \"quality\""
   ]
  },
  {
   "cell_type": "code",
   "execution_count": 112,
   "id": "8e7aefb5",
   "metadata": {
    "ExecuteTime": {
     "end_time": "2023-05-16T19:29:57.083189700Z",
     "start_time": "2023-05-16T19:29:56.825046800Z"
    }
   },
   "outputs": [
    {
     "data": {
      "text/plain": "<Axes: xlabel='quality'>"
     },
     "execution_count": 112,
     "metadata": {},
     "output_type": "execute_result"
    },
    {
     "data": {
      "text/plain": "<Figure size 640x480 with 1 Axes>",
      "image/png": "[encoded data removed]"
     },
     "metadata": {},
     "output_type": "display_data"
    }
   ],
   "source": [
    "media_alcohol = df.groupby('quality')['alcohol'].mean()\n",
    "sns.barplot(x=media_alcohol.index, y=media_alcohol.values)"
   ]
  },
  {
   "cell_type": "code",
   "execution_count": null,
   "outputs": [],
   "source": [],
   "metadata": {
    "collapsed": false
   }
  }
 ],
 "metadata": {
  "kernelspec": {
   "display_name": "Python 3 (ipykernel)",
   "language": "python",
   "name": "python3"
  },
  "language_info": {
   "codemirror_mode": {
    "name": "ipython",
    "version": 3
   },
   "file_extension": ".py",
   "mimetype": "text/x-python",
   "name": "python",
   "nbconvert_exporter": "python",
   "pygments_lexer": "ipython3",
   "version": "3.10.4"
  }
 },
 "nbformat": 4,
 "nbformat_minor": 5
}
