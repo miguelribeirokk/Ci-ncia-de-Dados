{
 "cells": [
  {
   "cell_type": "markdown",
   "metadata": {
    "id": "B7ekE2pBce0f"
   },
   "source": [
    "> Introdução à Ciência dos Dados \\\n",
    "> Ciência da Computação – UFV/Florestal\n",
    "\n",
    "\n",
    "* **Nome:** Miguel Antônio Ribeiro e Silva\n",
    "* **Matrícula:**  4680\n",
    "\n",
    "# Aula Prática 03\n",
    "##  Teorema Central do Limite\n",
    "\n",
    "**Objetivo:** Aplicar os conceitos do teorema central do limite para inferir conhecimento sobre uma população. \\\n",
    "**Pré-requisitos:** Linguagem de programação Python, estatística básica \\\n",
    "**Meta:** Ao final da prática, o aluno será capaz de utilizar ferramentas de análise de dados para inferir características de uma população a partir de amostras, e também de verificar se uma amostra pertence ou não a determinada população.\n",
    "\n",
    "----"
   ]
  },
  {
   "cell_type": "code",
   "source": [
    "### NÃO REMOVA ESSA CÉLULA! ####\n",
    "!pip --no-cache-dir install --upgrade learntools_dados_ufv\n",
    "\n",
    "!wget https://raw.githubusercontent.com/gfviegas/CCF425-resources/master/p3/renda_populacao.csv\n",
    "!wget https://raw.githubusercontent.com/gfviegas/CCF425-resources/master/p3/renda_amostra1.csv\n",
    "\n",
    "!wget https://raw.githubusercontent.com/gfviegas/CCF425-resources/master/p3/pesos_populacao.csv\n",
    "!wget https://raw.githubusercontent.com/gfviegas/CCF425-resources/master/p3/pesos_amostra1.csv\n",
    "!wget https://raw.githubusercontent.com/gfviegas/CCF425-resources/master/p3/pesos_amostra2.csv\n",
    "!wget https://raw.githubusercontent.com/gfviegas/CCF425-resources/master/p3/pesos_amostra3.csv\n",
    "!wget https://raw.githubusercontent.com/gfviegas/CCF425-resources/master/p3/pesos_amostra4.csv"
   ],
   "metadata": {
    "id": "JWrndYx6csMf"
   },
   "execution_count": 78,
   "outputs": [
    {
     "name": "stdout",
     "output_type": "stream",
     "text": [
      "Requirement already satisfied: learntools_dados_ufv in c:\\users\\miguel\\anaconda3\\lib\\site-packages (1.0.10)\n"
     ]
    }
   ]
  },
  {
   "cell_type": "code",
   "execution_count": 79,
   "metadata": {
    "id": "_X9J3UPRX7_6"
   },
   "outputs": [
    {
     "name": "stderr",
     "output_type": "stream",
     "text": [
      "WARNING:root:Ignoring repeated attempt to bind to globals\n"
     ]
    }
   ],
   "source": [
    "#### Não altere essa célula!!! ####\n",
    "import pandas as pd\n",
    "import numpy as np\n",
    "import matplotlib.pyplot as plt\n",
    "import seaborn as sns\n",
    "\n",
    "\n",
    "from learntools_dados_ufv.core import binder; binder.bind(globals())\n",
    "from learntools_dados_ufv.ccf425.pratica_3 import *"
   ]
  },
  {
   "cell_type": "markdown",
   "metadata": {
    "id": "AwbsSFyfce0j"
   },
   "source": [
    "# Roteiro"
   ]
  },
  {
   "cell_type": "markdown",
   "metadata": {
    "id": "CHMN-XCice0k"
   },
   "source": [
    "## Leitura dos dados\n",
    "Veja os dados do arquivo `renda_populacao.csv`. \n",
    "\n",
    "Use a opção `squeeze=True` para obter uma Série do arquivo e não um DataFrame (comportamento default). Note que não possui cabeçalhos."
   ]
  },
  {
   "cell_type": "code",
   "execution_count": 80,
   "metadata": {
    "id": "WPytsVToce0k",
    "outputId": "fd5785ee-73ff-4f31-b0cd-549839a25f96"
   },
   "outputs": [
    {
     "name": "stderr",
     "output_type": "stream",
     "text": [
      "C:\\Users\\Miguel\\AppData\\Local\\Temp\\ipykernel_18048\\1980595086.py:1: FutureWarning: The squeeze argument has been deprecated and will be removed in a future version. Append .squeeze(\"columns\") to the call to squeeze.\n",
      "\n",
      "\n",
      "  series = pd.read_csv('./renda_populacao.csv', index_col=False, header=None, squeeze=True)\n"
     ]
    },
    {
     "data": {
      "text/plain": "0        9536.34\n1      267273.60\n2       39596.61\n3       24992.04\n4        9286.11\n          ...   \n9995    31717.13\n9996    30511.21\n9997     9335.55\n9998     9905.62\n9999   122687.20\nName: 0, Length: 10000, dtype: float64"
     },
     "execution_count": 80,
     "metadata": {},
     "output_type": "execute_result"
    }
   ],
   "source": [
    "series = pd.read_csv('./renda_populacao.csv', index_col=False, header=None, squeeze=True)\n",
    "series"
   ]
  },
  {
   "cell_type": "markdown",
   "metadata": {
    "id": "XJam9X9Rce0l"
   },
   "source": [
    "## Explorar os dados com base em estatísticas descritivas\n",
    "\n",
    "Observação: para formatar a saída dos números reais no pandas, utilizar o comando: `pd.options.display.float_format = \"{:.2f}\".format`\n"
   ]
  },
  {
   "cell_type": "code",
   "execution_count": 81,
   "metadata": {
    "id": "mXO_Ud9zce0m",
    "outputId": "777dfd7b-94c4-42f0-e970-691bae436820"
   },
   "outputs": [
    {
     "data": {
      "text/plain": "count     10000.00\nmean      36210.55\nstd       46539.07\nmin         391.72\n25%       11205.69\n50%       22006.79\n75%       43049.55\nmax     1119768.63\nName: 0, dtype: float64"
     },
     "execution_count": 81,
     "metadata": {},
     "output_type": "execute_result"
    }
   ],
   "source": [
    "pd.options.display.float_format = \"{:.2f}\".format\n",
    "\n",
    "series.describe()"
   ]
  },
  {
   "cell_type": "markdown",
   "metadata": {
    "id": "0-cPTAN8ce0m"
   },
   "source": [
    "## Plotar a distribuição dessa população\n",
    "\n",
    "Observação: Por enquanto vamos simplesmente aceitar esse código usando as bibliotecas _matplotlib_ e _seaborn_. Depois vamos entender melhor como gerar gráficos."
   ]
  },
  {
   "cell_type": "code",
   "execution_count": 82,
   "metadata": {
    "id": "f0EZo97Lce0n",
    "outputId": "3c6066a8-e783-4678-bc11-67346f69316d"
   },
   "outputs": [
    {
     "data": {
      "text/plain": "<Figure size 500x500 with 1 Axes>",
      "image/png": "[encoded data removed]"
     },
     "metadata": {},
     "output_type": "display_data"
    }
   ],
   "source": [
    "def plot_dist_data(data):\n",
    "    ax = sns.displot(data)\n",
    "    ax.set(xlabel=\"Renda\", ylabel=\"Frequência\")\n",
    "\n",
    "    plt.show()\n",
    "\n",
    "\n",
    "plot_dist_data(series)"
   ]
  },
  {
   "cell_type": "markdown",
   "metadata": {
    "id": "PD-SIyvTce0n"
   },
   "source": [
    "## Plotar uma amostra dessa população de tamanho 10\n",
    "\n",
    "Note que a amostragem é aleatória, e portanto, em cada execução vai gerar um gráfico diferente."
   ]
  },
  {
   "cell_type": "code",
   "execution_count": 83,
   "metadata": {
    "id": "3l7cYnhjce0n",
    "outputId": "cb559cc0-805d-46a2-be02-ddab523adb21"
   },
   "outputs": [
    {
     "data": {
      "text/plain": "9021    9006.00\n5798   85521.74\n877    47489.72\n2472    3505.86\n4078   17883.66\n         ...   \n7132    4803.08\n6956   85298.30\n8248    3557.72\n8871   10457.97\n5707   53258.95\nName: 0, Length: 100, dtype: float64"
     },
     "execution_count": 83,
     "metadata": {},
     "output_type": "execute_result"
    }
   ],
   "source": [
    "# Gera uma amostra de tamanho 100 dos dados. \n",
    "sample = series.sample(100)\n",
    "sample"
   ]
  },
  {
   "cell_type": "code",
   "execution_count": 84,
   "metadata": {
    "id": "3DOjbUaqce0o",
    "outputId": "7d636229-6d20-4c90-9c25-e8f3ed9f2744"
   },
   "outputs": [
    {
     "data": {
      "text/plain": "<Figure size 500x500 with 1 Axes>",
      "image/png": "[encoded data removed]"
     },
     "metadata": {},
     "output_type": "display_data"
    }
   ],
   "source": [
    "# Plota de fato a amostra\n",
    "plot_dist_data(sample)"
   ]
  },
  {
   "cell_type": "markdown",
   "metadata": {
    "id": "ifEeRfWLce0o"
   },
   "source": [
    "## Explorar os dados com base em estatísticas descritivas da amostra\n",
    "\n",
    "Veja a média da amostra. Esse valor está dentro do esperado para a população?\n",
    "\n",
    "Repita os últimos 3 passos (gerar amostra, plotar amostra, calcular média da amostra) algumas vezes para verificar o que acontece com a média. \n",
    "\n",
    "> Observação: os resultados de cada execução serão diferentes, pois estamos pegando amostras aleatórias."
   ]
  },
  {
   "cell_type": "code",
   "execution_count": 85,
   "metadata": {
    "id": "hY5UGk9mce0p",
    "outputId": "c407770b-f1d1-4286-83e6-20189c8963df"
   },
   "outputs": [
    {
     "data": {
      "text/plain": "count      100.00\nmean     37067.14\nstd      50954.51\nmin       2175.98\n25%      10278.06\n50%      19675.26\n75%      46523.46\nmax     362866.74\nName: 0, dtype: float64"
     },
     "execution_count": 85,
     "metadata": {},
     "output_type": "execute_result"
    }
   ],
   "source": [
    "sample.describe()"
   ]
  },
  {
   "cell_type": "markdown",
   "metadata": {
    "id": "imXBatyzce0p"
   },
   "source": [
    "## Gerar métricas de um conjunto de amostras aleatórias\n",
    "\n",
    "Vamos gerar 50 amostras aleatórias da população, calcular a média de cada amostra, plotar a distribuição das médias, e calcular a média das médias das amostras e o erro padrão."
   ]
  },
  {
   "cell_type": "code",
   "execution_count": 86,
   "metadata": {
    "id": "_vq_l-dkce0p",
    "outputId": "fbe3f7a5-33c6-4aae-e239-f0a089e0867b"
   },
   "outputs": [
    {
     "name": "stdout",
     "output_type": "stream",
     "text": [
      "Média das médias: 35909.78\n",
      "Erro padrão: 6581.62\n"
     ]
    },
    {
     "data": {
      "text/plain": "<Figure size 500x500 with 1 Axes>",
      "image/png": "[encoded data removed]"
     },
     "metadata": {},
     "output_type": "display_data"
    }
   ],
   "source": [
    "# Gerar N amostras de tamanho T e plota as médias das amostras\n",
    "def analyze_samples(N=50, T=100):\n",
    "    # Gera N amostras diferentes de tamanho T\n",
    "    samples_list = [series.sample(T) for _i in range(0, N)]\n",
    "    # Gera uma lista com a média de cada uma das amostras acima\n",
    "    means_of_samples = [s.mean() for s in samples_list]\n",
    "\n",
    "    # Média das médias\n",
    "    mean_of_means = np.mean(means_of_samples)\n",
    "\n",
    "    # Erro padrão\n",
    "    std_error = series.std() / np.sqrt(len(means_of_samples))\n",
    "\n",
    "    print(\"Média das médias: {:.2f}\".format(mean_of_means))\n",
    "    print(\"Erro padrão: {:.2f}\".format(std_error))\n",
    "\n",
    "    plot_dist_data(means_of_samples)\n",
    "\n",
    "\n",
    "\n",
    "analyze_samples(50, 100)"
   ]
  },
  {
   "cell_type": "markdown",
   "metadata": {
    "id": "cB69YZjsce0q"
   },
   "source": [
    "## Analisar o conjunto de amostras\n",
    "Repita a célula anterior algumas vezes. Observe o gráfico.\n",
    "\n",
    "- Ele segue a distribuição Normal?\n",
    "- As médias das médias das amostras estão próximas da média da população?\n",
    "- E os erros padrões?\n"
   ]
  },
  {
   "cell_type": "markdown",
   "metadata": {
    "id": "zM6ddcFBce0q"
   },
   "source": [
    "## Veja amostras maiores\n",
    "Repita o processo apresentado (de gerar amostras, calcular médias e ver gráficos), mas agora com um número maior de amostras (100, 250, 500). \n",
    "\n",
    "Podemos observar que a distribuição das médias se aproxima mais da distribuição Normal? E o que acontece com o erro padrão?"
   ]
  },
  {
   "cell_type": "code",
   "execution_count": 87,
   "metadata": {
    "id": "p3No6jtMce0q",
    "outputId": "228fd7d2-9f93-45eb-fa92-7e5dbbbf84b2"
   },
   "outputs": [
    {
     "name": "stdout",
     "output_type": "stream",
     "text": [
      "Média das médias: 35943.49\n",
      "Erro padrão: 4653.91\n"
     ]
    },
    {
     "data": {
      "text/plain": "<Figure size 500x500 with 1 Axes>",
      "image/png": "[encoded data removed]"
     },
     "metadata": {},
     "output_type": "display_data"
    }
   ],
   "source": [
    "analyze_samples(N=100)"
   ]
  },
  {
   "cell_type": "code",
   "execution_count": 88,
   "metadata": {
    "id": "-5wUXhcece0q",
    "outputId": "a0689414-0502-4566-93d0-86add7b8cef9"
   },
   "outputs": [
    {
     "name": "stdout",
     "output_type": "stream",
     "text": [
      "Média das médias: 36126.44\n",
      "Erro padrão: 2943.39\n"
     ]
    },
    {
     "data": {
      "text/plain": "<Figure size 500x500 with 1 Axes>",
      "image/png": "[encoded data removed]"
     },
     "metadata": {},
     "output_type": "display_data"
    }
   ],
   "source": [
    "analyze_samples(N=250)"
   ]
  },
  {
   "cell_type": "code",
   "execution_count": null,
   "metadata": {
    "id": "oTNyivXece0r",
    "outputId": "765c30c8-3687-4681-b427-c3175a65945f",
    "pycharm": {
     "is_executing": true
    }
   },
   "outputs": [],
   "source": [
    "analyze_samples(N=500)"
   ]
  },
  {
   "cell_type": "markdown",
   "metadata": {
    "id": "cxH2JZ8sce0r"
   },
   "source": [
    "## Verificar se uma amostra pertence a população\n",
    "\n",
    "Leia o arquivo de amostra de rendas (renda_amostra1.csv). Verifique se essa amostra faz parte da população de renda (renda.csv) ou não: \n",
    "1. Calcule a média e o erro padrão;\n",
    "2. Verifique a quantos erros da média da população a média da amostra está;\n"
   ]
  },
  {
   "cell_type": "code",
   "execution_count": null,
   "metadata": {
    "id": "Oqrrz41Bce0r",
    "outputId": "81d0ffea-bfde-4c68-d4b0-b8e61ef9dd04",
    "pycharm": {
     "is_executing": true
    }
   },
   "outputs": [],
   "source": [
    "sample_1 = pd.read_csv(\"./renda_amostra1.csv\", index_col=False, header=None, squeeze=True)\n",
    "sample_1"
   ]
  },
  {
   "cell_type": "code",
   "execution_count": null,
   "metadata": {
    "id": "3MUPPamRce0r",
    "outputId": "4ff274e8-40b8-437a-85e8-e3b4644a1b5f",
    "pycharm": {
     "is_executing": true
    }
   },
   "outputs": [],
   "source": [
    "series_mean = series.mean()\n",
    "sample_1_mean = sample_1.mean()\n",
    "std_error = series.std() / np.sqrt(len(sample_1))\n",
    "\n",
    "print(\"Média da população: {:.2f}\".format(series_mean))\n",
    "print(\"Média da amostra: {:.2f}\".format(sample_1_mean))\n",
    "print(\"Erro padrão: {:.2f}\".format(std_error))"
   ]
  },
  {
   "cell_type": "code",
   "execution_count": null,
   "metadata": {
    "id": "WG8FPQSWce0s",
    "outputId": "601b8758-174c-4aec-b36d-cdea70972260",
    "pycharm": {
     "is_executing": true
    }
   },
   "outputs": [],
   "source": [
    "# Calcula a diferença entre a média da população e da amostra, em termos do erro padrão.\n",
    "std_error_distance = abs(series_mean - sample_1_mean) / std_error\n",
    "\n",
    "print(\"A diferença entre a média da população e da amostra é de {:.4f} erros padrão\".format(std_error_distance))"
   ]
  },
  {
   "cell_type": "markdown",
   "metadata": {
    "id": "8aG5nMG5ce0s"
   },
   "source": [
    "# Exercícios"
   ]
  },
  {
   "cell_type": "markdown",
   "metadata": {
    "id": "3LWiNtDCX7_7"
   },
   "source": [
    "## 1. Leia os dados de uma população de pesos (_pesos_populacao.csv_)\n",
    "Armazene na variável `population_weight`. \n",
    "\n",
    "Chame a função `q1.check()` no fim da célula para verificar a resposta.\n",
    "Você pode pedir dicas com `q1.hint()`"
   ]
  },
  {
   "cell_type": "code",
   "execution_count": null,
   "metadata": {
    "id": "ja1KJaDIce0s",
    "pycharm": {
     "is_executing": true
    }
   },
   "outputs": [],
   "source": [
    "# q1.hint()\n",
    "\n",
    "population_weight = pd.read_csv(\"./pesos_populacao.csv\", index_col=False, header=None, squeeze=True)\n",
    "display(population_weight)\n",
    "\n",
    "q1.check()"
   ]
  },
  {
   "cell_type": "markdown",
   "metadata": {
    "id": "wPZMt8Fpce0s"
   },
   "source": [
    "## 2. Analise a `Amostra 1`\n",
    "Essa é uma atividade com múltiplas questões."
   ]
  },
  {
   "cell_type": "markdown",
   "metadata": {
    "id": "Qdz528Ecce0t"
   },
   "source": [
    "### 2.a. Leia o arquivo com os dados da amostra.\n",
    "Armazene na variável `sample_1_weight`. \n",
    "\n",
    "Chame a função `q2.a.check()` no fim da célula para verificar a resposta.\n",
    "Você pode pedir dicas com `q2.a.hint()`"
   ]
  },
  {
   "cell_type": "code",
   "execution_count": null,
   "metadata": {
    "id": "5xuRkwaJce0t",
    "pycharm": {
     "is_executing": true
    }
   },
   "outputs": [],
   "source": [
    "# q2.a.hint()\n",
    "\n",
    "sample_1_weight = pd.read_csv(\"./pesos_amostra1.csv\", index_col=False, header=None, squeeze=True)\n",
    "display(sample_1_weight)\n",
    "\n",
    "q2.a.check()"
   ]
  },
  {
   "cell_type": "markdown",
   "metadata": {
    "id": "k3vFLM4uce0t"
   },
   "source": [
    "### 2.b. Verifique se a amostra pertence a população.\n",
    "A amostra foi retirada ou não da população de pesos? Justifique\n",
    "\n",
    "Armazene a resposta booleana na variável `is_sample_1_from_population`. \n",
    "\n",
    "\n",
    "Chame a função `q2.b.check()` no fim da célula para verificar a resposta.\n",
    "Você pode pedir dicas com `q2.b.hint(n)` onde n é o número da dica.\n",
    "\n",
    "> OBS: Mesmo que o corretor aceite respostas booleanas (e você pode \"_roubar_\" testando a resposta antes), será analisado também a justificativa."
   ]
  },
  {
   "cell_type": "code",
   "execution_count": null,
   "metadata": {
    "id": "JLL_kWbQce0t",
    "pycharm": {
     "is_executing": true
    }
   },
   "outputs": [],
   "source": [
    "q2.b.hint(5)\n",
    "\n",
    "population_weight_mean = population_weight.mean() #Média da população\n",
    "sample_1_weight_mean = sample_1_weight.mean() #Média da amostra\n",
    "sample_1_weight_std_error = population_weight.std() / np.sqrt(len(sample_1_weight)) #Erro padrão da amostra\n",
    "sample_1_weight_std_error_distance = abs(population_weight_mean - sample_1_weight_mean) / sample_1_weight_std_error #Distância entre a média da população e da amostra, em termos do erro padrão.\n",
    "\n",
    "print(\"Média da população: {:.2f}\".format(population_weight_mean))\n",
    "print(\"Média da amostra: {:.2f}\".format(sample_1_weight_mean))\n",
    "print(\"Erro padrão: {:.2f}\".format(sample_1_weight_std_error))\n",
    "print(\"A diferença entre a média da população e da amostra é de {:.4f} erros padrão\".format(sample_1_weight_std_error_distance))\n",
    "\n",
    "is_sample_1_from_population = True\n",
    "display(is_sample_1_from_population)\n",
    "\n",
    "q2.b.check()"
   ]
  },
  {
   "cell_type": "markdown",
   "source": [
    "#### É verdadeiro pois a diferença é de apenas 0.0679 desvios padrões, ou seja, podemos afirmar com um grau de confiança que a amostra foi retirada da população."
   ],
   "metadata": {
    "collapsed": false
   }
  },
  {
   "cell_type": "markdown",
   "metadata": {
    "id": "8BhQK-xTce0t"
   },
   "source": [
    "## 3. Analise a `Amostra 2`\n",
    "Essa é uma atividade com múltiplas questões."
   ]
  },
  {
   "cell_type": "markdown",
   "metadata": {
    "id": "Goct_aTLce0t"
   },
   "source": [
    "### 3.a. Leia o arquivo com os dados da amostra.\n",
    "Armazene na variável `sample_2_weight`. \n",
    "\n",
    "Chame a função `q3.a.check()` no fim da célula para verificar a resposta.\n",
    "Você pode pedir dicas com `q3.a.hint()`"
   ]
  },
  {
   "cell_type": "code",
   "execution_count": null,
   "metadata": {
    "id": "q2OynwLHce0u",
    "pycharm": {
     "is_executing": true
    }
   },
   "outputs": [],
   "source": [
    "# q3.a.hint()\n",
    "\n",
    "sample_2_weight = pd.read_csv(\"./pesos_amostra2.csv\", index_col=False, header=None, squeeze=True)\n",
    "display(sample_2_weight)\n",
    "\n",
    "q3.a.check()"
   ]
  },
  {
   "cell_type": "markdown",
   "metadata": {
    "id": "weOh7rGWce0u"
   },
   "source": [
    "### 3.b. Verifique se a amostra pertence a população.\n",
    "A amostra foi retirada ou não da população de pesos? Justifique\n",
    "\n",
    "Armazene a resposta booleana na variável `is_sample_2_from_population`. \n",
    "\n",
    "\n",
    "Chame a função `q3.b.check()` no fim da célula para verificar a resposta.\n",
    "Você pode pedir dicas com `q3.b.hint(n)` onde n é o número da dica.\n",
    "\n",
    "> OBS: Mesmo que o corretor aceite respostas booleanas (e você pode \"_roubar_\" testando a resposta antes), será analisado também a justificativa."
   ]
  },
  {
   "cell_type": "code",
   "execution_count": null,
   "metadata": {
    "id": "ADI57jIhce0u",
    "pycharm": {
     "is_executing": true
    }
   },
   "outputs": [],
   "source": [
    "q2.b.hint(5)\n",
    "\n",
    "sample_2_weight_mean = sample_2_weight.mean() #Média da amostra 2\n",
    "sample_2_weight_std_error = population_weight.std() / np.sqrt(len(sample_2_weight)) #Erro padrão da amostra 2\n",
    "sample_2_weight_std_error_distance = abs(population_weight_mean - sample_2_weight_mean) / sample_2_weight_std_error #Distância entre a média da população e da amostra, em termos do erro padrão.\n",
    "\n",
    "print(\"Média da população: {:.2f}\".format(population_weight_mean))\n",
    "print(\"Média da amostra: {:.2f}\".format(sample_2_weight_mean))\n",
    "print(\"Erro padrão: {:.2f}\".format(sample_2_weight_std_error))\n",
    "print(\"A diferença entre a média da população e da amostra é de {:.4f} erros padrão\".format(sample_2_weight_std_error_distance))\n",
    "\n",
    "\n",
    "is_sample_2_from_population = False\n",
    "display(is_sample_2_from_population)\n",
    "\n",
    "q3.b.check()"
   ]
  },
  {
   "cell_type": "markdown",
   "source": [
    "#### É falso pois a diferença é de 59.2477 desvios padrões, ou seja, podemos afirmar com um grau de confiança que a amostra não foi retirada da população."
   ],
   "metadata": {
    "collapsed": false
   }
  },
  {
   "cell_type": "markdown",
   "metadata": {
    "id": "D1S_zwDwce0u"
   },
   "source": [
    "## 4. Analise a `Amostra 3`\n",
    "Essa é uma atividade com múltiplas questões."
   ]
  },
  {
   "cell_type": "markdown",
   "metadata": {
    "id": "V4t4szWcce0u"
   },
   "source": [
    "### 4.a. Leia o arquivo com os dados da amostra.\n",
    "Armazene na variável `sample_3_weight`. \n",
    "\n",
    "Chame a função `q4.a.check()` no fim da célula para verificar a resposta.\n",
    "Você pode pedir dicas com `q4.a.hint()`"
   ]
  },
  {
   "cell_type": "code",
   "execution_count": null,
   "metadata": {
    "id": "QTgIHUcOce0u",
    "pycharm": {
     "is_executing": true
    }
   },
   "outputs": [],
   "source": [
    "# q4.a.hint()\n",
    "\n",
    "sample_3_weight = pd.read_csv(\"./pesos_amostra3.csv\", index_col=False, header=None, squeeze=True)\n",
    "display(sample_3_weight)\n",
    "\n",
    "q4.a.check()"
   ]
  },
  {
   "cell_type": "markdown",
   "metadata": {
    "id": "X0-d7FOuce0v"
   },
   "source": [
    "### 4.b. Verifique se a amostra pertence a população.\n",
    "A amostra foi retirada ou não da população de pesos? Justifique\n",
    "\n",
    "Armazene a resposta booleana na variável `is_sample_3_from_population`. \n",
    "\n",
    "\n",
    "Chame a função `q4.b.check()` no fim da célula para verificar a resposta.\n",
    "Você pode pedir dicas com `q4.b.hint(n)` onde n é o número da dica.\n",
    "\n",
    "> OBS: Mesmo que o corretor aceite respostas booleanas (e você pode \"_roubar_\" testando a resposta antes), será analisado também a justificativa."
   ]
  },
  {
   "cell_type": "code",
   "execution_count": null,
   "metadata": {
    "id": "FNlXSD_Qce0v",
    "pycharm": {
     "is_executing": true
    }
   },
   "outputs": [],
   "source": [
    "# q4.b.hint()\n",
    "\n",
    "q2.b.hint(5)\n",
    "\n",
    "sample_3_weight_mean = sample_3_weight.mean() #Média da amostra 2\n",
    "sample_3_weight_std_error = population_weight.std() / np.sqrt(len(sample_3_weight)) #Erro padrão da amostra 2\n",
    "sample_3_weight_std_error_distance = abs(population_weight_mean - sample_3_weight_mean) / sample_3_weight_std_error #Distância entre a média da população e da amostra, em termos do erro padrão.\n",
    "\n",
    "print(\"Média da população: {:.2f}\".format(population_weight_mean))\n",
    "print(\"Média da amostra: {:.2f}\".format(sample_3_weight_mean))\n",
    "print(\"Erro padrão: {:.2f}\".format(sample_3_weight_std_error))\n",
    "print(\"A diferença entre a média da população e da amostra é de {:.4f} erros padrão\".format(sample_3_weight_std_error_distance))\n",
    "\n",
    "is_sample_3_from_population = False\n",
    "display(is_sample_3_from_population)\n",
    "\n",
    "q4.b.check()"
   ]
  },
  {
   "cell_type": "markdown",
   "source": [
    "#### É falso, pois a diferença é de 32.0455 desvios padrões, ou seja, podemos afirmar com um grau de confiança que a amostra não foi retirada da população."
   ],
   "metadata": {
    "collapsed": false
   }
  },
  {
   "cell_type": "markdown",
   "metadata": {
    "id": "iqBcNmxIce0v"
   },
   "source": [
    "## 5. Analise a `Amostra 4`\n",
    "Essa é uma atividade com múltiplas questões."
   ]
  },
  {
   "cell_type": "markdown",
   "metadata": {
    "id": "bjUidZpice0v"
   },
   "source": [
    "### 5.a. Leia o arquivo com os dados da amostra.\n",
    "Armazene na variável `sample_4_weight`. \n",
    "\n",
    "Chame a função `q5.a.check()` no fim da célula para verificar a resposta.\n",
    "Você pode pedir dicas com `q5.a.hint()`"
   ]
  },
  {
   "cell_type": "code",
   "execution_count": null,
   "metadata": {
    "id": "YvpvzigCce0v",
    "pycharm": {
     "is_executing": true
    }
   },
   "outputs": [],
   "source": [
    "# q5.a.hint()\n",
    "\n",
    "sample_4_weight = pd.read_csv(\"./pesos_amostra4.csv\", index_col=False, header=None, squeeze=True)\n",
    "display(sample_4_weight)\n",
    "\n",
    "q5.a.check()"
   ]
  },
  {
   "cell_type": "markdown",
   "metadata": {
    "id": "YrF609M-ce0v"
   },
   "source": [
    "### 5.b. Verifique se a amostra pertence a população.\n",
    "A amostra foi retirada ou não da população de pesos? Justifique\n",
    "\n",
    "Armazene a resposta booleana na variável `is_sample_4_from_population`. \n",
    "\n",
    "\n",
    "Chame a função `q5.b.check()` no fim da célula para verificar a resposta.\n",
    "Você pode pedir dicas com `q5.b.hint(n)` onde n é o número da dica.\n",
    "\n",
    "> OBS: Mesmo que o corretor aceite respostas booleanas (e você pode \"_roubar_\" testando a resposta antes), será analisado também a justificativa."
   ]
  },
  {
   "cell_type": "code",
   "execution_count": null,
   "metadata": {
    "id": "vbcA6yj9ce0v",
    "pycharm": {
     "is_executing": true
    }
   },
   "outputs": [],
   "source": [
    "# q5.b.hint()\n",
    "\n",
    "sample_4_weight_mean = sample_4_weight.mean() #Média da amostra 2\n",
    "sample_4_weight_std_error = population_weight.std() / np.sqrt(len(sample_4_weight)) #Erro padrão da amostra 2\n",
    "sample_4_weight_std_error_distance = abs(population_weight_mean - sample_4_weight_mean) / sample_4_weight_std_error #Distância entre a média da população e da amostra, em termos do erro padrão.\n",
    "\n",
    "print(\"Média da população: {:.2f}\".format(population_weight_mean))\n",
    "print(\"Média da amostra: {:.2f}\".format(sample_4_weight_mean))\n",
    "print(\"Erro padrão: {:.2f}\".format(sample_4_weight_std_error))\n",
    "print(\"A diferença entre a média da população e da amostra é de {:.4f} erros padrão\".format(sample_4_weight_std_error_distance))\n",
    "\n",
    "is_sample_4_from_population = False\n",
    "display(is_sample_4_from_population)\n",
    "\n",
    "q5.b.check()"
   ]
  },
  {
   "cell_type": "markdown",
   "source": [
    "#### É falso, pois a diferença é de 5.0986 desvios padrões, ou seja, podemos afirmar com um grau de confiança que a amostra não foi retirada da população."
   ],
   "metadata": {
    "collapsed": false
   }
  },
  {
   "cell_type": "markdown",
   "metadata": {
    "id": "MK2u5ib7ce0v"
   },
   "source": [
    "## 6. Verifique se duas amostras são da mesma população.\n",
    "É provável que as amostras 2 e 3 tenham vindo de uma mesma população? Justifique.\n",
    "\n",
    "Essa atividade não tem `check`, mas você pode pedir dicas com `q6.hint()`"
   ]
  },
  {
   "cell_type": "code",
   "execution_count": null,
   "metadata": {
    "id": "YDewtgaGce0w",
    "pycharm": {
     "is_executing": true
    }
   },
   "outputs": [],
   "source": [
    " #q6.hint(0)\n",
    "\n",
    "print(\"Média da amostra 2: {:.2f}\".format(sample_2_weight_mean))\n",
    "print(\"Média da amostra 3: {:.2f}\".format(sample_3_weight_mean))"
   ]
  },
  {
   "cell_type": "markdown",
   "metadata": {
    "id": "tiX-8REZce0w"
   },
   "source": [
    "### Resposta para questão 6:\n",
    "#### Obviamente não vieram da mesma popilação, não é preciso fazer uma análise bem detalhada, basta olhar para suas médias, como descrevi acima. A média da população 2 é de 72.84 e a da população 3 é de 210.21, sendo extremamanete improvável que as duas amostras tenham vindo da mesma população."
   ]
  }
 ],
 "metadata": {
  "colab": {
   "name": "pratica_3_ccf425.ipynb",
   "provenance": [],
   "toc_visible": true
  },
  "interpreter": {
   "hash": "aee8b7b246df8f9039afb4144a1f6fd8d2ca17a180786b69acc140d282b71a49"
  },
  "kernelspec": {
   "display_name": "Python 3.9.12 64-bit",
   "language": "python",
   "name": "python3"
  },
  "language_info": {
   "codemirror_mode": {
    "name": "ipython",
    "version": 3
   },
   "file_extension": ".py",
   "mimetype": "text/x-python",
   "name": "python",
   "nbconvert_exporter": "python",
   "pygments_lexer": "ipython3",
   "version": "3.9.12"
  }
 },
 "nbformat": 4,
 "nbformat_minor": 0
}
